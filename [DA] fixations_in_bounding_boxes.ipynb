{
 "cells": [
  {
   "cell_type": "code",
   "execution_count": 3,
   "metadata": {},
   "outputs": [],
   "source": [
    "import numpy as np"
   ]
  },
  {
   "cell_type": "code",
   "execution_count": null,
   "metadata": {},
   "outputs": [],
   "source": [
    "import numpy as np\n",
    "\n",
    "class FixationPoint():\n",
    "    def __init__(self, x, y, duration) -> None:\n",
    "        self.x = x \n",
    "        self.y = y\n",
    "        self.duration = duration\n",
    "\n",
    "class LesionBB():\n",
    "    def __init__(self, minx, miny, maxx, maxy, lesion) -> None:\n",
    "        self.minx = minx\n",
    "        self.miny = miny\n",
    "        self.maxx = maxx\n",
    "        self.maxy = maxy\n",
    "        self.lesion = lesion\n",
    "\n",
    "        self.__init_ellipse()\n",
    "\n",
    "    def __init_ellipse(self):\n",
    "        self.h = (self.minx+self.maxx) / 2\n",
    "        self.k = (self.miny+self.maxy) / 2\n",
    "        self.a = np.abs((self.maxx-self.minx) / 2)\n",
    "        self.b = np.abs((self.maxy -self.miny) /2)\n",
    "\n",
    "    def fall_in_on_ellipse(self, x, y):\n",
    "        # (x-h)^2/a^2 + (y-k)^2/b^2 <= 1\n",
    "        p = ((x - self.h)**2 / self.a**2) + ((y - self.k)**2 / self.b**2)\n",
    "        return p <= 1\n",
    "\n",
    "def fixation_duration_in_bbs(fixations: list[FixationPoint], bbs: list[]):\n",
    "    '''\n",
    "    fixations: []\n",
    "    \n",
    "    '''"
   ]
  }
 ],
 "metadata": {
  "kernelspec": {
   "display_name": "pytorch",
   "language": "python",
   "name": "python3"
  },
  "language_info": {
   "codemirror_mode": {
    "name": "ipython",
    "version": 3
   },
   "file_extension": ".py",
   "mimetype": "text/x-python",
   "name": "python",
   "nbconvert_exporter": "python",
   "pygments_lexer": "ipython3",
   "version": "3.9.16"
  },
  "orig_nbformat": 4
 },
 "nbformat": 4,
 "nbformat_minor": 2
}
