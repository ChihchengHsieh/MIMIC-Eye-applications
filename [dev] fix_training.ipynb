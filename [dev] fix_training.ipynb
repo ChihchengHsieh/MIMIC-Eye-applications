{
 "cells": [
  {
   "cell_type": "code",
   "execution_count": 1,
   "metadata": {},
   "outputs": [],
   "source": [
    "import pandas as pd\n",
    "import numpy as np\n",
    "import torch\n",
    "import utils.print as print_f\n",
    "import os\n",
    "\n",
    "from utils.engine import evaluate, get_iou_types\n",
    "from utils.plot import plot_losses, plot_ap_ars, plot_performance\n",
    "\n",
    "from models.utils import get_model_size_in_MB\n",
    "from models.build import create_model_from_setup\n",
    "from models.setup import ModelSetup\n",
    "from models.train import TrainingInfo\n",
    "from utils.save import check_best, end_train, get_data_from_metric_logger\n",
    "from data.load import get_datasets, get_dataloaders\n",
    "from IPython.display import clear_output\n",
    "from utils.eval import get_ap_ar, get_ap_ar_for_train_val\n",
    "from utils.train import get_optimiser, get_lr_scheduler, print_params_setup, get_coco_eval_params, get_dynamic_loss\n",
    "from utils.init import reproducibility, clean_memory_get_device\n",
    "from data.paths import MIMIC_EYE_PATH\n",
    "# from datetime import datetime\n",
    "# from models.dynamic_loss import DynamicWeightedLoss\n",
    "from utils.engine import train_one_epoch, evaluate\n",
    "from torch import optim\n",
    "from models.setup import ModelSetup\n",
    "from data.paths import MIMIC_EYE_PATH\n",
    "# from data.load import seed_worker, get_dataloader_g\n",
    "\n",
    "## Suppress the assignement warning from pandas.r\n",
    "pd.options.mode.chained_assignment = None  # default='warn'\n",
    "\n",
    "## Supress user warning\n",
    "import warnings\n",
    "warnings.filterwarnings(\"ignore\")\n",
    "\n",
    "from models.components.task_performers import ObjectDetectionPerformer\n",
    "from data.constants import DEFAULT_MIMIC_CLINICAL_NUM_COLS, DEFAULT_MIMIC_CLINICAL_CAT_COLS\n",
    "from sklearn.metrics import roc_auc_score\n",
    "\n",
    "%matplotlib inline"
   ]
  },
  {
   "cell_type": "code",
   "execution_count": 2,
   "metadata": {},
   "outputs": [],
   "source": [
    "os.environ[\"PYTORCH_CUDA_ALLOC_CONF\"] = \"max_split_size_mb:256\"\n",
    "# 'PYTORCH_CUDA_ALLOC_CONF=max_split_size_mb:512'"
   ]
  },
  {
   "cell_type": "code",
   "execution_count": 3,
   "metadata": {},
   "outputs": [
    {
     "name": "stdout",
     "output_type": "stream",
     "text": [
      "This notebook will running on device: [CUDA]\n"
     ]
    }
   ],
   "source": [
    "device = clean_memory_get_device()\n",
    "reproducibility()"
   ]
  },
  {
   "cell_type": "code",
   "execution_count": 4,
   "metadata": {},
   "outputs": [
    {
     "name": "stdout",
     "output_type": "stream",
     "text": [
      "|===========================================================================|\n",
      "|                  PyTorch CUDA memory summary, device ID 0                 |\n",
      "|---------------------------------------------------------------------------|\n",
      "|            CUDA OOMs: 0            |        cudaMalloc retries: 0         |\n",
      "|===========================================================================|\n",
      "|        Metric         | Cur Usage  | Peak Usage | Tot Alloc  | Tot Freed  |\n",
      "|---------------------------------------------------------------------------|\n",
      "| Allocated memory      |       0 B  |       0 B  |       0 B  |       0 B  |\n",
      "|       from large pool |       0 B  |       0 B  |       0 B  |       0 B  |\n",
      "|       from small pool |       0 B  |       0 B  |       0 B  |       0 B  |\n",
      "|---------------------------------------------------------------------------|\n",
      "| Active memory         |       0 B  |       0 B  |       0 B  |       0 B  |\n",
      "|       from large pool |       0 B  |       0 B  |       0 B  |       0 B  |\n",
      "|       from small pool |       0 B  |       0 B  |       0 B  |       0 B  |\n",
      "|---------------------------------------------------------------------------|\n",
      "| GPU reserved memory   |       0 B  |       0 B  |       0 B  |       0 B  |\n",
      "|       from large pool |       0 B  |       0 B  |       0 B  |       0 B  |\n",
      "|       from small pool |       0 B  |       0 B  |       0 B  |       0 B  |\n",
      "|---------------------------------------------------------------------------|\n",
      "| Non-releasable memory |       0 B  |       0 B  |       0 B  |       0 B  |\n",
      "|       from large pool |       0 B  |       0 B  |       0 B  |       0 B  |\n",
      "|       from small pool |       0 B  |       0 B  |       0 B  |       0 B  |\n",
      "|---------------------------------------------------------------------------|\n",
      "| Allocations           |       0    |       0    |       0    |       0    |\n",
      "|       from large pool |       0    |       0    |       0    |       0    |\n",
      "|       from small pool |       0    |       0    |       0    |       0    |\n",
      "|---------------------------------------------------------------------------|\n",
      "| Active allocs         |       0    |       0    |       0    |       0    |\n",
      "|       from large pool |       0    |       0    |       0    |       0    |\n",
      "|       from small pool |       0    |       0    |       0    |       0    |\n",
      "|---------------------------------------------------------------------------|\n",
      "| GPU reserved segments |       0    |       0    |       0    |       0    |\n",
      "|       from large pool |       0    |       0    |       0    |       0    |\n",
      "|       from small pool |       0    |       0    |       0    |       0    |\n",
      "|---------------------------------------------------------------------------|\n",
      "| Non-releasable allocs |       0    |       0    |       0    |       0    |\n",
      "|       from large pool |       0    |       0    |       0    |       0    |\n",
      "|       from small pool |       0    |       0    |       0    |       0    |\n",
      "|---------------------------------------------------------------------------|\n",
      "| Oversize allocations  |       0    |       0    |       0    |       0    |\n",
      "|---------------------------------------------------------------------------|\n",
      "| Oversize GPU segments |       0    |       0    |       0    |       0    |\n",
      "|===========================================================================|\n",
      "\n"
     ]
    }
   ],
   "source": [
    "print(torch.cuda.memory_summary())"
   ]
  },
  {
   "cell_type": "code",
   "execution_count": 5,
   "metadata": {},
   "outputs": [],
   "source": [
    "common_args = {\n",
    "    \"sources\": [\"xrays\", \"clinical\"],\n",
    "    # \"tasks\": [\"object-detection\", \"heatmap-generation\"],\n",
    "    \"tasks\": [\n",
    "        \"lesion-detection\",\n",
    "        \"fixation-generation\",\n",
    "        \"chexpert-classification\",\n",
    "        \"negbio-classification\",\n",
    "    ],\n",
    "    \"decoder_channels\": [128, 64, 32, 16, 1],\n",
    "    \"optimiser\": \"sgd\",\n",
    "    \"lr\": 1e-3,  # should multiply by 8 or just use 1e-2, to test if it will explode.\n",
    "    \"batch_size\": 16,\n",
    "    \"weight_decay\": 1e-9,  # 1E-5\n",
    "    # \"pretrained\": True,\n",
    "    \"record_training_performance\": True,\n",
    "    \"image_size\": 512,\n",
    "    \"warmup_epochs\": 0,\n",
    "    \"lr_scheduler\": \"ReduceLROnPlateau\",\n",
    "    \"reduceLROnPlateau_factor\": 0.1,\n",
    "    \"reduceLROnPlateau_patience\": 999,\n",
    "    \"reduceLROnPlateau_full_stop\": True,\n",
    "    \"multiStepLR_milestones\": 100,\n",
    "    \"multiStepLR_gamma\": 0.1,\n",
    "    \"use_mask\": False,\n",
    "    \"gt_in_train_till\": 0,\n",
    "    \"box_head_dropout_rate\": 0,\n",
    "    \"measure_test\": True,\n",
    "    \"fiaxtions_mode\": \"reporting\",\n",
    "}\n",
    "\n",
    "small_model_args = {\n",
    "    \"mask_hidden_layers\": 64,\n",
    "    \"fuse_conv_channels\": 64,\n",
    "    \"representation_size\": 64,  # 32\n",
    "    # \"clinical_input_channels\": 64,\n",
    "    # \"clinical_conv_channels\": 64,\n",
    "    # \"clinical_expand_conv_channels\": 64,\n",
    "    \"backbone_out_channels\": 64,\n",
    "}\n",
    "\n",
    "mobilenet_args = {\n",
    "    \"backbone\": \"mobilenet_v3\",\n",
    "    \"using_fpn\": False,\n",
    "}\n"
   ]
  },
  {
   "cell_type": "code",
   "execution_count": 6,
   "metadata": {},
   "outputs": [],
   "source": [
    "all_model_setups = [\n",
    "    ModelSetup(\n",
    "        name=\"basline_test\",\n",
    "        **mobilenet_args,\n",
    "        **small_model_args,\n",
    "        **common_args,\n",
    "    )\n",
    "]"
   ]
  },
  {
   "cell_type": "code",
   "execution_count": 7,
   "metadata": {},
   "outputs": [],
   "source": [
    "num_epochs = 30\n",
    "train_infos = []"
   ]
  },
  {
   "cell_type": "code",
   "execution_count": 2,
   "metadata": {},
   "outputs": [
    {
     "ename": "NameError",
     "evalue": "name 'all_model_setups' is not defined",
     "output_type": "error",
     "traceback": [
      "\u001b[0;31m---------------------------------------------------------------------------\u001b[0m",
      "\u001b[0;31mNameError\u001b[0m                                 Traceback (most recent call last)",
      "Cell \u001b[0;32mIn [2], line 3\u001b[0m\n\u001b[1;32m      1\u001b[0m \u001b[39m# we have to mention that in order to provide objective evaluation, we compromise the dataset size, which also nagatively afftect the performance and generlaization.\u001b[39;00m\n\u001b[0;32m----> 3\u001b[0m \u001b[39mfor\u001b[39;00m setup \u001b[39min\u001b[39;00m all_model_setups:\n\u001b[1;32m      4\u001b[0m     \u001b[39massert\u001b[39;00m (\n\u001b[1;32m      5\u001b[0m         \u001b[39mlen\u001b[39m(setup\u001b[39m.\u001b[39msources) \u001b[39m>\u001b[39m \u001b[39m0\u001b[39m \u001b[39mand\u001b[39;00m \u001b[39mlen\u001b[39m(setup\u001b[39m.\u001b[39mtasks) \u001b[39m>\u001b[39m \u001b[39m0\u001b[39m\n\u001b[1;32m      6\u001b[0m     ), \u001b[39m\"\u001b[39m\u001b[39mNeed at least one source and task.\u001b[39m\u001b[39m\"\u001b[39m\n\u001b[1;32m      8\u001b[0m     print_f\u001b[39m.\u001b[39mprint_title(\u001b[39m\"\u001b[39m\u001b[39mPreparing for the training.\u001b[39m\u001b[39m\"\u001b[39m)\n",
      "\u001b[0;31mNameError\u001b[0m: name 'all_model_setups' is not defined"
     ]
    }
   ],
   "source": [
    "# we have to mention that in order to provide objective evaluation, we compromise the dataset size, which also nagatively afftect the performance and generlaization.\n",
    "\n",
    "for setup in all_model_setups:\n",
    "    assert (\n",
    "        len(setup.sources) > 0 and len(setup.tasks) > 0\n",
    "    ), \"Need at least one source and task.\"\n",
    "\n",
    "    print_f.print_title(\"Preparing for the training.\")\n",
    "\n",
    "    train_info = TrainingInfo(setup)\n",
    "\n",
    "    if setup.measure_test:\n",
    "        # initialise the test recording list.\n",
    "        train_info.test_ap_ars = []\n",
    "\n",
    "    model = create_model_from_setup(setup=setup)\n",
    "    model = model.to(device)\n",
    "    print(f\" Model Size [{get_model_size_in_MB(model):.3f}] MB\")\n",
    "\n",
    "    ################ Datasets ################\n",
    "    dataset_params_dict = {\n",
    "        \"MIMIC_EYE_PATH\": MIMIC_EYE_PATH,\n",
    "        \"labels_cols\": setup.lesion_label_cols,\n",
    "\n",
    "        \"with_clincal\": \"clinical\" in setup.sources,\n",
    "        \"with_xrays\": \"xrays\" in setup.sources,\n",
    "\n",
    "        \"with_bboxes\": \"lesion-detection\" in setup.tasks,\n",
    "        \"with_fixations\": \"fixation-generation\" in setup.tasks,\n",
    "        \"with_chexpert\": \"chexpert-classification\" in setup.tasks,\n",
    "        \"with_negbio\": \"negbio-classification\" in setup.tasks,\n",
    "\n",
    "        \"fiaxtions_mode\": setup.fiaxtions_mode,\n",
    "        \"clinical_numerical_cols\": setup.clinical_num,\n",
    "        \"clinical_categorical_cols\": setup.clinical_cat,\n",
    "    }\n",
    "\n",
    "    detect_eval_dataset, train_dataset, val_dataset, test_dataset = get_datasets(\n",
    "        dataset_params_dict=dataset_params_dict,\n",
    "    )\n",
    "\n",
    "    train_dataloader, val_dataloader, test_dataloader = get_dataloaders(\n",
    "        train_dataset, val_dataset, test_dataset, batch_size=setup.batch_size,\n",
    "    )\n",
    "\n",
    "    train_coco = None\n",
    "    val_coco = None\n",
    "    test_coco = None\n",
    "    eval_params_dict = None\n",
    "\n",
    "    if \"lesion-detection\" in setup.tasks:\n",
    "        train_coco, val_coco, test_coco, eval_params_dict = get_coco_eval_params(\n",
    "            source_name='xrays',\n",
    "            task_name='lesion-detection',\n",
    "            train_dataloader=train_dataloader,\n",
    "            val_dataloader=val_dataloader,\n",
    "            test_dataloader=test_dataloader,\n",
    "            detect_eval_dataset=detect_eval_dataset,\n",
    "            iou_thrs=setup.iou_thrs,\n",
    "            use_iobb=setup.use_iobb,\n",
    "        )\n",
    "\n",
    "    train_info.timer.start_training()\n",
    "\n",
    "    dynamic_loss_weight = get_dynamic_loss(\n",
    "        loss_keys=model.get_all_losses_keys(), device=device\n",
    "    )\n",
    "    params = model.get_all_params(dynamic_loss_weight=dynamic_loss_weight)\n",
    "\n",
    "    iou_types = get_iou_types(model, setup)\n",
    "    optimizer = get_optimiser(params, setup)\n",
    "    lr_scheduler = get_lr_scheduler(optimizer, setup)\n",
    "\n",
    "    print_f.print_title(\n",
    "        f\"Start training. Preparing Took [{train_info.timer.has_took_sec_from_init()}] sec\"\n",
    "    )\n",
    "\n",
    "    train_info.timer.start_training()\n",
    "\n",
    "    val_loss = None\n",
    "\n",
    "    # Start the training from here.\n",
    "    for e in range(1, num_epochs + 1):\n",
    "\n",
    "        print_f.print_title(f\"Training model: [{setup.name}]\")\n",
    "\n",
    "        print(train_info)\n",
    "\n",
    "        train_info.epoch = e\n",
    "\n",
    "        train_info.timer.start_epoch()\n",
    "\n",
    "        if (\n",
    "            any(\n",
    "                [\n",
    "                    isinstance(p, ObjectDetectionPerformer)\n",
    "                    for p in model.task_performers.values()\n",
    "                ]\n",
    "            )\n",
    "            and train_info.epoch > setup.gt_in_train_till\n",
    "        ):\n",
    "            model.task_performers[\"lesion-detection\"].roi_heads.use_gt_in_train = False\n",
    "\n",
    "        ###### Perform training and show the training result here ######\n",
    "        model.train()\n",
    "\n",
    "        train_info.last_train_evaluator, train_loger = train_one_epoch(\n",
    "            setup=setup,\n",
    "            model=model,\n",
    "            optimizer=optimizer,\n",
    "            data_loader=train_dataloader,\n",
    "            # data_loader=test_dataloader,\n",
    "            device=device,\n",
    "            epoch=train_info.epoch,\n",
    "            print_freq=10,\n",
    "            iou_types=iou_types,\n",
    "            coco=train_coco,\n",
    "            score_thres=None,\n",
    "            evaluate_on_run=True,\n",
    "            params_dict=eval_params_dict,\n",
    "            dynamic_loss_weight=dynamic_loss_weight,\n",
    "        )\n",
    "\n",
    "        # train_info.train_evaluators.append(train_evaluator)\n",
    "        train_info.train_losses.append(\n",
    "            get_data_from_metric_logger(train_loger))\n",
    "        ################################################################\n",
    "\n",
    "        ####### Put the model into evaluation mode, start evaluating the current model #######\n",
    "        model.eval()\n",
    "\n",
    "        train_info.last_val_evaluator, val_logger = evaluate(\n",
    "            setup=setup,\n",
    "            model=model,\n",
    "            data_loader=val_dataloader,\n",
    "            device=device,\n",
    "            params_dict=eval_params_dict,\n",
    "            coco=val_coco,\n",
    "            iou_types=iou_types,\n",
    "            score_thres=None,\n",
    "        )\n",
    "\n",
    "        # train_info.val_evaluators.append(val_evaluator)\n",
    "        train_info.val_losses.append(get_data_from_metric_logger(val_logger))\n",
    "\n",
    "        train_ap_ar, val_ap_ar = get_ap_ar_for_train_val(\n",
    "            train_info.last_train_evaluator[\"lesion-detection\"],\n",
    "            train_info.last_val_evaluator[\"lesion-detection\"],\n",
    "            areaRng=\"all\",\n",
    "            iouThr=0.5,\n",
    "            maxDets=10,\n",
    "        )\n",
    "\n",
    "        train_info.performance[\"train\"].append(\n",
    "            {\n",
    "                \"lesion-detection\": train_ap_ar,\n",
    "                \"fixation-generation\": {\n",
    "                    \"iou\": train_info.last_train_evaluator[\n",
    "                        \"fixation-generation\"\n",
    "                    ].get_iou()\n",
    "                },\n",
    "                \"chexpert-classification\": {\n",
    "                    \"auc\": train_info.last_train_evaluator[\n",
    "                        \"chexpert-classification\"\n",
    "                    ].get_clf_score(roc_auc_score)\n",
    "                },\n",
    "                \"negbio-classification\": {\n",
    "                    \"auc\": train_info.last_train_evaluator[\n",
    "                        \"negbio-classification\"\n",
    "                    ].get_clf_score(roc_auc_score)\n",
    "                },\n",
    "            }\n",
    "        )\n",
    "\n",
    "        train_info.performance[\"val\"].append(\n",
    "            {\n",
    "                \"lesion-detection\": val_ap_ar,\n",
    "                \"fixation-generation\": {\n",
    "                    \"iou\": train_info.last_val_evaluator[\n",
    "                        \"fixation-generation\"\n",
    "                    ].get_iou()\n",
    "                },\n",
    "                \"chexpert-classification\": {\n",
    "                    \"auc\": train_info.last_val_evaluator[\n",
    "                        \"chexpert-classification\"\n",
    "                    ].get_clf_score(roc_auc_score)\n",
    "                },\n",
    "                \"negbio-classification\": {\n",
    "                    \"auc\": train_info.last_val_evaluator[\n",
    "                        \"negbio-classification\"\n",
    "                    ].get_clf_score(roc_auc_score)\n",
    "                },\n",
    "            }\n",
    "        )\n",
    "\n",
    "        # train_info.train_ap_ars.append(train_ap_ar)\n",
    "        # train_info.val_ap_ars.append(val_ap_ar)\n",
    "\n",
    "        if setup.measure_test:\n",
    "            train_info.test_evaluator, test_logger = evaluate(\n",
    "                setup=setup,\n",
    "                model=model,\n",
    "                data_loader=test_dataloader,\n",
    "                device=device,\n",
    "                params_dict=eval_params_dict,\n",
    "                coco=test_coco,\n",
    "                iou_types=iou_types,\n",
    "                score_thres=None,\n",
    "            )\n",
    "            train_info.test_losses.append(\n",
    "                get_data_from_metric_logger(test_logger))\n",
    "\n",
    "            test_ap_ar = get_ap_ar(\n",
    "                train_info.test_evaluator['lesion-detection'], areaRng=\"all\", iouThr=0.5, maxDets=10,\n",
    "            )\n",
    "            # train_info.test_ap_ars.append(test_ap_ar)\n",
    "\n",
    "            train_info.performance[\"test\"].append(\n",
    "                {\n",
    "                    \"lesion-detection\": test_ap_ar,\n",
    "                    \"fixation-generation\": {\n",
    "                        \"iou\": train_info.test_evaluator[\n",
    "                            \"fixation-generation\"\n",
    "                        ].get_iou()\n",
    "                    },\n",
    "                    \"chexpert-classification\": {\n",
    "                        \"auc\": train_info.test_evaluator[\n",
    "                            \"chexpert-classification\"\n",
    "                        ].get_clf_score(roc_auc_score)\n",
    "                    },\n",
    "                    \"negbio-classification\": {\n",
    "                        \"auc\": train_info.test_evaluator[\n",
    "                            \"negbio-classification\"\n",
    "                        ].get_clf_score(roc_auc_score)\n",
    "                    },\n",
    "                }\n",
    "            )\n",
    "\n",
    "        # update the learning rate\n",
    "\n",
    "        val_loss = train_info.val_losses[-1][\"loss\"]\n",
    "\n",
    "        epoch_took, sec_already_took, speed = train_info.timer.end_epoch(\n",
    "            train_info.epoch\n",
    "        )\n",
    "\n",
    "        if train_info.epoch > setup.warmup_epochs:\n",
    "            if not lr_scheduler is None:\n",
    "                if isinstance(lr_scheduler, optim.lr_scheduler.ReduceLROnPlateau):\n",
    "                    if (\n",
    "                        setup.reduceLROnPlateau_full_stop\n",
    "                        and lr_scheduler.num_bad_epochs\n",
    "                        >= setup.reduceLROnPlateau_patience\n",
    "                    ):\n",
    "                        print_f.print_title(\n",
    "                            f\"| EarlyStop | Epoch [{train_info.epoch}] Done | It has took [{sec_already_took/60:.2f}] min, Avg time: [{speed:.2f}] sec/epoch | Estimate time for [{num_epochs}] epochs: [{speed*num_epochs/60:.2f}] min | Epoch took [{epoch_took.seconds}] sec |\"\n",
    "                        )\n",
    "                        break\n",
    "                    lr_scheduler.step(val_loss)\n",
    "                else:\n",
    "                    lr_scheduler.step()\n",
    "\n",
    "        # Clean everything before we show the evaluating result in this stage, so we can inspect the training progress.\n",
    "        clear_output()\n",
    "\n",
    "        # if model_setup.record_training_performance:\n",
    "        # plot all matrics\n",
    "        plot_performance(\n",
    "            performance=train_info.performance,\n",
    "            all_tasks=list(model.task_performers.keys()),\n",
    "            fig_title=\"Performance\",\n",
    "        )\n",
    "\n",
    "        plot_losses(\n",
    "            train_info.train_losses,\n",
    "            train_info.val_losses,\n",
    "            test_logers=train_info.test_losses,\n",
    "        )\n",
    "\n",
    "        # previous_time = current_time\n",
    "        # current_time = datetime.now()\n",
    "        # epoch_took = current_time - previous_time\n",
    "\n",
    "        # sec_took = (current_time - train_info.start_t).seconds\n",
    "        # speed = sec_took / train_info.epoch\n",
    "\n",
    "        print_str = f\"| Epoch [{train_info.epoch}] Done | It has took [{sec_already_took/60:.2f}] min, Avg time: [{speed:.2f}] sec/epoch | Estimate time for [{num_epochs}] epochs: [{speed*num_epochs/60:.2f}] min | Epoch took [{epoch_took.seconds}] sec | \"\n",
    "\n",
    "        if lr_scheduler and hasattr(lr_scheduler, \"num_bad_epochs\"):\n",
    "            print_str += f\"Patience [{lr_scheduler.num_bad_epochs}] |\"\n",
    "\n",
    "        print_f.print_title(print_str)\n",
    "\n",
    "        #######################################################################################\n",
    "        if setup.save_early_stop_model:\n",
    "            val_ar, val_ap, train_info = check_best(\n",
    "                setup=setup,\n",
    "                val_ap_ar=val_ap_ar,\n",
    "                device=device,\n",
    "                eval_params_dict=eval_params_dict,\n",
    "                train_info=train_info,\n",
    "                model=model,\n",
    "                optim=optimizer,\n",
    "                test_dataloader=test_dataloader,\n",
    "                test_coco=test_coco,\n",
    "                iou_types=iou_types,\n",
    "                score_thres=None,\n",
    "                dynamic_weight=dynamic_loss_weight,\n",
    "            )\n",
    "\n",
    "    val_ap_ar = get_ap_ar(train_info.last_val_evaluator)\n",
    "\n",
    "    train_info = end_train(\n",
    "        setup=setup,\n",
    "        train_info=train_info,\n",
    "        model=model,\n",
    "        optim=optimizer,\n",
    "        eval_params_dict=eval_params_dict,\n",
    "        last_val_ar=val_ap_ar[\"ar\"],\n",
    "        last_val_ap=val_ap_ar[\"ap\"],\n",
    "        test_dataloader=test_dataloader,\n",
    "        device=device,\n",
    "        test_coco=test_coco,\n",
    "        iou_types=iou_types,\n",
    "        score_thres=None,\n",
    "        dynamic_weight=dynamic_loss_weight,\n",
    "    )\n",
    "\n",
    "    train_infos.append(train_info)\n",
    "\n",
    "\n",
    "# TODO: allow for any kind of pipeline.\n"
   ]
  },
  {
   "cell_type": "markdown",
   "metadata": {},
   "source": []
  },
  {
   "cell_type": "code",
   "execution_count": null,
   "metadata": {},
   "outputs": [],
   "source": [
    "from utils.plot import performance_list, split_to_colour"
   ]
  },
  {
   "cell_type": "code",
   "execution_count": null,
   "metadata": {},
   "outputs": [
    {
     "ename": "NameError",
     "evalue": "name 'model' is not defined",
     "output_type": "error",
     "traceback": [
      "\u001b[1;31m---------------------------------------------------------------------------\u001b[0m",
      "\u001b[1;31mNameError\u001b[0m                                 Traceback (most recent call last)",
      "\u001b[1;32m~\\AppData\\Local\\Temp/ipykernel_17596/2833253605.py\u001b[0m in \u001b[0;36m<module>\u001b[1;34m\u001b[0m\n\u001b[1;32m----> 1\u001b[1;33m \u001b[0mall_tasks\u001b[0m \u001b[1;33m=\u001b[0m \u001b[0mlist\u001b[0m\u001b[1;33m(\u001b[0m\u001b[0mmodel\u001b[0m\u001b[1;33m.\u001b[0m\u001b[0mtask_performers\u001b[0m\u001b[1;33m.\u001b[0m\u001b[0mkeys\u001b[0m\u001b[1;33m(\u001b[0m\u001b[1;33m)\u001b[0m\u001b[1;33m)\u001b[0m\u001b[1;33m\u001b[0m\u001b[1;33m\u001b[0m\u001b[0m\n\u001b[0m\u001b[0;32m      2\u001b[0m \u001b[0mperformance\u001b[0m \u001b[1;33m=\u001b[0m \u001b[0mtrain_info\u001b[0m\u001b[1;33m.\u001b[0m\u001b[0mperformance\u001b[0m\u001b[1;33m\u001b[0m\u001b[1;33m\u001b[0m\u001b[0m\n",
      "\u001b[1;31mNameError\u001b[0m: name 'model' is not defined"
     ]
    }
   ],
   "source": [
    "all_tasks = list(model.task_performers.keys())\n",
    "performance = train_info.performance"
   ]
  },
  {
   "cell_type": "code",
   "execution_count": null,
   "metadata": {},
   "outputs": [],
   "source": [
    "all_p_list = {\n",
    "    \"train\": performance_list(\n",
    "        all_tasks=all_tasks, performance=performance, split=\"train\"\n",
    "    ),\n",
    "    \"val\": performance_list(\n",
    "        all_tasks=all_tasks, performance=performance, split=\"val\"\n",
    "    ),\n",
    "    \"test\": performance_list( all_tasks=all_tasks, performance=performance, split=\"test\"),\n",
    "}"
   ]
  },
  {
   "cell_type": "code",
   "execution_count": null,
   "metadata": {},
   "outputs": [
    {
     "data": {
      "text/plain": [
       "{'train': [{'lesion-detection': {'ap': 0.004073390785737503,\n",
       "    'ar': 0.17199693625562706},\n",
       "   'fixation-generation': {'iou': 0.0006929590732236452},\n",
       "   'chexpert-classification': {'auc': 255.0},\n",
       "   'negbio-classification': {'auc': 333.0}}],\n",
       " 'val': [{'lesion-detection': {'ap': 0.0038408163370742395,\n",
       "    'ar': 0.1725655935564238},\n",
       "   'fixation-generation': {'iou': 0.0006905732331452546},\n",
       "   'chexpert-classification': {'auc': 41.5},\n",
       "   'negbio-classification': {'auc': 6.5}}],\n",
       " 'test': [{'lesion-detection': {'ap': 0.011448739557065045,\n",
       "    'ar': 0.25863012693521165},\n",
       "   'fixation-generation': {'iou': 0.0007511868196375229},\n",
       "   'chexpert-classification': {'auc': 44.0},\n",
       "   'negbio-classification': {'auc': 6.5}}]}"
      ]
     },
     "execution_count": 27,
     "metadata": {},
     "output_type": "execute_result"
    }
   ],
   "source": [
    "performance"
   ]
  },
  {
   "cell_type": "code",
   "execution_count": null,
   "metadata": {},
   "outputs": [],
   "source": [
    "import matplotlib.pyplot as plt"
   ]
  },
  {
   "cell_type": "code",
   "execution_count": null,
   "metadata": {},
   "outputs": [
    {
     "ename": "NameError",
     "evalue": "name 'all_p_list' is not defined",
     "output_type": "error",
     "traceback": [
      "\u001b[1;31m---------------------------------------------------------------------------\u001b[0m",
      "\u001b[1;31mNameError\u001b[0m                                 Traceback (most recent call last)",
      "\u001b[1;32m~\\AppData\\Local\\Temp/ipykernel_17596/204137171.py\u001b[0m in \u001b[0;36m<module>\u001b[1;34m\u001b[0m\n\u001b[1;32m----> 1\u001b[1;33m \u001b[0mall_p_list\u001b[0m\u001b[1;33m[\u001b[0m\u001b[1;34m'train'\u001b[0m\u001b[1;33m]\u001b[0m\u001b[1;33m\u001b[0m\u001b[1;33m\u001b[0m\u001b[0m\n\u001b[0m",
      "\u001b[1;31mNameError\u001b[0m: name 'all_p_list' is not defined"
     ]
    }
   ],
   "source": [
    "all_p_list['train']"
   ]
  },
  {
   "cell_type": "code",
   "execution_count": null,
   "metadata": {},
   "outputs": [
    {
     "ename": "NameError",
     "evalue": "name 'p_list' is not defined",
     "output_type": "error",
     "traceback": [
      "\u001b[1;31m---------------------------------------------------------------------------\u001b[0m",
      "\u001b[1;31mNameError\u001b[0m                                 Traceback (most recent call last)",
      "\u001b[1;32m~\\AppData\\Local\\Temp/ipykernel_17596/1365054889.py\u001b[0m in \u001b[0;36m<module>\u001b[1;34m\u001b[0m\n\u001b[1;32m----> 1\u001b[1;33m \u001b[0mp_list\u001b[0m\u001b[1;33m\u001b[0m\u001b[1;33m\u001b[0m\u001b[0m\n\u001b[0m",
      "\u001b[1;31mNameError\u001b[0m: name 'p_list' is not defined"
     ]
    }
   ],
   "source": [
    "p_list"
   ]
  },
  {
   "cell_type": "code",
   "execution_count": null,
   "metadata": {},
   "outputs": [
    {
     "ename": "NameError",
     "evalue": "name 'all_tasks' is not defined",
     "output_type": "error",
     "traceback": [
      "\u001b[1;31m---------------------------------------------------------------------------\u001b[0m",
      "\u001b[1;31mNameError\u001b[0m                                 Traceback (most recent call last)",
      "\u001b[1;32m~\\AppData\\Local\\Temp/ipykernel_17596/940280915.py\u001b[0m in \u001b[0;36m<module>\u001b[1;34m\u001b[0m\n\u001b[0;32m      1\u001b[0m \u001b[0mnum_p\u001b[0m \u001b[1;33m=\u001b[0m \u001b[1;36m0\u001b[0m\u001b[1;33m\u001b[0m\u001b[1;33m\u001b[0m\u001b[0m\n\u001b[1;32m----> 2\u001b[1;33m \u001b[1;32mfor\u001b[0m \u001b[0mt\u001b[0m \u001b[1;32min\u001b[0m \u001b[0mall_tasks\u001b[0m\u001b[1;33m:\u001b[0m\u001b[1;33m\u001b[0m\u001b[1;33m\u001b[0m\u001b[0m\n\u001b[0m\u001b[0;32m      3\u001b[0m     \u001b[1;32mfor\u001b[0m \u001b[0ms\u001b[0m\u001b[1;33m,\u001b[0m \u001b[0mp_list\u001b[0m \u001b[1;32min\u001b[0m \u001b[0mall_p_list\u001b[0m\u001b[1;33m.\u001b[0m\u001b[0mitems\u001b[0m\u001b[1;33m(\u001b[0m\u001b[1;33m)\u001b[0m\u001b[1;33m:\u001b[0m\u001b[1;33m\u001b[0m\u001b[1;33m\u001b[0m\u001b[0m\n\u001b[0;32m      4\u001b[0m         \u001b[1;32mif\u001b[0m \u001b[0mp_list\u001b[0m \u001b[1;32mis\u001b[0m \u001b[1;32mnot\u001b[0m \u001b[1;32mNone\u001b[0m\u001b[1;33m:\u001b[0m\u001b[1;33m\u001b[0m\u001b[1;33m\u001b[0m\u001b[0m\n\u001b[0;32m      5\u001b[0m             \u001b[1;32mfor\u001b[0m \u001b[0mk\u001b[0m\u001b[1;33m,\u001b[0m \u001b[0mv\u001b[0m \u001b[1;32min\u001b[0m \u001b[0mp_list\u001b[0m\u001b[1;33m[\u001b[0m\u001b[0mt\u001b[0m\u001b[1;33m]\u001b[0m\u001b[1;33m.\u001b[0m\u001b[0mitems\u001b[0m\u001b[1;33m(\u001b[0m\u001b[1;33m)\u001b[0m\u001b[1;33m:\u001b[0m\u001b[1;33m\u001b[0m\u001b[1;33m\u001b[0m\u001b[0m\n",
      "\u001b[1;31mNameError\u001b[0m: name 'all_tasks' is not defined"
     ]
    }
   ],
   "source": [
    "num_p = 0\n",
    "for t in all_tasks:\n",
    "    for s, p_list in all_p_list.items():\n",
    "        if p_list is not None:\n",
    "            for k, v in p_list[t].items():\n",
    "                num_p += 1"
   ]
  },
  {
   "cell_type": "code",
   "execution_count": null,
   "metadata": {},
   "outputs": [
    {
     "name": "stdout",
     "output_type": "stream",
     "text": [
      "[0.004073390785737503]\n",
      "[0.17199693625562706]\n",
      "[0.0038408163370742395]\n",
      "[0.1725655935564238]\n",
      "[0.011448739557065045]\n",
      "[0.25863012693521165]\n",
      "[{'iou': 0.0006929590732236452}]\n"
     ]
    },
    {
     "ename": "TypeError",
     "evalue": "float() argument must be a string or a number, not 'dict'",
     "output_type": "error",
     "traceback": [
      "\u001b[1;31m---------------------------------------------------------------------------\u001b[0m",
      "\u001b[1;31mTypeError\u001b[0m                                 Traceback (most recent call last)",
      "\u001b[1;32m~\\AppData\\Local\\Temp/ipykernel_25616/2432527211.py\u001b[0m in \u001b[0;36m<module>\u001b[1;34m\u001b[0m\n\u001b[0;32m     21\u001b[0m                 \u001b[0maxes\u001b[0m\u001b[1;33m[\u001b[0m\u001b[0mcurrent_idx\u001b[0m\u001b[1;33m]\u001b[0m\u001b[1;33m.\u001b[0m\u001b[0mset_title\u001b[0m\u001b[1;33m(\u001b[0m\u001b[1;34mf\"{t}_{k}\"\u001b[0m\u001b[1;33m)\u001b[0m\u001b[1;33m\u001b[0m\u001b[1;33m\u001b[0m\u001b[0m\n\u001b[0;32m     22\u001b[0m                 \u001b[0mprint\u001b[0m\u001b[1;33m(\u001b[0m\u001b[0mv\u001b[0m\u001b[1;33m)\u001b[0m\u001b[1;33m\u001b[0m\u001b[1;33m\u001b[0m\u001b[0m\n\u001b[1;32m---> 23\u001b[1;33m                 axes[current_idx].plot(\n\u001b[0m\u001b[0;32m     24\u001b[0m                     \u001b[0mv\u001b[0m\u001b[1;33m,\u001b[0m \u001b[0mmarker\u001b[0m\u001b[1;33m=\u001b[0m\u001b[1;34m\"o\"\u001b[0m\u001b[1;33m,\u001b[0m \u001b[0mlabel\u001b[0m\u001b[1;33m=\u001b[0m\u001b[0ms\u001b[0m\u001b[1;33m,\u001b[0m \u001b[0mcolor\u001b[0m\u001b[1;33m=\u001b[0m\u001b[0msplit_to_colour\u001b[0m\u001b[1;33m[\u001b[0m\u001b[0ms\u001b[0m\u001b[1;33m]\u001b[0m\u001b[1;33m,\u001b[0m\u001b[1;33m\u001b[0m\u001b[1;33m\u001b[0m\u001b[0m\n\u001b[0;32m     25\u001b[0m                 )\n",
      "\u001b[1;32mc:\\Users\\mike8\\anaconda3\\envs\\pytorch\\lib\\site-packages\\matplotlib\\axes\\_axes.py\u001b[0m in \u001b[0;36mplot\u001b[1;34m(self, scalex, scaley, data, *args, **kwargs)\u001b[0m\n\u001b[0;32m   1632\u001b[0m         \u001b[0mlines\u001b[0m \u001b[1;33m=\u001b[0m \u001b[1;33m[\u001b[0m\u001b[1;33m*\u001b[0m\u001b[0mself\u001b[0m\u001b[1;33m.\u001b[0m\u001b[0m_get_lines\u001b[0m\u001b[1;33m(\u001b[0m\u001b[1;33m*\u001b[0m\u001b[0margs\u001b[0m\u001b[1;33m,\u001b[0m \u001b[0mdata\u001b[0m\u001b[1;33m=\u001b[0m\u001b[0mdata\u001b[0m\u001b[1;33m,\u001b[0m \u001b[1;33m**\u001b[0m\u001b[0mkwargs\u001b[0m\u001b[1;33m)\u001b[0m\u001b[1;33m]\u001b[0m\u001b[1;33m\u001b[0m\u001b[1;33m\u001b[0m\u001b[0m\n\u001b[0;32m   1633\u001b[0m         \u001b[1;32mfor\u001b[0m \u001b[0mline\u001b[0m \u001b[1;32min\u001b[0m \u001b[0mlines\u001b[0m\u001b[1;33m:\u001b[0m\u001b[1;33m\u001b[0m\u001b[1;33m\u001b[0m\u001b[0m\n\u001b[1;32m-> 1634\u001b[1;33m             \u001b[0mself\u001b[0m\u001b[1;33m.\u001b[0m\u001b[0madd_line\u001b[0m\u001b[1;33m(\u001b[0m\u001b[0mline\u001b[0m\u001b[1;33m)\u001b[0m\u001b[1;33m\u001b[0m\u001b[1;33m\u001b[0m\u001b[0m\n\u001b[0m\u001b[0;32m   1635\u001b[0m         \u001b[0mself\u001b[0m\u001b[1;33m.\u001b[0m\u001b[0m_request_autoscale_view\u001b[0m\u001b[1;33m(\u001b[0m\u001b[0mscalex\u001b[0m\u001b[1;33m=\u001b[0m\u001b[0mscalex\u001b[0m\u001b[1;33m,\u001b[0m \u001b[0mscaley\u001b[0m\u001b[1;33m=\u001b[0m\u001b[0mscaley\u001b[0m\u001b[1;33m)\u001b[0m\u001b[1;33m\u001b[0m\u001b[1;33m\u001b[0m\u001b[0m\n\u001b[0;32m   1636\u001b[0m         \u001b[1;32mreturn\u001b[0m \u001b[0mlines\u001b[0m\u001b[1;33m\u001b[0m\u001b[1;33m\u001b[0m\u001b[0m\n",
      "\u001b[1;32mc:\\Users\\mike8\\anaconda3\\envs\\pytorch\\lib\\site-packages\\matplotlib\\axes\\_base.py\u001b[0m in \u001b[0;36madd_line\u001b[1;34m(self, line)\u001b[0m\n\u001b[0;32m   2281\u001b[0m             \u001b[0mline\u001b[0m\u001b[1;33m.\u001b[0m\u001b[0mset_clip_path\u001b[0m\u001b[1;33m(\u001b[0m\u001b[0mself\u001b[0m\u001b[1;33m.\u001b[0m\u001b[0mpatch\u001b[0m\u001b[1;33m)\u001b[0m\u001b[1;33m\u001b[0m\u001b[1;33m\u001b[0m\u001b[0m\n\u001b[0;32m   2282\u001b[0m \u001b[1;33m\u001b[0m\u001b[0m\n\u001b[1;32m-> 2283\u001b[1;33m         \u001b[0mself\u001b[0m\u001b[1;33m.\u001b[0m\u001b[0m_update_line_limits\u001b[0m\u001b[1;33m(\u001b[0m\u001b[0mline\u001b[0m\u001b[1;33m)\u001b[0m\u001b[1;33m\u001b[0m\u001b[1;33m\u001b[0m\u001b[0m\n\u001b[0m\u001b[0;32m   2284\u001b[0m         \u001b[1;32mif\u001b[0m \u001b[1;32mnot\u001b[0m \u001b[0mline\u001b[0m\u001b[1;33m.\u001b[0m\u001b[0mget_label\u001b[0m\u001b[1;33m(\u001b[0m\u001b[1;33m)\u001b[0m\u001b[1;33m:\u001b[0m\u001b[1;33m\u001b[0m\u001b[1;33m\u001b[0m\u001b[0m\n\u001b[0;32m   2285\u001b[0m             \u001b[0mline\u001b[0m\u001b[1;33m.\u001b[0m\u001b[0mset_label\u001b[0m\u001b[1;33m(\u001b[0m\u001b[1;34mf'_child{len(self._children)}'\u001b[0m\u001b[1;33m)\u001b[0m\u001b[1;33m\u001b[0m\u001b[1;33m\u001b[0m\u001b[0m\n",
      "\u001b[1;32mc:\\Users\\mike8\\anaconda3\\envs\\pytorch\\lib\\site-packages\\matplotlib\\axes\\_base.py\u001b[0m in \u001b[0;36m_update_line_limits\u001b[1;34m(self, line)\u001b[0m\n\u001b[0;32m   2304\u001b[0m         \u001b[0mFigures\u001b[0m \u001b[0mout\u001b[0m \u001b[0mthe\u001b[0m \u001b[0mdata\u001b[0m \u001b[0mlimit\u001b[0m \u001b[0mof\u001b[0m \u001b[0mthe\u001b[0m \u001b[0mgiven\u001b[0m \u001b[0mline\u001b[0m\u001b[1;33m,\u001b[0m \u001b[0mupdating\u001b[0m \u001b[0mself\u001b[0m\u001b[1;33m.\u001b[0m\u001b[0mdataLim\u001b[0m\u001b[1;33m.\u001b[0m\u001b[1;33m\u001b[0m\u001b[1;33m\u001b[0m\u001b[0m\n\u001b[0;32m   2305\u001b[0m         \"\"\"\n\u001b[1;32m-> 2306\u001b[1;33m         \u001b[0mpath\u001b[0m \u001b[1;33m=\u001b[0m \u001b[0mline\u001b[0m\u001b[1;33m.\u001b[0m\u001b[0mget_path\u001b[0m\u001b[1;33m(\u001b[0m\u001b[1;33m)\u001b[0m\u001b[1;33m\u001b[0m\u001b[1;33m\u001b[0m\u001b[0m\n\u001b[0m\u001b[0;32m   2307\u001b[0m         \u001b[1;32mif\u001b[0m \u001b[0mpath\u001b[0m\u001b[1;33m.\u001b[0m\u001b[0mvertices\u001b[0m\u001b[1;33m.\u001b[0m\u001b[0msize\u001b[0m \u001b[1;33m==\u001b[0m \u001b[1;36m0\u001b[0m\u001b[1;33m:\u001b[0m\u001b[1;33m\u001b[0m\u001b[1;33m\u001b[0m\u001b[0m\n\u001b[0;32m   2308\u001b[0m             \u001b[1;32mreturn\u001b[0m\u001b[1;33m\u001b[0m\u001b[1;33m\u001b[0m\u001b[0m\n",
      "\u001b[1;32mc:\\Users\\mike8\\anaconda3\\envs\\pytorch\\lib\\site-packages\\matplotlib\\lines.py\u001b[0m in \u001b[0;36mget_path\u001b[1;34m(self)\u001b[0m\n\u001b[0;32m    995\u001b[0m         \u001b[1;34m\"\"\"Return the `~matplotlib.path.Path` associated with this line.\"\"\"\u001b[0m\u001b[1;33m\u001b[0m\u001b[1;33m\u001b[0m\u001b[0m\n\u001b[0;32m    996\u001b[0m         \u001b[1;32mif\u001b[0m \u001b[0mself\u001b[0m\u001b[1;33m.\u001b[0m\u001b[0m_invalidy\u001b[0m \u001b[1;32mor\u001b[0m \u001b[0mself\u001b[0m\u001b[1;33m.\u001b[0m\u001b[0m_invalidx\u001b[0m\u001b[1;33m:\u001b[0m\u001b[1;33m\u001b[0m\u001b[1;33m\u001b[0m\u001b[0m\n\u001b[1;32m--> 997\u001b[1;33m             \u001b[0mself\u001b[0m\u001b[1;33m.\u001b[0m\u001b[0mrecache\u001b[0m\u001b[1;33m(\u001b[0m\u001b[1;33m)\u001b[0m\u001b[1;33m\u001b[0m\u001b[1;33m\u001b[0m\u001b[0m\n\u001b[0m\u001b[0;32m    998\u001b[0m         \u001b[1;32mreturn\u001b[0m \u001b[0mself\u001b[0m\u001b[1;33m.\u001b[0m\u001b[0m_path\u001b[0m\u001b[1;33m\u001b[0m\u001b[1;33m\u001b[0m\u001b[0m\n\u001b[0;32m    999\u001b[0m \u001b[1;33m\u001b[0m\u001b[0m\n",
      "\u001b[1;32mc:\\Users\\mike8\\anaconda3\\envs\\pytorch\\lib\\site-packages\\matplotlib\\lines.py\u001b[0m in \u001b[0;36mrecache\u001b[1;34m(self, always)\u001b[0m\n\u001b[0;32m    653\u001b[0m         \u001b[1;32mif\u001b[0m \u001b[0malways\u001b[0m \u001b[1;32mor\u001b[0m \u001b[0mself\u001b[0m\u001b[1;33m.\u001b[0m\u001b[0m_invalidy\u001b[0m\u001b[1;33m:\u001b[0m\u001b[1;33m\u001b[0m\u001b[1;33m\u001b[0m\u001b[0m\n\u001b[0;32m    654\u001b[0m             \u001b[0myconv\u001b[0m \u001b[1;33m=\u001b[0m \u001b[0mself\u001b[0m\u001b[1;33m.\u001b[0m\u001b[0mconvert_yunits\u001b[0m\u001b[1;33m(\u001b[0m\u001b[0mself\u001b[0m\u001b[1;33m.\u001b[0m\u001b[0m_yorig\u001b[0m\u001b[1;33m)\u001b[0m\u001b[1;33m\u001b[0m\u001b[1;33m\u001b[0m\u001b[0m\n\u001b[1;32m--> 655\u001b[1;33m             \u001b[0my\u001b[0m \u001b[1;33m=\u001b[0m \u001b[0m_to_unmasked_float_array\u001b[0m\u001b[1;33m(\u001b[0m\u001b[0myconv\u001b[0m\u001b[1;33m)\u001b[0m\u001b[1;33m.\u001b[0m\u001b[0mravel\u001b[0m\u001b[1;33m(\u001b[0m\u001b[1;33m)\u001b[0m\u001b[1;33m\u001b[0m\u001b[1;33m\u001b[0m\u001b[0m\n\u001b[0m\u001b[0;32m    656\u001b[0m         \u001b[1;32melse\u001b[0m\u001b[1;33m:\u001b[0m\u001b[1;33m\u001b[0m\u001b[1;33m\u001b[0m\u001b[0m\n\u001b[0;32m    657\u001b[0m             \u001b[0my\u001b[0m \u001b[1;33m=\u001b[0m \u001b[0mself\u001b[0m\u001b[1;33m.\u001b[0m\u001b[0m_y\u001b[0m\u001b[1;33m\u001b[0m\u001b[1;33m\u001b[0m\u001b[0m\n",
      "\u001b[1;32mc:\\Users\\mike8\\anaconda3\\envs\\pytorch\\lib\\site-packages\\matplotlib\\cbook\\__init__.py\u001b[0m in \u001b[0;36m_to_unmasked_float_array\u001b[1;34m(x)\u001b[0m\n\u001b[0;32m   1296\u001b[0m         \u001b[1;32mreturn\u001b[0m \u001b[0mnp\u001b[0m\u001b[1;33m.\u001b[0m\u001b[0mma\u001b[0m\u001b[1;33m.\u001b[0m\u001b[0masarray\u001b[0m\u001b[1;33m(\u001b[0m\u001b[0mx\u001b[0m\u001b[1;33m,\u001b[0m \u001b[0mfloat\u001b[0m\u001b[1;33m)\u001b[0m\u001b[1;33m.\u001b[0m\u001b[0mfilled\u001b[0m\u001b[1;33m(\u001b[0m\u001b[0mnp\u001b[0m\u001b[1;33m.\u001b[0m\u001b[0mnan\u001b[0m\u001b[1;33m)\u001b[0m\u001b[1;33m\u001b[0m\u001b[1;33m\u001b[0m\u001b[0m\n\u001b[0;32m   1297\u001b[0m     \u001b[1;32melse\u001b[0m\u001b[1;33m:\u001b[0m\u001b[1;33m\u001b[0m\u001b[1;33m\u001b[0m\u001b[0m\n\u001b[1;32m-> 1298\u001b[1;33m         \u001b[1;32mreturn\u001b[0m \u001b[0mnp\u001b[0m\u001b[1;33m.\u001b[0m\u001b[0masarray\u001b[0m\u001b[1;33m(\u001b[0m\u001b[0mx\u001b[0m\u001b[1;33m,\u001b[0m \u001b[0mfloat\u001b[0m\u001b[1;33m)\u001b[0m\u001b[1;33m\u001b[0m\u001b[1;33m\u001b[0m\u001b[0m\n\u001b[0m\u001b[0;32m   1299\u001b[0m \u001b[1;33m\u001b[0m\u001b[0m\n\u001b[0;32m   1300\u001b[0m \u001b[1;33m\u001b[0m\u001b[0m\n",
      "\u001b[1;31mTypeError\u001b[0m: float() argument must be a string or a number, not 'dict'"
     ]
    },
    {
     "data": {
      "image/png": "[encoded data removed]",
      "text/plain": [
       "<Figure size 800x6000 with 15 Axes>"
      ]
     },
     "metadata": {
      "needs_background": "light"
     },
     "output_type": "display_data"
    }
   ],
   "source": [
    "fig_title = \"Performance\"\n",
    "\n",
    "num_p = 0\n",
    "for t in all_tasks:\n",
    "    for s, p_list in all_p_list.items():\n",
    "        if p_list is not None:\n",
    "            for k, v in p_list[t].items():\n",
    "                num_p += 1\n",
    "\n",
    "fig, axes = plt.subplots(num_p, figsize=(10, 5*num_p), dpi=80, sharex=True,)\n",
    "\n",
    "if fig_title:\n",
    "    fig.suptitle(f\"{fig_title}\")\n",
    "\n",
    "\n",
    "current_idx = 0\n",
    "for t in all_tasks:\n",
    "    for s, p_list in all_p_list.items():\n",
    "        if p_list is not None:\n",
    "            for k, v in p_list[t].items():\n",
    "                axes[current_idx].set_title(f\"{t}_{k}\")\n",
    "                print(v)\n",
    "                axes[current_idx].plot(\n",
    "                    v, marker=\"o\", label=s, color=split_to_colour[s],\n",
    "                )\n",
    "    axes[current_idx].legend(loc=\"upper left\")\n",
    "    axes[current_idx].set_xlabel(\"Epoch\")\n",
    "    current_idx += 1\n",
    "\n",
    "plt.plot()\n",
    "plt.pause(0.01)\n"
   ]
  },
  {
   "cell_type": "code",
   "execution_count": null,
   "metadata": {},
   "outputs": [
    {
     "data": {
      "text/plain": [
       "15"
      ]
     },
     "execution_count": 17,
     "metadata": {},
     "output_type": "execute_result"
    }
   ],
   "source": [
    "num_p"
   ]
  },
  {
   "cell_type": "code",
   "execution_count": null,
   "metadata": {},
   "outputs": [],
   "source": []
  },
  {
   "cell_type": "code",
   "execution_count": null,
   "metadata": {},
   "outputs": [
    {
     "data": {
      "text/plain": [
       "dict_keys(['lesion-detection', 'fixation-generation:', 'chexpert-classification', 'negbio-classification'])"
      ]
     },
     "execution_count": 20,
     "metadata": {},
     "output_type": "execute_result"
    }
   ],
   "source": [
    "train_info.performance['train'][0].keys()"
   ]
  },
  {
   "cell_type": "code",
   "execution_count": null,
   "metadata": {},
   "outputs": [
    {
     "ename": "KeyError",
     "evalue": "'fixation-generation'",
     "output_type": "error",
     "traceback": [
      "\u001b[1;31m---------------------------------------------------------------------------\u001b[0m",
      "\u001b[1;31mKeyError\u001b[0m                                  Traceback (most recent call last)",
      "\u001b[1;32m~\\AppData\\Local\\Temp/ipykernel_23052/1306435422.py\u001b[0m in \u001b[0;36m<module>\u001b[1;34m\u001b[0m\n\u001b[1;32m----> 1\u001b[1;33m \u001b[0mtrain_info\u001b[0m\u001b[1;33m.\u001b[0m\u001b[0mperformance\u001b[0m\u001b[1;33m[\u001b[0m\u001b[1;34m'train'\u001b[0m\u001b[1;33m]\u001b[0m\u001b[1;33m[\u001b[0m\u001b[1;36m0\u001b[0m\u001b[1;33m]\u001b[0m\u001b[1;33m[\u001b[0m\u001b[1;34m'fixation-generation'\u001b[0m\u001b[1;33m]\u001b[0m\u001b[1;33m\u001b[0m\u001b[1;33m\u001b[0m\u001b[0m\n\u001b[0m",
      "\u001b[1;31mKeyError\u001b[0m: 'fixation-generation'"
     ]
    }
   ],
   "source": [
    "train_info.performance['train'][0]['fixation-generation']"
   ]
  },
  {
   "cell_type": "code",
   "execution_count": null,
   "metadata": {},
   "outputs": [
    {
     "data": {
      "text/plain": [
       "<utils.engine.HeatmapGenerationEvaluator at 0x26b9e64c430>"
      ]
     },
     "execution_count": 11,
     "metadata": {},
     "output_type": "execute_result"
    }
   ],
   "source": [
    "fixation-generation\n",
    "train_info.last_train_evaluator['fixation-generation']"
   ]
  },
  {
   "cell_type": "code",
   "execution_count": null,
   "metadata": {},
   "outputs": [],
   "source": [
    "['negbio_classification']\n",
    "negbio-classification"
   ]
  },
  {
   "cell_type": "code",
   "execution_count": null,
   "metadata": {},
   "outputs": [
    {
     "data": {
      "text/plain": [
       "<utils.engine.ImageClassificationEvaluator at 0x162093feca0>"
      ]
     },
     "execution_count": 15,
     "metadata": {},
     "output_type": "execute_result"
    }
   ],
   "source": [
    "train_info.last_train_evaluator['negbio-classification']"
   ]
  },
  {
   "cell_type": "code",
   "execution_count": null,
   "metadata": {},
   "outputs": [
    {
     "name": "stdout",
     "output_type": "stream",
     "text": [
      "DONE (t=0.11s).\n",
      "IoU metric: bbox\n",
      " Average Precision  (AP) @[ IoBB=0.50:0.50 | area=   all | maxDets=100 ] = -1.000\n",
      " Average Precision  (AP) @[ IoBB=0.50      | area=   all | maxDets= 10 ] = 0.005\n",
      " Average Precision  (AP) @[ IoBB=0.75      | area=   all | maxDets= 10 ] = -1.000\n",
      " Average Precision  (AP) @[ IoBB=0.50:0.50 | area= small | maxDets= 10 ] = -1.000\n",
      " Average Precision  (AP) @[ IoBB=0.50:0.50 | area=medium | maxDets= 10 ] = -1.000\n",
      " Average Precision  (AP) @[ IoBB=0.50:0.50 | area= large | maxDets= 10 ] = 0.005\n",
      " Average Recall     (AR) @[ IoBB=0.50:0.50 | area=   all | maxDets=  1 ] = 0.070\n",
      " Average Recall     (AR) @[ IoBB=0.50:0.50 | area=   all | maxDets= 10 ] = 0.193\n",
      " Average Recall     (AR) @[ IoBB=0.50:0.50 | area=   all | maxDets= 10 ] = 0.193\n",
      " Average Recall     (AR) @[ IoBB=0.50:0.50 | area= small | maxDets= 10 ] = -1.000\n",
      " Average Recall     (AR) @[ IoBB=0.50:0.50 | area=medium | maxDets= 10 ] = -1.000\n",
      " Average Recall     (AR) @[ IoBB=0.50:0.50 | area= large | maxDets= 10 ] = 0.193\n"
     ]
    }
   ],
   "source": [
    "train_info.last_val_evaluator['lesion-detection'].synchronize_between_processes()\n",
    "train_info.last_val_evaluator['lesion-detection'].accumulate()\n",
    "train_info.last_val_evaluator['lesion-detection'].summarize()\n"
   ]
  },
  {
   "cell_type": "code",
   "execution_count": null,
   "metadata": {},
   "outputs": [
    {
     "ename": "AttributeError",
     "evalue": "'CocoEvaluator' object has no attribute 'eval'",
     "output_type": "error",
     "traceback": [
      "\u001b[1;31m---------------------------------------------------------------------------\u001b[0m",
      "\u001b[1;31mAttributeError\u001b[0m                            Traceback (most recent call last)",
      "\u001b[1;32m~\\AppData\\Local\\Temp/ipykernel_360/3792076098.py\u001b[0m in \u001b[0;36m<module>\u001b[1;34m\u001b[0m\n\u001b[1;32m----> 1\u001b[1;33m \u001b[0mtrain_info\u001b[0m\u001b[1;33m.\u001b[0m\u001b[0mlast_train_evaluator\u001b[0m\u001b[1;33m[\u001b[0m\u001b[1;34m\"lesion-detection\"\u001b[0m\u001b[1;33m]\u001b[0m\u001b[1;33m.\u001b[0m\u001b[0meval\u001b[0m\u001b[1;33m\u001b[0m\u001b[1;33m\u001b[0m\u001b[0m\n\u001b[0m",
      "\u001b[1;31mAttributeError\u001b[0m: 'CocoEvaluator' object has no attribute 'eval'"
     ]
    }
   ],
   "source": [
    "\n",
    "train_info.last_train_evaluator[\"lesion-detection\"].eval"
   ]
  },
  {
   "cell_type": "code",
   "execution_count": null,
   "metadata": {},
   "outputs": [
    {
     "ename": "KeyError",
     "evalue": "'precision'",
     "output_type": "error",
     "traceback": [
      "\u001b[1;31m---------------------------------------------------------------------------\u001b[0m",
      "\u001b[1;31mKeyError\u001b[0m                                  Traceback (most recent call last)",
      "\u001b[1;32m~\\AppData\\Local\\Temp/ipykernel_360/597276052.py\u001b[0m in \u001b[0;36m<module>\u001b[1;34m\u001b[0m\n\u001b[1;32m----> 1\u001b[1;33m train_ap_ar, val_ap_ar = get_ap_ar_for_train_val(\n\u001b[0m\u001b[0;32m      2\u001b[0m     \u001b[0mtrain_info\u001b[0m\u001b[1;33m.\u001b[0m\u001b[0mlast_train_evaluator\u001b[0m\u001b[1;33m[\u001b[0m\u001b[1;34m\"lesion-detection\"\u001b[0m\u001b[1;33m]\u001b[0m\u001b[1;33m,\u001b[0m\u001b[1;33m\u001b[0m\u001b[1;33m\u001b[0m\u001b[0m\n\u001b[0;32m      3\u001b[0m     \u001b[0mtrain_info\u001b[0m\u001b[1;33m.\u001b[0m\u001b[0mlast_val_evaluator\u001b[0m\u001b[1;33m[\u001b[0m\u001b[1;34m\"lesion-detection\"\u001b[0m\u001b[1;33m]\u001b[0m\u001b[1;33m,\u001b[0m\u001b[1;33m\u001b[0m\u001b[1;33m\u001b[0m\u001b[0m\n\u001b[0;32m      4\u001b[0m     \u001b[0mareaRng\u001b[0m\u001b[1;33m=\u001b[0m\u001b[1;34m\"all\"\u001b[0m\u001b[1;33m,\u001b[0m\u001b[1;33m\u001b[0m\u001b[1;33m\u001b[0m\u001b[0m\n\u001b[0;32m      5\u001b[0m     \u001b[0miouThr\u001b[0m\u001b[1;33m=\u001b[0m\u001b[1;36m0.5\u001b[0m\u001b[1;33m,\u001b[0m\u001b[1;33m\u001b[0m\u001b[1;33m\u001b[0m\u001b[0m\n",
      "\u001b[1;32mc:\\Users\\mike8\\Document\\GitHub\\MIMIC-Eye-applications\\utils\\eval.py\u001b[0m in \u001b[0;36mget_ap_ar_for_train_val\u001b[1;34m(train_evaluator, val_evaluator, iouThr, areaRng, maxDets)\u001b[0m\n\u001b[0;32m    112\u001b[0m     )\n\u001b[0;32m    113\u001b[0m \u001b[1;33m\u001b[0m\u001b[0m\n\u001b[1;32m--> 114\u001b[1;33m     val_ap_ar = get_ap_ar(\n\u001b[0m\u001b[0;32m    115\u001b[0m         \u001b[0mval_evaluator\u001b[0m\u001b[1;33m,\u001b[0m \u001b[0miouThr\u001b[0m\u001b[1;33m=\u001b[0m\u001b[0miouThr\u001b[0m\u001b[1;33m,\u001b[0m \u001b[0mareaRng\u001b[0m\u001b[1;33m=\u001b[0m\u001b[0mareaRng\u001b[0m\u001b[1;33m,\u001b[0m \u001b[0mmaxDets\u001b[0m\u001b[1;33m=\u001b[0m\u001b[0mmaxDets\u001b[0m\u001b[1;33m,\u001b[0m\u001b[1;33m\u001b[0m\u001b[1;33m\u001b[0m\u001b[0m\n\u001b[0;32m    116\u001b[0m     )\n",
      "\u001b[1;32mc:\\Users\\mike8\\Document\\GitHub\\MIMIC-Eye-applications\\utils\\eval.py\u001b[0m in \u001b[0;36mget_ap_ar\u001b[1;34m(evaluator, iouThr, areaRng, maxDets)\u001b[0m\n\u001b[0;32m     49\u001b[0m     \u001b[0mevaluator\u001b[0m\u001b[1;33m,\u001b[0m \u001b[0miouThr\u001b[0m\u001b[1;33m=\u001b[0m\u001b[1;36m0.5\u001b[0m\u001b[1;33m,\u001b[0m \u001b[0mareaRng\u001b[0m\u001b[1;33m=\u001b[0m\u001b[1;34m\"all\"\u001b[0m\u001b[1;33m,\u001b[0m \u001b[0mmaxDets\u001b[0m\u001b[1;33m=\u001b[0m\u001b[1;36m10\u001b[0m\u001b[1;33m,\u001b[0m\u001b[1;33m\u001b[0m\u001b[1;33m\u001b[0m\u001b[0m\n\u001b[0;32m     50\u001b[0m ):\n\u001b[1;32m---> 51\u001b[1;33m     ap = external_summarize(\n\u001b[0m\u001b[0;32m     52\u001b[0m         \u001b[0mevaluator\u001b[0m\u001b[1;33m.\u001b[0m\u001b[0mcoco_eval\u001b[0m\u001b[1;33m[\u001b[0m\u001b[1;34m\"bbox\"\u001b[0m\u001b[1;33m]\u001b[0m\u001b[1;33m,\u001b[0m\u001b[1;33m\u001b[0m\u001b[1;33m\u001b[0m\u001b[0m\n\u001b[0;32m     53\u001b[0m         \u001b[0map\u001b[0m\u001b[1;33m=\u001b[0m\u001b[1;36m1\u001b[0m\u001b[1;33m,\u001b[0m\u001b[1;33m\u001b[0m\u001b[1;33m\u001b[0m\u001b[0m\n",
      "\u001b[1;32mc:\\Users\\mike8\\Document\\GitHub\\MIMIC-Eye-applications\\utils\\coco_eval.py\u001b[0m in \u001b[0;36mexternal_summarize\u001b[1;34m(evaluator, ap, iouThr, areaRng, maxDets, print_result)\u001b[0m\n\u001b[0;32m    390\u001b[0m     \u001b[1;32mif\u001b[0m \u001b[0map\u001b[0m \u001b[1;33m==\u001b[0m \u001b[1;36m1\u001b[0m\u001b[1;33m:\u001b[0m\u001b[1;33m\u001b[0m\u001b[1;33m\u001b[0m\u001b[0m\n\u001b[0;32m    391\u001b[0m         \u001b[1;31m# dimension of precision: [TxRxKxAxM]\u001b[0m\u001b[1;33m\u001b[0m\u001b[1;33m\u001b[0m\u001b[0m\n\u001b[1;32m--> 392\u001b[1;33m         \u001b[0ms\u001b[0m \u001b[1;33m=\u001b[0m \u001b[0mevaluator\u001b[0m\u001b[1;33m.\u001b[0m\u001b[0meval\u001b[0m\u001b[1;33m[\u001b[0m\u001b[1;34m\"precision\"\u001b[0m\u001b[1;33m]\u001b[0m\u001b[1;33m\u001b[0m\u001b[1;33m\u001b[0m\u001b[0m\n\u001b[0m\u001b[0;32m    393\u001b[0m         \u001b[1;31m# IoU\u001b[0m\u001b[1;33m\u001b[0m\u001b[1;33m\u001b[0m\u001b[0m\n\u001b[0;32m    394\u001b[0m         \u001b[1;32mif\u001b[0m \u001b[0miouThr\u001b[0m \u001b[1;32mis\u001b[0m \u001b[1;32mnot\u001b[0m \u001b[1;32mNone\u001b[0m\u001b[1;33m:\u001b[0m\u001b[1;33m\u001b[0m\u001b[1;33m\u001b[0m\u001b[0m\n",
      "\u001b[1;31mKeyError\u001b[0m: 'precision'"
     ]
    }
   ],
   "source": [
    "train_ap_ar, val_ap_ar = get_ap_ar_for_train_val(\n",
    "    train_info.last_train_evaluator[\"lesion-detection\"],\n",
    "    train_info.last_val_evaluator[\"lesion-detection\"],\n",
    "    areaRng=\"all\",\n",
    "    iouThr=0.5,\n",
    "    maxDets=10,\n",
    ")"
   ]
  },
  {
   "cell_type": "code",
   "execution_count": null,
   "metadata": {},
   "outputs": [],
   "source": []
  },
  {
   "cell_type": "code",
   "execution_count": null,
   "metadata": {},
   "outputs": [],
   "source": [
    "        for e in evaluators:\n",
    "            if isinstance(e, CocoEvaluator):\n",
    "                e.synchronize_between_processes()\n",
    "                e.accumulate()\n",
    "                e.summarize()"
   ]
  },
  {
   "cell_type": "code",
   "execution_count": null,
   "metadata": {},
   "outputs": [
    {
     "data": {
      "text/plain": [
       "<utils.coco_eval.CocoEvaluator at 0x203775a2100>"
      ]
     },
     "execution_count": 13,
     "metadata": {},
     "output_type": "execute_result"
    }
   ],
   "source": [
    "train_info.last_train_evaluator[\"lesion-detection\"]"
   ]
  },
  {
   "cell_type": "code",
   "execution_count": null,
   "metadata": {},
   "outputs": [],
   "source": [
    "o_s = [o for o in model.evaluators['fixation-generation'].outputs]\n",
    "    "
   ]
  },
  {
   "cell_type": "code",
   "execution_count": null,
   "metadata": {},
   "outputs": [
    {
     "data": {
      "text/plain": [
       "torch.Size([1, 512, 512])"
      ]
     },
     "execution_count": 21,
     "metadata": {},
     "output_type": "execute_result"
    }
   ],
   "source": [
    "o_s[0].shape"
   ]
  },
  {
   "cell_type": "code",
   "execution_count": null,
   "metadata": {},
   "outputs": [
    {
     "data": {
      "text/plain": [
       "torch.Size([16, 14])"
      ]
     },
     "execution_count": 30,
     "metadata": {},
     "output_type": "execute_result"
    }
   ],
   "source": [
    "model.evaluators['chexpert-classification'].outputs.shape"
   ]
  },
  {
   "cell_type": "code",
   "execution_count": null,
   "metadata": {},
   "outputs": [
    {
     "data": {
      "text/plain": [
       "[{'classifications': tensor([0., 0., 0., 0., 0., 0., 0., 0., 1., 0., 0., 0., 0., 0.],\n",
       "         device='cuda:0', dtype=torch.float64)},\n",
       " {'classifications': tensor([0., 0., 0., 0., 0., 0., 0., 0., 1., 0., 0., 0., 0., 0.],\n",
       "         device='cuda:0', dtype=torch.float64)},\n",
       " {'classifications': tensor([0., 0., 0., 0., 0., 0., 1., 1., 0., 0., 0., 0., 0., 0.],\n",
       "         device='cuda:0', dtype=torch.float64)},\n",
       " {'classifications': tensor([0., 0., 0., 0., 0., 0., 0., 0., 1., 0., 0., 0., 0., 1.],\n",
       "         device='cuda:0', dtype=torch.float64)},\n",
       " {'classifications': tensor([-1.,  0.,  0.,  0.,  0.,  0.,  0.,  1.,  0.,  0.,  0., -1.,  0.,  0.],\n",
       "         device='cuda:0', dtype=torch.float64)},\n",
       " {'classifications': tensor([0., 0., 0., 0., 0., 0., 0., 0., 1., 0., 0., 0., 0., 0.],\n",
       "         device='cuda:0', dtype=torch.float64)},\n",
       " {'classifications': tensor([0., 0., 0., 0., 0., 0., 0., 1., 0., 1., 0., 0., 1., 1.],\n",
       "         device='cuda:0', dtype=torch.float64)},\n",
       " {'classifications': tensor([0., 0., 0., 0., 0., 0., 0., 0., 1., 0., 0., 0., 0., 0.],\n",
       "         device='cuda:0', dtype=torch.float64)},\n",
       " {'classifications': tensor([-1.,  0.,  0.,  0.,  0.,  0.,  0., -1.,  0.,  0.,  0., -1.,  0.,  0.],\n",
       "         device='cuda:0', dtype=torch.float64)},\n",
       " {'classifications': tensor([ 0.,  0.,  0.,  0.,  0.,  0.,  0.,  0.,  0., -1.,  0.,  0.,  0.,  0.],\n",
       "         device='cuda:0', dtype=torch.float64)},\n",
       " {'classifications': tensor([1., 0., 0., 0., 0., 0., 0., 0., 0., 0., 0., 0., 0., 0.],\n",
       "         device='cuda:0', dtype=torch.float64)},\n",
       " {'classifications': tensor([0., 0., 0., 0., 0., 0., 0., 0., 1., 0., 0., 0., 0., 0.],\n",
       "         device='cuda:0', dtype=torch.float64)},\n",
       " {'classifications': tensor([0., 0., 0., 0., 0., 0., 0., 0., 1., 0., 0., 0., 0., 1.],\n",
       "         device='cuda:0', dtype=torch.float64)},\n",
       " {'classifications': tensor([1., 0., 0., 0., 0., 0., 0., 0., 0., 0., 0., 0., 0., 0.],\n",
       "         device='cuda:0', dtype=torch.float64)},\n",
       " {'classifications': tensor([0., 0., 0., 0., 0., 0., 0., 0., 1., 0., 0., 0., 0., 0.],\n",
       "         device='cuda:0', dtype=torch.float64)},\n",
       " {'classifications': tensor([0., 0., 0., 0., 0., 0., 0., 0., 1., 0., 0., 0., 0., 0.],\n",
       "         device='cuda:0', dtype=torch.float64)}]"
      ]
     },
     "execution_count": 31,
     "metadata": {},
     "output_type": "execute_result"
    }
   ],
   "source": [
    "model.evaluators['chexpert-classification'].targets"
   ]
  },
  {
   "cell_type": "code",
   "execution_count": null,
   "metadata": {},
   "outputs": [],
   "source": [
    "preds = model.evaluators['chexpert-classification'].preds"
   ]
  },
  {
   "cell_type": "code",
   "execution_count": null,
   "metadata": {},
   "outputs": [],
   "source": [
    "gts = model.evaluators['chexpert-classification'].gts"
   ]
  },
  {
   "cell_type": "code",
   "execution_count": null,
   "metadata": {},
   "outputs": [],
   "source": [
    "from sklearn.metrics import accuracy_score, auc, average_precision_score, recall_score, f1_score, precision_score"
   ]
  },
  {
   "cell_type": "code",
   "execution_count": null,
   "metadata": {},
   "outputs": [
    {
     "data": {
      "text/plain": [
       "[array([False, False, False, False, False, False, False, False,  True,\n",
       "        False, False, False, False, False]),\n",
       " array([False, False, False, False, False, False, False, False,  True,\n",
       "        False, False, False, False, False]),\n",
       " array([False, False, False, False, False, False,  True,  True, False,\n",
       "        False, False, False, False, False]),\n",
       " array([False, False, False, False, False, False, False, False,  True,\n",
       "        False, False, False, False,  True]),\n",
       " array([False, False, False, False, False, False, False,  True, False,\n",
       "        False, False, False, False, False]),\n",
       " array([False, False, False, False, False, False, False, False,  True,\n",
       "        False, False, False, False, False]),\n",
       " array([False, False, False, False, False, False, False,  True, False,\n",
       "         True, False, False,  True,  True]),\n",
       " array([False, False, False, False, False, False, False, False,  True,\n",
       "        False, False, False, False, False]),\n",
       " array([False, False, False, False, False, False, False, False, False,\n",
       "        False, False, False, False, False]),\n",
       " array([False, False, False, False, False, False, False, False, False,\n",
       "        False, False, False, False, False]),\n",
       " array([ True, False, False, False, False, False, False, False, False,\n",
       "        False, False, False, False, False]),\n",
       " array([False, False, False, False, False, False, False, False,  True,\n",
       "        False, False, False, False, False]),\n",
       " array([False, False, False, False, False, False, False, False,  True,\n",
       "        False, False, False, False,  True]),\n",
       " array([ True, False, False, False, False, False, False, False, False,\n",
       "        False, False, False, False, False]),\n",
       " array([False, False, False, False, False, False, False, False,  True,\n",
       "        False, False, False, False, False]),\n",
       " array([False, False, False, False, False, False, False, False,  True,\n",
       "        False, False, False, False, False])]"
      ]
     },
     "execution_count": 14,
     "metadata": {},
     "output_type": "execute_result"
    }
   ],
   "source": [
    "gts"
   ]
  },
  {
   "cell_type": "code",
   "execution_count": null,
   "metadata": {},
   "outputs": [
    {
     "data": {
      "text/plain": [
       "0.06542056074766354"
      ]
     },
     "execution_count": 51,
     "metadata": {},
     "output_type": "execute_result"
    }
   ],
   "source": [
    "precision_score(np.array(gts).reshape(-1), (np.array(preds)>0.5).reshape(-1))"
   ]
  },
  {
   "cell_type": "code",
   "execution_count": null,
   "metadata": {},
   "outputs": [],
   "source": []
  },
  {
   "cell_type": "code",
   "execution_count": null,
   "metadata": {},
   "outputs": [],
   "source": []
  },
  {
   "cell_type": "code",
   "execution_count": null,
   "metadata": {},
   "outputs": [],
   "source": []
  },
  {
   "cell_type": "code",
   "execution_count": null,
   "metadata": {},
   "outputs": [],
   "source": []
  },
  {
   "cell_type": "code",
   "execution_count": null,
   "metadata": {},
   "outputs": [
    {
     "data": {
      "text/plain": [
       "array([[False],\n",
       "       [False],\n",
       "       [False],\n",
       "       [False],\n",
       "       [False],\n",
       "       [False],\n",
       "       [False],\n",
       "       [False],\n",
       "       [ True],\n",
       "       [False],\n",
       "       [False],\n",
       "       [False],\n",
       "       [False],\n",
       "       [False],\n",
       "       [False],\n",
       "       [False],\n",
       "       [False],\n",
       "       [False],\n",
       "       [False],\n",
       "       [False],\n",
       "       [False],\n",
       "       [False],\n",
       "       [ True],\n",
       "       [False],\n",
       "       [False],\n",
       "       [False],\n",
       "       [False],\n",
       "       [False],\n",
       "       [False],\n",
       "       [False],\n",
       "       [False],\n",
       "       [False],\n",
       "       [False],\n",
       "       [False],\n",
       "       [ True],\n",
       "       [ True],\n",
       "       [False],\n",
       "       [False],\n",
       "       [False],\n",
       "       [False],\n",
       "       [False],\n",
       "       [False],\n",
       "       [False],\n",
       "       [False],\n",
       "       [False],\n",
       "       [False],\n",
       "       [False],\n",
       "       [False],\n",
       "       [False],\n",
       "       [False],\n",
       "       [ True],\n",
       "       [False],\n",
       "       [False],\n",
       "       [False],\n",
       "       [False],\n",
       "       [ True],\n",
       "       [False],\n",
       "       [False],\n",
       "       [False],\n",
       "       [False],\n",
       "       [False],\n",
       "       [False],\n",
       "       [False],\n",
       "       [ True],\n",
       "       [False],\n",
       "       [False],\n",
       "       [False],\n",
       "       [False],\n",
       "       [False],\n",
       "       [False],\n",
       "       [False],\n",
       "       [False],\n",
       "       [False],\n",
       "       [False],\n",
       "       [False],\n",
       "       [False],\n",
       "       [False],\n",
       "       [False],\n",
       "       [ True],\n",
       "       [False],\n",
       "       [False],\n",
       "       [False],\n",
       "       [False],\n",
       "       [False],\n",
       "       [False],\n",
       "       [False],\n",
       "       [False],\n",
       "       [False],\n",
       "       [False],\n",
       "       [False],\n",
       "       [False],\n",
       "       [ True],\n",
       "       [False],\n",
       "       [ True],\n",
       "       [False],\n",
       "       [False],\n",
       "       [ True],\n",
       "       [ True],\n",
       "       [False],\n",
       "       [False],\n",
       "       [False],\n",
       "       [False],\n",
       "       [False],\n",
       "       [False],\n",
       "       [False],\n",
       "       [False],\n",
       "       [ True],\n",
       "       [False],\n",
       "       [False],\n",
       "       [False],\n",
       "       [False],\n",
       "       [False],\n",
       "       [False],\n",
       "       [False],\n",
       "       [False],\n",
       "       [False],\n",
       "       [False],\n",
       "       [False],\n",
       "       [False],\n",
       "       [False],\n",
       "       [False],\n",
       "       [False],\n",
       "       [False],\n",
       "       [False],\n",
       "       [False],\n",
       "       [False],\n",
       "       [False],\n",
       "       [False],\n",
       "       [False],\n",
       "       [False],\n",
       "       [False],\n",
       "       [False],\n",
       "       [False],\n",
       "       [False],\n",
       "       [False],\n",
       "       [False],\n",
       "       [False],\n",
       "       [False],\n",
       "       [False],\n",
       "       [False],\n",
       "       [ True],\n",
       "       [False],\n",
       "       [False],\n",
       "       [False],\n",
       "       [False],\n",
       "       [False],\n",
       "       [False],\n",
       "       [False],\n",
       "       [False],\n",
       "       [False],\n",
       "       [False],\n",
       "       [False],\n",
       "       [False],\n",
       "       [False],\n",
       "       [False],\n",
       "       [False],\n",
       "       [False],\n",
       "       [False],\n",
       "       [False],\n",
       "       [False],\n",
       "       [False],\n",
       "       [False],\n",
       "       [ True],\n",
       "       [False],\n",
       "       [False],\n",
       "       [False],\n",
       "       [False],\n",
       "       [False],\n",
       "       [False],\n",
       "       [False],\n",
       "       [False],\n",
       "       [False],\n",
       "       [False],\n",
       "       [False],\n",
       "       [False],\n",
       "       [False],\n",
       "       [ True],\n",
       "       [False],\n",
       "       [False],\n",
       "       [False],\n",
       "       [False],\n",
       "       [ True],\n",
       "       [ True],\n",
       "       [False],\n",
       "       [False],\n",
       "       [False],\n",
       "       [False],\n",
       "       [False],\n",
       "       [False],\n",
       "       [False],\n",
       "       [False],\n",
       "       [False],\n",
       "       [False],\n",
       "       [False],\n",
       "       [False],\n",
       "       [False],\n",
       "       [False],\n",
       "       [False],\n",
       "       [False],\n",
       "       [False],\n",
       "       [False],\n",
       "       [False],\n",
       "       [False],\n",
       "       [False],\n",
       "       [ True],\n",
       "       [False],\n",
       "       [False],\n",
       "       [False],\n",
       "       [False],\n",
       "       [False],\n",
       "       [False],\n",
       "       [False],\n",
       "       [False],\n",
       "       [False],\n",
       "       [False],\n",
       "       [False],\n",
       "       [False],\n",
       "       [False],\n",
       "       [ True],\n",
       "       [False],\n",
       "       [False],\n",
       "       [False],\n",
       "       [False],\n",
       "       [False]])"
      ]
     },
     "execution_count": 44,
     "metadata": {},
     "output_type": "execute_result"
    }
   ],
   "source": [
    "np.array(gts).reshape(-1, 1)"
   ]
  },
  {
   "cell_type": "code",
   "execution_count": null,
   "metadata": {},
   "outputs": [
    {
     "data": {
      "text/plain": [
       "0.0"
      ]
     },
     "execution_count": 31,
     "metadata": {},
     "output_type": "execute_result"
    }
   ],
   "source": [
    "accuracy_score(np.array(gts), np.array(preds)>0.5)"
   ]
  },
  {
   "cell_type": "code",
   "execution_count": null,
   "metadata": {},
   "outputs": [
    {
     "data": {
      "text/plain": [
       "0.0"
      ]
     },
     "execution_count": 39,
     "metadata": {},
     "output_type": "execute_result"
    }
   ],
   "source": [
    "accuracy_score(np.array(gts)[0:2],np.array(preds)[0:2]>0.5 )\n"
   ]
  },
  {
   "cell_type": "code",
   "execution_count": null,
   "metadata": {},
   "outputs": [
    {
     "data": {
      "text/plain": [
       "array([ True, False, False,  True,  True,  True, False, False, False,\n",
       "        True,  True, False,  True, False])"
      ]
     },
     "execution_count": 36,
     "metadata": {},
     "output_type": "execute_result"
    }
   ],
   "source": []
  },
  {
   "cell_type": "code",
   "execution_count": null,
   "metadata": {},
   "outputs": [
    {
     "data": {
      "text/plain": [
       "0.0"
      ]
     },
     "execution_count": 30,
     "metadata": {},
     "output_type": "execute_result"
    }
   ],
   "source": [
    "accuracy_score(np.array([True]),np.array([0]))"
   ]
  },
  {
   "cell_type": "code",
   "execution_count": null,
   "metadata": {},
   "outputs": [
    {
     "data": {
      "text/plain": [
       "(16, 14)"
      ]
     },
     "execution_count": 26,
     "metadata": {},
     "output_type": "execute_result"
    }
   ],
   "source": [
    "np.array(gts).shape"
   ]
  },
  {
   "cell_type": "code",
   "execution_count": null,
   "metadata": {},
   "outputs": [
    {
     "data": {
      "text/plain": [
       "(16, 14)"
      ]
     },
     "execution_count": 25,
     "metadata": {},
     "output_type": "execute_result"
    }
   ],
   "source": [
    "(np.array(preds)>0.5).shape"
   ]
  },
  {
   "cell_type": "code",
   "execution_count": null,
   "metadata": {},
   "outputs": [],
   "source": [
    "# intersection = np.logical_and(target, prediction)\n",
    "# union = np.logical_or(target, prediction)\n",
    "# iou_score = np.sum(intersection) / np.sum(union)\n"
   ]
  },
  {
   "cell_type": "code",
   "execution_count": null,
   "metadata": {},
   "outputs": [],
   "source": []
  },
  {
   "cell_type": "code",
   "execution_count": null,
   "metadata": {},
   "outputs": [
    {
     "data": {
      "text/plain": [
       "1364"
      ]
     },
     "execution_count": 16,
     "metadata": {},
     "output_type": "execute_result"
    }
   ],
   "source": [
    "np.sum(intersection)"
   ]
  },
  {
   "cell_type": "code",
   "execution_count": null,
   "metadata": {},
   "outputs": [],
   "source": []
  },
  {
   "cell_type": "code",
   "execution_count": null,
   "metadata": {},
   "outputs": [],
   "source": []
  },
  {
   "cell_type": "code",
   "execution_count": null,
   "metadata": {},
   "outputs": [
    {
     "data": {
      "text/plain": [
       "0.0011023300056005477"
      ]
     },
     "execution_count": 22,
     "metadata": {},
     "output_type": "execute_result"
    }
   ],
   "source": []
  },
  {
   "cell_type": "code",
   "execution_count": null,
   "metadata": {},
   "outputs": [],
   "source": []
  },
  {
   "cell_type": "code",
   "execution_count": null,
   "metadata": {},
   "outputs": [],
   "source": [
    "roi_heads = model.task_performers['lesion-detection'].roi_heads"
   ]
  },
  {
   "cell_type": "code",
   "execution_count": null,
   "metadata": {},
   "outputs": [
    {
     "data": {
      "text/plain": [
       "tensor([], device='cuda:0', size=(0, 4))"
      ]
     },
     "execution_count": 12,
     "metadata": {},
     "output_type": "execute_result"
    }
   ],
   "source": [
    "roi_heads.proposals_in_image"
   ]
  },
  {
   "cell_type": "code",
   "execution_count": null,
   "metadata": {},
   "outputs": [
    {
     "data": {
      "text/plain": [
       "tensor([[162.5131, 289.4088, 425.0471, 505.1572],\n",
       "        [162.5131, 289.4088, 425.0471, 505.1572],\n",
       "        [115.7696, 221.5849, 195.0157, 374.9434],\n",
       "        [115.7696, 221.5849, 195.0157, 374.9434]], device='cuda:0',\n",
       "       dtype=torch.float64)"
      ]
     },
     "execution_count": 14,
     "metadata": {},
     "output_type": "execute_result"
    }
   ],
   "source": [
    "roi_heads.gt_boxes_in_image"
   ]
  },
  {
   "cell_type": "code",
   "execution_count": null,
   "metadata": {},
   "outputs": [
    {
     "data": {
      "text/plain": [
       "[tensor([], device='cuda:0', size=(0, 4)),\n",
       " tensor([], device='cuda:0', size=(0, 4)),\n",
       " tensor([], device='cuda:0', size=(0, 4)),\n",
       " tensor([], device='cuda:0', size=(0, 4)),\n",
       " tensor([], device='cuda:0', size=(0, 4)),\n",
       " tensor([], device='cuda:0', size=(0, 4)),\n",
       " tensor([], device='cuda:0', size=(0, 4)),\n",
       " tensor([], device='cuda:0', size=(0, 4)),\n",
       " tensor([], device='cuda:0', size=(0, 4)),\n",
       " tensor([], device='cuda:0', size=(0, 4)),\n",
       " tensor([], device='cuda:0', size=(0, 4)),\n",
       " tensor([], device='cuda:0', size=(0, 4)),\n",
       " tensor([], device='cuda:0', size=(0, 4)),\n",
       " tensor([], device='cuda:0', size=(0, 4)),\n",
       " tensor([], device='cuda:0', size=(0, 4)),\n",
       " tensor([], device='cuda:0', size=(0, 4))]"
      ]
     },
     "execution_count": 13,
     "metadata": {},
     "output_type": "execute_result"
    }
   ],
   "source": [
    "roi_heads.proposals"
   ]
  },
  {
   "cell_type": "code",
   "execution_count": null,
   "metadata": {},
   "outputs": [
    {
     "name": "stdout",
     "output_type": "stream",
     "text": [
      "0\n",
      "0\n",
      "0\n",
      "0\n",
      "0\n",
      "0\n",
      "0\n",
      "0\n",
      "0\n",
      "0\n",
      "0\n",
      "0\n",
      "0\n",
      "0\n",
      "0\n",
      "0\n"
     ]
    }
   ],
   "source": [
    "for p in roi_heads.proposals:\n",
    "  print(p.numel())"
   ]
  },
  {
   "cell_type": "code",
   "execution_count": null,
   "metadata": {},
   "outputs": [
    {
     "data": {
      "text/plain": [
       "[tensor([[162.5131, 289.4088, 425.0471, 505.1572],\n",
       "         [162.5131, 289.4088, 425.0471, 505.1572],\n",
       "         [115.7696, 221.5849, 195.0157, 374.9434],\n",
       "         [115.7696, 221.5849, 195.0157, 374.9434]], device='cuda:0',\n",
       "        dtype=torch.float64),\n",
       " tensor([], device='cuda:0', size=(0, 4), dtype=torch.float64),\n",
       " tensor([], device='cuda:0', size=(0, 4), dtype=torch.float64),\n",
       " tensor([], device='cuda:0', size=(0, 4), dtype=torch.float64),\n",
       " tensor([[298.7225, 249.9623, 467.7696, 374.3396]], device='cuda:0',\n",
       "        dtype=torch.float64),\n",
       " tensor([], device='cuda:0', size=(0, 4), dtype=torch.float64),\n",
       " tensor([[ 48.6149, 247.1398, 191.7589, 370.2372],\n",
       "         [ 48.6149, 247.1398, 191.7589, 370.2372],\n",
       "         [325.2570, 252.1015, 457.2117, 386.3036],\n",
       "         [325.2570, 252.1015, 457.2117, 386.3036]], device='cuda:0',\n",
       "        dtype=torch.float64),\n",
       " tensor([[328.2516, 291.0157, 422.2390, 357.1937],\n",
       "         [328.2516, 291.0157, 422.2390, 357.1937],\n",
       "         [328.2516, 291.0157, 422.2390, 357.1937],\n",
       "         [462.4906, 332.0628, 493.2830, 357.6963],\n",
       "         [462.4906, 332.0628, 493.2830, 357.6963],\n",
       "         [462.4906, 332.0628, 493.2830, 357.6963]], device='cuda:0',\n",
       "        dtype=torch.float64),\n",
       " tensor([[190.9937, 213.6126, 474.3648, 410.3037],\n",
       "         [190.9937, 213.6126, 474.3648, 410.3037],\n",
       "         [ 76.8805, 125.3194, 246.5409, 356.1885],\n",
       "         [ 76.8805, 125.3194, 246.5409, 356.1885],\n",
       "         [308.3270, 146.9319, 483.8239, 404.4398],\n",
       "         [308.3270, 146.9319, 483.8239, 404.4398]], device='cuda:0',\n",
       "        dtype=torch.float64),\n",
       " tensor([], device='cuda:0', size=(0, 4), dtype=torch.float64),\n",
       " tensor([], device='cuda:0', size=(0, 4), dtype=torch.float64),\n",
       " tensor([], device='cuda:0', size=(0, 4), dtype=torch.float64),\n",
       " tensor([], device='cuda:0', size=(0, 4), dtype=torch.float64),\n",
       " tensor([[223.7987, 194.3456, 417.2075, 296.0419]], device='cuda:0',\n",
       "        dtype=torch.float64),\n",
       " tensor([], device='cuda:0', size=(0, 4), dtype=torch.float64),\n",
       " tensor([], device='cuda:0', size=(0, 4), dtype=torch.float64)]"
      ]
     },
     "execution_count": 14,
     "metadata": {},
     "output_type": "execute_result"
    }
   ],
   "source": [
    "roi_heads.gt_boxes"
   ]
  },
  {
   "cell_type": "code",
   "execution_count": null,
   "metadata": {},
   "outputs": [
    {
     "data": {
      "text/plain": [
       "[tensor([1, 2, 1, 2], device='cuda:0'),\n",
       " tensor([], device='cuda:0', dtype=torch.int64),\n",
       " tensor([], device='cuda:0', dtype=torch.int64),\n",
       " tensor([], device='cuda:0', dtype=torch.int64),\n",
       " tensor([4], device='cuda:0'),\n",
       " tensor([], device='cuda:0', dtype=torch.int64),\n",
       " tensor([3, 4, 3, 4], device='cuda:0'),\n",
       " tensor([3, 4, 5, 3, 4, 5], device='cuda:0'),\n",
       " tensor([1, 2, 1, 2, 1, 2], device='cuda:0'),\n",
       " tensor([], device='cuda:0', dtype=torch.int64),\n",
       " tensor([], device='cuda:0', dtype=torch.int64),\n",
       " tensor([], device='cuda:0', dtype=torch.int64),\n",
       " tensor([], device='cuda:0', dtype=torch.int64),\n",
       " tensor([2], device='cuda:0'),\n",
       " tensor([], device='cuda:0', dtype=torch.int64),\n",
       " tensor([], device='cuda:0', dtype=torch.int64)]"
      ]
     },
     "execution_count": 15,
     "metadata": {},
     "output_type": "execute_result"
    }
   ],
   "source": [
    "roi_heads.gt_labels"
   ]
  },
  {
   "cell_type": "code",
   "execution_count": null,
   "metadata": {},
   "outputs": [],
   "source": [
    "roi_heads = model.task_performers['lesion-detection'].roi_heads"
   ]
  },
  {
   "cell_type": "code",
   "execution_count": null,
   "metadata": {},
   "outputs": [],
   "source": [
    "features = list(rpn.features.values())"
   ]
  },
  {
   "cell_type": "code",
   "execution_count": null,
   "metadata": {},
   "outputs": [
    {
     "data": {
      "text/plain": [
       "tensor([[[[ 4.5371e-01,  1.1107e+00,  1.0653e+00,  ...,  1.2993e+00,\n",
       "           -1.5908e-01, -4.0192e-01],\n",
       "          [-1.2164e+00,  1.3239e+00, -1.3515e-01,  ...,  1.0273e+00,\n",
       "            9.6238e-01,  3.1196e-01],\n",
       "          [-2.2418e-01,  1.5499e+00,  8.2599e-01,  ..., -3.0881e-02,\n",
       "            5.2185e-02,  5.7094e-01],\n",
       "          ...,\n",
       "          [ 2.4872e-01,  8.4924e-01,  1.1669e-01,  ..., -1.7784e-01,\n",
       "           -6.6055e-01,  1.0918e+00],\n",
       "          [-8.5080e-02, -5.5585e-01,  7.9283e-01,  ...,  1.5807e-01,\n",
       "           -6.9216e-01,  2.4333e-01],\n",
       "          [-1.4943e-01, -6.1143e-02,  7.3562e-01,  ...,  3.2373e-01,\n",
       "           -2.2353e-01,  3.0162e-01]],\n",
       "\n",
       "         [[-1.5025e+00, -7.3002e-02,  7.3577e-01,  ..., -1.0874e+00,\n",
       "           -3.4808e-01, -2.8470e-01],\n",
       "          [ 1.3282e+00, -2.0872e-01,  3.5579e-01,  ..., -6.6279e-01,\n",
       "            1.0678e-01,  2.2035e+00],\n",
       "          [ 1.6927e+00,  6.3251e-01,  1.6392e+00,  ...,  1.2862e+00,\n",
       "            1.3110e-02,  8.3780e-01],\n",
       "          ...,\n",
       "          [ 1.2797e+00,  1.2531e+00,  8.0858e-01,  ...,  2.2131e+00,\n",
       "            4.0810e-01,  1.1988e+00],\n",
       "          [ 1.6488e+00,  1.1777e+00,  1.7703e+00,  ...,  2.2879e+00,\n",
       "            2.5252e+00, -7.9491e-02],\n",
       "          [ 1.0520e+00,  7.9356e-01,  4.4368e-01,  ...,  2.6787e+00,\n",
       "            1.4081e+00,  3.7822e-01]],\n",
       "\n",
       "         [[-2.8409e-01, -1.5706e+00,  1.2928e+00,  ...,  1.6567e-01,\n",
       "            9.6003e-01, -3.3055e-02],\n",
       "          [-2.7129e-01, -1.7071e+00,  1.7985e-01,  ...,  3.0601e-01,\n",
       "           -3.2515e-01, -1.5684e-01],\n",
       "          [ 5.6226e-01,  2.0045e-01,  1.4278e+00,  ...,  6.5564e-01,\n",
       "           -1.2402e-01,  6.2599e-01],\n",
       "          ...,\n",
       "          [-1.2873e+00, -9.7220e-01, -1.2752e+00,  ..., -1.3231e+00,\n",
       "           -9.8505e-01, -6.3763e-01],\n",
       "          [-7.7633e-01, -5.9955e-01, -3.8767e-01,  ..., -1.1817e+00,\n",
       "           -4.0635e-01, -9.4574e-01],\n",
       "          [-4.3652e-01,  4.0272e-02,  9.2554e-01,  ..., -6.4548e-01,\n",
       "           -2.5212e-01, -6.8697e-01]],\n",
       "\n",
       "         ...,\n",
       "\n",
       "         [[ 6.5209e-01, -2.9819e-01, -7.2513e-01,  ...,  4.6186e-01,\n",
       "           -1.1722e-01,  1.0005e-01],\n",
       "          [ 1.6045e+00,  1.8866e-01,  1.7484e+00,  ..., -1.0264e+00,\n",
       "           -1.0107e+00,  6.2866e-01],\n",
       "          [ 2.2779e+00,  7.7031e-01,  2.0425e+00,  ...,  1.6373e-01,\n",
       "            4.9187e-01,  6.3835e-01],\n",
       "          ...,\n",
       "          [ 1.1580e+00, -1.3364e-01, -4.9358e-01,  ..., -9.9103e-02,\n",
       "           -1.0897e+00, -5.2400e-01],\n",
       "          [ 8.3116e-02,  3.7384e-02, -6.2091e-03,  ..., -4.3237e-02,\n",
       "            1.1192e-01,  1.7334e-01],\n",
       "          [ 3.5878e-01,  1.0904e+00,  1.1079e+00,  ...,  9.4572e-01,\n",
       "            1.1769e+00,  6.4604e-01]],\n",
       "\n",
       "         [[-2.7387e-01,  3.7418e-01,  9.5312e-03,  ...,  3.5806e-02,\n",
       "           -1.0977e+00, -8.3933e-01],\n",
       "          [-2.5819e+00, -7.9309e-01, -1.0303e+00,  ..., -8.6821e-01,\n",
       "           -1.0828e+00,  1.3756e-01],\n",
       "          [-4.3424e-01,  2.9813e-01,  1.7661e-01,  ..., -3.6253e-01,\n",
       "           -6.4435e-01, -2.0763e-01],\n",
       "          ...,\n",
       "          [-7.4767e-01, -8.2794e-01, -4.1243e-01,  ..., -1.0538e+00,\n",
       "           -1.4531e+00, -3.6156e-01],\n",
       "          [-1.0286e+00, -1.0527e+00, -9.9611e-01,  ..., -1.5395e+00,\n",
       "           -1.9597e+00, -3.7241e-01],\n",
       "          [-5.4806e-01, -2.1946e-01, -1.4602e-01,  ...,  4.7626e-01,\n",
       "           -4.7512e-01, -7.0606e-02]],\n",
       "\n",
       "         [[-1.0564e+00,  5.9175e-01, -2.2985e-01,  ...,  7.9592e-01,\n",
       "            8.4510e-01, -2.7955e-01],\n",
       "          [-8.3804e-01,  1.9613e-01,  1.2853e+00,  ...,  7.3756e-01,\n",
       "           -2.3743e-01,  1.4856e+00],\n",
       "          [ 9.9998e-01,  7.0654e-01,  2.5214e+00,  ...,  2.4388e-01,\n",
       "           -1.6462e-02, -1.3153e-01],\n",
       "          ...,\n",
       "          [ 6.5868e-01,  1.6567e-01,  6.9819e-01,  ...,  1.0742e+00,\n",
       "            1.7064e+00, -2.5170e-01],\n",
       "          [ 4.9991e-01,  8.7316e-01,  1.0906e+00,  ...,  1.0627e+00,\n",
       "            6.9609e-01,  6.8655e-02],\n",
       "          [-6.5720e-01, -2.5856e-02,  1.0533e-01,  ..., -2.0850e-01,\n",
       "           -4.7867e-01, -5.7143e-01]]],\n",
       "\n",
       "\n",
       "        [[[ 6.1420e-01,  1.4667e+00,  4.7054e-01,  ...,  1.0939e+00,\n",
       "            1.2459e+00,  1.3132e+00],\n",
       "          [ 5.4692e-02, -5.0019e-01, -5.3466e-01,  ...,  5.0332e-01,\n",
       "            5.8738e-02,  1.5031e+00],\n",
       "          [-1.6833e+00,  4.4312e-02,  4.5128e-01,  ..., -2.3939e-01,\n",
       "            7.7672e-01,  8.8375e-01],\n",
       "          ...,\n",
       "          [ 4.6478e-02, -1.9439e-01, -8.2759e-01,  ...,  6.6902e-01,\n",
       "            7.6088e-01,  5.2547e-01],\n",
       "          [ 6.4967e-01,  4.7516e-01, -1.9052e-01,  ...,  1.4198e+00,\n",
       "           -3.5537e-02,  6.0122e-01],\n",
       "          [ 4.0622e-01,  5.7571e-01,  3.2639e-01,  ...,  1.0164e+00,\n",
       "            6.3348e-01,  2.6506e-01]],\n",
       "\n",
       "         [[-3.8242e-03,  6.2945e-01,  6.7405e-01,  ..., -3.5118e-01,\n",
       "            6.1936e-02,  8.0619e-02],\n",
       "          [-4.6553e-02, -3.2939e-02, -6.8753e-01,  ...,  1.8920e-01,\n",
       "           -1.5509e-01,  1.1792e+00],\n",
       "          [ 9.9036e-01,  1.9437e+00, -3.7174e-01,  ...,  2.4800e+00,\n",
       "           -5.4512e-01, -4.6146e-01],\n",
       "          ...,\n",
       "          [-4.6406e-01,  2.5882e-01,  4.6597e-01,  ...,  1.1662e+00,\n",
       "            6.5277e-01,  8.2416e-01],\n",
       "          [ 1.7902e+00,  8.5600e-01,  6.4824e-01,  ...,  7.2120e-01,\n",
       "            1.8276e+00,  2.0924e-01],\n",
       "          [ 1.9739e+00,  2.0264e+00,  8.1722e-01,  ...,  2.7000e+00,\n",
       "            1.3502e+00,  1.4848e-01]],\n",
       "\n",
       "         [[ 8.7022e-01, -7.9669e-02,  7.1216e-01,  ...,  8.9755e-01,\n",
       "            6.2695e-01, -2.9423e-02],\n",
       "          [-4.0651e-01,  3.2766e-01,  2.2556e-01,  ...,  2.3548e+00,\n",
       "           -6.5773e-03, -5.8630e-03],\n",
       "          [ 1.9727e-01, -1.9517e-01, -3.7542e-01,  ...,  1.5512e+00,\n",
       "            4.2378e-01,  2.2966e+00],\n",
       "          ...,\n",
       "          [-1.1437e-01, -8.6811e-01, -6.4224e-01,  ..., -9.8564e-01,\n",
       "            3.7639e-01,  4.5693e-01],\n",
       "          [ 1.8346e-01,  8.9473e-01,  1.2213e-01,  ..., -1.6532e-01,\n",
       "            2.1709e-01, -2.7813e-01],\n",
       "          [ 5.2056e-01,  7.5291e-01,  8.0684e-01,  ...,  5.4473e-01,\n",
       "            2.2604e-01,  2.4453e-01]],\n",
       "\n",
       "         ...,\n",
       "\n",
       "         [[ 5.4948e-01,  1.4215e-01, -2.3977e-01,  ...,  8.5330e-01,\n",
       "            2.7917e-02,  4.1898e-01],\n",
       "          [ 1.6288e+00, -3.0467e-01,  3.3170e-01,  ...,  1.0220e+00,\n",
       "           -2.5723e-01,  3.3840e-01],\n",
       "          [ 9.0859e-01,  8.7474e-01,  1.5309e+00,  ..., -2.5590e-01,\n",
       "           -7.5614e-02,  1.1675e-01],\n",
       "          ...,\n",
       "          [ 8.0670e-01, -3.1928e-01, -6.5850e-01,  ...,  2.6756e-01,\n",
       "           -3.1391e-01,  8.4512e-01],\n",
       "          [ 4.6365e-01,  1.0895e+00,  3.0992e-01,  ...,  2.1121e+00,\n",
       "            1.9327e+00,  4.7560e-01],\n",
       "          [ 4.1396e-01,  1.0283e+00,  1.6398e+00,  ...,  2.7722e-01,\n",
       "            1.7226e+00,  1.2368e+00]],\n",
       "\n",
       "         [[ 2.2657e-01,  1.1976e-01,  4.2553e-01,  ...,  1.2749e+00,\n",
       "           -5.1065e-01, -1.2798e-01],\n",
       "          [-1.5663e+00,  4.1936e-03, -4.7749e-02,  ..., -4.1918e-01,\n",
       "            5.5701e-01,  1.0451e+00],\n",
       "          [-1.5163e+00,  3.0860e-01, -5.1448e-01,  ..., -6.2246e-01,\n",
       "           -1.4957e+00, -8.4229e-01],\n",
       "          ...,\n",
       "          [ 1.3179e+00,  2.5027e-01,  2.0719e-01,  ...,  4.2095e-01,\n",
       "           -1.4709e+00, -4.9348e-01],\n",
       "          [ 5.1646e-01,  8.0784e-02, -2.5604e-01,  ..., -5.7698e-01,\n",
       "           -8.2786e-01, -1.1581e+00],\n",
       "          [-1.4883e-01, -4.1721e-01, -6.0843e-02,  ...,  8.9975e-01,\n",
       "           -3.5388e-01, -4.8443e-01]],\n",
       "\n",
       "         [[-1.0996e-01,  6.5857e-01,  4.2730e-01,  ...,  1.7497e+00,\n",
       "           -3.6719e-01,  1.2627e-01],\n",
       "          [ 1.7008e+00,  9.2508e-01,  7.3304e-01,  ...,  1.0266e+00,\n",
       "            1.5222e-01,  1.7649e+00],\n",
       "          [ 6.6453e-01,  3.5988e-01, -4.1343e-01,  ...,  6.1606e-01,\n",
       "            1.4782e+00,  1.8578e+00],\n",
       "          ...,\n",
       "          [ 4.1922e-01,  1.2405e+00,  6.9085e-01,  ...,  9.7030e-01,\n",
       "            1.2625e+00,  6.2522e-01],\n",
       "          [-1.6167e-01,  1.5662e+00, -4.2604e-03,  ..., -3.7704e-01,\n",
       "            2.4968e-02,  3.1551e-01],\n",
       "          [-4.9782e-01, -3.9009e-02, -4.2102e-02,  ...,  1.0452e+00,\n",
       "           -2.8698e-02,  2.3636e-01]]],\n",
       "\n",
       "\n",
       "        [[[ 7.5792e-02,  2.1051e+00,  4.3259e-01,  ...,  1.0147e+00,\n",
       "            5.5805e-01,  4.9895e-01],\n",
       "          [-9.5501e-01, -7.6233e-01,  3.3940e-01,  ...,  1.2190e+00,\n",
       "            6.8194e-03,  9.1394e-02],\n",
       "          [ 3.9931e-01,  2.4782e+00,  4.0592e+00,  ...,  4.4976e-01,\n",
       "            9.7639e-01,  2.3360e-01],\n",
       "          ...,\n",
       "          [-1.0303e-01, -5.9365e-01,  3.2463e-01,  ..., -1.3781e-01,\n",
       "           -7.7075e-01,  7.9760e-01],\n",
       "          [-5.6223e-01,  1.7710e-01,  1.6039e+00,  ..., -1.5539e-02,\n",
       "            7.8265e-01,  1.2167e+00],\n",
       "          [-8.0450e-02,  3.8666e-01,  8.2412e-01,  ...,  3.4824e-01,\n",
       "            4.1459e-01,  2.6987e-01]],\n",
       "\n",
       "         [[-6.0458e-01, -7.7216e-01,  4.8824e-01,  ..., -3.2728e-01,\n",
       "            1.1742e-01,  3.1232e-01],\n",
       "          [-2.9253e-01,  4.7107e-01,  3.6807e-01,  ...,  9.8213e-01,\n",
       "           -9.7284e-02,  1.2608e+00],\n",
       "          [ 3.2447e+00,  2.0596e+00,  1.3507e+00,  ...,  1.4608e+00,\n",
       "            5.6261e-01, -6.6388e-02],\n",
       "          ...,\n",
       "          [ 2.7971e-01,  5.6779e-01,  1.3290e+00,  ...,  1.0309e+00,\n",
       "            1.5194e+00,  1.9193e+00],\n",
       "          [ 8.5292e-02,  1.7292e+00,  1.3327e+00,  ...,  1.7041e+00,\n",
       "            3.0083e+00, -7.9247e-02],\n",
       "          [ 1.6837e+00,  5.5841e-01,  6.9634e-01,  ...,  1.9298e+00,\n",
       "            3.2061e-02, -2.2880e-01]],\n",
       "\n",
       "         [[-4.1650e-01, -5.5736e-01, -8.2057e-01,  ...,  8.8571e-02,\n",
       "            5.5086e-01, -2.2891e-02],\n",
       "          [ 2.9356e-01,  2.4829e-01, -7.3841e-01,  ...,  2.6310e-01,\n",
       "            3.5179e-01,  2.7454e-01],\n",
       "          [-2.4870e-01,  1.7818e+00, -4.1955e-01,  ...,  7.4459e-02,\n",
       "            2.7919e-01,  3.8238e-01],\n",
       "          ...,\n",
       "          [ 4.3971e-01,  7.0030e-01,  5.2509e-01,  ..., -9.7768e-02,\n",
       "            2.1887e-01, -2.4277e-01],\n",
       "          [-1.4093e-01,  4.8883e-01,  2.8330e-01,  ...,  4.2086e-01,\n",
       "            1.1887e+00, -3.9041e-02],\n",
       "          [ 1.0015e+00,  1.3302e-01, -3.9090e-01,  ...,  1.2829e-01,\n",
       "            4.9356e-01, -1.2526e-01]],\n",
       "\n",
       "         ...,\n",
       "\n",
       "         [[ 1.0914e+00,  1.6056e+00, -2.7390e+00,  ...,  3.4407e-01,\n",
       "            1.4401e-02,  3.2055e-01],\n",
       "          [ 9.8660e-01,  2.0373e+00,  1.1138e-01,  ...,  4.4740e-01,\n",
       "            7.4692e-01,  1.6386e+00],\n",
       "          [ 1.8526e+00,  9.9998e-01,  2.6514e+00,  ...,  8.4952e-01,\n",
       "            1.8179e-01,  3.7859e-01],\n",
       "          ...,\n",
       "          [-6.9120e-01,  3.2625e-01,  6.8684e-01,  ..., -1.4286e+00,\n",
       "           -1.2406e+00,  9.7871e-01],\n",
       "          [ 3.2177e-01,  7.6303e-01,  4.5975e-01,  ...,  9.4008e-02,\n",
       "            6.0478e-02,  1.9807e-01],\n",
       "          [ 4.0917e-01,  2.0016e+00,  1.2076e+00,  ...,  1.8006e+00,\n",
       "            1.2952e+00,  4.7666e-02]],\n",
       "\n",
       "         [[ 3.0906e-01,  6.9504e-01,  1.5050e+00,  ..., -2.8273e-01,\n",
       "            6.8370e-02,  3.4080e-01],\n",
       "          [-8.8054e-01, -2.1200e+00, -1.3490e+00,  ..., -5.5839e-01,\n",
       "           -6.9524e-01, -4.3325e-01],\n",
       "          [-5.2731e-01, -4.0170e-01, -1.9019e+00,  ..., -6.9805e-01,\n",
       "           -1.0877e+00, -5.9306e-01],\n",
       "          ...,\n",
       "          [-1.0005e+00,  1.2440e+00,  2.1644e-01,  ..., -9.0430e-01,\n",
       "           -9.9568e-01,  1.8072e-01],\n",
       "          [-2.2968e-01,  6.8498e-01, -9.1343e-03,  ..., -7.5433e-01,\n",
       "           -9.8754e-01,  1.2803e-04],\n",
       "          [ 1.7580e-01,  8.2640e-01, -1.1871e-01,  ..., -2.3032e-02,\n",
       "           -4.0117e-01, -1.6952e-02]],\n",
       "\n",
       "         [[ 4.2623e-01, -9.2060e-01,  7.4157e-01,  ...,  1.1758e+00,\n",
       "            3.5946e-01, -2.5900e-01],\n",
       "          [-2.8957e-02,  7.4030e-01,  3.1405e+00,  ...,  5.8144e-01,\n",
       "           -2.3488e-01,  5.9682e-01],\n",
       "          [ 1.2943e+00, -4.3031e-01,  2.3240e+00,  ...,  8.6378e-02,\n",
       "            4.9966e-01,  3.2100e-01],\n",
       "          ...,\n",
       "          [ 1.7656e+00,  9.2820e-01,  4.9677e-01,  ...,  4.5488e-01,\n",
       "           -3.8840e-01,  1.0200e+00],\n",
       "          [ 9.1435e-01,  1.0057e+00,  1.3486e+00,  ...,  5.9450e-01,\n",
       "            1.5100e+00,  4.4264e-01],\n",
       "          [-6.5588e-02,  6.6899e-02,  5.0368e-02,  ..., -7.9513e-01,\n",
       "           -1.6569e-01,  3.6301e-03]]],\n",
       "\n",
       "\n",
       "        ...,\n",
       "\n",
       "\n",
       "        [[[ 4.7861e-01,  3.1005e+00,  1.6096e+00,  ...,  1.9484e+00,\n",
       "            8.4476e-01,  8.8518e-01],\n",
       "          [ 6.8800e-01,  7.6805e-01,  7.7543e-01,  ...,  7.6982e-01,\n",
       "           -1.4213e+00,  8.6628e-01],\n",
       "          [-4.8059e-01,  1.2016e+00,  8.5080e-01,  ..., -4.7617e-01,\n",
       "           -1.3248e+00,  1.0721e+00],\n",
       "          ...,\n",
       "          [ 4.0305e-01,  1.2671e+00,  8.3262e-01,  ...,  1.3451e-01,\n",
       "            9.3531e-01,  1.1906e+00],\n",
       "          [ 1.8573e-01,  4.1035e-02,  1.8149e-03,  ..., -2.5547e-01,\n",
       "           -5.3948e-03,  1.4177e+00],\n",
       "          [ 3.0536e-01,  6.8406e-01,  8.6808e-01,  ...,  4.1777e-01,\n",
       "            5.9963e-01,  5.7569e-01]],\n",
       "\n",
       "         [[-1.0753e+00, -6.5215e-01, -5.8579e-01,  ..., -4.6801e-01,\n",
       "           -3.6754e-01, -1.1417e-01],\n",
       "          [ 1.7151e+00,  7.5123e-02, -6.9217e-01,  ...,  7.3982e-01,\n",
       "            2.6990e-02,  2.3429e+00],\n",
       "          [ 1.4066e+00,  1.0209e+00, -8.5222e-01,  ...,  2.7702e+00,\n",
       "            1.1036e+00,  5.7498e-01],\n",
       "          ...,\n",
       "          [ 2.8321e-01,  9.0170e-01,  6.2875e-01,  ...,  2.5475e-01,\n",
       "           -6.1567e-01,  1.1685e+00],\n",
       "          [ 3.3184e-01,  1.6605e+00,  2.0675e+00,  ...,  1.1909e+00,\n",
       "            1.3176e+00,  2.1428e-01],\n",
       "          [ 8.2868e-01,  3.1132e-01,  3.9179e-01,  ...,  1.4634e+00,\n",
       "            1.0083e+00,  1.0173e-01]],\n",
       "\n",
       "         [[-1.0067e+00, -1.0927e+00, -4.5077e-02,  ..., -4.4982e-02,\n",
       "            2.9174e-01, -6.6780e-01],\n",
       "          [ 3.2544e-01,  1.9674e+00,  8.6220e-01,  ...,  6.4032e-01,\n",
       "            8.0552e-01,  1.4406e+00],\n",
       "          [-2.3249e-01,  6.4229e-01, -5.0265e-01,  ...,  1.4170e+00,\n",
       "           -1.0802e-01,  2.5627e+00],\n",
       "          ...,\n",
       "          [-5.2822e-01,  6.3546e-01, -2.9663e-01,  ...,  1.1962e+00,\n",
       "           -1.5714e-01,  6.0386e-01],\n",
       "          [ 4.5691e-01,  1.2084e+00,  8.2093e-01,  ...,  1.3649e+00,\n",
       "            2.6932e-01, -1.3188e-02],\n",
       "          [ 1.4777e-01,  3.5916e-01,  5.1400e-01,  ..., -6.9733e-01,\n",
       "           -8.0099e-01, -1.9403e-01]],\n",
       "\n",
       "         ...,\n",
       "\n",
       "         [[ 3.7937e-01,  8.1245e-01,  4.7564e-01,  ...,  8.5112e-03,\n",
       "            1.2826e-01, -1.8186e-02],\n",
       "          [ 4.8059e-01, -5.9934e-01,  8.1287e-01,  ...,  1.0262e-01,\n",
       "            2.9848e-01,  3.6612e-01],\n",
       "          [ 7.3872e-01,  1.8437e+00,  1.7581e+00,  ...,  9.9199e-01,\n",
       "            5.8071e-01,  8.7971e-01],\n",
       "          ...,\n",
       "          [ 7.8652e-01, -3.5488e-01, -1.7776e-01,  ..., -5.0579e-01,\n",
       "           -6.3182e-01, -2.8248e-01],\n",
       "          [-1.1347e-01, -2.9791e-02,  6.1223e-02,  ..., -4.5081e-01,\n",
       "           -1.3806e-01,  2.1831e-01],\n",
       "          [-1.9240e-01,  2.6541e-01,  7.4896e-01,  ...,  1.3965e-01,\n",
       "            3.9712e-01,  1.0911e+00]],\n",
       "\n",
       "         [[ 2.3930e-01, -3.9108e-01, -5.2735e-01,  ..., -5.2476e-01,\n",
       "           -3.8049e-01,  4.0079e-01],\n",
       "          [-1.7184e+00, -1.6855e+00, -2.6659e-01,  ..., -3.4403e-01,\n",
       "           -2.2544e-01, -1.7234e+00],\n",
       "          [-1.2083e+00,  9.2469e-01,  1.1215e+00,  ...,  7.3658e-02,\n",
       "           -1.1486e-01, -3.4389e-01],\n",
       "          ...,\n",
       "          [ 3.9794e-01, -2.2055e-01,  1.3267e-01,  ...,  4.4384e-01,\n",
       "           -6.9189e-01, -8.3949e-02],\n",
       "          [-3.0529e-02,  6.5832e-02,  3.0630e-01,  ..., -1.7275e-01,\n",
       "           -1.7886e-01,  6.6849e-03],\n",
       "          [-7.1173e-01, -3.4340e-01,  2.7877e-01,  ..., -1.5752e-01,\n",
       "           -1.4238e-01,  2.2610e-01]],\n",
       "\n",
       "         [[-9.9730e-01, -1.0703e+00, -4.6841e-01,  ...,  2.8372e-01,\n",
       "           -8.1154e-01, -8.8314e-01],\n",
       "          [ 3.5813e-01, -8.3478e-01,  3.0806e-02,  ..., -5.6523e-01,\n",
       "           -8.5334e-01,  9.3389e-01],\n",
       "          [ 1.1578e+00, -3.4204e-01,  7.9370e-01,  ..., -9.2458e-01,\n",
       "            3.0119e-01,  1.1762e+00],\n",
       "          ...,\n",
       "          [ 9.0035e-01,  6.1624e-01, -5.1019e-01,  ...,  1.6007e-02,\n",
       "            1.5396e+00,  1.9089e-02],\n",
       "          [ 1.7337e+00,  1.9195e+00, -1.6662e-04,  ...,  4.7379e-01,\n",
       "            1.3511e+00,  4.9334e-01],\n",
       "          [ 4.9788e-01,  2.2319e-01,  6.3041e-02,  ...,  1.2638e-01,\n",
       "            3.9397e-01, -2.1726e-01]]],\n",
       "\n",
       "\n",
       "        [[[-2.8236e-02,  1.4731e+00,  7.2833e-01,  ...,  4.9254e-01,\n",
       "           -1.2488e-01,  8.1384e-01],\n",
       "          [-4.4136e-01,  2.1551e-02, -4.4826e-01,  ...,  3.4986e-02,\n",
       "            2.0427e+00,  7.1391e-02],\n",
       "          [-6.2595e-02,  5.5835e-01,  1.1269e-01,  ...,  6.2367e-01,\n",
       "            1.9006e+00,  6.1236e-01],\n",
       "          ...,\n",
       "          [-6.0599e-02,  2.1490e-01, -1.6429e-01,  ...,  7.5731e-01,\n",
       "            1.6772e-01,  4.7860e-01],\n",
       "          [ 4.8072e-01,  9.0257e-01,  2.3911e-01,  ...,  9.7843e-01,\n",
       "            6.4850e-02,  1.5259e+00],\n",
       "          [ 8.9611e-01,  1.2133e+00,  3.4090e-01,  ...,  9.0957e-01,\n",
       "            5.5961e-01,  8.6716e-01]],\n",
       "\n",
       "         [[ 1.7748e-01, -1.5844e-01, -3.0230e-01,  ..., -2.2000e+00,\n",
       "           -1.5830e-01,  4.4735e-01],\n",
       "          [ 1.8763e+00,  8.2934e-01, -1.5755e-03,  ..., -2.5757e-01,\n",
       "           -1.6811e-01, -1.0801e+00],\n",
       "          [ 1.5851e+00,  1.5133e+00,  3.8431e-01,  ...,  2.0963e+00,\n",
       "            2.3467e+00,  6.7462e-01],\n",
       "          ...,\n",
       "          [ 9.5010e-02,  9.5688e-01,  6.1366e-01,  ...,  2.6253e+00,\n",
       "            8.4031e-01,  2.5069e+00],\n",
       "          [-8.0360e-02, -3.3320e-01,  1.3415e+00,  ...,  1.2212e+00,\n",
       "            2.3858e+00,  8.2823e-01],\n",
       "          [ 1.6924e+00,  9.7953e-01,  6.3147e-01,  ...,  1.5660e+00,\n",
       "            3.5991e-01, -4.5118e-01]],\n",
       "\n",
       "         [[ 2.0672e-01, -3.7588e-01,  2.8544e-01,  ..., -7.9747e-01,\n",
       "            1.8983e-01, -4.4803e-01],\n",
       "          [-6.5851e-01,  2.5004e-01,  1.8859e-03,  ...,  6.2791e-02,\n",
       "            3.9501e-01,  5.9472e-01],\n",
       "          [-9.4069e-01,  6.3094e-01, -2.9856e-01,  ...,  3.4834e-01,\n",
       "            3.6734e-02,  2.0811e+00],\n",
       "          ...,\n",
       "          [-3.4708e-01,  1.6708e+00,  5.6359e-01,  ...,  1.1158e+00,\n",
       "            5.2688e-01,  3.0311e-01],\n",
       "          [-6.3531e-01,  5.6306e-01, -1.0579e-01,  ..., -6.6176e-01,\n",
       "            1.7399e-01,  2.1873e-01],\n",
       "          [-1.0771e-01,  1.0412e+00,  5.0500e-01,  ...,  6.3180e-01,\n",
       "            1.1795e+00, -2.5755e-01]],\n",
       "\n",
       "         ...,\n",
       "\n",
       "         [[ 3.2399e-01, -2.0675e-01, -2.4548e-01,  ...,  2.1303e+00,\n",
       "           -1.9635e+00, -1.3613e+00],\n",
       "          [ 1.1752e+00, -9.4151e-01,  3.9060e-01,  ...,  1.5178e+00,\n",
       "            1.9975e+00,  6.8213e-01],\n",
       "          [ 3.5422e-01, -4.4303e-01,  3.9602e-01,  ...,  4.1740e-01,\n",
       "            7.5865e-01, -7.9868e-02],\n",
       "          ...,\n",
       "          [ 1.9078e+00, -1.5622e+00,  5.8449e-01,  ..., -8.1565e-02,\n",
       "           -4.1632e-01, -5.2234e-01],\n",
       "          [ 9.4829e-01, -1.3588e-01,  7.3774e-01,  ...,  1.0383e+00,\n",
       "            3.5198e-01,  6.4797e-01],\n",
       "          [ 7.5447e-01,  1.0277e+00,  1.0930e+00,  ...,  5.7960e-01,\n",
       "            1.0754e+00,  9.6515e-01]],\n",
       "\n",
       "         [[-2.3627e-01,  6.1306e-01, -2.5064e-01,  ..., -7.1000e-01,\n",
       "           -1.4184e+00, -3.4577e-01],\n",
       "          [-1.4259e+00, -8.7858e-01, -8.1589e-01,  ..., -1.1565e+00,\n",
       "           -2.8097e+00, -2.6140e+00],\n",
       "          [-7.1583e-01,  1.4339e+00, -7.3818e-01,  ..., -4.5480e-02,\n",
       "           -9.9030e-01, -1.1915e+00],\n",
       "          ...,\n",
       "          [ 1.0762e+00, -1.9328e-02,  1.0033e+00,  ...,  4.0900e-01,\n",
       "           -5.2393e-01, -6.8634e-01],\n",
       "          [-4.3755e-01,  1.3550e-01, -6.6907e-01,  ..., -9.2640e-01,\n",
       "           -9.5895e-01,  4.3103e-01],\n",
       "          [-5.9751e-01, -7.3229e-02, -3.4360e-02,  ...,  5.9915e-01,\n",
       "            6.2762e-02,  5.6490e-01]],\n",
       "\n",
       "         [[ 4.2921e-01,  4.7043e-01,  6.1783e-01,  ..., -5.9388e-01,\n",
       "           -4.5147e-01,  6.3131e-01],\n",
       "          [-1.3139e-01,  8.6786e-01,  1.4192e+00,  ..., -5.5979e-02,\n",
       "            8.7542e-02,  3.4756e-01],\n",
       "          [ 2.0520e+00,  1.8376e+00,  1.6113e-01,  ...,  2.1116e+00,\n",
       "            2.1662e+00,  1.3356e+00],\n",
       "          ...,\n",
       "          [-3.0321e-01,  2.6697e-01, -4.8886e-02,  ...,  3.2373e-01,\n",
       "            6.5926e-01,  1.5778e-01],\n",
       "          [-5.4589e-02, -2.4228e-01, -1.2986e-01,  ...,  8.9674e-01,\n",
       "           -9.2827e-02,  1.4587e-01],\n",
       "          [-7.6195e-01, -6.7499e-01, -3.0842e-01,  ...,  7.3509e-01,\n",
       "            1.5998e-01,  1.3950e-01]]],\n",
       "\n",
       "\n",
       "        [[[ 1.0100e+00,  2.4086e+00,  1.0553e+00,  ...,  1.5592e+00,\n",
       "            8.1043e-01,  1.5857e+00],\n",
       "          [-7.9299e-01,  2.9779e+00,  1.0100e+00,  ...,  1.1149e+00,\n",
       "            1.9904e+00,  2.1036e+00],\n",
       "          [-2.0653e+00,  1.2571e+00,  9.1371e-01,  ...,  1.6563e+00,\n",
       "            1.8871e+00,  1.4965e+00],\n",
       "          ...,\n",
       "          [-3.0498e-01,  1.4600e+00,  6.5717e-01,  ...,  3.2403e-01,\n",
       "            1.7817e+00,  9.6086e-01],\n",
       "          [ 2.6728e-01,  1.4677e+00,  1.0554e+00,  ...,  3.8962e-01,\n",
       "            1.6560e-01,  2.4904e-01],\n",
       "          [-3.2241e-01,  1.3110e+00,  1.2982e-01,  ...,  4.5448e-01,\n",
       "            8.4137e-01,  1.3750e+00]],\n",
       "\n",
       "         [[-2.9976e-01,  1.8743e-01,  4.0388e-01,  ..., -1.6414e-01,\n",
       "            6.4019e-01,  1.5944e-01],\n",
       "          [ 6.8835e-01,  4.4575e-01,  1.3449e-01,  ...,  2.1959e+00,\n",
       "            1.2316e+00,  7.5928e-01],\n",
       "          [ 2.1677e+00,  2.0216e+00, -4.2788e-01,  ...,  1.2756e+00,\n",
       "            5.6142e-01,  7.3871e-01],\n",
       "          ...,\n",
       "          [ 4.6045e-01, -2.4606e-02, -5.4187e-01,  ...,  4.3640e-01,\n",
       "            7.1154e-01,  7.0792e-01],\n",
       "          [ 9.3452e-01,  6.0186e-01,  1.3518e+00,  ...,  9.7165e-01,\n",
       "            3.5666e-01,  6.7003e-01],\n",
       "          [ 2.3335e+00, -3.7452e-01,  1.2897e-01,  ...,  5.9958e-01,\n",
       "            4.0167e-01,  5.3534e-01]],\n",
       "\n",
       "         [[ 7.8451e-02, -9.5814e-01,  1.4845e-01,  ..., -1.7643e-01,\n",
       "            6.8873e-01,  6.2313e-02],\n",
       "          [-4.3526e-01,  1.7059e-01, -9.3393e-01,  ..., -2.2791e-01,\n",
       "           -1.5457e-03,  9.7132e-02],\n",
       "          [ 9.4524e-01,  2.2106e+00, -1.0227e+00,  ...,  5.7651e-02,\n",
       "            1.2455e-01,  1.0176e+00],\n",
       "          ...,\n",
       "          [ 9.9599e-01, -1.2778e+00, -1.5010e+00,  ...,  2.0882e+00,\n",
       "            1.1203e+00,  2.0566e+00],\n",
       "          [ 9.1587e-01, -1.2084e+00, -1.2688e+00,  ...,  6.6176e-01,\n",
       "            1.0490e+00,  7.7229e-01],\n",
       "          [ 5.4003e-01, -8.4773e-01, -3.3213e-01,  ...,  6.3250e-01,\n",
       "            5.9756e-01, -7.7525e-02]],\n",
       "\n",
       "         ...,\n",
       "\n",
       "         [[-1.9636e-01,  3.2362e-01,  3.2977e-01,  ...,  6.0519e-01,\n",
       "           -4.8795e-01, -5.5532e-01],\n",
       "          [ 2.6792e+00, -2.7011e-01,  8.4568e-01,  ..., -3.7369e-01,\n",
       "            1.0065e+00,  1.4916e+00],\n",
       "          [ 2.4504e+00,  1.8556e+00,  2.0015e+00,  ...,  1.4363e+00,\n",
       "            1.5234e+00,  1.3534e+00],\n",
       "          ...,\n",
       "          [ 5.3713e-01,  1.6223e-01, -1.6927e-01,  ..., -1.0499e-01,\n",
       "            4.3364e-01, -1.0313e+00],\n",
       "          [-7.1415e-01, -4.5214e-01,  7.3400e-01,  ...,  1.4347e+00,\n",
       "            1.5322e+00, -3.8202e-01],\n",
       "          [ 7.7210e-02,  2.3543e+00,  1.4569e+00,  ...,  3.9774e-01,\n",
       "            8.2365e-01, -1.1748e+00]],\n",
       "\n",
       "         [[ 6.6967e-01, -6.0367e-01,  9.0298e-01,  ...,  2.3787e-01,\n",
       "           -4.3639e-01, -9.8237e-01],\n",
       "          [-9.1166e-01, -2.5662e+00, -1.4520e+00,  ..., -2.9766e-01,\n",
       "           -8.8799e-01, -1.5754e+00],\n",
       "          [-1.1440e+00, -1.0713e+00, -6.8085e-01,  ..., -1.1092e+00,\n",
       "           -8.3978e-01, -9.8452e-01],\n",
       "          ...,\n",
       "          [ 7.0323e-01, -8.4264e-01,  2.2816e-01,  ...,  2.9383e-01,\n",
       "           -2.1645e-01,  9.1422e-01],\n",
       "          [-2.6627e-01, -3.1701e-01, -1.2757e+00,  ..., -1.4046e-01,\n",
       "            3.2546e-01,  4.7124e-01],\n",
       "          [-4.0127e-01,  4.9750e-01, -8.3089e-01,  ...,  1.4571e+00,\n",
       "            1.6724e+00,  2.0523e-01]],\n",
       "\n",
       "         [[-9.9896e-01, -1.1479e+00, -2.9363e-01,  ...,  1.3321e-01,\n",
       "            1.1629e+00,  9.9968e-03],\n",
       "          [ 1.4427e+00, -2.8473e+00,  2.3023e+00,  ...,  2.2512e-01,\n",
       "            2.2523e-01,  2.8236e-01],\n",
       "          [ 1.9697e-01, -2.5223e+00,  7.6399e-01,  ..., -2.4292e-01,\n",
       "           -1.3313e-01, -1.1213e+00],\n",
       "          ...,\n",
       "          [ 1.2896e+00,  2.2864e+00,  1.0320e+00,  ...,  8.2692e-02,\n",
       "           -1.3071e-01, -3.2863e-01],\n",
       "          [ 1.0732e+00,  8.8955e-01,  1.1713e+00,  ...,  7.1450e-01,\n",
       "            5.1365e-01, -4.0647e-01],\n",
       "          [ 3.1242e-02, -1.0732e+00,  3.2576e-01,  ...,  2.9796e-01,\n",
       "           -2.4198e-01, -2.4515e-02]]]], device='cuda:0',\n",
       "       grad_fn=<AddBackward0>)"
      ]
     },
     "execution_count": 15,
     "metadata": {},
     "output_type": "execute_result"
    }
   ],
   "source": [
    "features[0]"
   ]
  },
  {
   "cell_type": "code",
   "execution_count": null,
   "metadata": {},
   "outputs": [
    {
     "ename": "AttributeError",
     "evalue": "'XAMIRegionProposalNetwork' object has no attribute 'proposals'",
     "output_type": "error",
     "traceback": [
      "\u001b[1;31m---------------------------------------------------------------------------\u001b[0m",
      "\u001b[1;31mAttributeError\u001b[0m                            Traceback (most recent call last)",
      "\u001b[1;32m~\\AppData\\Local\\Temp/ipykernel_3216/2556649896.py\u001b[0m in \u001b[0;36m<module>\u001b[1;34m\u001b[0m\n\u001b[1;32m----> 1\u001b[1;33m \u001b[0mrpn\u001b[0m\u001b[1;33m.\u001b[0m\u001b[0mproposals\u001b[0m\u001b[1;33m\u001b[0m\u001b[1;33m\u001b[0m\u001b[0m\n\u001b[0m",
      "\u001b[1;32mc:\\Users\\mike8\\anaconda3\\envs\\pytorch\\lib\\site-packages\\torch\\nn\\modules\\module.py\u001b[0m in \u001b[0;36m__getattr__\u001b[1;34m(self, name)\u001b[0m\n\u001b[0;32m   1183\u001b[0m             \u001b[1;32mif\u001b[0m \u001b[0mname\u001b[0m \u001b[1;32min\u001b[0m \u001b[0mmodules\u001b[0m\u001b[1;33m:\u001b[0m\u001b[1;33m\u001b[0m\u001b[1;33m\u001b[0m\u001b[0m\n\u001b[0;32m   1184\u001b[0m                 \u001b[1;32mreturn\u001b[0m \u001b[0mmodules\u001b[0m\u001b[1;33m[\u001b[0m\u001b[0mname\u001b[0m\u001b[1;33m]\u001b[0m\u001b[1;33m\u001b[0m\u001b[1;33m\u001b[0m\u001b[0m\n\u001b[1;32m-> 1185\u001b[1;33m         raise AttributeError(\"'{}' object has no attribute '{}'\".format(\n\u001b[0m\u001b[0;32m   1186\u001b[0m             type(self).__name__, name))\n\u001b[0;32m   1187\u001b[0m \u001b[1;33m\u001b[0m\u001b[0m\n",
      "\u001b[1;31mAttributeError\u001b[0m: 'XAMIRegionProposalNetwork' object has no attribute 'proposals'"
     ]
    }
   ],
   "source": [
    "rpn.proposals"
   ]
  },
  {
   "cell_type": "code",
   "execution_count": null,
   "metadata": {},
   "outputs": [
    {
     "data": {
      "text/plain": [
       "torch.Size([16, 15, 16, 16])"
      ]
     },
     "execution_count": 17,
     "metadata": {},
     "output_type": "execute_result"
    }
   ],
   "source": [
    "rpn.objectness[0].shape"
   ]
  },
  {
   "cell_type": "code",
   "execution_count": null,
   "metadata": {},
   "outputs": [
    {
     "data": {
      "text/plain": [
       "3840"
      ]
     },
     "execution_count": 18,
     "metadata": {},
     "output_type": "execute_result"
    }
   ],
   "source": [
    "16*16*15"
   ]
  },
  {
   "cell_type": "code",
   "execution_count": null,
   "metadata": {},
   "outputs": [],
   "source": [
    "num_anchors_per_level_shape_tensors = [o[0].shape for o in rpn.objectness]\n"
   ]
  },
  {
   "cell_type": "code",
   "execution_count": null,
   "metadata": {},
   "outputs": [
    {
     "data": {
      "text/plain": [
       "[torch.Size([15, 16, 16])]"
      ]
     },
     "execution_count": 14,
     "metadata": {},
     "output_type": "execute_result"
    }
   ],
   "source": [
    "num_anchors_per_level_shape_tensors"
   ]
  },
  {
   "cell_type": "code",
   "execution_count": null,
   "metadata": {},
   "outputs": [
    {
     "data": {
      "text/plain": [
       "torch.Size([16, 64, 16, 16])"
      ]
     },
     "execution_count": 14,
     "metadata": {},
     "output_type": "execute_result"
    }
   ],
   "source": [
    "rpn.features['0'].shape"
   ]
  },
  {
   "cell_type": "code",
   "execution_count": null,
   "metadata": {},
   "outputs": [
    {
     "data": {
      "text/plain": [
       "1"
      ]
     },
     "execution_count": 14,
     "metadata": {},
     "output_type": "execute_result"
    }
   ],
   "source": [
    "rpn.num_images"
   ]
  },
  {
   "cell_type": "code",
   "execution_count": null,
   "metadata": {},
   "outputs": [
    {
     "data": {
      "text/plain": [
       "torch.Size([1, 61440, 4])"
      ]
     },
     "execution_count": 13,
     "metadata": {},
     "output_type": "execute_result"
    }
   ],
   "source": [
    "rpn.proposals.shape"
   ]
  },
  {
   "cell_type": "code",
   "execution_count": null,
   "metadata": {},
   "outputs": [
    {
     "data": {
      "text/plain": [
       "torch.Size([])"
      ]
     },
     "execution_count": 24,
     "metadata": {},
     "output_type": "execute_result"
    }
   ],
   "source": [
    "rpn.objectness[0][0].shape"
   ]
  },
  {
   "cell_type": "code",
   "execution_count": null,
   "metadata": {},
   "outputs": [
    {
     "data": {
      "text/plain": [
       "torch.Size([16, 64, 16, 16])"
      ]
     },
     "execution_count": 18,
     "metadata": {},
     "output_type": "execute_result"
    }
   ],
   "source": [
    "rpn.features['0'].shape\n",
    "\n",
    "# 3840 came from?"
   ]
  },
  {
   "cell_type": "code",
   "execution_count": null,
   "metadata": {},
   "outputs": [
    {
     "data": {
      "text/plain": [
       "16"
      ]
     },
     "execution_count": 19,
     "metadata": {},
     "output_type": "execute_result"
    }
   ],
   "source": [
    "len(rpn.features['0'])"
   ]
  },
  {
   "cell_type": "code",
   "execution_count": null,
   "metadata": {},
   "outputs": [
    {
     "data": {
      "text/plain": [
       "[3840]"
      ]
     },
     "execution_count": 20,
     "metadata": {},
     "output_type": "execute_result"
    }
   ],
   "source": [
    "rpn.num_anchors_per_level"
   ]
  },
  {
   "cell_type": "code",
   "execution_count": null,
   "metadata": {},
   "outputs": [
    {
     "data": {
      "text/plain": [
       "torch.Size([61440, 1])"
      ]
     },
     "execution_count": 25,
     "metadata": {},
     "output_type": "execute_result"
    }
   ],
   "source": [
    "rpn.objectness.shape"
   ]
  },
  {
   "cell_type": "code",
   "execution_count": null,
   "metadata": {},
   "outputs": [
    {
     "data": {
      "text/plain": [
       "[{'lesion-detection': {'boxes': tensor([], device='cuda:0', size=(0, 4), dtype=torch.float64),\n",
       "   'labels': tensor([], device='cuda:0', dtype=torch.int64),\n",
       "   'image_id': tensor([277], device='cuda:0'),\n",
       "   'area': tensor([], device='cuda:0', dtype=torch.float64),\n",
       "   'iscrowd': tensor([], device='cuda:0', dtype=torch.int64),\n",
       "   'dicom_id': 'd1ba2452-7b220f77-f6c95da1-609c2166-eddc3a3a',\n",
       "   'image_path': 'D:\\\\mimic-eye\\\\patient_13649350\\\\CXR-JPG\\\\s53326963\\\\d1ba2452-7b220f77-f6c95da1-609c2166-eddc3a3a.jpg',\n",
       "   'original_image_sizes': (3056, 2544)},\n",
       "  'chexpert-classification': {'classifications': tensor([0., 0., 0., 0., 0., 0., 0., 0., 1., 0., 0., 0., 0., 0.],\n",
       "          device='cuda:0', dtype=torch.float64)},\n",
       "  'negbio-classification': {'classifications': tensor([0., 0., 0., 0., 0., 0., 0., 0., 1., 0., 0., 0., 0., 0.],\n",
       "          device='cuda:0', dtype=torch.float64)},\n",
       "  'fixation-generation': {'heatmaps': tensor([[[0, 0, 0,  ..., 0, 0, 0],\n",
       "            [0, 0, 0,  ..., 0, 0, 0],\n",
       "            [0, 0, 0,  ..., 0, 0, 0],\n",
       "            ...,\n",
       "            [0, 0, 0,  ..., 0, 0, 0],\n",
       "            [0, 0, 0,  ..., 0, 0, 0],\n",
       "            [0, 0, 0,  ..., 0, 0, 0]]], device='cuda:0', dtype=torch.uint8)}},\n",
       " {'lesion-detection': {'boxes': tensor([], device='cuda:0', size=(0, 4), dtype=torch.float64),\n",
       "   'labels': tensor([], device='cuda:0', dtype=torch.int64),\n",
       "   'image_id': tensor([519], device='cuda:0'),\n",
       "   'area': tensor([], device='cuda:0', dtype=torch.float64),\n",
       "   'iscrowd': tensor([], device='cuda:0', dtype=torch.int64),\n",
       "   'dicom_id': 'da0200fa-6fb7c4e1-ac51e58e-7726116f-77a3c906',\n",
       "   'image_path': 'D:\\\\mimic-eye\\\\patient_17932059\\\\CXR-JPG\\\\s57178148\\\\da0200fa-6fb7c4e1-ac51e58e-7726116f-77a3c906.jpg',\n",
       "   'original_image_sizes': (3056, 2544)},\n",
       "  'chexpert-classification': {'classifications': tensor([0., 0., 0., 0., 0., 0., 0., 0., 1., 0., 0., 0., 0., 0.],\n",
       "          device='cuda:0', dtype=torch.float64)},\n",
       "  'negbio-classification': {'classifications': tensor([0., 0., 0., 0., 0., 0., 0., 0., 1., 0., 0., 0., 0., 0.],\n",
       "          device='cuda:0', dtype=torch.float64)},\n",
       "  'fixation-generation': {'heatmaps': tensor([[[0, 0, 0,  ..., 0, 0, 0],\n",
       "            [0, 0, 0,  ..., 0, 0, 0],\n",
       "            [0, 0, 0,  ..., 0, 0, 0],\n",
       "            ...,\n",
       "            [0, 0, 0,  ..., 0, 0, 0],\n",
       "            [0, 0, 0,  ..., 0, 0, 0],\n",
       "            [0, 0, 0,  ..., 0, 0, 0]]], device='cuda:0', dtype=torch.uint8)}},\n",
       " {'lesion-detection': {'boxes': tensor([], device='cuda:0', size=(0, 4), dtype=torch.float64),\n",
       "   'labels': tensor([], device='cuda:0', dtype=torch.int64),\n",
       "   'image_id': tensor([45], device='cuda:0'),\n",
       "   'area': tensor([], device='cuda:0', dtype=torch.float64),\n",
       "   'iscrowd': tensor([], device='cuda:0', dtype=torch.int64),\n",
       "   'dicom_id': '933ffae8-c244fef5-e9b5e339-55dee712-e29032e4',\n",
       "   'image_path': 'D:\\\\mimic-eye\\\\patient_14883411\\\\CXR-JPG\\\\s52100883\\\\933ffae8-c244fef5-e9b5e339-55dee712-e29032e4.jpg',\n",
       "   'original_image_sizes': (3056, 2544)},\n",
       "  'chexpert-classification': {'classifications': tensor([0., 0., 0., 0., 0., 0., 1., 1., 0., 0., 0., 0., 0., 0.],\n",
       "          device='cuda:0', dtype=torch.float64)},\n",
       "  'negbio-classification': {'classifications': tensor([0., 0., 0., 0., 0., 0., 1., 1., 0., 0., 0., 0., 0., 0.],\n",
       "          device='cuda:0', dtype=torch.float64)},\n",
       "  'fixation-generation': {'heatmaps': tensor([[[0, 0, 0,  ..., 0, 0, 0],\n",
       "            [0, 0, 0,  ..., 0, 0, 0],\n",
       "            [0, 0, 0,  ..., 0, 0, 0],\n",
       "            ...,\n",
       "            [0, 0, 0,  ..., 0, 0, 0],\n",
       "            [0, 0, 0,  ..., 0, 0, 0],\n",
       "            [0, 0, 0,  ..., 0, 0, 0]]], device='cuda:0', dtype=torch.uint8)}},\n",
       " {'lesion-detection': {'boxes': tensor([[ 32.4025, 368.7539, 151.7484, 422.3665],\n",
       "           [ 32.4025, 368.7539, 151.7484, 422.3665],\n",
       "           [ 32.4025, 368.7539, 151.7484, 422.3665],\n",
       "           [ 49.3082, 295.8743, 321.0063, 429.9058],\n",
       "           [ 49.3082, 295.8743, 321.0063, 429.9058],\n",
       "           [ 49.3082, 295.8743, 321.0063, 429.9058]], device='cuda:0',\n",
       "          dtype=torch.float64),\n",
       "   'labels': tensor([2, 3, 4, 2, 3, 4], device='cuda:0'),\n",
       "   'image_id': tensor([326], device='cuda:0'),\n",
       "   'area': tensor([ 189760.,  189760.,  189760., 1080000., 1080000., 1080000.],\n",
       "          device='cuda:0', dtype=torch.float64),\n",
       "   'iscrowd': tensor([0, 0, 0, 0, 0, 0], device='cuda:0'),\n",
       "   'dicom_id': '82043e9e-dc650774-246cc5bd-efb75286-bebc4801',\n",
       "   'image_path': 'D:\\\\mimic-eye\\\\patient_14565211\\\\CXR-JPG\\\\s50174269\\\\82043e9e-dc650774-246cc5bd-efb75286-bebc4801.jpg',\n",
       "   'original_image_sizes': (3056, 2544)},\n",
       "  'chexpert-classification': {'classifications': tensor([0., 0., 0., 0., 0., 0., 0., 0., 1., 0., 0., 0., 0., 1.],\n",
       "          device='cuda:0', dtype=torch.float64)},\n",
       "  'negbio-classification': {'classifications': tensor([0., 0., 0., 0., 0., 0., 0., 0., 1., 0., 0., 0., 0., 1.],\n",
       "          device='cuda:0', dtype=torch.float64)},\n",
       "  'fixation-generation': {'heatmaps': tensor([[[0, 0, 0,  ..., 0, 0, 0],\n",
       "            [0, 0, 0,  ..., 0, 0, 0],\n",
       "            [0, 0, 0,  ..., 0, 0, 0],\n",
       "            ...,\n",
       "            [0, 0, 0,  ..., 0, 0, 0],\n",
       "            [0, 0, 0,  ..., 0, 0, 0],\n",
       "            [0, 0, 0,  ..., 0, 0, 0]]], device='cuda:0', dtype=torch.uint8)}},\n",
       " {'lesion-detection': {'boxes': tensor([], device='cuda:0', size=(0, 4), dtype=torch.float64),\n",
       "   'labels': tensor([], device='cuda:0', dtype=torch.int64),\n",
       "   'image_id': tensor([243], device='cuda:0'),\n",
       "   'area': tensor([], device='cuda:0', dtype=torch.float64),\n",
       "   'iscrowd': tensor([], device='cuda:0', dtype=torch.int64),\n",
       "   'dicom_id': 'b75308f1-fcfc829f-fb0f7ba1-03f4166a-461551a1',\n",
       "   'image_path': 'D:\\\\mimic-eye\\\\patient_12945136\\\\CXR-JPG\\\\s53401254\\\\b75308f1-fcfc829f-fb0f7ba1-03f4166a-461551a1.jpg',\n",
       "   'original_image_sizes': (2544, 3056)},\n",
       "  'chexpert-classification': {'classifications': tensor([-1.,  0.,  0.,  0.,  0.,  0.,  0.,  1.,  0.,  0.,  0., -1.,  0.,  0.],\n",
       "          device='cuda:0', dtype=torch.float64)},\n",
       "  'negbio-classification': {'classifications': tensor([-1.,  0.,  0.,  0.,  0.,  0.,  0.,  1.,  0.,  0.,  0., -1.,  0.,  0.],\n",
       "          device='cuda:0', dtype=torch.float64)},\n",
       "  'fixation-generation': {'heatmaps': tensor([[[0, 0, 0,  ..., 0, 0, 0],\n",
       "            [0, 0, 0,  ..., 0, 0, 0],\n",
       "            [0, 0, 0,  ..., 0, 0, 0],\n",
       "            ...,\n",
       "            [0, 0, 0,  ..., 0, 0, 0],\n",
       "            [0, 0, 0,  ..., 0, 0, 0],\n",
       "            [0, 0, 0,  ..., 0, 0, 0]]], device='cuda:0', dtype=torch.uint8)}},\n",
       " {'lesion-detection': {'boxes': tensor([[ 32.6038, 226.6628, 338.5157, 414.8321],\n",
       "           [ 32.6038, 226.6628, 338.5157, 414.8321],\n",
       "           [ 67.6226, 179.2000, 127.3962, 277.8628],\n",
       "           [ 67.6226, 179.2000, 127.3962, 277.8628]], device='cuda:0',\n",
       "          dtype=torch.float64),\n",
       "   'labels': tensor([1, 2, 1, 2], device='cuda:0'),\n",
       "   'image_id': tensor([489], device='cuda:0'),\n",
       "   'area': tensor([1530640., 1530640.,  156816.,  156816.], device='cuda:0',\n",
       "          dtype=torch.float64),\n",
       "   'iscrowd': tensor([0, 0, 0, 0], device='cuda:0'),\n",
       "   'dicom_id': '6ff741e9-6ea01eef-1bf10153-d1b6beba-590b6620',\n",
       "   'image_path': 'D:\\\\mimic-eye\\\\patient_17340686\\\\CXR-JPG\\\\s55469953\\\\6ff741e9-6ea01eef-1bf10153-d1b6beba-590b6620.jpg',\n",
       "   'original_image_sizes': (2740, 2544)},\n",
       "  'chexpert-classification': {'classifications': tensor([0., 0., 0., 0., 0., 0., 0., 0., 1., 0., 0., 0., 0., 0.],\n",
       "          device='cuda:0', dtype=torch.float64)},\n",
       "  'negbio-classification': {'classifications': tensor([0., 0., 0., 0., 0., 0., 0., 0., 1., 0., 0., 0., 0., 0.],\n",
       "          device='cuda:0', dtype=torch.float64)},\n",
       "  'fixation-generation': {'heatmaps': tensor([[[0, 0, 0,  ..., 0, 0, 0],\n",
       "            [0, 0, 0,  ..., 0, 0, 0],\n",
       "            [0, 0, 0,  ..., 0, 0, 0],\n",
       "            ...,\n",
       "            [0, 0, 0,  ..., 0, 0, 0],\n",
       "            [0, 0, 0,  ..., 0, 0, 0],\n",
       "            [0, 0, 0,  ..., 0, 0, 0]]], device='cuda:0', dtype=torch.uint8)}},\n",
       " {'lesion-detection': {'boxes': tensor([[286.1887, 193.3403, 467.3207, 370.4293],\n",
       "           [286.1887, 193.3403, 467.3207, 370.4293],\n",
       "           [ 66.4151, 201.0471, 216.7547, 357.1937],\n",
       "           [ 66.4151, 201.0471, 216.7547, 357.1937],\n",
       "           [ 51.3208, 218.4712, 216.7547, 293.8639],\n",
       "           [ 51.3208, 218.4712, 216.7547, 293.8639]], device='cuda:0',\n",
       "          dtype=torch.float64),\n",
       "   'labels': tensor([3, 5, 3, 5, 3, 5], device='cuda:0'),\n",
       "   'image_id': tensor([571], device='cuda:0'),\n",
       "   'area': tensor([951300., 951300., 696204., 696204., 369900., 369900.], device='cuda:0',\n",
       "          dtype=torch.float64),\n",
       "   'iscrowd': tensor([0, 0, 0, 0, 0, 0], device='cuda:0'),\n",
       "   'dicom_id': '9a16c5f7-7ba13838-cb2108b1-8447237f-9a2aba45',\n",
       "   'image_path': 'D:\\\\mimic-eye\\\\patient_18867724\\\\CXR-JPG\\\\s51055214\\\\9a16c5f7-7ba13838-cb2108b1-8447237f-9a2aba45.jpg',\n",
       "   'original_image_sizes': (3056, 2544)},\n",
       "  'chexpert-classification': {'classifications': tensor([0., 0., 0., 0., 0., 0., 0., 1., 0., 1., 0., 0., 1., 1.],\n",
       "          device='cuda:0', dtype=torch.float64)},\n",
       "  'negbio-classification': {'classifications': tensor([0., 0., 0., 0., 0., 0., 0., 1., 0., 1., 0., 0., 1., 1.],\n",
       "          device='cuda:0', dtype=torch.float64)},\n",
       "  'fixation-generation': {'heatmaps': tensor([[[0, 0, 0,  ..., 0, 0, 0],\n",
       "            [0, 0, 0,  ..., 0, 0, 0],\n",
       "            [0, 0, 0,  ..., 0, 0, 0],\n",
       "            ...,\n",
       "            [0, 0, 0,  ..., 0, 0, 0],\n",
       "            [0, 0, 0,  ..., 0, 0, 0],\n",
       "            [0, 0, 0,  ..., 0, 0, 0]]], device='cuda:0', dtype=torch.uint8)}},\n",
       " {'lesion-detection': {'boxes': tensor([], device='cuda:0', size=(0, 4), dtype=torch.float64),\n",
       "   'labels': tensor([], device='cuda:0', dtype=torch.int64),\n",
       "   'image_id': tensor([65], device='cuda:0'),\n",
       "   'area': tensor([], device='cuda:0', dtype=torch.float64),\n",
       "   'iscrowd': tensor([], device='cuda:0', dtype=torch.int64),\n",
       "   'dicom_id': 'd0bb6089-432c8528-657f7f07-8108422b-95736c36',\n",
       "   'image_path': 'D:\\\\mimic-eye\\\\patient_11411448\\\\CXR-JPG\\\\s50086672\\\\d0bb6089-432c8528-657f7f07-8108422b-95736c36.jpg',\n",
       "   'original_image_sizes': (3056, 2544)},\n",
       "  'chexpert-classification': {'classifications': tensor([0., 0., 0., 0., 0., 0., 0., 0., 1., 0., 0., 0., 0., 0.],\n",
       "          device='cuda:0', dtype=torch.float64)},\n",
       "  'negbio-classification': {'classifications': tensor([0., 0., 0., 0., 0., 0., 0., 0., 1., 0., 0., 0., 0., 0.],\n",
       "          device='cuda:0', dtype=torch.float64)},\n",
       "  'fixation-generation': {'heatmaps': tensor([[[0, 0, 0,  ..., 0, 0, 0],\n",
       "            [0, 0, 0,  ..., 0, 0, 0],\n",
       "            [0, 0, 0,  ..., 0, 0, 0],\n",
       "            ...,\n",
       "            [0, 0, 0,  ..., 0, 0, 0],\n",
       "            [0, 0, 0,  ..., 0, 0, 0],\n",
       "            [0, 0, 0,  ..., 0, 0, 0]]], device='cuda:0', dtype=torch.uint8)}},\n",
       " {'lesion-detection': {'boxes': tensor([], device='cuda:0', size=(0, 4), dtype=torch.float64),\n",
       "   'labels': tensor([], device='cuda:0', dtype=torch.int64),\n",
       "   'image_id': tensor([397], device='cuda:0'),\n",
       "   'area': tensor([], device='cuda:0', dtype=torch.float64),\n",
       "   'iscrowd': tensor([], device='cuda:0', dtype=torch.int64),\n",
       "   'dicom_id': '68928905-a794628f-6cc99983-d4a727ec-2de08e46',\n",
       "   'image_path': 'D:\\\\mimic-eye\\\\patient_15693399\\\\CXR-JPG\\\\s51840722\\\\68928905-a794628f-6cc99983-d4a727ec-2de08e46.jpg',\n",
       "   'original_image_sizes': (3056, 2544)},\n",
       "  'chexpert-classification': {'classifications': tensor([-1.,  0.,  0.,  0.,  0.,  0.,  0., -1.,  0.,  0.,  0., -1.,  0.,  0.],\n",
       "          device='cuda:0', dtype=torch.float64)},\n",
       "  'negbio-classification': {'classifications': tensor([-1.,  0.,  0.,  0.,  0.,  0.,  0., -1.,  0.,  0.,  0., -1.,  0.,  0.],\n",
       "          device='cuda:0', dtype=torch.float64)},\n",
       "  'fixation-generation': {'heatmaps': tensor([[[0, 0, 0,  ..., 0, 0, 0],\n",
       "            [0, 0, 0,  ..., 0, 0, 0],\n",
       "            [0, 0, 0,  ..., 0, 0, 0],\n",
       "            ...,\n",
       "            [0, 0, 0,  ..., 0, 0, 0],\n",
       "            [0, 0, 0,  ..., 0, 0, 0],\n",
       "            [0, 0, 0,  ..., 0, 0, 0]]], device='cuda:0', dtype=torch.uint8)}},\n",
       " {'lesion-detection': {'boxes': tensor([], device='cuda:0', size=(0, 4), dtype=torch.float64),\n",
       "   'labels': tensor([], device='cuda:0', dtype=torch.int64),\n",
       "   'image_id': tensor([485], device='cuda:0'),\n",
       "   'area': tensor([], device='cuda:0', dtype=torch.float64),\n",
       "   'iscrowd': tensor([], device='cuda:0', dtype=torch.int64),\n",
       "   'dicom_id': '87867918-6b303490-a0d567eb-76f974be-03cb41dc',\n",
       "   'image_path': 'D:\\\\mimic-eye\\\\patient_17287323\\\\CXR-JPG\\\\s53664965\\\\87867918-6b303490-a0d567eb-76f974be-03cb41dc.jpg',\n",
       "   'original_image_sizes': (2620, 2380)},\n",
       "  'chexpert-classification': {'classifications': tensor([ 0.,  0.,  0.,  0.,  0.,  0.,  0.,  0.,  0., -1.,  0.,  0.,  0.,  0.],\n",
       "          device='cuda:0', dtype=torch.float64)},\n",
       "  'negbio-classification': {'classifications': tensor([ 0.,  0.,  0.,  0.,  0.,  0.,  0.,  0.,  0., -1.,  0.,  0.,  0.,  0.],\n",
       "          device='cuda:0', dtype=torch.float64)},\n",
       "  'fixation-generation': {'heatmaps': tensor([[[0, 0, 0,  ..., 0, 0, 0],\n",
       "            [0, 0, 0,  ..., 0, 0, 0],\n",
       "            [0, 0, 0,  ..., 0, 0, 0],\n",
       "            ...,\n",
       "            [0, 0, 0,  ..., 0, 0, 0],\n",
       "            [0, 0, 0,  ..., 0, 0, 0],\n",
       "            [0, 0, 0,  ..., 0, 0, 0]]], device='cuda:0', dtype=torch.uint8)}},\n",
       " {'lesion-detection': {'boxes': tensor([], device='cuda:0', size=(0, 4), dtype=torch.float64),\n",
       "   'labels': tensor([], device='cuda:0', dtype=torch.int64),\n",
       "   'image_id': tensor([628], device='cuda:0'),\n",
       "   'area': tensor([], device='cuda:0', dtype=torch.float64),\n",
       "   'iscrowd': tensor([], device='cuda:0', dtype=torch.int64),\n",
       "   'dicom_id': 'a2a80c63-8b9575dc-bc08895e-40392d6a-d7fc17d5',\n",
       "   'image_path': 'D:\\\\mimic-eye\\\\patient_19884194\\\\CXR-JPG\\\\s57912042\\\\a2a80c63-8b9575dc-bc08895e-40392d6a-d7fc17d5.jpg',\n",
       "   'original_image_sizes': (3056, 2544)},\n",
       "  'chexpert-classification': {'classifications': tensor([1., 0., 0., 0., 0., 0., 0., 0., 0., 0., 0., 0., 0., 0.],\n",
       "          device='cuda:0', dtype=torch.float64)},\n",
       "  'negbio-classification': {'classifications': tensor([1., 0., 0., 0., 0., 0., 0., 0., 0., 0., 0., 0., 0., 0.],\n",
       "          device='cuda:0', dtype=torch.float64)},\n",
       "  'fixation-generation': {'heatmaps': tensor([[[0, 0, 0,  ..., 0, 0, 0],\n",
       "            [0, 0, 0,  ..., 0, 0, 0],\n",
       "            [0, 0, 0,  ..., 0, 0, 0],\n",
       "            ...,\n",
       "            [0, 0, 0,  ..., 0, 0, 0],\n",
       "            [0, 0, 0,  ..., 0, 0, 0],\n",
       "            [0, 0, 0,  ..., 0, 0, 0]]], device='cuda:0', dtype=torch.uint8)}},\n",
       " {'lesion-detection': {'boxes': tensor([], device='cuda:0', size=(0, 4), dtype=torch.float64),\n",
       "   'labels': tensor([], device='cuda:0', dtype=torch.int64),\n",
       "   'image_id': tensor([158], device='cuda:0'),\n",
       "   'area': tensor([], device='cuda:0', dtype=torch.float64),\n",
       "   'iscrowd': tensor([], device='cuda:0', dtype=torch.int64),\n",
       "   'dicom_id': 'c8923b56-a5f3ed30-b5d81c84-de124b84-18e99359',\n",
       "   'image_path': 'D:\\\\mimic-eye\\\\patient_11242664\\\\CXR-JPG\\\\s58590611\\\\c8923b56-a5f3ed30-b5d81c84-de124b84-18e99359.jpg',\n",
       "   'original_image_sizes': (3056, 2544)},\n",
       "  'chexpert-classification': {'classifications': tensor([0., 0., 0., 0., 0., 0., 0., 0., 1., 0., 0., 0., 0., 0.],\n",
       "          device='cuda:0', dtype=torch.float64)},\n",
       "  'negbio-classification': {'classifications': tensor([0., 0., 0., 0., 0., 0., 0., 0., 1., 0., 0., 0., 0., 0.],\n",
       "          device='cuda:0', dtype=torch.float64)},\n",
       "  'fixation-generation': {'heatmaps': tensor([[[0, 0, 0,  ..., 0, 0, 0],\n",
       "            [0, 0, 0,  ..., 0, 0, 0],\n",
       "            [0, 0, 0,  ..., 0, 0, 0],\n",
       "            ...,\n",
       "            [0, 0, 0,  ..., 0, 0, 0],\n",
       "            [0, 0, 0,  ..., 0, 0, 0],\n",
       "            [0, 0, 0,  ..., 0, 0, 0]]], device='cuda:0', dtype=torch.uint8)}},\n",
       " {'lesion-detection': {'boxes': tensor([[141.2830, 208.4189, 423.6478, 379.4764],\n",
       "           [141.2830, 208.4189, 423.6478, 379.4764],\n",
       "           [345.7610, 161.1728, 448.2012, 252.6492],\n",
       "           [345.7610, 161.1728, 448.2012, 252.6492]], device='cuda:0',\n",
       "          dtype=torch.float64),\n",
       "   'labels': tensor([1, 2, 1, 2], device='cuda:0'),\n",
       "   'image_id': tensor([330], device='cuda:0'),\n",
       "   'area': tensor([1432463., 1432463.,  277914.,  277914.], device='cuda:0',\n",
       "          dtype=torch.float64),\n",
       "   'iscrowd': tensor([0, 0, 0, 0], device='cuda:0'),\n",
       "   'dicom_id': 'e79701bb-06d633be-d81b225d-48711948-0ae8ebe8',\n",
       "   'image_path': 'D:\\\\mimic-eye\\\\patient_14596516\\\\CXR-JPG\\\\s53438810\\\\e79701bb-06d633be-d81b225d-48711948-0ae8ebe8.jpg',\n",
       "   'original_image_sizes': (3056, 2544)},\n",
       "  'chexpert-classification': {'classifications': tensor([0., 0., 0., 0., 0., 0., 0., 0., 1., 0., 0., 0., 0., 1.],\n",
       "          device='cuda:0', dtype=torch.float64)},\n",
       "  'negbio-classification': {'classifications': tensor([0., 0., 0., 0., 0., 0., 0., 0., 1., 0., 0., 0., 0., 1.],\n",
       "          device='cuda:0', dtype=torch.float64)},\n",
       "  'fixation-generation': {'heatmaps': tensor([[[0, 0, 0,  ..., 0, 0, 0],\n",
       "            [0, 0, 0,  ..., 0, 0, 0],\n",
       "            [0, 0, 0,  ..., 0, 0, 0],\n",
       "            ...,\n",
       "            [0, 0, 0,  ..., 0, 0, 0],\n",
       "            [0, 0, 0,  ..., 0, 0, 0],\n",
       "            [0, 0, 0,  ..., 0, 0, 0]]], device='cuda:0', dtype=torch.uint8)}},\n",
       " {'lesion-detection': {'boxes': tensor([], device='cuda:0', size=(0, 4), dtype=torch.float64),\n",
       "   'labels': tensor([], device='cuda:0', dtype=torch.int64),\n",
       "   'image_id': tensor([175], device='cuda:0'),\n",
       "   'area': tensor([], device='cuda:0', dtype=torch.float64),\n",
       "   'iscrowd': tensor([], device='cuda:0', dtype=torch.int64),\n",
       "   'dicom_id': '6778a9a4-00e2dca7-3fa9b403-0d8aa7f0-a97878a0',\n",
       "   'image_path': 'D:\\\\mimic-eye\\\\patient_11431222\\\\CXR-JPG\\\\s53206509\\\\6778a9a4-00e2dca7-3fa9b403-0d8aa7f0-a97878a0.jpg',\n",
       "   'original_image_sizes': (2544, 3056)},\n",
       "  'chexpert-classification': {'classifications': tensor([1., 0., 0., 0., 0., 0., 0., 0., 0., 0., 0., 0., 0., 0.],\n",
       "          device='cuda:0', dtype=torch.float64)},\n",
       "  'negbio-classification': {'classifications': tensor([1., 0., 0., 0., 0., 0., 0., 0., 0., 0., 0., 0., 0., 0.],\n",
       "          device='cuda:0', dtype=torch.float64)},\n",
       "  'fixation-generation': {'heatmaps': tensor([[[0, 0, 0,  ..., 0, 0, 0],\n",
       "            [0, 0, 0,  ..., 0, 0, 0],\n",
       "            [0, 0, 0,  ..., 0, 0, 0],\n",
       "            ...,\n",
       "            [0, 0, 0,  ..., 0, 0, 0],\n",
       "            [0, 0, 0,  ..., 0, 0, 0],\n",
       "            [0, 0, 0,  ..., 0, 0, 0]]], device='cuda:0', dtype=torch.uint8)}},\n",
       " {'lesion-detection': {'boxes': tensor([], device='cuda:0', size=(0, 4), dtype=torch.float64),\n",
       "   'labels': tensor([], device='cuda:0', dtype=torch.int64),\n",
       "   'image_id': tensor([188], device='cuda:0'),\n",
       "   'area': tensor([], device='cuda:0', dtype=torch.float64),\n",
       "   'iscrowd': tensor([], device='cuda:0', dtype=torch.int64),\n",
       "   'dicom_id': '21ce8b78-00ee50a6-f5371cae-2744887d-c49bfef7',\n",
       "   'image_path': 'D:\\\\mimic-eye\\\\patient_11663476\\\\CXR-JPG\\\\s50838884\\\\21ce8b78-00ee50a6-f5371cae-2744887d-c49bfef7.jpg',\n",
       "   'original_image_sizes': (3056, 2544)},\n",
       "  'chexpert-classification': {'classifications': tensor([0., 0., 0., 0., 0., 0., 0., 0., 1., 0., 0., 0., 0., 0.],\n",
       "          device='cuda:0', dtype=torch.float64)},\n",
       "  'negbio-classification': {'classifications': tensor([0., 0., 0., 0., 0., 0., 0., 0., 1., 0., 0., 0., 0., 0.],\n",
       "          device='cuda:0', dtype=torch.float64)},\n",
       "  'fixation-generation': {'heatmaps': tensor([[[0, 0, 0,  ..., 0, 0, 0],\n",
       "            [0, 0, 0,  ..., 0, 0, 0],\n",
       "            [0, 0, 0,  ..., 0, 0, 0],\n",
       "            ...,\n",
       "            [0, 0, 0,  ..., 0, 0, 0],\n",
       "            [0, 0, 0,  ..., 0, 0, 0],\n",
       "            [0, 0, 0,  ..., 0, 0, 0]]], device='cuda:0', dtype=torch.uint8)}},\n",
       " {'lesion-detection': {'boxes': tensor([], device='cuda:0', size=(0, 4), dtype=torch.float64),\n",
       "   'labels': tensor([], device='cuda:0', dtype=torch.int64),\n",
       "   'image_id': tensor([542], device='cuda:0'),\n",
       "   'area': tensor([], device='cuda:0', dtype=torch.float64),\n",
       "   'iscrowd': tensor([], device='cuda:0', dtype=torch.int64),\n",
       "   'dicom_id': 'db6495ba-b79765c3-13e660c9-275118b5-9a1427a2',\n",
       "   'image_path': 'D:\\\\mimic-eye\\\\patient_18345108\\\\CXR-JPG\\\\s50316804\\\\db6495ba-b79765c3-13e660c9-275118b5-9a1427a2.jpg',\n",
       "   'original_image_sizes': (3056, 2544)},\n",
       "  'chexpert-classification': {'classifications': tensor([0., 0., 0., 0., 0., 0., 0., 0., 1., 0., 0., 0., 0., 0.],\n",
       "          device='cuda:0', dtype=torch.float64)},\n",
       "  'negbio-classification': {'classifications': tensor([0., 0., 0., 0., 0., 0., 0., 0., 1., 0., 0., 0., 0., 0.],\n",
       "          device='cuda:0', dtype=torch.float64)},\n",
       "  'fixation-generation': {'heatmaps': tensor([[[0, 0, 0,  ..., 0, 0, 0],\n",
       "            [0, 0, 0,  ..., 0, 0, 0],\n",
       "            [0, 0, 0,  ..., 0, 0, 0],\n",
       "            ...,\n",
       "            [0, 0, 0,  ..., 0, 0, 0],\n",
       "            [0, 0, 0,  ..., 0, 0, 0],\n",
       "            [0, 0, 0,  ..., 0, 0, 0]]], device='cuda:0', dtype=torch.uint8)}}]"
      ]
     },
     "execution_count": 15,
     "metadata": {},
     "output_type": "execute_result"
    }
   ],
   "source": [
    "rpn.targets"
   ]
  },
  {
   "cell_type": "code",
   "execution_count": null,
   "metadata": {},
   "outputs": [],
   "source": []
  },
  {
   "cell_type": "code",
   "execution_count": null,
   "metadata": {},
   "outputs": [],
   "source": []
  },
  {
   "cell_type": "code",
   "execution_count": null,
   "metadata": {},
   "outputs": [],
   "source": []
  },
  {
   "cell_type": "code",
   "execution_count": null,
   "metadata": {},
   "outputs": [],
   "source": [
    "from data.utils import chain_map"
   ]
  },
  {
   "cell_type": "code",
   "execution_count": null,
   "metadata": {},
   "outputs": [
    {
     "data": {
      "text/plain": [
       "{'a': [5, 7], 'b': [6, 8]}"
      ]
     },
     "execution_count": 13,
     "metadata": {},
     "output_type": "execute_result"
    }
   ],
   "source": [
    "chain_map([{\"a\": 5, \"b\": 6,}, {\"a\": 7, \"b\": 8,}])\n",
    "\n"
   ]
  },
  {
   "cell_type": "code",
   "execution_count": null,
   "metadata": {},
   "outputs": [],
   "source": []
  },
  {
   "cell_type": "code",
   "execution_count": null,
   "metadata": {},
   "outputs": [
    {
     "data": {
      "text/plain": [
       "[(2, 3),\n",
       " (2, 3),\n",
       " (2, 3),\n",
       " (2, 3),\n",
       " (2, 3),\n",
       " (2, 3),\n",
       " (2, 3),\n",
       " (2, 3),\n",
       " (2, 3),\n",
       " (2, 3),\n",
       " (2, 3),\n",
       " (2, 3),\n",
       " (2, 3),\n",
       " (2, 3),\n",
       " (2, 3),\n",
       " (2, 3),\n",
       " (2, 3),\n",
       " (2, 3),\n",
       " (2, 3),\n",
       " (2, 3),\n",
       " (2, 3),\n",
       " (2, 3),\n",
       " (2, 3),\n",
       " (2, 3),\n",
       " (2, 3),\n",
       " (2, 3),\n",
       " (2, 3),\n",
       " (2, 3),\n",
       " (2, 3),\n",
       " (2, 3),\n",
       " (2, 3),\n",
       " (2, 3),\n",
       " (2, 3),\n",
       " (2, 3),\n",
       " (2, 3),\n",
       " (2, 3),\n",
       " (2, 3),\n",
       " (2, 3),\n",
       " (2, 3),\n",
       " (2, 3)]"
      ]
     },
     "execution_count": 11,
     "metadata": {},
     "output_type": "execute_result"
    }
   ],
   "source": [
    "[(2,3)]*40"
   ]
  },
  {
   "cell_type": "code",
   "execution_count": null,
   "metadata": {},
   "outputs": [
    {
     "data": {
      "text/plain": [
       "[{'lesion-detection': {'boxes': tensor([], size=(0, 4), dtype=torch.float64),\n",
       "   'labels': tensor([], dtype=torch.int64),\n",
       "   'image_id': tensor([277]),\n",
       "   'area': tensor([], dtype=torch.float64),\n",
       "   'iscrowd': tensor([], dtype=torch.int64),\n",
       "   'dicom_id': 'd1ba2452-7b220f77-f6c95da1-609c2166-eddc3a3a',\n",
       "   'image_path': 'D:\\\\mimic-eye\\\\patient_13649350\\\\CXR-JPG\\\\s53326963\\\\d1ba2452-7b220f77-f6c95da1-609c2166-eddc3a3a.jpg'},\n",
       "  'chexpert-classification': {'classifications': tensor([0., 0., 0., 0., 0., 0., 0., 0., 1., 0., 0., 0., 0., 0.],\n",
       "          dtype=torch.float64)},\n",
       "  'negbio-classification': {'classifications': tensor([0., 0., 0., 0., 0., 0., 0., 0., 1., 0., 0., 0., 0., 0.],\n",
       "          dtype=torch.float64)},\n",
       "  'fixation-generation': {'heatmaps': tensor([[[0., 0., 0.,  ..., 0., 0., 0.],\n",
       "            [0., 0., 0.,  ..., 0., 0., 0.],\n",
       "            [0., 0., 0.,  ..., 0., 0., 0.],\n",
       "            ...,\n",
       "            [0., 0., 0.,  ..., 0., 0., 0.],\n",
       "            [0., 0., 0.,  ..., 0., 0., 0.],\n",
       "            [0., 0., 0.,  ..., 0., 0., 0.]]])}},\n",
       " {'lesion-detection': {'boxes': tensor([], size=(0, 4), dtype=torch.float64),\n",
       "   'labels': tensor([], dtype=torch.int64),\n",
       "   'image_id': tensor([519]),\n",
       "   'area': tensor([], dtype=torch.float64),\n",
       "   'iscrowd': tensor([], dtype=torch.int64),\n",
       "   'dicom_id': 'da0200fa-6fb7c4e1-ac51e58e-7726116f-77a3c906',\n",
       "   'image_path': 'D:\\\\mimic-eye\\\\patient_17932059\\\\CXR-JPG\\\\s57178148\\\\da0200fa-6fb7c4e1-ac51e58e-7726116f-77a3c906.jpg'},\n",
       "  'chexpert-classification': {'classifications': tensor([0., 0., 0., 0., 0., 0., 0., 0., 1., 0., 0., 0., 0., 0.],\n",
       "          dtype=torch.float64)},\n",
       "  'negbio-classification': {'classifications': tensor([0., 0., 0., 0., 0., 0., 0., 0., 1., 0., 0., 0., 0., 0.],\n",
       "          dtype=torch.float64)},\n",
       "  'fixation-generation': {'heatmaps': tensor([[[0., 0., 0.,  ..., 0., 0., 0.],\n",
       "            [0., 0., 0.,  ..., 0., 0., 0.],\n",
       "            [0., 0., 0.,  ..., 0., 0., 0.],\n",
       "            ...,\n",
       "            [0., 0., 0.,  ..., 0., 0., 0.],\n",
       "            [0., 0., 0.,  ..., 0., 0., 0.],\n",
       "            [0., 0., 0.,  ..., 0., 0., 0.]]])}},\n",
       " {'lesion-detection': {'boxes': tensor([], size=(0, 4), dtype=torch.float64),\n",
       "   'labels': tensor([], dtype=torch.int64),\n",
       "   'image_id': tensor([45]),\n",
       "   'area': tensor([], dtype=torch.float64),\n",
       "   'iscrowd': tensor([], dtype=torch.int64),\n",
       "   'dicom_id': '933ffae8-c244fef5-e9b5e339-55dee712-e29032e4',\n",
       "   'image_path': 'D:\\\\mimic-eye\\\\patient_14883411\\\\CXR-JPG\\\\s52100883\\\\933ffae8-c244fef5-e9b5e339-55dee712-e29032e4.jpg'},\n",
       "  'chexpert-classification': {'classifications': tensor([0., 0., 0., 0., 0., 0., 1., 1., 0., 0., 0., 0., 0., 0.],\n",
       "          dtype=torch.float64)},\n",
       "  'negbio-classification': {'classifications': tensor([0., 0., 0., 0., 0., 0., 1., 1., 0., 0., 0., 0., 0., 0.],\n",
       "          dtype=torch.float64)},\n",
       "  'fixation-generation': {'heatmaps': tensor([[[0., 0., 0.,  ..., 0., 0., 0.],\n",
       "            [0., 0., 0.,  ..., 0., 0., 0.],\n",
       "            [0., 0., 0.,  ..., 0., 0., 0.],\n",
       "            ...,\n",
       "            [0., 0., 0.,  ..., 0., 0., 0.],\n",
       "            [0., 0., 0.,  ..., 0., 0., 0.],\n",
       "            [0., 0., 0.,  ..., 0., 0., 0.]]])}},\n",
       " {'lesion-detection': {'boxes': tensor([[ 161., 2201.,  754., 2521.],\n",
       "           [ 161., 2201.,  754., 2521.],\n",
       "           [ 161., 2201.,  754., 2521.],\n",
       "           [ 245., 1766., 1595., 2566.],\n",
       "           [ 245., 1766., 1595., 2566.],\n",
       "           [ 245., 1766., 1595., 2566.]], dtype=torch.float64),\n",
       "   'labels': tensor([2, 3, 4, 2, 3, 4]),\n",
       "   'image_id': tensor([326]),\n",
       "   'area': tensor([ 189760.,  189760.,  189760., 1080000., 1080000., 1080000.],\n",
       "          dtype=torch.float64),\n",
       "   'iscrowd': tensor([0, 0, 0, 0, 0, 0]),\n",
       "   'dicom_id': '82043e9e-dc650774-246cc5bd-efb75286-bebc4801',\n",
       "   'image_path': 'D:\\\\mimic-eye\\\\patient_14565211\\\\CXR-JPG\\\\s50174269\\\\82043e9e-dc650774-246cc5bd-efb75286-bebc4801.jpg'},\n",
       "  'chexpert-classification': {'classifications': tensor([0., 0., 0., 0., 0., 0., 0., 0., 1., 0., 0., 0., 0., 1.],\n",
       "          dtype=torch.float64)},\n",
       "  'negbio-classification': {'classifications': tensor([0., 0., 0., 0., 0., 0., 0., 0., 1., 0., 0., 0., 0., 1.],\n",
       "          dtype=torch.float64)},\n",
       "  'fixation-generation': {'heatmaps': tensor([[[0., 0., 0.,  ..., 0., 0., 0.],\n",
       "            [0., 0., 0.,  ..., 0., 0., 0.],\n",
       "            [0., 0., 0.,  ..., 0., 0., 0.],\n",
       "            ...,\n",
       "            [0., 0., 0.,  ..., 0., 0., 0.],\n",
       "            [0., 0., 0.,  ..., 0., 0., 0.],\n",
       "            [0., 0., 0.,  ..., 0., 0., 0.]]])}},\n",
       " {'lesion-detection': {'boxes': tensor([], size=(0, 4), dtype=torch.float64),\n",
       "   'labels': tensor([], dtype=torch.int64),\n",
       "   'image_id': tensor([243]),\n",
       "   'area': tensor([], dtype=torch.float64),\n",
       "   'iscrowd': tensor([], dtype=torch.int64),\n",
       "   'dicom_id': 'b75308f1-fcfc829f-fb0f7ba1-03f4166a-461551a1',\n",
       "   'image_path': 'D:\\\\mimic-eye\\\\patient_12945136\\\\CXR-JPG\\\\s53401254\\\\b75308f1-fcfc829f-fb0f7ba1-03f4166a-461551a1.jpg'},\n",
       "  'chexpert-classification': {'classifications': tensor([-1.,  0.,  0.,  0.,  0.,  0.,  0.,  1.,  0.,  0.,  0., -1.,  0.,  0.],\n",
       "          dtype=torch.float64)},\n",
       "  'negbio-classification': {'classifications': tensor([-1.,  0.,  0.,  0.,  0.,  0.,  0.,  1.,  0.,  0.,  0., -1.,  0.,  0.],\n",
       "          dtype=torch.float64)},\n",
       "  'fixation-generation': {'heatmaps': tensor([[[0., 0., 0.,  ..., 0., 0., 0.],\n",
       "            [0., 0., 0.,  ..., 0., 0., 0.],\n",
       "            [0., 0., 0.,  ..., 0., 0., 0.],\n",
       "            ...,\n",
       "            [0., 0., 0.,  ..., 0., 0., 0.],\n",
       "            [0., 0., 0.,  ..., 0., 0., 0.],\n",
       "            [0., 0., 0.,  ..., 0., 0., 0.]]])}},\n",
       " {'lesion-detection': {'boxes': tensor([[ 162., 1213., 1682., 2220.],\n",
       "           [ 162., 1213., 1682., 2220.],\n",
       "           [ 336.,  959.,  633., 1487.],\n",
       "           [ 336.,  959.,  633., 1487.]], dtype=torch.float64),\n",
       "   'labels': tensor([1, 2, 1, 2]),\n",
       "   'image_id': tensor([489]),\n",
       "   'area': tensor([1530640., 1530640.,  156816.,  156816.], dtype=torch.float64),\n",
       "   'iscrowd': tensor([0, 0, 0, 0]),\n",
       "   'dicom_id': '6ff741e9-6ea01eef-1bf10153-d1b6beba-590b6620',\n",
       "   'image_path': 'D:\\\\mimic-eye\\\\patient_17340686\\\\CXR-JPG\\\\s55469953\\\\6ff741e9-6ea01eef-1bf10153-d1b6beba-590b6620.jpg'},\n",
       "  'chexpert-classification': {'classifications': tensor([0., 0., 0., 0., 0., 0., 0., 0., 1., 0., 0., 0., 0., 0.],\n",
       "          dtype=torch.float64)},\n",
       "  'negbio-classification': {'classifications': tensor([0., 0., 0., 0., 0., 0., 0., 0., 1., 0., 0., 0., 0., 0.],\n",
       "          dtype=torch.float64)},\n",
       "  'fixation-generation': {'heatmaps': tensor([[[0., 0., 0.,  ..., 0., 0., 0.],\n",
       "            [0., 0., 0.,  ..., 0., 0., 0.],\n",
       "            [0., 0., 0.,  ..., 0., 0., 0.],\n",
       "            ...,\n",
       "            [0., 0., 0.,  ..., 0., 0., 0.],\n",
       "            [0., 0., 0.,  ..., 0., 0., 0.],\n",
       "            [0., 0., 0.,  ..., 0., 0., 0.]]])}},\n",
       " {'lesion-detection': {'boxes': tensor([[1422., 1154., 2322., 2211.],\n",
       "           [1422., 1154., 2322., 2211.],\n",
       "           [ 330., 1200., 1077., 2132.],\n",
       "           [ 330., 1200., 1077., 2132.],\n",
       "           [ 255., 1304., 1077., 1754.],\n",
       "           [ 255., 1304., 1077., 1754.]], dtype=torch.float64),\n",
       "   'labels': tensor([3, 5, 3, 5, 3, 5]),\n",
       "   'image_id': tensor([571]),\n",
       "   'area': tensor([951300., 951300., 696204., 696204., 369900., 369900.],\n",
       "          dtype=torch.float64),\n",
       "   'iscrowd': tensor([0, 0, 0, 0, 0, 0]),\n",
       "   'dicom_id': '9a16c5f7-7ba13838-cb2108b1-8447237f-9a2aba45',\n",
       "   'image_path': 'D:\\\\mimic-eye\\\\patient_18867724\\\\CXR-JPG\\\\s51055214\\\\9a16c5f7-7ba13838-cb2108b1-8447237f-9a2aba45.jpg'},\n",
       "  'chexpert-classification': {'classifications': tensor([0., 0., 0., 0., 0., 0., 0., 1., 0., 1., 0., 0., 1., 1.],\n",
       "          dtype=torch.float64)},\n",
       "  'negbio-classification': {'classifications': tensor([0., 0., 0., 0., 0., 0., 0., 1., 0., 1., 0., 0., 1., 1.],\n",
       "          dtype=torch.float64)},\n",
       "  'fixation-generation': {'heatmaps': tensor([[[0., 0., 0.,  ..., 0., 0., 0.],\n",
       "            [0., 0., 0.,  ..., 0., 0., 0.],\n",
       "            [0., 0., 0.,  ..., 0., 0., 0.],\n",
       "            ...,\n",
       "            [0., 0., 0.,  ..., 0., 0., 0.],\n",
       "            [0., 0., 0.,  ..., 0., 0., 0.],\n",
       "            [0., 0., 0.,  ..., 0., 0., 0.]]])}},\n",
       " {'lesion-detection': {'boxes': tensor([], size=(0, 4), dtype=torch.float64),\n",
       "   'labels': tensor([], dtype=torch.int64),\n",
       "   'image_id': tensor([65]),\n",
       "   'area': tensor([], dtype=torch.float64),\n",
       "   'iscrowd': tensor([], dtype=torch.int64),\n",
       "   'dicom_id': 'd0bb6089-432c8528-657f7f07-8108422b-95736c36',\n",
       "   'image_path': 'D:\\\\mimic-eye\\\\patient_11411448\\\\CXR-JPG\\\\s50086672\\\\d0bb6089-432c8528-657f7f07-8108422b-95736c36.jpg'},\n",
       "  'chexpert-classification': {'classifications': tensor([0., 0., 0., 0., 0., 0., 0., 0., 1., 0., 0., 0., 0., 0.],\n",
       "          dtype=torch.float64)},\n",
       "  'negbio-classification': {'classifications': tensor([0., 0., 0., 0., 0., 0., 0., 0., 1., 0., 0., 0., 0., 0.],\n",
       "          dtype=torch.float64)},\n",
       "  'fixation-generation': {'heatmaps': tensor([[[0., 0., 0.,  ..., 0., 0., 0.],\n",
       "            [0., 0., 0.,  ..., 0., 0., 0.],\n",
       "            [0., 0., 0.,  ..., 0., 0., 0.],\n",
       "            ...,\n",
       "            [0., 0., 0.,  ..., 0., 0., 0.],\n",
       "            [0., 0., 0.,  ..., 0., 0., 0.],\n",
       "            [0., 0., 0.,  ..., 0., 0., 0.]]])}},\n",
       " {'lesion-detection': {'boxes': tensor([], size=(0, 4), dtype=torch.float64),\n",
       "   'labels': tensor([], dtype=torch.int64),\n",
       "   'image_id': tensor([397]),\n",
       "   'area': tensor([], dtype=torch.float64),\n",
       "   'iscrowd': tensor([], dtype=torch.int64),\n",
       "   'dicom_id': '68928905-a794628f-6cc99983-d4a727ec-2de08e46',\n",
       "   'image_path': 'D:\\\\mimic-eye\\\\patient_15693399\\\\CXR-JPG\\\\s51840722\\\\68928905-a794628f-6cc99983-d4a727ec-2de08e46.jpg'},\n",
       "  'chexpert-classification': {'classifications': tensor([-1.,  0.,  0.,  0.,  0.,  0.,  0., -1.,  0.,  0.,  0., -1.,  0.,  0.],\n",
       "          dtype=torch.float64)},\n",
       "  'negbio-classification': {'classifications': tensor([-1.,  0.,  0.,  0.,  0.,  0.,  0., -1.,  0.,  0.,  0., -1.,  0.,  0.],\n",
       "          dtype=torch.float64)},\n",
       "  'fixation-generation': {'heatmaps': tensor([[[0., 0., 0.,  ..., 0., 0., 0.],\n",
       "            [0., 0., 0.,  ..., 0., 0., 0.],\n",
       "            [0., 0., 0.,  ..., 0., 0., 0.],\n",
       "            ...,\n",
       "            [0., 0., 0.,  ..., 0., 0., 0.],\n",
       "            [0., 0., 0.,  ..., 0., 0., 0.],\n",
       "            [0., 0., 0.,  ..., 0., 0., 0.]]])}},\n",
       " {'lesion-detection': {'boxes': tensor([], size=(0, 4), dtype=torch.float64),\n",
       "   'labels': tensor([], dtype=torch.int64),\n",
       "   'image_id': tensor([485]),\n",
       "   'area': tensor([], dtype=torch.float64),\n",
       "   'iscrowd': tensor([], dtype=torch.int64),\n",
       "   'dicom_id': '87867918-6b303490-a0d567eb-76f974be-03cb41dc',\n",
       "   'image_path': 'D:\\\\mimic-eye\\\\patient_17287323\\\\CXR-JPG\\\\s53664965\\\\87867918-6b303490-a0d567eb-76f974be-03cb41dc.jpg'},\n",
       "  'chexpert-classification': {'classifications': tensor([ 0.,  0.,  0.,  0.,  0.,  0.,  0.,  0.,  0., -1.,  0.,  0.,  0.,  0.],\n",
       "          dtype=torch.float64)},\n",
       "  'negbio-classification': {'classifications': tensor([ 0.,  0.,  0.,  0.,  0.,  0.,  0.,  0.,  0., -1.,  0.,  0.,  0.,  0.],\n",
       "          dtype=torch.float64)},\n",
       "  'fixation-generation': {'heatmaps': tensor([[[0., 0., 0.,  ..., 0., 0., 0.],\n",
       "            [0., 0., 0.,  ..., 0., 0., 0.],\n",
       "            [0., 0., 0.,  ..., 0., 0., 0.],\n",
       "            ...,\n",
       "            [0., 0., 0.,  ..., 0., 0., 0.],\n",
       "            [0., 0., 0.,  ..., 0., 0., 0.],\n",
       "            [0., 0., 0.,  ..., 0., 0., 0.]]])}},\n",
       " {'lesion-detection': {'boxes': tensor([], size=(0, 4), dtype=torch.float64),\n",
       "   'labels': tensor([], dtype=torch.int64),\n",
       "   'image_id': tensor([628]),\n",
       "   'area': tensor([], dtype=torch.float64),\n",
       "   'iscrowd': tensor([], dtype=torch.int64),\n",
       "   'dicom_id': 'a2a80c63-8b9575dc-bc08895e-40392d6a-d7fc17d5',\n",
       "   'image_path': 'D:\\\\mimic-eye\\\\patient_19884194\\\\CXR-JPG\\\\s57912042\\\\a2a80c63-8b9575dc-bc08895e-40392d6a-d7fc17d5.jpg'},\n",
       "  'chexpert-classification': {'classifications': tensor([1., 0., 0., 0., 0., 0., 0., 0., 0., 0., 0., 0., 0., 0.],\n",
       "          dtype=torch.float64)},\n",
       "  'negbio-classification': {'classifications': tensor([1., 0., 0., 0., 0., 0., 0., 0., 0., 0., 0., 0., 0., 0.],\n",
       "          dtype=torch.float64)},\n",
       "  'fixation-generation': {'heatmaps': tensor([[[0., 0., 0.,  ..., 0., 0., 0.],\n",
       "            [0., 0., 0.,  ..., 0., 0., 0.],\n",
       "            [0., 0., 0.,  ..., 0., 0., 0.],\n",
       "            ...,\n",
       "            [0., 0., 0.,  ..., 0., 0., 0.],\n",
       "            [0., 0., 0.,  ..., 0., 0., 0.],\n",
       "            [0., 0., 0.,  ..., 0., 0., 0.]]])}},\n",
       " {'lesion-detection': {'boxes': tensor([], size=(0, 4), dtype=torch.float64),\n",
       "   'labels': tensor([], dtype=torch.int64),\n",
       "   'image_id': tensor([158]),\n",
       "   'area': tensor([], dtype=torch.float64),\n",
       "   'iscrowd': tensor([], dtype=torch.int64),\n",
       "   'dicom_id': 'c8923b56-a5f3ed30-b5d81c84-de124b84-18e99359',\n",
       "   'image_path': 'D:\\\\mimic-eye\\\\patient_11242664\\\\CXR-JPG\\\\s58590611\\\\c8923b56-a5f3ed30-b5d81c84-de124b84-18e99359.jpg'},\n",
       "  'chexpert-classification': {'classifications': tensor([0., 0., 0., 0., 0., 0., 0., 0., 1., 0., 0., 0., 0., 0.],\n",
       "          dtype=torch.float64)},\n",
       "  'negbio-classification': {'classifications': tensor([0., 0., 0., 0., 0., 0., 0., 0., 1., 0., 0., 0., 0., 0.],\n",
       "          dtype=torch.float64)},\n",
       "  'fixation-generation': {'heatmaps': tensor([[[0., 0., 0.,  ..., 0., 0., 0.],\n",
       "            [0., 0., 0.,  ..., 0., 0., 0.],\n",
       "            [0., 0., 0.,  ..., 0., 0., 0.],\n",
       "            ...,\n",
       "            [0., 0., 0.,  ..., 0., 0., 0.],\n",
       "            [0., 0., 0.,  ..., 0., 0., 0.],\n",
       "            [0., 0., 0.,  ..., 0., 0., 0.]]])}},\n",
       " {'lesion-detection': {'boxes': tensor([[ 702., 1244., 2105., 2265.],\n",
       "           [ 702., 1244., 2105., 2265.],\n",
       "           [1718.,  962., 2227., 1508.],\n",
       "           [1718.,  962., 2227., 1508.]], dtype=torch.float64),\n",
       "   'labels': tensor([1, 2, 1, 2]),\n",
       "   'image_id': tensor([330]),\n",
       "   'area': tensor([1432463., 1432463.,  277914.,  277914.], dtype=torch.float64),\n",
       "   'iscrowd': tensor([0, 0, 0, 0]),\n",
       "   'dicom_id': 'e79701bb-06d633be-d81b225d-48711948-0ae8ebe8',\n",
       "   'image_path': 'D:\\\\mimic-eye\\\\patient_14596516\\\\CXR-JPG\\\\s53438810\\\\e79701bb-06d633be-d81b225d-48711948-0ae8ebe8.jpg'},\n",
       "  'chexpert-classification': {'classifications': tensor([0., 0., 0., 0., 0., 0., 0., 0., 1., 0., 0., 0., 0., 1.],\n",
       "          dtype=torch.float64)},\n",
       "  'negbio-classification': {'classifications': tensor([0., 0., 0., 0., 0., 0., 0., 0., 1., 0., 0., 0., 0., 1.],\n",
       "          dtype=torch.float64)},\n",
       "  'fixation-generation': {'heatmaps': tensor([[[0., 0., 0.,  ..., 0., 0., 0.],\n",
       "            [0., 0., 0.,  ..., 0., 0., 0.],\n",
       "            [0., 0., 0.,  ..., 0., 0., 0.],\n",
       "            ...,\n",
       "            [0., 0., 0.,  ..., 0., 0., 0.],\n",
       "            [0., 0., 0.,  ..., 0., 0., 0.],\n",
       "            [0., 0., 0.,  ..., 0., 0., 0.]]])}},\n",
       " {'lesion-detection': {'boxes': tensor([], size=(0, 4), dtype=torch.float64),\n",
       "   'labels': tensor([], dtype=torch.int64),\n",
       "   'image_id': tensor([175]),\n",
       "   'area': tensor([], dtype=torch.float64),\n",
       "   'iscrowd': tensor([], dtype=torch.int64),\n",
       "   'dicom_id': '6778a9a4-00e2dca7-3fa9b403-0d8aa7f0-a97878a0',\n",
       "   'image_path': 'D:\\\\mimic-eye\\\\patient_11431222\\\\CXR-JPG\\\\s53206509\\\\6778a9a4-00e2dca7-3fa9b403-0d8aa7f0-a97878a0.jpg'},\n",
       "  'chexpert-classification': {'classifications': tensor([1., 0., 0., 0., 0., 0., 0., 0., 0., 0., 0., 0., 0., 0.],\n",
       "          dtype=torch.float64)},\n",
       "  'negbio-classification': {'classifications': tensor([1., 0., 0., 0., 0., 0., 0., 0., 0., 0., 0., 0., 0., 0.],\n",
       "          dtype=torch.float64)},\n",
       "  'fixation-generation': {'heatmaps': tensor([[[0., 0., 0.,  ..., 0., 0., 0.],\n",
       "            [0., 0., 0.,  ..., 0., 0., 0.],\n",
       "            [0., 0., 0.,  ..., 0., 0., 0.],\n",
       "            ...,\n",
       "            [0., 0., 0.,  ..., 0., 0., 0.],\n",
       "            [0., 0., 0.,  ..., 0., 0., 0.],\n",
       "            [0., 0., 0.,  ..., 0., 0., 0.]]])}},\n",
       " {'lesion-detection': {'boxes': tensor([], size=(0, 4), dtype=torch.float64),\n",
       "   'labels': tensor([], dtype=torch.int64),\n",
       "   'image_id': tensor([188]),\n",
       "   'area': tensor([], dtype=torch.float64),\n",
       "   'iscrowd': tensor([], dtype=torch.int64),\n",
       "   'dicom_id': '21ce8b78-00ee50a6-f5371cae-2744887d-c49bfef7',\n",
       "   'image_path': 'D:\\\\mimic-eye\\\\patient_11663476\\\\CXR-JPG\\\\s50838884\\\\21ce8b78-00ee50a6-f5371cae-2744887d-c49bfef7.jpg'},\n",
       "  'chexpert-classification': {'classifications': tensor([0., 0., 0., 0., 0., 0., 0., 0., 1., 0., 0., 0., 0., 0.],\n",
       "          dtype=torch.float64)},\n",
       "  'negbio-classification': {'classifications': tensor([0., 0., 0., 0., 0., 0., 0., 0., 1., 0., 0., 0., 0., 0.],\n",
       "          dtype=torch.float64)},\n",
       "  'fixation-generation': {'heatmaps': tensor([[[0., 0., 0.,  ..., 0., 0., 0.],\n",
       "            [0., 0., 0.,  ..., 0., 0., 0.],\n",
       "            [0., 0., 0.,  ..., 0., 0., 0.],\n",
       "            ...,\n",
       "            [0., 0., 0.,  ..., 0., 0., 0.],\n",
       "            [0., 0., 0.,  ..., 0., 0., 0.],\n",
       "            [0., 0., 0.,  ..., 0., 0., 0.]]])}},\n",
       " {'lesion-detection': {'boxes': tensor([], size=(0, 4), dtype=torch.float64),\n",
       "   'labels': tensor([], dtype=torch.int64),\n",
       "   'image_id': tensor([542]),\n",
       "   'area': tensor([], dtype=torch.float64),\n",
       "   'iscrowd': tensor([], dtype=torch.int64),\n",
       "   'dicom_id': 'db6495ba-b79765c3-13e660c9-275118b5-9a1427a2',\n",
       "   'image_path': 'D:\\\\mimic-eye\\\\patient_18345108\\\\CXR-JPG\\\\s50316804\\\\db6495ba-b79765c3-13e660c9-275118b5-9a1427a2.jpg'},\n",
       "  'chexpert-classification': {'classifications': tensor([0., 0., 0., 0., 0., 0., 0., 0., 1., 0., 0., 0., 0., 0.],\n",
       "          dtype=torch.float64)},\n",
       "  'negbio-classification': {'classifications': tensor([0., 0., 0., 0., 0., 0., 0., 0., 1., 0., 0., 0., 0., 0.],\n",
       "          dtype=torch.float64)},\n",
       "  'fixation-generation': {'heatmaps': tensor([[[0., 0., 0.,  ..., 0., 0., 0.],\n",
       "            [0., 0., 0.,  ..., 0., 0., 0.],\n",
       "            [0., 0., 0.,  ..., 0., 0., 0.],\n",
       "            ...,\n",
       "            [0., 0., 0.,  ..., 0., 0., 0.],\n",
       "            [0., 0., 0.,  ..., 0., 0., 0.],\n",
       "            [0., 0., 0.,  ..., 0., 0., 0.]]])}}]"
      ]
     },
     "execution_count": 11,
     "metadata": {},
     "output_type": "execute_result"
    }
   ],
   "source": [
    "train_dataset.targets"
   ]
  },
  {
   "cell_type": "code",
   "execution_count": null,
   "metadata": {},
   "outputs": [
    {
     "ename": "AttributeError",
     "evalue": "'ReflacxDataset' object has no attribute 'inputs'",
     "output_type": "error",
     "traceback": [
      "\u001b[1;31m---------------------------------------------------------------------------\u001b[0m",
      "\u001b[1;31mAttributeError\u001b[0m                            Traceback (most recent call last)",
      "\u001b[1;32m~\\AppData\\Local\\Temp/ipykernel_30420/2473623876.py\u001b[0m in \u001b[0;36m<module>\u001b[1;34m\u001b[0m\n\u001b[1;32m----> 1\u001b[1;33m \u001b[0mtrain_dataset\u001b[0m\u001b[1;33m.\u001b[0m\u001b[0minputs\u001b[0m\u001b[1;33m\u001b[0m\u001b[1;33m\u001b[0m\u001b[0m\n\u001b[0m",
      "\u001b[1;31mAttributeError\u001b[0m: 'ReflacxDataset' object has no attribute 'inputs'"
     ]
    }
   ],
   "source": [
    "train_dataset.inputs"
   ]
  },
  {
   "cell_type": "code",
   "execution_count": null,
   "metadata": {},
   "outputs": [
    {
     "ename": "AttributeError",
     "evalue": "'ExtractFusePerform' object has no attribute 'inputs'",
     "output_type": "error",
     "traceback": [
      "\u001b[1;31m---------------------------------------------------------------------------\u001b[0m",
      "\u001b[1;31mAttributeError\u001b[0m                            Traceback (most recent call last)",
      "\u001b[1;32m~\\AppData\\Local\\Temp/ipykernel_28184/3437286655.py\u001b[0m in \u001b[0;36m<module>\u001b[1;34m\u001b[0m\n\u001b[1;32m----> 1\u001b[1;33m \u001b[0mmodel\u001b[0m\u001b[1;33m.\u001b[0m\u001b[0minputs\u001b[0m\u001b[1;33m\u001b[0m\u001b[1;33m\u001b[0m\u001b[0m\n\u001b[0m",
      "\u001b[1;32mc:\\Users\\mike8\\anaconda3\\envs\\pytorch\\lib\\site-packages\\torch\\nn\\modules\\module.py\u001b[0m in \u001b[0;36m__getattr__\u001b[1;34m(self, name)\u001b[0m\n\u001b[0;32m   1183\u001b[0m             \u001b[1;32mif\u001b[0m \u001b[0mname\u001b[0m \u001b[1;32min\u001b[0m \u001b[0mmodules\u001b[0m\u001b[1;33m:\u001b[0m\u001b[1;33m\u001b[0m\u001b[1;33m\u001b[0m\u001b[0m\n\u001b[0;32m   1184\u001b[0m                 \u001b[1;32mreturn\u001b[0m \u001b[0mmodules\u001b[0m\u001b[1;33m[\u001b[0m\u001b[0mname\u001b[0m\u001b[1;33m]\u001b[0m\u001b[1;33m\u001b[0m\u001b[1;33m\u001b[0m\u001b[0m\n\u001b[1;32m-> 1185\u001b[1;33m         raise AttributeError(\"'{}' object has no attribute '{}'\".format(\n\u001b[0m\u001b[0;32m   1186\u001b[0m             type(self).__name__, name))\n\u001b[0;32m   1187\u001b[0m \u001b[1;33m\u001b[0m\u001b[0m\n",
      "\u001b[1;31mAttributeError\u001b[0m: 'ExtractFusePerform' object has no attribute 'inputs'"
     ]
    }
   ],
   "source": [
    "model.inputs"
   ]
  },
  {
   "cell_type": "code",
   "execution_count": null,
   "metadata": {},
   "outputs": [
    {
     "ename": "AttributeError",
     "evalue": "'ExtractFusePerform' object has no attribute 'targets'",
     "output_type": "error",
     "traceback": [
      "\u001b[1;31m---------------------------------------------------------------------------\u001b[0m",
      "\u001b[1;31mAttributeError\u001b[0m                            Traceback (most recent call last)",
      "\u001b[1;32m~\\AppData\\Local\\Temp/ipykernel_28808/1656818455.py\u001b[0m in \u001b[0;36m<module>\u001b[1;34m\u001b[0m\n\u001b[1;32m----> 1\u001b[1;33m \u001b[0mmodel\u001b[0m\u001b[1;33m.\u001b[0m\u001b[0mtargets\u001b[0m\u001b[1;33m\u001b[0m\u001b[1;33m\u001b[0m\u001b[0m\n\u001b[0m",
      "\u001b[1;32mc:\\Users\\mike8\\anaconda3\\envs\\pytorch\\lib\\site-packages\\torch\\nn\\modules\\module.py\u001b[0m in \u001b[0;36m__getattr__\u001b[1;34m(self, name)\u001b[0m\n\u001b[0;32m   1183\u001b[0m             \u001b[1;32mif\u001b[0m \u001b[0mname\u001b[0m \u001b[1;32min\u001b[0m \u001b[0mmodules\u001b[0m\u001b[1;33m:\u001b[0m\u001b[1;33m\u001b[0m\u001b[1;33m\u001b[0m\u001b[0m\n\u001b[0;32m   1184\u001b[0m                 \u001b[1;32mreturn\u001b[0m \u001b[0mmodules\u001b[0m\u001b[1;33m[\u001b[0m\u001b[0mname\u001b[0m\u001b[1;33m]\u001b[0m\u001b[1;33m\u001b[0m\u001b[1;33m\u001b[0m\u001b[0m\n\u001b[1;32m-> 1185\u001b[1;33m         raise AttributeError(\"'{}' object has no attribute '{}'\".format(\n\u001b[0m\u001b[0;32m   1186\u001b[0m             type(self).__name__, name))\n\u001b[0;32m   1187\u001b[0m \u001b[1;33m\u001b[0m\u001b[0m\n",
      "\u001b[1;31mAttributeError\u001b[0m: 'ExtractFusePerform' object has no attribute 'targets'"
     ]
    }
   ],
   "source": [
    "model.targets"
   ]
  },
  {
   "cell_type": "code",
   "execution_count": null,
   "metadata": {},
   "outputs": [],
   "source": []
  },
  {
   "cell_type": "code",
   "execution_count": null,
   "metadata": {},
   "outputs": [],
   "source": [
    "# only stack the things when they need to be stacked."
   ]
  },
  {
   "cell_type": "code",
   "execution_count": null,
   "metadata": {},
   "outputs": [],
   "source": [
    "# model.task_performers['lesion-detection'].rpn.targets"
   ]
  },
  {
   "cell_type": "code",
   "execution_count": null,
   "metadata": {},
   "outputs": [],
   "source": [
    "c = model.feature_extractors['clinical']"
   ]
  },
  {
   "cell_type": "code",
   "execution_count": null,
   "metadata": {},
   "outputs": [
    {
     "data": {
      "text/plain": [
       "['gender',\n",
       " 'age',\n",
       " 'temperature',\n",
       " 'heartrate',\n",
       " 'resprate',\n",
       " 'o2sat',\n",
       " 'sbp',\n",
       " 'dbp',\n",
       " 'pain',\n",
       " 'acuity']"
      ]
     },
     "execution_count": 14,
     "metadata": {},
     "output_type": "execute_result"
    }
   ],
   "source": [
    "c.all_cols"
   ]
  },
  {
   "cell_type": "code",
   "execution_count": null,
   "metadata": {},
   "outputs": [
    {
     "data": {
      "text/plain": [
       "10"
      ]
     },
     "execution_count": 13,
     "metadata": {},
     "output_type": "execute_result"
    }
   ],
   "source": [
    "len(c.all_cols)"
   ]
  },
  {
   "cell_type": "code",
   "execution_count": null,
   "metadata": {},
   "outputs": [
    {
     "data": {
      "text/plain": [
       "32"
      ]
     },
     "execution_count": 15,
     "metadata": {},
     "output_type": "execute_result"
    }
   ],
   "source": [
    "c.embedding_dim"
   ]
  },
  {
   "cell_type": "code",
   "execution_count": null,
   "metadata": {},
   "outputs": [
    {
     "data": {
      "text/plain": [
       "{'gender': 2}"
      ]
     },
     "execution_count": 16,
     "metadata": {},
     "output_type": "execute_result"
    }
   ],
   "source": [
    "c.categorical_col_maps"
   ]
  },
  {
   "cell_type": "code",
   "execution_count": null,
   "metadata": {},
   "outputs": [],
   "source": []
  },
  {
   "cell_type": "code",
   "execution_count": null,
   "metadata": {},
   "outputs": [],
   "source": []
  },
  {
   "cell_type": "code",
   "execution_count": null,
   "metadata": {},
   "outputs": [],
   "source": []
  },
  {
   "cell_type": "code",
   "execution_count": null,
   "metadata": {},
   "outputs": [
    {
     "data": {
      "text/plain": [
       "odict_keys(['xrays', 'clinical'])"
      ]
     },
     "execution_count": 12,
     "metadata": {},
     "output_type": "execute_result"
    }
   ],
   "source": [
    "model.feature_extractors.keys()"
   ]
  },
  {
   "cell_type": "code",
   "execution_count": null,
   "metadata": {},
   "outputs": [],
   "source": [
    "targets = model.task_performers['lesion-detection'].transform.targets"
   ]
  },
  {
   "cell_type": "code",
   "execution_count": null,
   "metadata": {},
   "outputs": [],
   "source": [
    "lesion_detection_target_index = (\n",
    "                targets[\"fixation_generation\"][0]\n",
    "                if \"fixation_generation\" in targets\n",
    "                and targets[\"fixation_generation\"] is not None\n",
    "                else None\n",
    "            )"
   ]
  },
  {
   "cell_type": "code",
   "execution_count": null,
   "metadata": {},
   "outputs": [
    {
     "data": {
      "text/plain": [
       "dict_keys(['fixation-generation', 'fixation_path', 'negbio-classification', 'chexpert-classification', 'lesion-detection'])"
      ]
     },
     "execution_count": 26,
     "metadata": {},
     "output_type": "execute_result"
    }
   ],
   "source": [
    "targets.keys()"
   ]
  },
  {
   "cell_type": "code",
   "execution_count": null,
   "metadata": {},
   "outputs": [],
   "source": [
    "\"fixation_generation\" =="
   ]
  },
  {
   "cell_type": "code",
   "execution_count": null,
   "metadata": {},
   "outputs": [
    {
     "data": {
      "text/plain": [
       "False"
      ]
     },
     "execution_count": 27,
     "metadata": {},
     "output_type": "execute_result"
    }
   ],
   "source": [
    "\"fixation_generation\" in targets.keys() 'fixation-generation'"
   ]
  },
  {
   "cell_type": "code",
   "execution_count": null,
   "metadata": {},
   "outputs": [],
   "source": [
    "lesion_detection_target_index"
   ]
  },
  {
   "cell_type": "code",
   "execution_count": null,
   "metadata": {},
   "outputs": [
    {
     "ename": "TypeError",
     "evalue": "'dict_keys' object is not subscriptable",
     "output_type": "error",
     "traceback": [
      "\u001b[1;31m---------------------------------------------------------------------------\u001b[0m",
      "\u001b[1;31mTypeError\u001b[0m                                 Traceback (most recent call last)",
      "\u001b[1;32m~\\AppData\\Local\\Temp/ipykernel_14072/3471548365.py\u001b[0m in \u001b[0;36m<module>\u001b[1;34m\u001b[0m\n\u001b[1;32m----> 1\u001b[1;33m \u001b[0mtargets\u001b[0m\u001b[1;33m[\u001b[0m\u001b[1;34m\"lesion-detection\"\u001b[0m\u001b[1;33m]\u001b[0m\u001b[1;33m\u001b[0m\u001b[1;33m\u001b[0m\u001b[0m\n\u001b[0m",
      "\u001b[1;31mTypeError\u001b[0m: 'dict_keys' object is not subscriptable"
     ]
    }
   ],
   "source": [
    "targets[\"lesion-detection\"]"
   ]
  },
  {
   "cell_type": "code",
   "execution_count": null,
   "metadata": {},
   "outputs": [
    {
     "data": {
      "text/plain": [
       "{'boxes': tensor([], size=(0, 4), dtype=torch.float64),\n",
       " 'labels': tensor([], dtype=torch.int64),\n",
       " 'image_id': tensor([277]),\n",
       " 'area': tensor([], dtype=torch.float64),\n",
       " 'iscrowd': tensor([], dtype=torch.int64),\n",
       " 'dicom_id': 'd1ba2452-7b220f77-f6c95da1-609c2166-eddc3a3a',\n",
       " 'image_path': 'D:\\\\mimic-eye\\\\patient_13649350\\\\CXR-JPG\\\\s53326963\\\\d1ba2452-7b220f77-f6c95da1-609c2166-eddc3a3a.jpg'}"
      ]
     },
     "execution_count": 22,
     "metadata": {},
     "output_type": "execute_result"
    }
   ],
   "source": [
    "lesion_detection_target_index "
   ]
  },
  {
   "cell_type": "code",
   "execution_count": null,
   "metadata": {},
   "outputs": [],
   "source": [
    "lesion_detection_target_index = (\n",
    "                targets[\"lesion-detection\"][i]\n",
    "                if \"lesion-detection\" in targets\n",
    "                and targets[\"lesion-detection\"] is not None\n",
    "                else None\n",
    "            )"
   ]
  },
  {
   "cell_type": "code",
   "execution_count": null,
   "metadata": {},
   "outputs": [
    {
     "name": "stdout",
     "output_type": "stream",
     "text": [
      "lesion-detection_image_list_tensors_shape\n"
     ]
    }
   ],
   "source": [
    "for k_1 in model.targets.keys():\n",
    "    for k_2 in model.targets[k_1].keys():\n",
    "        if isinstance(model.targets[k_1][k_2], torch.Tensor):\n",
    "            model.targets[k_1][k_2] = model.targets[k_1][k_2].to(device)\n",
    "\n",
    "        elif isinstance(model.targets[k_1][k_2], list):\n",
    "            try:\n",
    "                model.targets[k_1][k_2] = torch.stack(model.targets[k_1][k_2]).to(\n",
    "                    device\n",
    "                )\n",
    "            except:\n",
    "                model.targets[k_1][k_2] = [\n",
    "                    e.to(device) if isinstance(e, torch.Tensor) else e\n",
    "                    for e in model.targets[k_1][k_2]\n",
    "                ]\n",
    "\n"
   ]
  },
  {
   "cell_type": "code",
   "execution_count": null,
   "metadata": {},
   "outputs": [
    {
     "data": {
      "text/plain": [
       "'lesion-detection'"
      ]
     },
     "execution_count": 22,
     "metadata": {},
     "output_type": "execute_result"
    }
   ],
   "source": [
    "k_1"
   ]
  },
  {
   "cell_type": "code",
   "execution_count": null,
   "metadata": {},
   "outputs": [
    {
     "data": {
      "text/plain": [
       "torch.Size([16, 3, 512, 512])"
      ]
     },
     "execution_count": 24,
     "metadata": {},
     "output_type": "execute_result"
    }
   ],
   "source": [
    "model.targets[k_1][k_2]"
   ]
  },
  {
   "cell_type": "code",
   "execution_count": null,
   "metadata": {},
   "outputs": [
    {
     "data": {
      "text/plain": [
       "'fixation-generation'"
      ]
     },
     "execution_count": 12,
     "metadata": {},
     "output_type": "execute_result"
    }
   ],
   "source": [
    "k_1"
   ]
  },
  {
   "cell_type": "code",
   "execution_count": null,
   "metadata": {},
   "outputs": [
    {
     "data": {
      "text/plain": [
       "'fixations'"
      ]
     },
     "execution_count": 13,
     "metadata": {},
     "output_type": "execute_result"
    }
   ],
   "source": [
    "k_2"
   ]
  },
  {
   "cell_type": "code",
   "execution_count": null,
   "metadata": {},
   "outputs": [],
   "source": []
  },
  {
   "cell_type": "code",
   "execution_count": null,
   "metadata": {},
   "outputs": [
    {
     "data": {
      "text/plain": [
       "torch.Size([16, 3, 512, 512])"
      ]
     },
     "execution_count": 17,
     "metadata": {},
     "output_type": "execute_result"
    }
   ],
   "source": [
    " model.inputs['xrays']['images'].shape"
   ]
  },
  {
   "cell_type": "code",
   "execution_count": null,
   "metadata": {},
   "outputs": [
    {
     "data": {
      "text/plain": [
       "tensor([[ 79.0000,  98.3000,  69.0000,  20.0000,  91.0000, 121.0000,  73.0000,\n",
       "           2.0000],\n",
       "        [ 60.0000,  97.8000,  81.0000,  16.0000, 100.0000, 161.0000,  85.0000,\n",
       "           3.0000],\n",
       "        [ 52.0000,  98.8000, 104.0000,  20.0000,  96.0000, 128.0000,  87.0000,\n",
       "           2.0000],\n",
       "        [ 39.0000,  98.2000,  73.0000,  16.0000, 100.0000, 133.0000,  89.0000,\n",
       "           3.0000],\n",
       "        [ 50.0000,  98.3000,  82.0000,  16.0000,  95.0000, 133.0000,  60.0000,\n",
       "           2.0000],\n",
       "        [ 55.0000,  99.6000,  68.0000,  18.0000, 100.0000, 108.0000,  69.0000,\n",
       "           3.0000],\n",
       "        [ 59.0000,  97.7000,  72.0000,  20.0000, 100.0000, 159.0000,  95.0000,\n",
       "           3.0000],\n",
       "        [ 58.0000,  98.2000,  89.0000,  20.0000,  99.0000, 126.0000,  77.0000,\n",
       "           2.0000],\n",
       "        [ 59.0000,      nan,      nan,      nan,      nan,      nan,      nan,\n",
       "              nan],\n",
       "        [ 77.0000,  97.9000,  62.0000,  18.0000, 100.0000, 137.0000, 107.0000,\n",
       "           3.0000],\n",
       "        [ 76.0000,  98.0000, 104.0000,  20.0000,  98.0000, 124.0000,  75.0000,\n",
       "           2.0000],\n",
       "        [ 77.0000,  98.5000,  74.0000,  16.0000,  96.0000, 113.0000,  64.0000,\n",
       "           3.0000],\n",
       "        [ 50.0000,  97.0000,  94.0000,  18.0000, 100.0000, 117.0000,  79.0000,\n",
       "           3.0000],\n",
       "        [ 53.0000,  97.8000,  88.0000,  18.0000,  94.0000, 135.0000, 109.0000,\n",
       "           3.0000],\n",
       "        [ 84.0000,  98.4000,  85.0000,  62.0000, 100.0000, 117.0000,  60.0000,\n",
       "           2.0000],\n",
       "        [ 49.0000, 103.0000, 140.0000,  22.0000,  95.0000, 141.0000,  99.0000,\n",
       "           1.0000]], device='cuda:0')"
      ]
     },
     "execution_count": 20,
     "metadata": {},
     "output_type": "execute_result"
    }
   ],
   "source": [
    " model.inputs[k_1][k_2]"
   ]
  },
  {
   "cell_type": "code",
   "execution_count": null,
   "metadata": {},
   "outputs": [
    {
     "name": "stdout",
     "output_type": "stream",
     "text": [
      "xrays\n"
     ]
    }
   ],
   "source": [
    "for k in model.feature_extractors.keys():\n",
    "    print(k)"
   ]
  },
  {
   "cell_type": "code",
   "execution_count": null,
   "metadata": {},
   "outputs": [
    {
     "data": {
      "text/plain": [
       "{'xrays': [{'image': tensor([[[0.0706, 0.0706, 0.0706,  ..., 0.0706, 0.0706, 0.0706],\n",
       "            [0.0706, 0.0706, 0.0706,  ..., 0.0706, 0.0706, 0.0706],\n",
       "            [0.0706, 0.0706, 0.0706,  ..., 0.0706, 0.0706, 0.0706],\n",
       "            ...,\n",
       "            [0.9176, 0.8902, 0.9608,  ..., 0.8627, 0.8863, 0.8667],\n",
       "            [0.9647, 0.9529, 0.9569,  ..., 0.8863, 0.8863, 0.8784],\n",
       "            [0.9529, 0.9373, 0.9529,  ..., 0.9255, 0.8941, 0.8784]],\n",
       "   \n",
       "           [[0.0706, 0.0706, 0.0706,  ..., 0.0706, 0.0706, 0.0706],\n",
       "            [0.0706, 0.0706, 0.0706,  ..., 0.0706, 0.0706, 0.0706],\n",
       "            [0.0706, 0.0706, 0.0706,  ..., 0.0706, 0.0706, 0.0706],\n",
       "            ...,\n",
       "            [0.9176, 0.8902, 0.9608,  ..., 0.8627, 0.8863, 0.8667],\n",
       "            [0.9647, 0.9529, 0.9569,  ..., 0.8863, 0.8863, 0.8784],\n",
       "            [0.9529, 0.9373, 0.9529,  ..., 0.9255, 0.8941, 0.8784]],\n",
       "   \n",
       "           [[0.0706, 0.0706, 0.0706,  ..., 0.0706, 0.0706, 0.0706],\n",
       "            [0.0706, 0.0706, 0.0706,  ..., 0.0706, 0.0706, 0.0706],\n",
       "            [0.0706, 0.0706, 0.0706,  ..., 0.0706, 0.0706, 0.0706],\n",
       "            ...,\n",
       "            [0.9176, 0.8902, 0.9608,  ..., 0.8627, 0.8863, 0.8667],\n",
       "            [0.9647, 0.9529, 0.9569,  ..., 0.8863, 0.8863, 0.8784],\n",
       "            [0.9529, 0.9373, 0.9529,  ..., 0.9255, 0.8941, 0.8784]]])},\n",
       "  {'image': tensor([[[0., 0., 0.,  ..., 0., 0., 0.],\n",
       "            [0., 0., 0.,  ..., 0., 0., 0.],\n",
       "            [0., 0., 0.,  ..., 0., 0., 0.],\n",
       "            ...,\n",
       "            [0., 0., 0.,  ..., 0., 0., 0.],\n",
       "            [0., 0., 0.,  ..., 0., 0., 0.],\n",
       "            [0., 0., 0.,  ..., 0., 0., 0.]],\n",
       "   \n",
       "           [[0., 0., 0.,  ..., 0., 0., 0.],\n",
       "            [0., 0., 0.,  ..., 0., 0., 0.],\n",
       "            [0., 0., 0.,  ..., 0., 0., 0.],\n",
       "            ...,\n",
       "            [0., 0., 0.,  ..., 0., 0., 0.],\n",
       "            [0., 0., 0.,  ..., 0., 0., 0.],\n",
       "            [0., 0., 0.,  ..., 0., 0., 0.]],\n",
       "   \n",
       "           [[0., 0., 0.,  ..., 0., 0., 0.],\n",
       "            [0., 0., 0.,  ..., 0., 0., 0.],\n",
       "            [0., 0., 0.,  ..., 0., 0., 0.],\n",
       "            ...,\n",
       "            [0., 0., 0.,  ..., 0., 0., 0.],\n",
       "            [0., 0., 0.,  ..., 0., 0., 0.],\n",
       "            [0., 0., 0.,  ..., 0., 0., 0.]]])},\n",
       "  {'image': tensor([[[0., 0., 0.,  ..., 0., 0., 0.],\n",
       "            [0., 0., 0.,  ..., 0., 0., 0.],\n",
       "            [0., 0., 0.,  ..., 0., 0., 0.],\n",
       "            ...,\n",
       "            [0., 0., 0.,  ..., 0., 0., 0.],\n",
       "            [0., 0., 0.,  ..., 0., 0., 0.],\n",
       "            [0., 0., 0.,  ..., 0., 0., 0.]],\n",
       "   \n",
       "           [[0., 0., 0.,  ..., 0., 0., 0.],\n",
       "            [0., 0., 0.,  ..., 0., 0., 0.],\n",
       "            [0., 0., 0.,  ..., 0., 0., 0.],\n",
       "            ...,\n",
       "            [0., 0., 0.,  ..., 0., 0., 0.],\n",
       "            [0., 0., 0.,  ..., 0., 0., 0.],\n",
       "            [0., 0., 0.,  ..., 0., 0., 0.]],\n",
       "   \n",
       "           [[0., 0., 0.,  ..., 0., 0., 0.],\n",
       "            [0., 0., 0.,  ..., 0., 0., 0.],\n",
       "            [0., 0., 0.,  ..., 0., 0., 0.],\n",
       "            ...,\n",
       "            [0., 0., 0.,  ..., 0., 0., 0.],\n",
       "            [0., 0., 0.,  ..., 0., 0., 0.],\n",
       "            [0., 0., 0.,  ..., 0., 0., 0.]]])},\n",
       "  {'image': tensor([[[0.0000, 0.0000, 0.0000,  ..., 0.0000, 0.0000, 0.0000],\n",
       "            [0.0000, 0.0000, 0.0000,  ..., 0.0000, 0.0000, 0.0000],\n",
       "            [0.0000, 0.0000, 0.0000,  ..., 0.0000, 0.0000, 0.0000],\n",
       "            ...,\n",
       "            [0.0235, 0.0196, 0.0157,  ..., 0.0000, 0.0000, 0.0000],\n",
       "            [0.0235, 0.0196, 0.0196,  ..., 0.0000, 0.0000, 0.0000],\n",
       "            [0.0235, 0.0235, 0.0196,  ..., 0.0000, 0.0000, 0.0000]],\n",
       "   \n",
       "           [[0.0000, 0.0000, 0.0000,  ..., 0.0000, 0.0000, 0.0000],\n",
       "            [0.0000, 0.0000, 0.0000,  ..., 0.0000, 0.0000, 0.0000],\n",
       "            [0.0000, 0.0000, 0.0000,  ..., 0.0000, 0.0000, 0.0000],\n",
       "            ...,\n",
       "            [0.0235, 0.0196, 0.0157,  ..., 0.0000, 0.0000, 0.0000],\n",
       "            [0.0235, 0.0196, 0.0196,  ..., 0.0000, 0.0000, 0.0000],\n",
       "            [0.0235, 0.0235, 0.0196,  ..., 0.0000, 0.0000, 0.0000]],\n",
       "   \n",
       "           [[0.0000, 0.0000, 0.0000,  ..., 0.0000, 0.0000, 0.0000],\n",
       "            [0.0000, 0.0000, 0.0000,  ..., 0.0000, 0.0000, 0.0000],\n",
       "            [0.0000, 0.0000, 0.0000,  ..., 0.0000, 0.0000, 0.0000],\n",
       "            ...,\n",
       "            [0.0235, 0.0196, 0.0157,  ..., 0.0000, 0.0000, 0.0000],\n",
       "            [0.0235, 0.0196, 0.0196,  ..., 0.0000, 0.0000, 0.0000],\n",
       "            [0.0235, 0.0235, 0.0196,  ..., 0.0000, 0.0000, 0.0000]]])},\n",
       "  {'image': tensor([[[0.0000, 0.0000, 0.0000,  ..., 0.0000, 0.0000, 0.0000],\n",
       "            [0.0000, 0.0039, 0.0078,  ..., 0.0000, 0.0000, 0.0000],\n",
       "            [0.0078, 0.0000, 0.0000,  ..., 0.0000, 0.0000, 0.0000],\n",
       "            ...,\n",
       "            [0.0039, 0.0078, 0.0000,  ..., 0.0000, 0.0000, 0.0000],\n",
       "            [0.0000, 0.0000, 0.0000,  ..., 0.0000, 0.0000, 0.0000],\n",
       "            [0.0000, 0.0039, 0.0000,  ..., 0.0000, 0.0000, 0.0000]],\n",
       "   \n",
       "           [[0.0000, 0.0000, 0.0000,  ..., 0.0000, 0.0000, 0.0000],\n",
       "            [0.0000, 0.0039, 0.0078,  ..., 0.0000, 0.0000, 0.0000],\n",
       "            [0.0078, 0.0000, 0.0000,  ..., 0.0000, 0.0000, 0.0000],\n",
       "            ...,\n",
       "            [0.0039, 0.0078, 0.0000,  ..., 0.0000, 0.0000, 0.0000],\n",
       "            [0.0000, 0.0000, 0.0000,  ..., 0.0000, 0.0000, 0.0000],\n",
       "            [0.0000, 0.0039, 0.0000,  ..., 0.0000, 0.0000, 0.0000]],\n",
       "   \n",
       "           [[0.0000, 0.0000, 0.0000,  ..., 0.0000, 0.0000, 0.0000],\n",
       "            [0.0000, 0.0039, 0.0078,  ..., 0.0000, 0.0000, 0.0000],\n",
       "            [0.0078, 0.0000, 0.0000,  ..., 0.0000, 0.0000, 0.0000],\n",
       "            ...,\n",
       "            [0.0039, 0.0078, 0.0000,  ..., 0.0000, 0.0000, 0.0000],\n",
       "            [0.0000, 0.0000, 0.0000,  ..., 0.0000, 0.0000, 0.0000],\n",
       "            [0.0000, 0.0039, 0.0000,  ..., 0.0000, 0.0000, 0.0000]]])},\n",
       "  {'image': tensor([[[0.0000, 0.0000, 0.0000,  ..., 0.0000, 0.0000, 0.0000],\n",
       "            [0.0000, 0.0000, 0.0000,  ..., 0.0000, 0.0000, 0.0000],\n",
       "            [0.0000, 0.0000, 0.0000,  ..., 0.0000, 0.0000, 0.0000],\n",
       "            ...,\n",
       "            [0.0000, 0.0000, 0.0000,  ..., 0.0000, 0.0000, 0.0000],\n",
       "            [0.0000, 0.0000, 0.0000,  ..., 0.0039, 0.0000, 0.0000],\n",
       "            [0.0000, 0.0000, 0.0000,  ..., 0.0000, 0.0000, 0.0000]],\n",
       "   \n",
       "           [[0.0000, 0.0000, 0.0000,  ..., 0.0000, 0.0000, 0.0000],\n",
       "            [0.0000, 0.0000, 0.0000,  ..., 0.0000, 0.0000, 0.0000],\n",
       "            [0.0000, 0.0000, 0.0000,  ..., 0.0000, 0.0000, 0.0000],\n",
       "            ...,\n",
       "            [0.0000, 0.0000, 0.0000,  ..., 0.0000, 0.0000, 0.0000],\n",
       "            [0.0000, 0.0000, 0.0000,  ..., 0.0039, 0.0000, 0.0000],\n",
       "            [0.0000, 0.0000, 0.0000,  ..., 0.0000, 0.0000, 0.0000]],\n",
       "   \n",
       "           [[0.0000, 0.0000, 0.0000,  ..., 0.0000, 0.0000, 0.0000],\n",
       "            [0.0000, 0.0000, 0.0000,  ..., 0.0000, 0.0000, 0.0000],\n",
       "            [0.0000, 0.0000, 0.0000,  ..., 0.0000, 0.0000, 0.0000],\n",
       "            ...,\n",
       "            [0.0000, 0.0000, 0.0000,  ..., 0.0000, 0.0000, 0.0000],\n",
       "            [0.0000, 0.0000, 0.0000,  ..., 0.0039, 0.0000, 0.0000],\n",
       "            [0.0000, 0.0000, 0.0000,  ..., 0.0000, 0.0000, 0.0000]]])},\n",
       "  {'image': tensor([[[0., 0., 0.,  ..., 0., 0., 0.],\n",
       "            [0., 0., 0.,  ..., 0., 0., 0.],\n",
       "            [0., 0., 0.,  ..., 0., 0., 0.],\n",
       "            ...,\n",
       "            [0., 0., 0.,  ..., 0., 0., 0.],\n",
       "            [0., 0., 0.,  ..., 0., 0., 0.],\n",
       "            [0., 0., 0.,  ..., 0., 0., 0.]],\n",
       "   \n",
       "           [[0., 0., 0.,  ..., 0., 0., 0.],\n",
       "            [0., 0., 0.,  ..., 0., 0., 0.],\n",
       "            [0., 0., 0.,  ..., 0., 0., 0.],\n",
       "            ...,\n",
       "            [0., 0., 0.,  ..., 0., 0., 0.],\n",
       "            [0., 0., 0.,  ..., 0., 0., 0.],\n",
       "            [0., 0., 0.,  ..., 0., 0., 0.]],\n",
       "   \n",
       "           [[0., 0., 0.,  ..., 0., 0., 0.],\n",
       "            [0., 0., 0.,  ..., 0., 0., 0.],\n",
       "            [0., 0., 0.,  ..., 0., 0., 0.],\n",
       "            ...,\n",
       "            [0., 0., 0.,  ..., 0., 0., 0.],\n",
       "            [0., 0., 0.,  ..., 0., 0., 0.],\n",
       "            [0., 0., 0.,  ..., 0., 0., 0.]]])},\n",
       "  {'image': tensor([[[0.0000, 0.0000, 0.0000,  ..., 0.0039, 0.0000, 0.0000],\n",
       "            [0.0431, 0.0431, 0.0431,  ..., 0.0000, 0.0000, 0.0000],\n",
       "            [0.0471, 0.0471, 0.0471,  ..., 0.0000, 0.0000, 0.0039],\n",
       "            ...,\n",
       "            [0.0000, 0.0000, 0.0078,  ..., 0.0000, 0.0118, 0.0000],\n",
       "            [0.0039, 0.0039, 0.0000,  ..., 0.0039, 0.0039, 0.0000],\n",
       "            [0.0000, 0.0039, 0.0000,  ..., 0.0000, 0.0000, 0.0039]],\n",
       "   \n",
       "           [[0.0000, 0.0000, 0.0000,  ..., 0.0039, 0.0000, 0.0000],\n",
       "            [0.0431, 0.0431, 0.0431,  ..., 0.0000, 0.0000, 0.0000],\n",
       "            [0.0471, 0.0471, 0.0471,  ..., 0.0000, 0.0000, 0.0039],\n",
       "            ...,\n",
       "            [0.0000, 0.0000, 0.0078,  ..., 0.0000, 0.0118, 0.0000],\n",
       "            [0.0039, 0.0039, 0.0000,  ..., 0.0039, 0.0039, 0.0000],\n",
       "            [0.0000, 0.0039, 0.0000,  ..., 0.0000, 0.0000, 0.0039]],\n",
       "   \n",
       "           [[0.0000, 0.0000, 0.0000,  ..., 0.0039, 0.0000, 0.0000],\n",
       "            [0.0431, 0.0431, 0.0431,  ..., 0.0000, 0.0000, 0.0000],\n",
       "            [0.0471, 0.0471, 0.0471,  ..., 0.0000, 0.0000, 0.0039],\n",
       "            ...,\n",
       "            [0.0000, 0.0000, 0.0078,  ..., 0.0000, 0.0118, 0.0000],\n",
       "            [0.0039, 0.0039, 0.0000,  ..., 0.0039, 0.0039, 0.0000],\n",
       "            [0.0000, 0.0039, 0.0000,  ..., 0.0000, 0.0000, 0.0039]]])},\n",
       "  {'image': tensor([[[0.0000, 0.0000, 0.0000,  ..., 0.0000, 0.0000, 0.0000],\n",
       "            [0.0000, 0.0000, 0.0000,  ..., 0.0000, 0.0000, 0.0000],\n",
       "            [0.0000, 0.0000, 0.0000,  ..., 0.0000, 0.0000, 0.0000],\n",
       "            ...,\n",
       "            [0.0667, 0.0588, 0.0588,  ..., 0.0000, 0.0000, 0.0000],\n",
       "            [0.0667, 0.0588, 0.0627,  ..., 0.0000, 0.0000, 0.0039],\n",
       "            [0.0706, 0.0627, 0.0627,  ..., 0.0000, 0.0000, 0.0000]],\n",
       "   \n",
       "           [[0.0000, 0.0000, 0.0000,  ..., 0.0000, 0.0000, 0.0000],\n",
       "            [0.0000, 0.0000, 0.0000,  ..., 0.0000, 0.0000, 0.0000],\n",
       "            [0.0000, 0.0000, 0.0000,  ..., 0.0000, 0.0000, 0.0000],\n",
       "            ...,\n",
       "            [0.0667, 0.0588, 0.0588,  ..., 0.0000, 0.0000, 0.0000],\n",
       "            [0.0667, 0.0588, 0.0627,  ..., 0.0000, 0.0000, 0.0039],\n",
       "            [0.0706, 0.0627, 0.0627,  ..., 0.0000, 0.0000, 0.0000]],\n",
       "   \n",
       "           [[0.0000, 0.0000, 0.0000,  ..., 0.0000, 0.0000, 0.0000],\n",
       "            [0.0000, 0.0000, 0.0000,  ..., 0.0000, 0.0000, 0.0000],\n",
       "            [0.0000, 0.0000, 0.0000,  ..., 0.0000, 0.0000, 0.0000],\n",
       "            ...,\n",
       "            [0.0667, 0.0588, 0.0588,  ..., 0.0000, 0.0000, 0.0000],\n",
       "            [0.0667, 0.0588, 0.0627,  ..., 0.0000, 0.0000, 0.0039],\n",
       "            [0.0706, 0.0627, 0.0627,  ..., 0.0000, 0.0000, 0.0000]]])},\n",
       "  {'image': tensor([[[0.0000, 0.0196, 0.0000,  ..., 0.0000, 0.0000, 0.0000],\n",
       "            [0.0078, 0.0784, 0.0745,  ..., 0.0157, 0.0039, 0.0039],\n",
       "            [0.0000, 0.0745, 0.0784,  ..., 0.0039, 0.0000, 0.0000],\n",
       "            ...,\n",
       "            [0.0000, 0.0000, 0.0000,  ..., 0.0000, 0.0000, 0.0000],\n",
       "            [0.0000, 0.0000, 0.0000,  ..., 0.0000, 0.0000, 0.0000],\n",
       "            [0.0000, 0.0000, 0.0000,  ..., 0.0000, 0.0000, 0.0000]],\n",
       "   \n",
       "           [[0.0000, 0.0196, 0.0000,  ..., 0.0000, 0.0000, 0.0000],\n",
       "            [0.0078, 0.0784, 0.0745,  ..., 0.0157, 0.0039, 0.0039],\n",
       "            [0.0000, 0.0745, 0.0784,  ..., 0.0039, 0.0000, 0.0000],\n",
       "            ...,\n",
       "            [0.0000, 0.0000, 0.0000,  ..., 0.0000, 0.0000, 0.0000],\n",
       "            [0.0000, 0.0000, 0.0000,  ..., 0.0000, 0.0000, 0.0000],\n",
       "            [0.0000, 0.0000, 0.0000,  ..., 0.0000, 0.0000, 0.0000]],\n",
       "   \n",
       "           [[0.0000, 0.0196, 0.0000,  ..., 0.0000, 0.0000, 0.0000],\n",
       "            [0.0078, 0.0784, 0.0745,  ..., 0.0157, 0.0039, 0.0039],\n",
       "            [0.0000, 0.0745, 0.0784,  ..., 0.0039, 0.0000, 0.0000],\n",
       "            ...,\n",
       "            [0.0000, 0.0000, 0.0000,  ..., 0.0000, 0.0000, 0.0000],\n",
       "            [0.0000, 0.0000, 0.0000,  ..., 0.0000, 0.0000, 0.0000],\n",
       "            [0.0000, 0.0000, 0.0000,  ..., 0.0000, 0.0000, 0.0000]]])},\n",
       "  {'image': tensor([[[0.0000, 0.0000, 0.0000,  ..., 0.0000, 0.0000, 0.0000],\n",
       "            [0.0000, 0.0000, 0.0000,  ..., 0.0000, 0.0000, 0.0000],\n",
       "            [0.0000, 0.0000, 0.0000,  ..., 0.0000, 0.0000, 0.0000],\n",
       "            ...,\n",
       "            [0.0000, 0.0000, 0.0078,  ..., 0.0078, 0.0039, 0.0353],\n",
       "            [0.0000, 0.0000, 0.0000,  ..., 0.0118, 0.0039, 0.0275],\n",
       "            [0.0000, 0.0039, 0.0000,  ..., 0.0392, 0.0235, 0.0392]],\n",
       "   \n",
       "           [[0.0000, 0.0000, 0.0000,  ..., 0.0000, 0.0000, 0.0000],\n",
       "            [0.0000, 0.0000, 0.0000,  ..., 0.0000, 0.0000, 0.0000],\n",
       "            [0.0000, 0.0000, 0.0000,  ..., 0.0000, 0.0000, 0.0000],\n",
       "            ...,\n",
       "            [0.0000, 0.0000, 0.0078,  ..., 0.0078, 0.0039, 0.0353],\n",
       "            [0.0000, 0.0000, 0.0000,  ..., 0.0118, 0.0039, 0.0275],\n",
       "            [0.0000, 0.0039, 0.0000,  ..., 0.0392, 0.0235, 0.0392]],\n",
       "   \n",
       "           [[0.0000, 0.0000, 0.0000,  ..., 0.0000, 0.0000, 0.0000],\n",
       "            [0.0000, 0.0000, 0.0000,  ..., 0.0000, 0.0000, 0.0000],\n",
       "            [0.0000, 0.0000, 0.0000,  ..., 0.0000, 0.0000, 0.0000],\n",
       "            ...,\n",
       "            [0.0000, 0.0000, 0.0078,  ..., 0.0078, 0.0039, 0.0353],\n",
       "            [0.0000, 0.0000, 0.0000,  ..., 0.0118, 0.0039, 0.0275],\n",
       "            [0.0000, 0.0039, 0.0000,  ..., 0.0392, 0.0235, 0.0392]]])},\n",
       "  {'image': tensor([[[0.6784, 0.6824, 0.6824,  ..., 0.7725, 0.7686, 0.7608],\n",
       "            [0.6784, 0.6784, 0.6824,  ..., 0.7686, 0.7647, 0.7608],\n",
       "            [0.6784, 0.6784, 0.6784,  ..., 0.7647, 0.7647, 0.7608],\n",
       "            ...,\n",
       "            [0.7451, 0.7490, 0.7529,  ..., 0.2549, 0.2627, 0.2588],\n",
       "            [0.7490, 0.7529, 0.7529,  ..., 0.2431, 0.2588, 0.2549],\n",
       "            [0.7529, 0.7529, 0.7529,  ..., 0.2431, 0.2588, 0.2510]],\n",
       "   \n",
       "           [[0.6784, 0.6824, 0.6824,  ..., 0.7725, 0.7686, 0.7608],\n",
       "            [0.6784, 0.6784, 0.6824,  ..., 0.7686, 0.7647, 0.7608],\n",
       "            [0.6784, 0.6784, 0.6784,  ..., 0.7647, 0.7647, 0.7608],\n",
       "            ...,\n",
       "            [0.7451, 0.7490, 0.7529,  ..., 0.2549, 0.2627, 0.2588],\n",
       "            [0.7490, 0.7529, 0.7529,  ..., 0.2431, 0.2588, 0.2549],\n",
       "            [0.7529, 0.7529, 0.7529,  ..., 0.2431, 0.2588, 0.2510]],\n",
       "   \n",
       "           [[0.6784, 0.6824, 0.6824,  ..., 0.7725, 0.7686, 0.7608],\n",
       "            [0.6784, 0.6784, 0.6824,  ..., 0.7686, 0.7647, 0.7608],\n",
       "            [0.6784, 0.6784, 0.6784,  ..., 0.7647, 0.7647, 0.7608],\n",
       "            ...,\n",
       "            [0.7451, 0.7490, 0.7529,  ..., 0.2549, 0.2627, 0.2588],\n",
       "            [0.7490, 0.7529, 0.7529,  ..., 0.2431, 0.2588, 0.2549],\n",
       "            [0.7529, 0.7529, 0.7529,  ..., 0.2431, 0.2588, 0.2510]]])},\n",
       "  {'image': tensor([[[0., 0., 0.,  ..., 0., 0., 0.],\n",
       "            [0., 0., 0.,  ..., 0., 0., 0.],\n",
       "            [0., 0., 0.,  ..., 0., 0., 0.],\n",
       "            ...,\n",
       "            [0., 0., 0.,  ..., 0., 0., 0.],\n",
       "            [0., 0., 0.,  ..., 0., 0., 0.],\n",
       "            [0., 0., 0.,  ..., 0., 0., 0.]],\n",
       "   \n",
       "           [[0., 0., 0.,  ..., 0., 0., 0.],\n",
       "            [0., 0., 0.,  ..., 0., 0., 0.],\n",
       "            [0., 0., 0.,  ..., 0., 0., 0.],\n",
       "            ...,\n",
       "            [0., 0., 0.,  ..., 0., 0., 0.],\n",
       "            [0., 0., 0.,  ..., 0., 0., 0.],\n",
       "            [0., 0., 0.,  ..., 0., 0., 0.]],\n",
       "   \n",
       "           [[0., 0., 0.,  ..., 0., 0., 0.],\n",
       "            [0., 0., 0.,  ..., 0., 0., 0.],\n",
       "            [0., 0., 0.,  ..., 0., 0., 0.],\n",
       "            ...,\n",
       "            [0., 0., 0.,  ..., 0., 0., 0.],\n",
       "            [0., 0., 0.,  ..., 0., 0., 0.],\n",
       "            [0., 0., 0.,  ..., 0., 0., 0.]]])},\n",
       "  {'image': tensor([[[0.0000, 0.0000, 0.0000,  ..., 0.0000, 0.0000, 0.0000],\n",
       "            [0.0000, 0.0000, 0.0000,  ..., 0.0000, 0.0000, 0.0000],\n",
       "            [0.0000, 0.0000, 0.0000,  ..., 0.0000, 0.0000, 0.0000],\n",
       "            ...,\n",
       "            [0.0039, 0.0000, 0.0000,  ..., 0.0039, 0.0039, 0.0000],\n",
       "            [0.0000, 0.0000, 0.0000,  ..., 0.0000, 0.0000, 0.0000],\n",
       "            [0.0000, 0.0000, 0.0000,  ..., 0.0039, 0.0000, 0.0078]],\n",
       "   \n",
       "           [[0.0000, 0.0000, 0.0000,  ..., 0.0000, 0.0000, 0.0000],\n",
       "            [0.0000, 0.0000, 0.0000,  ..., 0.0000, 0.0000, 0.0000],\n",
       "            [0.0000, 0.0000, 0.0000,  ..., 0.0000, 0.0000, 0.0000],\n",
       "            ...,\n",
       "            [0.0039, 0.0000, 0.0000,  ..., 0.0039, 0.0039, 0.0000],\n",
       "            [0.0000, 0.0000, 0.0000,  ..., 0.0000, 0.0000, 0.0000],\n",
       "            [0.0000, 0.0000, 0.0000,  ..., 0.0039, 0.0000, 0.0078]],\n",
       "   \n",
       "           [[0.0000, 0.0000, 0.0000,  ..., 0.0000, 0.0000, 0.0000],\n",
       "            [0.0000, 0.0000, 0.0000,  ..., 0.0000, 0.0000, 0.0000],\n",
       "            [0.0000, 0.0000, 0.0000,  ..., 0.0000, 0.0000, 0.0000],\n",
       "            ...,\n",
       "            [0.0039, 0.0000, 0.0000,  ..., 0.0039, 0.0039, 0.0000],\n",
       "            [0.0000, 0.0000, 0.0000,  ..., 0.0000, 0.0000, 0.0000],\n",
       "            [0.0000, 0.0000, 0.0000,  ..., 0.0039, 0.0000, 0.0078]]])},\n",
       "  {'image': tensor([[[0.5333, 0.5412, 0.5412,  ..., 0.8471, 0.8549, 0.8510],\n",
       "            [0.5333, 0.5373, 0.5373,  ..., 0.8392, 0.8471, 0.8431],\n",
       "            [0.5333, 0.5333, 0.5333,  ..., 0.8431, 0.8471, 0.8471],\n",
       "            ...,\n",
       "            [0.7608, 0.7529, 0.7490,  ..., 0.3137, 0.3176, 0.3216],\n",
       "            [0.7529, 0.7529, 0.7451,  ..., 0.3098, 0.3137, 0.3216],\n",
       "            [0.7608, 0.7608, 0.7569,  ..., 0.3059, 0.3137, 0.3216]],\n",
       "   \n",
       "           [[0.5333, 0.5412, 0.5412,  ..., 0.8471, 0.8549, 0.8510],\n",
       "            [0.5333, 0.5373, 0.5373,  ..., 0.8392, 0.8471, 0.8431],\n",
       "            [0.5333, 0.5333, 0.5333,  ..., 0.8431, 0.8471, 0.8471],\n",
       "            ...,\n",
       "            [0.7608, 0.7529, 0.7490,  ..., 0.3137, 0.3176, 0.3216],\n",
       "            [0.7529, 0.7529, 0.7451,  ..., 0.3098, 0.3137, 0.3216],\n",
       "            [0.7608, 0.7608, 0.7569,  ..., 0.3059, 0.3137, 0.3216]],\n",
       "   \n",
       "           [[0.5333, 0.5412, 0.5412,  ..., 0.8471, 0.8549, 0.8510],\n",
       "            [0.5333, 0.5373, 0.5373,  ..., 0.8392, 0.8471, 0.8431],\n",
       "            [0.5333, 0.5333, 0.5333,  ..., 0.8431, 0.8471, 0.8471],\n",
       "            ...,\n",
       "            [0.7608, 0.7529, 0.7490,  ..., 0.3137, 0.3176, 0.3216],\n",
       "            [0.7529, 0.7529, 0.7451,  ..., 0.3098, 0.3137, 0.3216],\n",
       "            [0.7608, 0.7608, 0.7569,  ..., 0.3059, 0.3137, 0.3216]]])},\n",
       "  {'image': tensor([[[0.0000, 0.0039, 0.0039,  ..., 0.0000, 0.0000, 0.0000],\n",
       "            [0.0000, 0.0000, 0.0000,  ..., 0.0000, 0.0000, 0.0000],\n",
       "            [0.0039, 0.0000, 0.0000,  ..., 0.0000, 0.0000, 0.0000],\n",
       "            ...,\n",
       "            [0.0000, 0.0039, 0.0000,  ..., 0.0000, 0.0000, 0.0000],\n",
       "            [0.0000, 0.0078, 0.0000,  ..., 0.0000, 0.0000, 0.0000],\n",
       "            [0.0039, 0.0000, 0.0078,  ..., 0.0000, 0.0000, 0.0000]],\n",
       "   \n",
       "           [[0.0000, 0.0039, 0.0039,  ..., 0.0000, 0.0000, 0.0000],\n",
       "            [0.0000, 0.0000, 0.0000,  ..., 0.0000, 0.0000, 0.0000],\n",
       "            [0.0039, 0.0000, 0.0000,  ..., 0.0000, 0.0000, 0.0000],\n",
       "            ...,\n",
       "            [0.0000, 0.0039, 0.0000,  ..., 0.0000, 0.0000, 0.0000],\n",
       "            [0.0000, 0.0078, 0.0000,  ..., 0.0000, 0.0000, 0.0000],\n",
       "            [0.0039, 0.0000, 0.0078,  ..., 0.0000, 0.0000, 0.0000]],\n",
       "   \n",
       "           [[0.0000, 0.0039, 0.0039,  ..., 0.0000, 0.0000, 0.0000],\n",
       "            [0.0000, 0.0000, 0.0000,  ..., 0.0000, 0.0000, 0.0000],\n",
       "            [0.0039, 0.0000, 0.0000,  ..., 0.0000, 0.0000, 0.0000],\n",
       "            ...,\n",
       "            [0.0000, 0.0039, 0.0000,  ..., 0.0000, 0.0000, 0.0000],\n",
       "            [0.0000, 0.0078, 0.0000,  ..., 0.0000, 0.0000, 0.0000],\n",
       "            [0.0039, 0.0000, 0.0078,  ..., 0.0000, 0.0000, 0.0000]]])}],\n",
       " 'clinical': [{'cat': tensor([0], dtype=torch.int32),\n",
       "   'num': tensor([ 79.0000,  98.3000,  69.0000,  20.0000,  91.0000, 121.0000,  73.0000,\n",
       "             2.0000])},\n",
       "  {'cat': tensor([0], dtype=torch.int32),\n",
       "   'num': tensor([ 60.0000,  97.8000,  81.0000,  16.0000, 100.0000, 161.0000,  85.0000,\n",
       "             3.0000])},\n",
       "  {'cat': tensor([0], dtype=torch.int32),\n",
       "   'num': tensor([ 52.0000,  98.8000, 104.0000,  20.0000,  96.0000, 128.0000,  87.0000,\n",
       "             2.0000])},\n",
       "  {'cat': tensor([1], dtype=torch.int32),\n",
       "   'num': tensor([ 39.0000,  98.2000,  73.0000,  16.0000, 100.0000, 133.0000,  89.0000,\n",
       "             3.0000])},\n",
       "  {'cat': tensor([0], dtype=torch.int32),\n",
       "   'num': tensor([ 50.0000,  98.3000,  82.0000,  16.0000,  95.0000, 133.0000,  60.0000,\n",
       "             2.0000])},\n",
       "  {'cat': tensor([1], dtype=torch.int32),\n",
       "   'num': tensor([ 55.0000,  99.6000,  68.0000,  18.0000, 100.0000, 108.0000,  69.0000,\n",
       "             3.0000])},\n",
       "  {'cat': tensor([0], dtype=torch.int32),\n",
       "   'num': tensor([ 59.0000,  97.7000,  72.0000,  20.0000, 100.0000, 159.0000,  95.0000,\n",
       "             3.0000])},\n",
       "  {'cat': tensor([1], dtype=torch.int32),\n",
       "   'num': tensor([ 58.0000,  98.2000,  89.0000,  20.0000,  99.0000, 126.0000,  77.0000,\n",
       "             2.0000])},\n",
       "  {'cat': tensor([0], dtype=torch.int32),\n",
       "   'num': tensor([59., nan, nan, nan, nan, nan, nan, nan])},\n",
       "  {'cat': tensor([0], dtype=torch.int32),\n",
       "   'num': tensor([ 77.0000,  97.9000,  62.0000,  18.0000, 100.0000, 137.0000, 107.0000,\n",
       "             3.0000])},\n",
       "  {'cat': tensor([1], dtype=torch.int32),\n",
       "   'num': tensor([ 76.,  98., 104.,  20.,  98., 124.,  75.,   2.])},\n",
       "  {'cat': tensor([0], dtype=torch.int32),\n",
       "   'num': tensor([ 77.0000,  98.5000,  74.0000,  16.0000,  96.0000, 113.0000,  64.0000,\n",
       "             3.0000])},\n",
       "  {'cat': tensor([0], dtype=torch.int32),\n",
       "   'num': tensor([ 50.,  97.,  94.,  18., 100., 117.,  79.,   3.])},\n",
       "  {'cat': tensor([1], dtype=torch.int32),\n",
       "   'num': tensor([ 53.0000,  97.8000,  88.0000,  18.0000,  94.0000, 135.0000, 109.0000,\n",
       "             3.0000])},\n",
       "  {'cat': tensor([0], dtype=torch.int32),\n",
       "   'num': tensor([ 84.0000,  98.4000,  85.0000,  62.0000, 100.0000, 117.0000,  60.0000,\n",
       "             2.0000])},\n",
       "  {'cat': tensor([0], dtype=torch.int32),\n",
       "   'num': tensor([ 49., 103., 140.,  22.,  95., 141.,  99.,   1.])}]}"
      ]
     },
     "execution_count": 11,
     "metadata": {},
     "output_type": "execute_result"
    }
   ],
   "source": [
    "model.x # xrays stacked but not xrays"
   ]
  },
  {
   "cell_type": "code",
   "execution_count": null,
   "metadata": {},
   "outputs": [],
   "source": []
  },
  {
   "cell_type": "code",
   "execution_count": null,
   "metadata": {},
   "outputs": [
    {
     "data": {
      "text/plain": [
       "{'xrays': {'image': [tensor([[[0.0706, 0.0706, 0.0706,  ..., 0.0706, 0.0706, 0.0706],\n",
       "            [0.0706, 0.0706, 0.0706,  ..., 0.0706, 0.0706, 0.0706],\n",
       "            [0.0706, 0.0706, 0.0706,  ..., 0.0706, 0.0706, 0.0706],\n",
       "            ...,\n",
       "            [0.9176, 0.8902, 0.9608,  ..., 0.8627, 0.8863, 0.8667],\n",
       "            [0.9647, 0.9529, 0.9569,  ..., 0.8863, 0.8863, 0.8784],\n",
       "            [0.9529, 0.9373, 0.9529,  ..., 0.9255, 0.8941, 0.8784]],\n",
       "   \n",
       "           [[0.0706, 0.0706, 0.0706,  ..., 0.0706, 0.0706, 0.0706],\n",
       "            [0.0706, 0.0706, 0.0706,  ..., 0.0706, 0.0706, 0.0706],\n",
       "            [0.0706, 0.0706, 0.0706,  ..., 0.0706, 0.0706, 0.0706],\n",
       "            ...,\n",
       "            [0.9176, 0.8902, 0.9608,  ..., 0.8627, 0.8863, 0.8667],\n",
       "            [0.9647, 0.9529, 0.9569,  ..., 0.8863, 0.8863, 0.8784],\n",
       "            [0.9529, 0.9373, 0.9529,  ..., 0.9255, 0.8941, 0.8784]],\n",
       "   \n",
       "           [[0.0706, 0.0706, 0.0706,  ..., 0.0706, 0.0706, 0.0706],\n",
       "            [0.0706, 0.0706, 0.0706,  ..., 0.0706, 0.0706, 0.0706],\n",
       "            [0.0706, 0.0706, 0.0706,  ..., 0.0706, 0.0706, 0.0706],\n",
       "            ...,\n",
       "            [0.9176, 0.8902, 0.9608,  ..., 0.8627, 0.8863, 0.8667],\n",
       "            [0.9647, 0.9529, 0.9569,  ..., 0.8863, 0.8863, 0.8784],\n",
       "            [0.9529, 0.9373, 0.9529,  ..., 0.9255, 0.8941, 0.8784]]]),\n",
       "   tensor([[[0., 0., 0.,  ..., 0., 0., 0.],\n",
       "            [0., 0., 0.,  ..., 0., 0., 0.],\n",
       "            [0., 0., 0.,  ..., 0., 0., 0.],\n",
       "            ...,\n",
       "            [0., 0., 0.,  ..., 0., 0., 0.],\n",
       "            [0., 0., 0.,  ..., 0., 0., 0.],\n",
       "            [0., 0., 0.,  ..., 0., 0., 0.]],\n",
       "   \n",
       "           [[0., 0., 0.,  ..., 0., 0., 0.],\n",
       "            [0., 0., 0.,  ..., 0., 0., 0.],\n",
       "            [0., 0., 0.,  ..., 0., 0., 0.],\n",
       "            ...,\n",
       "            [0., 0., 0.,  ..., 0., 0., 0.],\n",
       "            [0., 0., 0.,  ..., 0., 0., 0.],\n",
       "            [0., 0., 0.,  ..., 0., 0., 0.]],\n",
       "   \n",
       "           [[0., 0., 0.,  ..., 0., 0., 0.],\n",
       "            [0., 0., 0.,  ..., 0., 0., 0.],\n",
       "            [0., 0., 0.,  ..., 0., 0., 0.],\n",
       "            ...,\n",
       "            [0., 0., 0.,  ..., 0., 0., 0.],\n",
       "            [0., 0., 0.,  ..., 0., 0., 0.],\n",
       "            [0., 0., 0.,  ..., 0., 0., 0.]]]),\n",
       "   tensor([[[0., 0., 0.,  ..., 0., 0., 0.],\n",
       "            [0., 0., 0.,  ..., 0., 0., 0.],\n",
       "            [0., 0., 0.,  ..., 0., 0., 0.],\n",
       "            ...,\n",
       "            [0., 0., 0.,  ..., 0., 0., 0.],\n",
       "            [0., 0., 0.,  ..., 0., 0., 0.],\n",
       "            [0., 0., 0.,  ..., 0., 0., 0.]],\n",
       "   \n",
       "           [[0., 0., 0.,  ..., 0., 0., 0.],\n",
       "            [0., 0., 0.,  ..., 0., 0., 0.],\n",
       "            [0., 0., 0.,  ..., 0., 0., 0.],\n",
       "            ...,\n",
       "            [0., 0., 0.,  ..., 0., 0., 0.],\n",
       "            [0., 0., 0.,  ..., 0., 0., 0.],\n",
       "            [0., 0., 0.,  ..., 0., 0., 0.]],\n",
       "   \n",
       "           [[0., 0., 0.,  ..., 0., 0., 0.],\n",
       "            [0., 0., 0.,  ..., 0., 0., 0.],\n",
       "            [0., 0., 0.,  ..., 0., 0., 0.],\n",
       "            ...,\n",
       "            [0., 0., 0.,  ..., 0., 0., 0.],\n",
       "            [0., 0., 0.,  ..., 0., 0., 0.],\n",
       "            [0., 0., 0.,  ..., 0., 0., 0.]]]),\n",
       "   tensor([[[0.0000, 0.0000, 0.0000,  ..., 0.0000, 0.0000, 0.0000],\n",
       "            [0.0000, 0.0000, 0.0000,  ..., 0.0000, 0.0000, 0.0000],\n",
       "            [0.0000, 0.0000, 0.0000,  ..., 0.0000, 0.0000, 0.0000],\n",
       "            ...,\n",
       "            [0.0235, 0.0196, 0.0157,  ..., 0.0000, 0.0000, 0.0000],\n",
       "            [0.0235, 0.0196, 0.0196,  ..., 0.0000, 0.0000, 0.0000],\n",
       "            [0.0235, 0.0235, 0.0196,  ..., 0.0000, 0.0000, 0.0000]],\n",
       "   \n",
       "           [[0.0000, 0.0000, 0.0000,  ..., 0.0000, 0.0000, 0.0000],\n",
       "            [0.0000, 0.0000, 0.0000,  ..., 0.0000, 0.0000, 0.0000],\n",
       "            [0.0000, 0.0000, 0.0000,  ..., 0.0000, 0.0000, 0.0000],\n",
       "            ...,\n",
       "            [0.0235, 0.0196, 0.0157,  ..., 0.0000, 0.0000, 0.0000],\n",
       "            [0.0235, 0.0196, 0.0196,  ..., 0.0000, 0.0000, 0.0000],\n",
       "            [0.0235, 0.0235, 0.0196,  ..., 0.0000, 0.0000, 0.0000]],\n",
       "   \n",
       "           [[0.0000, 0.0000, 0.0000,  ..., 0.0000, 0.0000, 0.0000],\n",
       "            [0.0000, 0.0000, 0.0000,  ..., 0.0000, 0.0000, 0.0000],\n",
       "            [0.0000, 0.0000, 0.0000,  ..., 0.0000, 0.0000, 0.0000],\n",
       "            ...,\n",
       "            [0.0235, 0.0196, 0.0157,  ..., 0.0000, 0.0000, 0.0000],\n",
       "            [0.0235, 0.0196, 0.0196,  ..., 0.0000, 0.0000, 0.0000],\n",
       "            [0.0235, 0.0235, 0.0196,  ..., 0.0000, 0.0000, 0.0000]]]),\n",
       "   tensor([[[0.0000, 0.0000, 0.0000,  ..., 0.0000, 0.0000, 0.0000],\n",
       "            [0.0000, 0.0039, 0.0078,  ..., 0.0000, 0.0000, 0.0000],\n",
       "            [0.0078, 0.0000, 0.0000,  ..., 0.0000, 0.0000, 0.0000],\n",
       "            ...,\n",
       "            [0.0039, 0.0078, 0.0000,  ..., 0.0000, 0.0000, 0.0000],\n",
       "            [0.0000, 0.0000, 0.0000,  ..., 0.0000, 0.0000, 0.0000],\n",
       "            [0.0000, 0.0039, 0.0000,  ..., 0.0000, 0.0000, 0.0000]],\n",
       "   \n",
       "           [[0.0000, 0.0000, 0.0000,  ..., 0.0000, 0.0000, 0.0000],\n",
       "            [0.0000, 0.0039, 0.0078,  ..., 0.0000, 0.0000, 0.0000],\n",
       "            [0.0078, 0.0000, 0.0000,  ..., 0.0000, 0.0000, 0.0000],\n",
       "            ...,\n",
       "            [0.0039, 0.0078, 0.0000,  ..., 0.0000, 0.0000, 0.0000],\n",
       "            [0.0000, 0.0000, 0.0000,  ..., 0.0000, 0.0000, 0.0000],\n",
       "            [0.0000, 0.0039, 0.0000,  ..., 0.0000, 0.0000, 0.0000]],\n",
       "   \n",
       "           [[0.0000, 0.0000, 0.0000,  ..., 0.0000, 0.0000, 0.0000],\n",
       "            [0.0000, 0.0039, 0.0078,  ..., 0.0000, 0.0000, 0.0000],\n",
       "            [0.0078, 0.0000, 0.0000,  ..., 0.0000, 0.0000, 0.0000],\n",
       "            ...,\n",
       "            [0.0039, 0.0078, 0.0000,  ..., 0.0000, 0.0000, 0.0000],\n",
       "            [0.0000, 0.0000, 0.0000,  ..., 0.0000, 0.0000, 0.0000],\n",
       "            [0.0000, 0.0039, 0.0000,  ..., 0.0000, 0.0000, 0.0000]]]),\n",
       "   tensor([[[0.0000, 0.0000, 0.0000,  ..., 0.0000, 0.0000, 0.0000],\n",
       "            [0.0000, 0.0000, 0.0000,  ..., 0.0000, 0.0000, 0.0000],\n",
       "            [0.0000, 0.0000, 0.0000,  ..., 0.0000, 0.0000, 0.0000],\n",
       "            ...,\n",
       "            [0.0000, 0.0000, 0.0000,  ..., 0.0000, 0.0000, 0.0000],\n",
       "            [0.0000, 0.0000, 0.0000,  ..., 0.0039, 0.0000, 0.0000],\n",
       "            [0.0000, 0.0000, 0.0000,  ..., 0.0000, 0.0000, 0.0000]],\n",
       "   \n",
       "           [[0.0000, 0.0000, 0.0000,  ..., 0.0000, 0.0000, 0.0000],\n",
       "            [0.0000, 0.0000, 0.0000,  ..., 0.0000, 0.0000, 0.0000],\n",
       "            [0.0000, 0.0000, 0.0000,  ..., 0.0000, 0.0000, 0.0000],\n",
       "            ...,\n",
       "            [0.0000, 0.0000, 0.0000,  ..., 0.0000, 0.0000, 0.0000],\n",
       "            [0.0000, 0.0000, 0.0000,  ..., 0.0039, 0.0000, 0.0000],\n",
       "            [0.0000, 0.0000, 0.0000,  ..., 0.0000, 0.0000, 0.0000]],\n",
       "   \n",
       "           [[0.0000, 0.0000, 0.0000,  ..., 0.0000, 0.0000, 0.0000],\n",
       "            [0.0000, 0.0000, 0.0000,  ..., 0.0000, 0.0000, 0.0000],\n",
       "            [0.0000, 0.0000, 0.0000,  ..., 0.0000, 0.0000, 0.0000],\n",
       "            ...,\n",
       "            [0.0000, 0.0000, 0.0000,  ..., 0.0000, 0.0000, 0.0000],\n",
       "            [0.0000, 0.0000, 0.0000,  ..., 0.0039, 0.0000, 0.0000],\n",
       "            [0.0000, 0.0000, 0.0000,  ..., 0.0000, 0.0000, 0.0000]]]),\n",
       "   tensor([[[0., 0., 0.,  ..., 0., 0., 0.],\n",
       "            [0., 0., 0.,  ..., 0., 0., 0.],\n",
       "            [0., 0., 0.,  ..., 0., 0., 0.],\n",
       "            ...,\n",
       "            [0., 0., 0.,  ..., 0., 0., 0.],\n",
       "            [0., 0., 0.,  ..., 0., 0., 0.],\n",
       "            [0., 0., 0.,  ..., 0., 0., 0.]],\n",
       "   \n",
       "           [[0., 0., 0.,  ..., 0., 0., 0.],\n",
       "            [0., 0., 0.,  ..., 0., 0., 0.],\n",
       "            [0., 0., 0.,  ..., 0., 0., 0.],\n",
       "            ...,\n",
       "            [0., 0., 0.,  ..., 0., 0., 0.],\n",
       "            [0., 0., 0.,  ..., 0., 0., 0.],\n",
       "            [0., 0., 0.,  ..., 0., 0., 0.]],\n",
       "   \n",
       "           [[0., 0., 0.,  ..., 0., 0., 0.],\n",
       "            [0., 0., 0.,  ..., 0., 0., 0.],\n",
       "            [0., 0., 0.,  ..., 0., 0., 0.],\n",
       "            ...,\n",
       "            [0., 0., 0.,  ..., 0., 0., 0.],\n",
       "            [0., 0., 0.,  ..., 0., 0., 0.],\n",
       "            [0., 0., 0.,  ..., 0., 0., 0.]]]),\n",
       "   tensor([[[0.0000, 0.0000, 0.0000,  ..., 0.0039, 0.0000, 0.0000],\n",
       "            [0.0431, 0.0431, 0.0431,  ..., 0.0000, 0.0000, 0.0000],\n",
       "            [0.0471, 0.0471, 0.0471,  ..., 0.0000, 0.0000, 0.0039],\n",
       "            ...,\n",
       "            [0.0000, 0.0000, 0.0078,  ..., 0.0000, 0.0118, 0.0000],\n",
       "            [0.0039, 0.0039, 0.0000,  ..., 0.0039, 0.0039, 0.0000],\n",
       "            [0.0000, 0.0039, 0.0000,  ..., 0.0000, 0.0000, 0.0039]],\n",
       "   \n",
       "           [[0.0000, 0.0000, 0.0000,  ..., 0.0039, 0.0000, 0.0000],\n",
       "            [0.0431, 0.0431, 0.0431,  ..., 0.0000, 0.0000, 0.0000],\n",
       "            [0.0471, 0.0471, 0.0471,  ..., 0.0000, 0.0000, 0.0039],\n",
       "            ...,\n",
       "            [0.0000, 0.0000, 0.0078,  ..., 0.0000, 0.0118, 0.0000],\n",
       "            [0.0039, 0.0039, 0.0000,  ..., 0.0039, 0.0039, 0.0000],\n",
       "            [0.0000, 0.0039, 0.0000,  ..., 0.0000, 0.0000, 0.0039]],\n",
       "   \n",
       "           [[0.0000, 0.0000, 0.0000,  ..., 0.0039, 0.0000, 0.0000],\n",
       "            [0.0431, 0.0431, 0.0431,  ..., 0.0000, 0.0000, 0.0000],\n",
       "            [0.0471, 0.0471, 0.0471,  ..., 0.0000, 0.0000, 0.0039],\n",
       "            ...,\n",
       "            [0.0000, 0.0000, 0.0078,  ..., 0.0000, 0.0118, 0.0000],\n",
       "            [0.0039, 0.0039, 0.0000,  ..., 0.0039, 0.0039, 0.0000],\n",
       "            [0.0000, 0.0039, 0.0000,  ..., 0.0000, 0.0000, 0.0039]]]),\n",
       "   tensor([[[0.0000, 0.0000, 0.0000,  ..., 0.0000, 0.0000, 0.0000],\n",
       "            [0.0000, 0.0000, 0.0000,  ..., 0.0000, 0.0000, 0.0000],\n",
       "            [0.0000, 0.0000, 0.0000,  ..., 0.0000, 0.0000, 0.0000],\n",
       "            ...,\n",
       "            [0.0667, 0.0588, 0.0588,  ..., 0.0000, 0.0000, 0.0000],\n",
       "            [0.0667, 0.0588, 0.0627,  ..., 0.0000, 0.0000, 0.0039],\n",
       "            [0.0706, 0.0627, 0.0627,  ..., 0.0000, 0.0000, 0.0000]],\n",
       "   \n",
       "           [[0.0000, 0.0000, 0.0000,  ..., 0.0000, 0.0000, 0.0000],\n",
       "            [0.0000, 0.0000, 0.0000,  ..., 0.0000, 0.0000, 0.0000],\n",
       "            [0.0000, 0.0000, 0.0000,  ..., 0.0000, 0.0000, 0.0000],\n",
       "            ...,\n",
       "            [0.0667, 0.0588, 0.0588,  ..., 0.0000, 0.0000, 0.0000],\n",
       "            [0.0667, 0.0588, 0.0627,  ..., 0.0000, 0.0000, 0.0039],\n",
       "            [0.0706, 0.0627, 0.0627,  ..., 0.0000, 0.0000, 0.0000]],\n",
       "   \n",
       "           [[0.0000, 0.0000, 0.0000,  ..., 0.0000, 0.0000, 0.0000],\n",
       "            [0.0000, 0.0000, 0.0000,  ..., 0.0000, 0.0000, 0.0000],\n",
       "            [0.0000, 0.0000, 0.0000,  ..., 0.0000, 0.0000, 0.0000],\n",
       "            ...,\n",
       "            [0.0667, 0.0588, 0.0588,  ..., 0.0000, 0.0000, 0.0000],\n",
       "            [0.0667, 0.0588, 0.0627,  ..., 0.0000, 0.0000, 0.0039],\n",
       "            [0.0706, 0.0627, 0.0627,  ..., 0.0000, 0.0000, 0.0000]]]),\n",
       "   tensor([[[0.0000, 0.0196, 0.0000,  ..., 0.0000, 0.0000, 0.0000],\n",
       "            [0.0078, 0.0784, 0.0745,  ..., 0.0157, 0.0039, 0.0039],\n",
       "            [0.0000, 0.0745, 0.0784,  ..., 0.0039, 0.0000, 0.0000],\n",
       "            ...,\n",
       "            [0.0000, 0.0000, 0.0000,  ..., 0.0000, 0.0000, 0.0000],\n",
       "            [0.0000, 0.0000, 0.0000,  ..., 0.0000, 0.0000, 0.0000],\n",
       "            [0.0000, 0.0000, 0.0000,  ..., 0.0000, 0.0000, 0.0000]],\n",
       "   \n",
       "           [[0.0000, 0.0196, 0.0000,  ..., 0.0000, 0.0000, 0.0000],\n",
       "            [0.0078, 0.0784, 0.0745,  ..., 0.0157, 0.0039, 0.0039],\n",
       "            [0.0000, 0.0745, 0.0784,  ..., 0.0039, 0.0000, 0.0000],\n",
       "            ...,\n",
       "            [0.0000, 0.0000, 0.0000,  ..., 0.0000, 0.0000, 0.0000],\n",
       "            [0.0000, 0.0000, 0.0000,  ..., 0.0000, 0.0000, 0.0000],\n",
       "            [0.0000, 0.0000, 0.0000,  ..., 0.0000, 0.0000, 0.0000]],\n",
       "   \n",
       "           [[0.0000, 0.0196, 0.0000,  ..., 0.0000, 0.0000, 0.0000],\n",
       "            [0.0078, 0.0784, 0.0745,  ..., 0.0157, 0.0039, 0.0039],\n",
       "            [0.0000, 0.0745, 0.0784,  ..., 0.0039, 0.0000, 0.0000],\n",
       "            ...,\n",
       "            [0.0000, 0.0000, 0.0000,  ..., 0.0000, 0.0000, 0.0000],\n",
       "            [0.0000, 0.0000, 0.0000,  ..., 0.0000, 0.0000, 0.0000],\n",
       "            [0.0000, 0.0000, 0.0000,  ..., 0.0000, 0.0000, 0.0000]]]),\n",
       "   tensor([[[0.0000, 0.0000, 0.0000,  ..., 0.0000, 0.0000, 0.0000],\n",
       "            [0.0000, 0.0000, 0.0000,  ..., 0.0000, 0.0000, 0.0000],\n",
       "            [0.0000, 0.0000, 0.0000,  ..., 0.0000, 0.0000, 0.0000],\n",
       "            ...,\n",
       "            [0.0000, 0.0000, 0.0078,  ..., 0.0078, 0.0039, 0.0353],\n",
       "            [0.0000, 0.0000, 0.0000,  ..., 0.0118, 0.0039, 0.0275],\n",
       "            [0.0000, 0.0039, 0.0000,  ..., 0.0392, 0.0235, 0.0392]],\n",
       "   \n",
       "           [[0.0000, 0.0000, 0.0000,  ..., 0.0000, 0.0000, 0.0000],\n",
       "            [0.0000, 0.0000, 0.0000,  ..., 0.0000, 0.0000, 0.0000],\n",
       "            [0.0000, 0.0000, 0.0000,  ..., 0.0000, 0.0000, 0.0000],\n",
       "            ...,\n",
       "            [0.0000, 0.0000, 0.0078,  ..., 0.0078, 0.0039, 0.0353],\n",
       "            [0.0000, 0.0000, 0.0000,  ..., 0.0118, 0.0039, 0.0275],\n",
       "            [0.0000, 0.0039, 0.0000,  ..., 0.0392, 0.0235, 0.0392]],\n",
       "   \n",
       "           [[0.0000, 0.0000, 0.0000,  ..., 0.0000, 0.0000, 0.0000],\n",
       "            [0.0000, 0.0000, 0.0000,  ..., 0.0000, 0.0000, 0.0000],\n",
       "            [0.0000, 0.0000, 0.0000,  ..., 0.0000, 0.0000, 0.0000],\n",
       "            ...,\n",
       "            [0.0000, 0.0000, 0.0078,  ..., 0.0078, 0.0039, 0.0353],\n",
       "            [0.0000, 0.0000, 0.0000,  ..., 0.0118, 0.0039, 0.0275],\n",
       "            [0.0000, 0.0039, 0.0000,  ..., 0.0392, 0.0235, 0.0392]]]),\n",
       "   tensor([[[0.6784, 0.6824, 0.6824,  ..., 0.7725, 0.7686, 0.7608],\n",
       "            [0.6784, 0.6784, 0.6824,  ..., 0.7686, 0.7647, 0.7608],\n",
       "            [0.6784, 0.6784, 0.6784,  ..., 0.7647, 0.7647, 0.7608],\n",
       "            ...,\n",
       "            [0.7451, 0.7490, 0.7529,  ..., 0.2549, 0.2627, 0.2588],\n",
       "            [0.7490, 0.7529, 0.7529,  ..., 0.2431, 0.2588, 0.2549],\n",
       "            [0.7529, 0.7529, 0.7529,  ..., 0.2431, 0.2588, 0.2510]],\n",
       "   \n",
       "           [[0.6784, 0.6824, 0.6824,  ..., 0.7725, 0.7686, 0.7608],\n",
       "            [0.6784, 0.6784, 0.6824,  ..., 0.7686, 0.7647, 0.7608],\n",
       "            [0.6784, 0.6784, 0.6784,  ..., 0.7647, 0.7647, 0.7608],\n",
       "            ...,\n",
       "            [0.7451, 0.7490, 0.7529,  ..., 0.2549, 0.2627, 0.2588],\n",
       "            [0.7490, 0.7529, 0.7529,  ..., 0.2431, 0.2588, 0.2549],\n",
       "            [0.7529, 0.7529, 0.7529,  ..., 0.2431, 0.2588, 0.2510]],\n",
       "   \n",
       "           [[0.6784, 0.6824, 0.6824,  ..., 0.7725, 0.7686, 0.7608],\n",
       "            [0.6784, 0.6784, 0.6824,  ..., 0.7686, 0.7647, 0.7608],\n",
       "            [0.6784, 0.6784, 0.6784,  ..., 0.7647, 0.7647, 0.7608],\n",
       "            ...,\n",
       "            [0.7451, 0.7490, 0.7529,  ..., 0.2549, 0.2627, 0.2588],\n",
       "            [0.7490, 0.7529, 0.7529,  ..., 0.2431, 0.2588, 0.2549],\n",
       "            [0.7529, 0.7529, 0.7529,  ..., 0.2431, 0.2588, 0.2510]]]),\n",
       "   tensor([[[0., 0., 0.,  ..., 0., 0., 0.],\n",
       "            [0., 0., 0.,  ..., 0., 0., 0.],\n",
       "            [0., 0., 0.,  ..., 0., 0., 0.],\n",
       "            ...,\n",
       "            [0., 0., 0.,  ..., 0., 0., 0.],\n",
       "            [0., 0., 0.,  ..., 0., 0., 0.],\n",
       "            [0., 0., 0.,  ..., 0., 0., 0.]],\n",
       "   \n",
       "           [[0., 0., 0.,  ..., 0., 0., 0.],\n",
       "            [0., 0., 0.,  ..., 0., 0., 0.],\n",
       "            [0., 0., 0.,  ..., 0., 0., 0.],\n",
       "            ...,\n",
       "            [0., 0., 0.,  ..., 0., 0., 0.],\n",
       "            [0., 0., 0.,  ..., 0., 0., 0.],\n",
       "            [0., 0., 0.,  ..., 0., 0., 0.]],\n",
       "   \n",
       "           [[0., 0., 0.,  ..., 0., 0., 0.],\n",
       "            [0., 0., 0.,  ..., 0., 0., 0.],\n",
       "            [0., 0., 0.,  ..., 0., 0., 0.],\n",
       "            ...,\n",
       "            [0., 0., 0.,  ..., 0., 0., 0.],\n",
       "            [0., 0., 0.,  ..., 0., 0., 0.],\n",
       "            [0., 0., 0.,  ..., 0., 0., 0.]]]),\n",
       "   tensor([[[0.0000, 0.0000, 0.0000,  ..., 0.0000, 0.0000, 0.0000],\n",
       "            [0.0000, 0.0000, 0.0000,  ..., 0.0000, 0.0000, 0.0000],\n",
       "            [0.0000, 0.0000, 0.0000,  ..., 0.0000, 0.0000, 0.0000],\n",
       "            ...,\n",
       "            [0.0039, 0.0000, 0.0000,  ..., 0.0039, 0.0039, 0.0000],\n",
       "            [0.0000, 0.0000, 0.0000,  ..., 0.0000, 0.0000, 0.0000],\n",
       "            [0.0000, 0.0000, 0.0000,  ..., 0.0039, 0.0000, 0.0078]],\n",
       "   \n",
       "           [[0.0000, 0.0000, 0.0000,  ..., 0.0000, 0.0000, 0.0000],\n",
       "            [0.0000, 0.0000, 0.0000,  ..., 0.0000, 0.0000, 0.0000],\n",
       "            [0.0000, 0.0000, 0.0000,  ..., 0.0000, 0.0000, 0.0000],\n",
       "            ...,\n",
       "            [0.0039, 0.0000, 0.0000,  ..., 0.0039, 0.0039, 0.0000],\n",
       "            [0.0000, 0.0000, 0.0000,  ..., 0.0000, 0.0000, 0.0000],\n",
       "            [0.0000, 0.0000, 0.0000,  ..., 0.0039, 0.0000, 0.0078]],\n",
       "   \n",
       "           [[0.0000, 0.0000, 0.0000,  ..., 0.0000, 0.0000, 0.0000],\n",
       "            [0.0000, 0.0000, 0.0000,  ..., 0.0000, 0.0000, 0.0000],\n",
       "            [0.0000, 0.0000, 0.0000,  ..., 0.0000, 0.0000, 0.0000],\n",
       "            ...,\n",
       "            [0.0039, 0.0000, 0.0000,  ..., 0.0039, 0.0039, 0.0000],\n",
       "            [0.0000, 0.0000, 0.0000,  ..., 0.0000, 0.0000, 0.0000],\n",
       "            [0.0000, 0.0000, 0.0000,  ..., 0.0039, 0.0000, 0.0078]]]),\n",
       "   tensor([[[0.5333, 0.5412, 0.5412,  ..., 0.8471, 0.8549, 0.8510],\n",
       "            [0.5333, 0.5373, 0.5373,  ..., 0.8392, 0.8471, 0.8431],\n",
       "            [0.5333, 0.5333, 0.5333,  ..., 0.8431, 0.8471, 0.8471],\n",
       "            ...,\n",
       "            [0.7608, 0.7529, 0.7490,  ..., 0.3137, 0.3176, 0.3216],\n",
       "            [0.7529, 0.7529, 0.7451,  ..., 0.3098, 0.3137, 0.3216],\n",
       "            [0.7608, 0.7608, 0.7569,  ..., 0.3059, 0.3137, 0.3216]],\n",
       "   \n",
       "           [[0.5333, 0.5412, 0.5412,  ..., 0.8471, 0.8549, 0.8510],\n",
       "            [0.5333, 0.5373, 0.5373,  ..., 0.8392, 0.8471, 0.8431],\n",
       "            [0.5333, 0.5333, 0.5333,  ..., 0.8431, 0.8471, 0.8471],\n",
       "            ...,\n",
       "            [0.7608, 0.7529, 0.7490,  ..., 0.3137, 0.3176, 0.3216],\n",
       "            [0.7529, 0.7529, 0.7451,  ..., 0.3098, 0.3137, 0.3216],\n",
       "            [0.7608, 0.7608, 0.7569,  ..., 0.3059, 0.3137, 0.3216]],\n",
       "   \n",
       "           [[0.5333, 0.5412, 0.5412,  ..., 0.8471, 0.8549, 0.8510],\n",
       "            [0.5333, 0.5373, 0.5373,  ..., 0.8392, 0.8471, 0.8431],\n",
       "            [0.5333, 0.5333, 0.5333,  ..., 0.8431, 0.8471, 0.8471],\n",
       "            ...,\n",
       "            [0.7608, 0.7529, 0.7490,  ..., 0.3137, 0.3176, 0.3216],\n",
       "            [0.7529, 0.7529, 0.7451,  ..., 0.3098, 0.3137, 0.3216],\n",
       "            [0.7608, 0.7608, 0.7569,  ..., 0.3059, 0.3137, 0.3216]]]),\n",
       "   tensor([[[0.0000, 0.0039, 0.0039,  ..., 0.0000, 0.0000, 0.0000],\n",
       "            [0.0000, 0.0000, 0.0000,  ..., 0.0000, 0.0000, 0.0000],\n",
       "            [0.0039, 0.0000, 0.0000,  ..., 0.0000, 0.0000, 0.0000],\n",
       "            ...,\n",
       "            [0.0000, 0.0039, 0.0000,  ..., 0.0000, 0.0000, 0.0000],\n",
       "            [0.0000, 0.0078, 0.0000,  ..., 0.0000, 0.0000, 0.0000],\n",
       "            [0.0039, 0.0000, 0.0078,  ..., 0.0000, 0.0000, 0.0000]],\n",
       "   \n",
       "           [[0.0000, 0.0039, 0.0039,  ..., 0.0000, 0.0000, 0.0000],\n",
       "            [0.0000, 0.0000, 0.0000,  ..., 0.0000, 0.0000, 0.0000],\n",
       "            [0.0039, 0.0000, 0.0000,  ..., 0.0000, 0.0000, 0.0000],\n",
       "            ...,\n",
       "            [0.0000, 0.0039, 0.0000,  ..., 0.0000, 0.0000, 0.0000],\n",
       "            [0.0000, 0.0078, 0.0000,  ..., 0.0000, 0.0000, 0.0000],\n",
       "            [0.0039, 0.0000, 0.0078,  ..., 0.0000, 0.0000, 0.0000]],\n",
       "   \n",
       "           [[0.0000, 0.0039, 0.0039,  ..., 0.0000, 0.0000, 0.0000],\n",
       "            [0.0000, 0.0000, 0.0000,  ..., 0.0000, 0.0000, 0.0000],\n",
       "            [0.0039, 0.0000, 0.0000,  ..., 0.0000, 0.0000, 0.0000],\n",
       "            ...,\n",
       "            [0.0000, 0.0039, 0.0000,  ..., 0.0000, 0.0000, 0.0000],\n",
       "            [0.0000, 0.0078, 0.0000,  ..., 0.0000, 0.0000, 0.0000],\n",
       "            [0.0039, 0.0000, 0.0078,  ..., 0.0000, 0.0000, 0.0000]]])]},\n",
       " 'clinical': [{'cat': tensor([0], dtype=torch.int32),\n",
       "   'num': tensor([ 79.0000,  98.3000,  69.0000,  20.0000,  91.0000, 121.0000,  73.0000,\n",
       "             2.0000])},\n",
       "  {'cat': tensor([0], dtype=torch.int32),\n",
       "   'num': tensor([ 60.0000,  97.8000,  81.0000,  16.0000, 100.0000, 161.0000,  85.0000,\n",
       "             3.0000])},\n",
       "  {'cat': tensor([0], dtype=torch.int32),\n",
       "   'num': tensor([ 52.0000,  98.8000, 104.0000,  20.0000,  96.0000, 128.0000,  87.0000,\n",
       "             2.0000])},\n",
       "  {'cat': tensor([1], dtype=torch.int32),\n",
       "   'num': tensor([ 39.0000,  98.2000,  73.0000,  16.0000, 100.0000, 133.0000,  89.0000,\n",
       "             3.0000])},\n",
       "  {'cat': tensor([0], dtype=torch.int32),\n",
       "   'num': tensor([ 50.0000,  98.3000,  82.0000,  16.0000,  95.0000, 133.0000,  60.0000,\n",
       "             2.0000])},\n",
       "  {'cat': tensor([1], dtype=torch.int32),\n",
       "   'num': tensor([ 55.0000,  99.6000,  68.0000,  18.0000, 100.0000, 108.0000,  69.0000,\n",
       "             3.0000])},\n",
       "  {'cat': tensor([0], dtype=torch.int32),\n",
       "   'num': tensor([ 59.0000,  97.7000,  72.0000,  20.0000, 100.0000, 159.0000,  95.0000,\n",
       "             3.0000])},\n",
       "  {'cat': tensor([1], dtype=torch.int32),\n",
       "   'num': tensor([ 58.0000,  98.2000,  89.0000,  20.0000,  99.0000, 126.0000,  77.0000,\n",
       "             2.0000])},\n",
       "  {'cat': tensor([0], dtype=torch.int32),\n",
       "   'num': tensor([59., nan, nan, nan, nan, nan, nan, nan])},\n",
       "  {'cat': tensor([0], dtype=torch.int32),\n",
       "   'num': tensor([ 77.0000,  97.9000,  62.0000,  18.0000, 100.0000, 137.0000, 107.0000,\n",
       "             3.0000])},\n",
       "  {'cat': tensor([1], dtype=torch.int32),\n",
       "   'num': tensor([ 76.,  98., 104.,  20.,  98., 124.,  75.,   2.])},\n",
       "  {'cat': tensor([0], dtype=torch.int32),\n",
       "   'num': tensor([ 77.0000,  98.5000,  74.0000,  16.0000,  96.0000, 113.0000,  64.0000,\n",
       "             3.0000])},\n",
       "  {'cat': tensor([0], dtype=torch.int32),\n",
       "   'num': tensor([ 50.,  97.,  94.,  18., 100., 117.,  79.,   3.])},\n",
       "  {'cat': tensor([1], dtype=torch.int32),\n",
       "   'num': tensor([ 53.0000,  97.8000,  88.0000,  18.0000,  94.0000, 135.0000, 109.0000,\n",
       "             3.0000])},\n",
       "  {'cat': tensor([0], dtype=torch.int32),\n",
       "   'num': tensor([ 84.0000,  98.4000,  85.0000,  62.0000, 100.0000, 117.0000,  60.0000,\n",
       "             2.0000])},\n",
       "  {'cat': tensor([0], dtype=torch.int32),\n",
       "   'num': tensor([ 49., 103., 140.,  22.,  95., 141.,  99.,   1.])}]}"
      ]
     },
     "execution_count": 11,
     "metadata": {},
     "output_type": "execute_result"
    }
   ],
   "source": []
  },
  {
   "cell_type": "code",
   "execution_count": null,
   "metadata": {},
   "outputs": [
    {
     "data": {
      "text/plain": [
       "dict_keys(['xrays', 'clinical'])"
      ]
     },
     "execution_count": 25,
     "metadata": {},
     "output_type": "execute_result"
    }
   ],
   "source": [
    "model.x.keys()"
   ]
  },
  {
   "cell_type": "code",
   "execution_count": null,
   "metadata": {},
   "outputs": [],
   "source": [
    "from data.utils import chain_map"
   ]
  },
  {
   "cell_type": "code",
   "execution_count": null,
   "metadata": {},
   "outputs": [
    {
     "data": {
      "text/plain": [
       "dict_keys(['cat', 'num'])"
      ]
     },
     "execution_count": 18,
     "metadata": {},
     "output_type": "execute_result"
    }
   ],
   "source": [
    "chain_map(model.x['clinical']).keys()"
   ]
  },
  {
   "cell_type": "code",
   "execution_count": null,
   "metadata": {},
   "outputs": [
    {
     "data": {
      "text/plain": [
       "dict_keys(['image'])"
      ]
     },
     "execution_count": 17,
     "metadata": {},
     "output_type": "execute_result"
    }
   ],
   "source": [
    "chain_map(model.x['xrays']).keys()"
   ]
  },
  {
   "cell_type": "code",
   "execution_count": null,
   "metadata": {},
   "outputs": [
    {
     "data": {
      "text/plain": [
       "ModuleDict(\n",
       "  (xrays): ImageFeatureExtractor(\n",
       "    (backbone): Sequential(\n",
       "      (0): Sequential(\n",
       "        (0): ConvNormActivation(\n",
       "          (0): Conv2d(3, 16, kernel_size=(3, 3), stride=(2, 2), padding=(1, 1), bias=False)\n",
       "          (1): BatchNorm2d(16, eps=0.001, momentum=0.01, affine=True, track_running_stats=True)\n",
       "          (2): Hardswish()\n",
       "        )\n",
       "        (1): InvertedResidual(\n",
       "          (block): Sequential(\n",
       "            (0): ConvNormActivation(\n",
       "              (0): Conv2d(16, 16, kernel_size=(3, 3), stride=(2, 2), padding=(1, 1), groups=16, bias=False)\n",
       "              (1): BatchNorm2d(16, eps=0.001, momentum=0.01, affine=True, track_running_stats=True)\n",
       "              (2): ReLU(inplace=True)\n",
       "            )\n",
       "            (1): SqueezeExcitation(\n",
       "              (avgpool): AdaptiveAvgPool2d(output_size=1)\n",
       "              (fc1): Conv2d(16, 8, kernel_size=(1, 1), stride=(1, 1))\n",
       "              (fc2): Conv2d(8, 16, kernel_size=(1, 1), stride=(1, 1))\n",
       "              (activation): ReLU()\n",
       "              (scale_activation): Hardsigmoid()\n",
       "            )\n",
       "            (2): ConvNormActivation(\n",
       "              (0): Conv2d(16, 16, kernel_size=(1, 1), stride=(1, 1), bias=False)\n",
       "              (1): BatchNorm2d(16, eps=0.001, momentum=0.01, affine=True, track_running_stats=True)\n",
       "            )\n",
       "          )\n",
       "        )\n",
       "        (2): InvertedResidual(\n",
       "          (block): Sequential(\n",
       "            (0): ConvNormActivation(\n",
       "              (0): Conv2d(16, 72, kernel_size=(1, 1), stride=(1, 1), bias=False)\n",
       "              (1): BatchNorm2d(72, eps=0.001, momentum=0.01, affine=True, track_running_stats=True)\n",
       "              (2): ReLU(inplace=True)\n",
       "            )\n",
       "            (1): ConvNormActivation(\n",
       "              (0): Conv2d(72, 72, kernel_size=(3, 3), stride=(2, 2), padding=(1, 1), groups=72, bias=False)\n",
       "              (1): BatchNorm2d(72, eps=0.001, momentum=0.01, affine=True, track_running_stats=True)\n",
       "              (2): ReLU(inplace=True)\n",
       "            )\n",
       "            (2): ConvNormActivation(\n",
       "              (0): Conv2d(72, 24, kernel_size=(1, 1), stride=(1, 1), bias=False)\n",
       "              (1): BatchNorm2d(24, eps=0.001, momentum=0.01, affine=True, track_running_stats=True)\n",
       "            )\n",
       "          )\n",
       "        )\n",
       "        (3): InvertedResidual(\n",
       "          (block): Sequential(\n",
       "            (0): ConvNormActivation(\n",
       "              (0): Conv2d(24, 88, kernel_size=(1, 1), stride=(1, 1), bias=False)\n",
       "              (1): BatchNorm2d(88, eps=0.001, momentum=0.01, affine=True, track_running_stats=True)\n",
       "              (2): ReLU(inplace=True)\n",
       "            )\n",
       "            (1): ConvNormActivation(\n",
       "              (0): Conv2d(88, 88, kernel_size=(3, 3), stride=(1, 1), padding=(1, 1), groups=88, bias=False)\n",
       "              (1): BatchNorm2d(88, eps=0.001, momentum=0.01, affine=True, track_running_stats=True)\n",
       "              (2): ReLU(inplace=True)\n",
       "            )\n",
       "            (2): ConvNormActivation(\n",
       "              (0): Conv2d(88, 24, kernel_size=(1, 1), stride=(1, 1), bias=False)\n",
       "              (1): BatchNorm2d(24, eps=0.001, momentum=0.01, affine=True, track_running_stats=True)\n",
       "            )\n",
       "          )\n",
       "        )\n",
       "        (4): InvertedResidual(\n",
       "          (block): Sequential(\n",
       "            (0): ConvNormActivation(\n",
       "              (0): Conv2d(24, 96, kernel_size=(1, 1), stride=(1, 1), bias=False)\n",
       "              (1): BatchNorm2d(96, eps=0.001, momentum=0.01, affine=True, track_running_stats=True)\n",
       "              (2): Hardswish()\n",
       "            )\n",
       "            (1): ConvNormActivation(\n",
       "              (0): Conv2d(96, 96, kernel_size=(5, 5), stride=(2, 2), padding=(2, 2), groups=96, bias=False)\n",
       "              (1): BatchNorm2d(96, eps=0.001, momentum=0.01, affine=True, track_running_stats=True)\n",
       "              (2): Hardswish()\n",
       "            )\n",
       "            (2): SqueezeExcitation(\n",
       "              (avgpool): AdaptiveAvgPool2d(output_size=1)\n",
       "              (fc1): Conv2d(96, 24, kernel_size=(1, 1), stride=(1, 1))\n",
       "              (fc2): Conv2d(24, 96, kernel_size=(1, 1), stride=(1, 1))\n",
       "              (activation): ReLU()\n",
       "              (scale_activation): Hardsigmoid()\n",
       "            )\n",
       "            (3): ConvNormActivation(\n",
       "              (0): Conv2d(96, 40, kernel_size=(1, 1), stride=(1, 1), bias=False)\n",
       "              (1): BatchNorm2d(40, eps=0.001, momentum=0.01, affine=True, track_running_stats=True)\n",
       "            )\n",
       "          )\n",
       "        )\n",
       "        (5): InvertedResidual(\n",
       "          (block): Sequential(\n",
       "            (0): ConvNormActivation(\n",
       "              (0): Conv2d(40, 240, kernel_size=(1, 1), stride=(1, 1), bias=False)\n",
       "              (1): BatchNorm2d(240, eps=0.001, momentum=0.01, affine=True, track_running_stats=True)\n",
       "              (2): Hardswish()\n",
       "            )\n",
       "            (1): ConvNormActivation(\n",
       "              (0): Conv2d(240, 240, kernel_size=(5, 5), stride=(1, 1), padding=(2, 2), groups=240, bias=False)\n",
       "              (1): BatchNorm2d(240, eps=0.001, momentum=0.01, affine=True, track_running_stats=True)\n",
       "              (2): Hardswish()\n",
       "            )\n",
       "            (2): SqueezeExcitation(\n",
       "              (avgpool): AdaptiveAvgPool2d(output_size=1)\n",
       "              (fc1): Conv2d(240, 64, kernel_size=(1, 1), stride=(1, 1))\n",
       "              (fc2): Conv2d(64, 240, kernel_size=(1, 1), stride=(1, 1))\n",
       "              (activation): ReLU()\n",
       "              (scale_activation): Hardsigmoid()\n",
       "            )\n",
       "            (3): ConvNormActivation(\n",
       "              (0): Conv2d(240, 40, kernel_size=(1, 1), stride=(1, 1), bias=False)\n",
       "              (1): BatchNorm2d(40, eps=0.001, momentum=0.01, affine=True, track_running_stats=True)\n",
       "            )\n",
       "          )\n",
       "        )\n",
       "        (6): InvertedResidual(\n",
       "          (block): Sequential(\n",
       "            (0): ConvNormActivation(\n",
       "              (0): Conv2d(40, 240, kernel_size=(1, 1), stride=(1, 1), bias=False)\n",
       "              (1): BatchNorm2d(240, eps=0.001, momentum=0.01, affine=True, track_running_stats=True)\n",
       "              (2): Hardswish()\n",
       "            )\n",
       "            (1): ConvNormActivation(\n",
       "              (0): Conv2d(240, 240, kernel_size=(5, 5), stride=(1, 1), padding=(2, 2), groups=240, bias=False)\n",
       "              (1): BatchNorm2d(240, eps=0.001, momentum=0.01, affine=True, track_running_stats=True)\n",
       "              (2): Hardswish()\n",
       "            )\n",
       "            (2): SqueezeExcitation(\n",
       "              (avgpool): AdaptiveAvgPool2d(output_size=1)\n",
       "              (fc1): Conv2d(240, 64, kernel_size=(1, 1), stride=(1, 1))\n",
       "              (fc2): Conv2d(64, 240, kernel_size=(1, 1), stride=(1, 1))\n",
       "              (activation): ReLU()\n",
       "              (scale_activation): Hardsigmoid()\n",
       "            )\n",
       "            (3): ConvNormActivation(\n",
       "              (0): Conv2d(240, 40, kernel_size=(1, 1), stride=(1, 1), bias=False)\n",
       "              (1): BatchNorm2d(40, eps=0.001, momentum=0.01, affine=True, track_running_stats=True)\n",
       "            )\n",
       "          )\n",
       "        )\n",
       "        (7): InvertedResidual(\n",
       "          (block): Sequential(\n",
       "            (0): ConvNormActivation(\n",
       "              (0): Conv2d(40, 120, kernel_size=(1, 1), stride=(1, 1), bias=False)\n",
       "              (1): BatchNorm2d(120, eps=0.001, momentum=0.01, affine=True, track_running_stats=True)\n",
       "              (2): Hardswish()\n",
       "            )\n",
       "            (1): ConvNormActivation(\n",
       "              (0): Conv2d(120, 120, kernel_size=(5, 5), stride=(1, 1), padding=(2, 2), groups=120, bias=False)\n",
       "              (1): BatchNorm2d(120, eps=0.001, momentum=0.01, affine=True, track_running_stats=True)\n",
       "              (2): Hardswish()\n",
       "            )\n",
       "            (2): SqueezeExcitation(\n",
       "              (avgpool): AdaptiveAvgPool2d(output_size=1)\n",
       "              (fc1): Conv2d(120, 32, kernel_size=(1, 1), stride=(1, 1))\n",
       "              (fc2): Conv2d(32, 120, kernel_size=(1, 1), stride=(1, 1))\n",
       "              (activation): ReLU()\n",
       "              (scale_activation): Hardsigmoid()\n",
       "            )\n",
       "            (3): ConvNormActivation(\n",
       "              (0): Conv2d(120, 48, kernel_size=(1, 1), stride=(1, 1), bias=False)\n",
       "              (1): BatchNorm2d(48, eps=0.001, momentum=0.01, affine=True, track_running_stats=True)\n",
       "            )\n",
       "          )\n",
       "        )\n",
       "        (8): InvertedResidual(\n",
       "          (block): Sequential(\n",
       "            (0): ConvNormActivation(\n",
       "              (0): Conv2d(48, 144, kernel_size=(1, 1), stride=(1, 1), bias=False)\n",
       "              (1): BatchNorm2d(144, eps=0.001, momentum=0.01, affine=True, track_running_stats=True)\n",
       "              (2): Hardswish()\n",
       "            )\n",
       "            (1): ConvNormActivation(\n",
       "              (0): Conv2d(144, 144, kernel_size=(5, 5), stride=(1, 1), padding=(2, 2), groups=144, bias=False)\n",
       "              (1): BatchNorm2d(144, eps=0.001, momentum=0.01, affine=True, track_running_stats=True)\n",
       "              (2): Hardswish()\n",
       "            )\n",
       "            (2): SqueezeExcitation(\n",
       "              (avgpool): AdaptiveAvgPool2d(output_size=1)\n",
       "              (fc1): Conv2d(144, 40, kernel_size=(1, 1), stride=(1, 1))\n",
       "              (fc2): Conv2d(40, 144, kernel_size=(1, 1), stride=(1, 1))\n",
       "              (activation): ReLU()\n",
       "              (scale_activation): Hardsigmoid()\n",
       "            )\n",
       "            (3): ConvNormActivation(\n",
       "              (0): Conv2d(144, 48, kernel_size=(1, 1), stride=(1, 1), bias=False)\n",
       "              (1): BatchNorm2d(48, eps=0.001, momentum=0.01, affine=True, track_running_stats=True)\n",
       "            )\n",
       "          )\n",
       "        )\n",
       "        (9): InvertedResidual(\n",
       "          (block): Sequential(\n",
       "            (0): ConvNormActivation(\n",
       "              (0): Conv2d(48, 288, kernel_size=(1, 1), stride=(1, 1), bias=False)\n",
       "              (1): BatchNorm2d(288, eps=0.001, momentum=0.01, affine=True, track_running_stats=True)\n",
       "              (2): Hardswish()\n",
       "            )\n",
       "            (1): ConvNormActivation(\n",
       "              (0): Conv2d(288, 288, kernel_size=(5, 5), stride=(2, 2), padding=(2, 2), groups=288, bias=False)\n",
       "              (1): BatchNorm2d(288, eps=0.001, momentum=0.01, affine=True, track_running_stats=True)\n",
       "              (2): Hardswish()\n",
       "            )\n",
       "            (2): SqueezeExcitation(\n",
       "              (avgpool): AdaptiveAvgPool2d(output_size=1)\n",
       "              (fc1): Conv2d(288, 72, kernel_size=(1, 1), stride=(1, 1))\n",
       "              (fc2): Conv2d(72, 288, kernel_size=(1, 1), stride=(1, 1))\n",
       "              (activation): ReLU()\n",
       "              (scale_activation): Hardsigmoid()\n",
       "            )\n",
       "            (3): ConvNormActivation(\n",
       "              (0): Conv2d(288, 96, kernel_size=(1, 1), stride=(1, 1), bias=False)\n",
       "              (1): BatchNorm2d(96, eps=0.001, momentum=0.01, affine=True, track_running_stats=True)\n",
       "            )\n",
       "          )\n",
       "        )\n",
       "        (10): InvertedResidual(\n",
       "          (block): Sequential(\n",
       "            (0): ConvNormActivation(\n",
       "              (0): Conv2d(96, 576, kernel_size=(1, 1), stride=(1, 1), bias=False)\n",
       "              (1): BatchNorm2d(576, eps=0.001, momentum=0.01, affine=True, track_running_stats=True)\n",
       "              (2): Hardswish()\n",
       "            )\n",
       "            (1): ConvNormActivation(\n",
       "              (0): Conv2d(576, 576, kernel_size=(5, 5), stride=(1, 1), padding=(2, 2), groups=576, bias=False)\n",
       "              (1): BatchNorm2d(576, eps=0.001, momentum=0.01, affine=True, track_running_stats=True)\n",
       "              (2): Hardswish()\n",
       "            )\n",
       "            (2): SqueezeExcitation(\n",
       "              (avgpool): AdaptiveAvgPool2d(output_size=1)\n",
       "              (fc1): Conv2d(576, 144, kernel_size=(1, 1), stride=(1, 1))\n",
       "              (fc2): Conv2d(144, 576, kernel_size=(1, 1), stride=(1, 1))\n",
       "              (activation): ReLU()\n",
       "              (scale_activation): Hardsigmoid()\n",
       "            )\n",
       "            (3): ConvNormActivation(\n",
       "              (0): Conv2d(576, 96, kernel_size=(1, 1), stride=(1, 1), bias=False)\n",
       "              (1): BatchNorm2d(96, eps=0.001, momentum=0.01, affine=True, track_running_stats=True)\n",
       "            )\n",
       "          )\n",
       "        )\n",
       "        (11): InvertedResidual(\n",
       "          (block): Sequential(\n",
       "            (0): ConvNormActivation(\n",
       "              (0): Conv2d(96, 576, kernel_size=(1, 1), stride=(1, 1), bias=False)\n",
       "              (1): BatchNorm2d(576, eps=0.001, momentum=0.01, affine=True, track_running_stats=True)\n",
       "              (2): Hardswish()\n",
       "            )\n",
       "            (1): ConvNormActivation(\n",
       "              (0): Conv2d(576, 576, kernel_size=(5, 5), stride=(1, 1), padding=(2, 2), groups=576, bias=False)\n",
       "              (1): BatchNorm2d(576, eps=0.001, momentum=0.01, affine=True, track_running_stats=True)\n",
       "              (2): Hardswish()\n",
       "            )\n",
       "            (2): SqueezeExcitation(\n",
       "              (avgpool): AdaptiveAvgPool2d(output_size=1)\n",
       "              (fc1): Conv2d(576, 144, kernel_size=(1, 1), stride=(1, 1))\n",
       "              (fc2): Conv2d(144, 576, kernel_size=(1, 1), stride=(1, 1))\n",
       "              (activation): ReLU()\n",
       "              (scale_activation): Hardsigmoid()\n",
       "            )\n",
       "            (3): ConvNormActivation(\n",
       "              (0): Conv2d(576, 96, kernel_size=(1, 1), stride=(1, 1), bias=False)\n",
       "              (1): BatchNorm2d(96, eps=0.001, momentum=0.01, affine=True, track_running_stats=True)\n",
       "            )\n",
       "          )\n",
       "        )\n",
       "        (12): ConvNormActivation(\n",
       "          (0): Conv2d(96, 576, kernel_size=(1, 1), stride=(1, 1), bias=False)\n",
       "          (1): BatchNorm2d(576, eps=0.001, momentum=0.01, affine=True, track_running_stats=True)\n",
       "          (2): Hardswish()\n",
       "        )\n",
       "      )\n",
       "      (1): Conv2d(576, 64, kernel_size=(3, 3), stride=(1, 1), padding=(1, 1))\n",
       "    )\n",
       "  )\n",
       ")"
      ]
     },
     "execution_count": 22,
     "metadata": {},
     "output_type": "execute_result"
    }
   ],
   "source": [
    "model.feature_extractors"
   ]
  },
  {
   "cell_type": "code",
   "execution_count": null,
   "metadata": {},
   "outputs": [
    {
     "data": {
      "text/plain": [
       "['xrays', 'clinical']"
      ]
     },
     "execution_count": 23,
     "metadata": {},
     "output_type": "execute_result"
    }
   ],
   "source": [
    "setup.sources"
   ]
  },
  {
   "cell_type": "code",
   "execution_count": null,
   "metadata": {},
   "outputs": [
    {
     "data": {
      "text/plain": [
       "torch.Size([16, 3, 512, 512])"
      ]
     },
     "execution_count": 15,
     "metadata": {},
     "output_type": "execute_result"
    }
   ],
   "source": [
    "model.inputs['xrays']['images'].shape"
   ]
  },
  {
   "cell_type": "code",
   "execution_count": null,
   "metadata": {},
   "outputs": [],
   "source": [
    "from data.utils import chain_map"
   ]
  },
  {
   "cell_type": "code",
   "execution_count": null,
   "metadata": {},
   "outputs": [
    {
     "data": {
      "text/plain": [
       "{'cat': [tensor([0], dtype=torch.int32),\n",
       "  tensor([0], dtype=torch.int32),\n",
       "  tensor([0], dtype=torch.int32),\n",
       "  tensor([1], dtype=torch.int32),\n",
       "  tensor([0], dtype=torch.int32),\n",
       "  tensor([1], dtype=torch.int32),\n",
       "  tensor([0], dtype=torch.int32),\n",
       "  tensor([1], dtype=torch.int32),\n",
       "  tensor([0], dtype=torch.int32),\n",
       "  tensor([0], dtype=torch.int32),\n",
       "  tensor([1], dtype=torch.int32),\n",
       "  tensor([0], dtype=torch.int32),\n",
       "  tensor([0], dtype=torch.int32),\n",
       "  tensor([1], dtype=torch.int32),\n",
       "  tensor([0], dtype=torch.int32),\n",
       "  tensor([0], dtype=torch.int32)],\n",
       " 'num': [tensor([ 79.0000,  98.3000,  69.0000,  20.0000,  91.0000, 121.0000,  73.0000,\n",
       "            2.0000]),\n",
       "  tensor([ 60.0000,  97.8000,  81.0000,  16.0000, 100.0000, 161.0000,  85.0000,\n",
       "            3.0000]),\n",
       "  tensor([ 52.0000,  98.8000, 104.0000,  20.0000,  96.0000, 128.0000,  87.0000,\n",
       "            2.0000]),\n",
       "  tensor([ 39.0000,  98.2000,  73.0000,  16.0000, 100.0000, 133.0000,  89.0000,\n",
       "            3.0000]),\n",
       "  tensor([ 50.0000,  98.3000,  82.0000,  16.0000,  95.0000, 133.0000,  60.0000,\n",
       "            2.0000]),\n",
       "  tensor([ 55.0000,  99.6000,  68.0000,  18.0000, 100.0000, 108.0000,  69.0000,\n",
       "            3.0000]),\n",
       "  tensor([ 59.0000,  97.7000,  72.0000,  20.0000, 100.0000, 159.0000,  95.0000,\n",
       "            3.0000]),\n",
       "  tensor([ 58.0000,  98.2000,  89.0000,  20.0000,  99.0000, 126.0000,  77.0000,\n",
       "            2.0000]),\n",
       "  tensor([59., nan, nan, nan, nan, nan, nan, nan]),\n",
       "  tensor([ 77.0000,  97.9000,  62.0000,  18.0000, 100.0000, 137.0000, 107.0000,\n",
       "            3.0000]),\n",
       "  tensor([ 76.,  98., 104.,  20.,  98., 124.,  75.,   2.]),\n",
       "  tensor([ 77.0000,  98.5000,  74.0000,  16.0000,  96.0000, 113.0000,  64.0000,\n",
       "            3.0000]),\n",
       "  tensor([ 50.,  97.,  94.,  18., 100., 117.,  79.,   3.]),\n",
       "  tensor([ 53.0000,  97.8000,  88.0000,  18.0000,  94.0000, 135.0000, 109.0000,\n",
       "            3.0000]),\n",
       "  tensor([ 84.0000,  98.4000,  85.0000,  62.0000, 100.0000, 117.0000,  60.0000,\n",
       "            2.0000]),\n",
       "  tensor([ 49., 103., 140.,  22.,  95., 141.,  99.,   1.])]}"
      ]
     },
     "execution_count": 20,
     "metadata": {},
     "output_type": "execute_result"
    }
   ],
   "source": [
    "chain_map(model.inputs['clinical'])"
   ]
  },
  {
   "cell_type": "code",
   "execution_count": null,
   "metadata": {},
   "outputs": [
    {
     "data": {
      "text/plain": [
       "dict_keys(['xrays', 'clinical'])"
      ]
     },
     "execution_count": 17,
     "metadata": {},
     "output_type": "execute_result"
    }
   ],
   "source": [
    "model.inputs.keys()"
   ]
  },
  {
   "cell_type": "code",
   "execution_count": null,
   "metadata": {},
   "outputs": [],
   "source": []
  },
  {
   "cell_type": "code",
   "execution_count": null,
   "metadata": {},
   "outputs": [
    {
     "data": {
      "text/plain": [
       "[tensor([[ 318., 1430., 1027., 1984.]], dtype=torch.float64),\n",
       " tensor([], size=(0, 4), dtype=torch.float64),\n",
       " tensor([], size=(0, 4), dtype=torch.float64),\n",
       " tensor([], size=(0, 4), dtype=torch.float64),\n",
       " tensor([[1010., 1122., 2269., 2282.],\n",
       "         [1010., 1122., 2269., 2282.],\n",
       "         [1010., 1122., 2269., 2282.],\n",
       "         [1527., 1835., 2445., 2378.],\n",
       "         [1527., 1835., 2445., 2378.],\n",
       "         [1527., 1835., 2445., 2378.],\n",
       "         [ 294., 1743.,  756., 2332.],\n",
       "         [ 294., 1743.,  756., 2332.],\n",
       "         [ 294., 1743.,  756., 2332.],\n",
       "         [ 385., 1272., 1268., 2292.],\n",
       "         [ 385., 1272., 1268., 2292.],\n",
       "         [ 385., 1272., 1268., 2292.]], dtype=torch.float64),\n",
       " tensor([], size=(0, 4), dtype=torch.float64),\n",
       " tensor([], size=(0, 4), dtype=torch.float64),\n",
       " tensor([[ 591., 1166., 2344., 2255.]], dtype=torch.float64),\n",
       " tensor([], size=(0, 4), dtype=torch.float64),\n",
       " tensor([], size=(0, 4), dtype=torch.float64),\n",
       " tensor([], size=(0, 4), dtype=torch.float64),\n",
       " tensor([], size=(0, 4), dtype=torch.float64),\n",
       " tensor([], size=(0, 4), dtype=torch.float64),\n",
       " tensor([], size=(0, 4), dtype=torch.float64),\n",
       " tensor([[ 395., 1843.,  840., 2328.],\n",
       "         [ 395., 1843.,  840., 2328.],\n",
       "         [ 395., 1843.,  840., 2328.],\n",
       "         [ 395., 1843.,  840., 2328.],\n",
       "         [ 771., 1953., 2277., 2873.],\n",
       "         [ 771., 1953., 2277., 2873.],\n",
       "         [ 771., 1953., 2277., 2873.],\n",
       "         [ 771., 1953., 2277., 2873.],\n",
       "         [  79., 1935.,  687., 2607.],\n",
       "         [  79., 1935.,  687., 2607.],\n",
       "         [  79., 1935.,  687., 2607.],\n",
       "         [  79., 1935.,  687., 2607.]], dtype=torch.float64),\n",
       " tensor([], size=(0, 4), dtype=torch.float64)]"
      ]
     },
     "execution_count": 12,
     "metadata": {},
     "output_type": "execute_result"
    }
   ],
   "source": [
    "model.targets['boxes']"
   ]
  },
  {
   "cell_type": "code",
   "execution_count": null,
   "metadata": {},
   "outputs": [],
   "source": []
  },
  {
   "cell_type": "code",
   "execution_count": null,
   "metadata": {},
   "outputs": [
    {
     "data": {
      "text/plain": [
       "[{'image': tensor([[[0.0706, 0.0706, 0.0706,  ..., 0.0706, 0.0706, 0.0706],\n",
       "           [0.0706, 0.0706, 0.0706,  ..., 0.0706, 0.0706, 0.0706],\n",
       "           [0.0706, 0.0706, 0.0706,  ..., 0.0706, 0.0706, 0.0706],\n",
       "           ...,\n",
       "           [0.9176, 0.8902, 0.9608,  ..., 0.8627, 0.8863, 0.8667],\n",
       "           [0.9647, 0.9529, 0.9569,  ..., 0.8863, 0.8863, 0.8784],\n",
       "           [0.9529, 0.9373, 0.9529,  ..., 0.9255, 0.8941, 0.8784]],\n",
       "  \n",
       "          [[0.0706, 0.0706, 0.0706,  ..., 0.0706, 0.0706, 0.0706],\n",
       "           [0.0706, 0.0706, 0.0706,  ..., 0.0706, 0.0706, 0.0706],\n",
       "           [0.0706, 0.0706, 0.0706,  ..., 0.0706, 0.0706, 0.0706],\n",
       "           ...,\n",
       "           [0.9176, 0.8902, 0.9608,  ..., 0.8627, 0.8863, 0.8667],\n",
       "           [0.9647, 0.9529, 0.9569,  ..., 0.8863, 0.8863, 0.8784],\n",
       "           [0.9529, 0.9373, 0.9529,  ..., 0.9255, 0.8941, 0.8784]],\n",
       "  \n",
       "          [[0.0706, 0.0706, 0.0706,  ..., 0.0706, 0.0706, 0.0706],\n",
       "           [0.0706, 0.0706, 0.0706,  ..., 0.0706, 0.0706, 0.0706],\n",
       "           [0.0706, 0.0706, 0.0706,  ..., 0.0706, 0.0706, 0.0706],\n",
       "           ...,\n",
       "           [0.9176, 0.8902, 0.9608,  ..., 0.8627, 0.8863, 0.8667],\n",
       "           [0.9647, 0.9529, 0.9569,  ..., 0.8863, 0.8863, 0.8784],\n",
       "           [0.9529, 0.9373, 0.9529,  ..., 0.9255, 0.8941, 0.8784]]])},\n",
       " {'image': tensor([[[0., 0., 0.,  ..., 0., 0., 0.],\n",
       "           [0., 0., 0.,  ..., 0., 0., 0.],\n",
       "           [0., 0., 0.,  ..., 0., 0., 0.],\n",
       "           ...,\n",
       "           [0., 0., 0.,  ..., 0., 0., 0.],\n",
       "           [0., 0., 0.,  ..., 0., 0., 0.],\n",
       "           [0., 0., 0.,  ..., 0., 0., 0.]],\n",
       "  \n",
       "          [[0., 0., 0.,  ..., 0., 0., 0.],\n",
       "           [0., 0., 0.,  ..., 0., 0., 0.],\n",
       "           [0., 0., 0.,  ..., 0., 0., 0.],\n",
       "           ...,\n",
       "           [0., 0., 0.,  ..., 0., 0., 0.],\n",
       "           [0., 0., 0.,  ..., 0., 0., 0.],\n",
       "           [0., 0., 0.,  ..., 0., 0., 0.]],\n",
       "  \n",
       "          [[0., 0., 0.,  ..., 0., 0., 0.],\n",
       "           [0., 0., 0.,  ..., 0., 0., 0.],\n",
       "           [0., 0., 0.,  ..., 0., 0., 0.],\n",
       "           ...,\n",
       "           [0., 0., 0.,  ..., 0., 0., 0.],\n",
       "           [0., 0., 0.,  ..., 0., 0., 0.],\n",
       "           [0., 0., 0.,  ..., 0., 0., 0.]]])},\n",
       " {'image': tensor([[[0., 0., 0.,  ..., 0., 0., 0.],\n",
       "           [0., 0., 0.,  ..., 0., 0., 0.],\n",
       "           [0., 0., 0.,  ..., 0., 0., 0.],\n",
       "           ...,\n",
       "           [0., 0., 0.,  ..., 0., 0., 0.],\n",
       "           [0., 0., 0.,  ..., 0., 0., 0.],\n",
       "           [0., 0., 0.,  ..., 0., 0., 0.]],\n",
       "  \n",
       "          [[0., 0., 0.,  ..., 0., 0., 0.],\n",
       "           [0., 0., 0.,  ..., 0., 0., 0.],\n",
       "           [0., 0., 0.,  ..., 0., 0., 0.],\n",
       "           ...,\n",
       "           [0., 0., 0.,  ..., 0., 0., 0.],\n",
       "           [0., 0., 0.,  ..., 0., 0., 0.],\n",
       "           [0., 0., 0.,  ..., 0., 0., 0.]],\n",
       "  \n",
       "          [[0., 0., 0.,  ..., 0., 0., 0.],\n",
       "           [0., 0., 0.,  ..., 0., 0., 0.],\n",
       "           [0., 0., 0.,  ..., 0., 0., 0.],\n",
       "           ...,\n",
       "           [0., 0., 0.,  ..., 0., 0., 0.],\n",
       "           [0., 0., 0.,  ..., 0., 0., 0.],\n",
       "           [0., 0., 0.,  ..., 0., 0., 0.]]])},\n",
       " {'image': tensor([[[0.0000, 0.0000, 0.0000,  ..., 0.0000, 0.0000, 0.0000],\n",
       "           [0.0000, 0.0000, 0.0000,  ..., 0.0000, 0.0000, 0.0000],\n",
       "           [0.0000, 0.0000, 0.0000,  ..., 0.0000, 0.0000, 0.0000],\n",
       "           ...,\n",
       "           [0.0235, 0.0196, 0.0157,  ..., 0.0000, 0.0000, 0.0000],\n",
       "           [0.0235, 0.0196, 0.0196,  ..., 0.0000, 0.0000, 0.0000],\n",
       "           [0.0235, 0.0235, 0.0196,  ..., 0.0000, 0.0000, 0.0000]],\n",
       "  \n",
       "          [[0.0000, 0.0000, 0.0000,  ..., 0.0000, 0.0000, 0.0000],\n",
       "           [0.0000, 0.0000, 0.0000,  ..., 0.0000, 0.0000, 0.0000],\n",
       "           [0.0000, 0.0000, 0.0000,  ..., 0.0000, 0.0000, 0.0000],\n",
       "           ...,\n",
       "           [0.0235, 0.0196, 0.0157,  ..., 0.0000, 0.0000, 0.0000],\n",
       "           [0.0235, 0.0196, 0.0196,  ..., 0.0000, 0.0000, 0.0000],\n",
       "           [0.0235, 0.0235, 0.0196,  ..., 0.0000, 0.0000, 0.0000]],\n",
       "  \n",
       "          [[0.0000, 0.0000, 0.0000,  ..., 0.0000, 0.0000, 0.0000],\n",
       "           [0.0000, 0.0000, 0.0000,  ..., 0.0000, 0.0000, 0.0000],\n",
       "           [0.0000, 0.0000, 0.0000,  ..., 0.0000, 0.0000, 0.0000],\n",
       "           ...,\n",
       "           [0.0235, 0.0196, 0.0157,  ..., 0.0000, 0.0000, 0.0000],\n",
       "           [0.0235, 0.0196, 0.0196,  ..., 0.0000, 0.0000, 0.0000],\n",
       "           [0.0235, 0.0235, 0.0196,  ..., 0.0000, 0.0000, 0.0000]]])},\n",
       " {'image': tensor([[[0.0000, 0.0000, 0.0000,  ..., 0.0000, 0.0000, 0.0000],\n",
       "           [0.0000, 0.0039, 0.0078,  ..., 0.0000, 0.0000, 0.0000],\n",
       "           [0.0078, 0.0000, 0.0000,  ..., 0.0000, 0.0000, 0.0000],\n",
       "           ...,\n",
       "           [0.0039, 0.0078, 0.0000,  ..., 0.0000, 0.0000, 0.0000],\n",
       "           [0.0000, 0.0000, 0.0000,  ..., 0.0000, 0.0000, 0.0000],\n",
       "           [0.0000, 0.0039, 0.0000,  ..., 0.0000, 0.0000, 0.0000]],\n",
       "  \n",
       "          [[0.0000, 0.0000, 0.0000,  ..., 0.0000, 0.0000, 0.0000],\n",
       "           [0.0000, 0.0039, 0.0078,  ..., 0.0000, 0.0000, 0.0000],\n",
       "           [0.0078, 0.0000, 0.0000,  ..., 0.0000, 0.0000, 0.0000],\n",
       "           ...,\n",
       "           [0.0039, 0.0078, 0.0000,  ..., 0.0000, 0.0000, 0.0000],\n",
       "           [0.0000, 0.0000, 0.0000,  ..., 0.0000, 0.0000, 0.0000],\n",
       "           [0.0000, 0.0039, 0.0000,  ..., 0.0000, 0.0000, 0.0000]],\n",
       "  \n",
       "          [[0.0000, 0.0000, 0.0000,  ..., 0.0000, 0.0000, 0.0000],\n",
       "           [0.0000, 0.0039, 0.0078,  ..., 0.0000, 0.0000, 0.0000],\n",
       "           [0.0078, 0.0000, 0.0000,  ..., 0.0000, 0.0000, 0.0000],\n",
       "           ...,\n",
       "           [0.0039, 0.0078, 0.0000,  ..., 0.0000, 0.0000, 0.0000],\n",
       "           [0.0000, 0.0000, 0.0000,  ..., 0.0000, 0.0000, 0.0000],\n",
       "           [0.0000, 0.0039, 0.0000,  ..., 0.0000, 0.0000, 0.0000]]])},\n",
       " {'image': tensor([[[0.0000, 0.0000, 0.0000,  ..., 0.0000, 0.0000, 0.0000],\n",
       "           [0.0000, 0.0000, 0.0000,  ..., 0.0000, 0.0000, 0.0000],\n",
       "           [0.0000, 0.0000, 0.0000,  ..., 0.0000, 0.0000, 0.0000],\n",
       "           ...,\n",
       "           [0.0000, 0.0000, 0.0000,  ..., 0.0000, 0.0000, 0.0000],\n",
       "           [0.0000, 0.0000, 0.0000,  ..., 0.0039, 0.0000, 0.0000],\n",
       "           [0.0000, 0.0000, 0.0000,  ..., 0.0000, 0.0000, 0.0000]],\n",
       "  \n",
       "          [[0.0000, 0.0000, 0.0000,  ..., 0.0000, 0.0000, 0.0000],\n",
       "           [0.0000, 0.0000, 0.0000,  ..., 0.0000, 0.0000, 0.0000],\n",
       "           [0.0000, 0.0000, 0.0000,  ..., 0.0000, 0.0000, 0.0000],\n",
       "           ...,\n",
       "           [0.0000, 0.0000, 0.0000,  ..., 0.0000, 0.0000, 0.0000],\n",
       "           [0.0000, 0.0000, 0.0000,  ..., 0.0039, 0.0000, 0.0000],\n",
       "           [0.0000, 0.0000, 0.0000,  ..., 0.0000, 0.0000, 0.0000]],\n",
       "  \n",
       "          [[0.0000, 0.0000, 0.0000,  ..., 0.0000, 0.0000, 0.0000],\n",
       "           [0.0000, 0.0000, 0.0000,  ..., 0.0000, 0.0000, 0.0000],\n",
       "           [0.0000, 0.0000, 0.0000,  ..., 0.0000, 0.0000, 0.0000],\n",
       "           ...,\n",
       "           [0.0000, 0.0000, 0.0000,  ..., 0.0000, 0.0000, 0.0000],\n",
       "           [0.0000, 0.0000, 0.0000,  ..., 0.0039, 0.0000, 0.0000],\n",
       "           [0.0000, 0.0000, 0.0000,  ..., 0.0000, 0.0000, 0.0000]]])},\n",
       " {'image': tensor([[[0., 0., 0.,  ..., 0., 0., 0.],\n",
       "           [0., 0., 0.,  ..., 0., 0., 0.],\n",
       "           [0., 0., 0.,  ..., 0., 0., 0.],\n",
       "           ...,\n",
       "           [0., 0., 0.,  ..., 0., 0., 0.],\n",
       "           [0., 0., 0.,  ..., 0., 0., 0.],\n",
       "           [0., 0., 0.,  ..., 0., 0., 0.]],\n",
       "  \n",
       "          [[0., 0., 0.,  ..., 0., 0., 0.],\n",
       "           [0., 0., 0.,  ..., 0., 0., 0.],\n",
       "           [0., 0., 0.,  ..., 0., 0., 0.],\n",
       "           ...,\n",
       "           [0., 0., 0.,  ..., 0., 0., 0.],\n",
       "           [0., 0., 0.,  ..., 0., 0., 0.],\n",
       "           [0., 0., 0.,  ..., 0., 0., 0.]],\n",
       "  \n",
       "          [[0., 0., 0.,  ..., 0., 0., 0.],\n",
       "           [0., 0., 0.,  ..., 0., 0., 0.],\n",
       "           [0., 0., 0.,  ..., 0., 0., 0.],\n",
       "           ...,\n",
       "           [0., 0., 0.,  ..., 0., 0., 0.],\n",
       "           [0., 0., 0.,  ..., 0., 0., 0.],\n",
       "           [0., 0., 0.,  ..., 0., 0., 0.]]])},\n",
       " {'image': tensor([[[0.0000, 0.0000, 0.0000,  ..., 0.0039, 0.0000, 0.0000],\n",
       "           [0.0431, 0.0431, 0.0431,  ..., 0.0000, 0.0000, 0.0000],\n",
       "           [0.0471, 0.0471, 0.0471,  ..., 0.0000, 0.0000, 0.0039],\n",
       "           ...,\n",
       "           [0.0000, 0.0000, 0.0078,  ..., 0.0000, 0.0118, 0.0000],\n",
       "           [0.0039, 0.0039, 0.0000,  ..., 0.0039, 0.0039, 0.0000],\n",
       "           [0.0000, 0.0039, 0.0000,  ..., 0.0000, 0.0000, 0.0039]],\n",
       "  \n",
       "          [[0.0000, 0.0000, 0.0000,  ..., 0.0039, 0.0000, 0.0000],\n",
       "           [0.0431, 0.0431, 0.0431,  ..., 0.0000, 0.0000, 0.0000],\n",
       "           [0.0471, 0.0471, 0.0471,  ..., 0.0000, 0.0000, 0.0039],\n",
       "           ...,\n",
       "           [0.0000, 0.0000, 0.0078,  ..., 0.0000, 0.0118, 0.0000],\n",
       "           [0.0039, 0.0039, 0.0000,  ..., 0.0039, 0.0039, 0.0000],\n",
       "           [0.0000, 0.0039, 0.0000,  ..., 0.0000, 0.0000, 0.0039]],\n",
       "  \n",
       "          [[0.0000, 0.0000, 0.0000,  ..., 0.0039, 0.0000, 0.0000],\n",
       "           [0.0431, 0.0431, 0.0431,  ..., 0.0000, 0.0000, 0.0000],\n",
       "           [0.0471, 0.0471, 0.0471,  ..., 0.0000, 0.0000, 0.0039],\n",
       "           ...,\n",
       "           [0.0000, 0.0000, 0.0078,  ..., 0.0000, 0.0118, 0.0000],\n",
       "           [0.0039, 0.0039, 0.0000,  ..., 0.0039, 0.0039, 0.0000],\n",
       "           [0.0000, 0.0039, 0.0000,  ..., 0.0000, 0.0000, 0.0039]]])},\n",
       " {'image': tensor([[[0.0000, 0.0000, 0.0000,  ..., 0.0000, 0.0000, 0.0000],\n",
       "           [0.0000, 0.0000, 0.0000,  ..., 0.0000, 0.0000, 0.0000],\n",
       "           [0.0000, 0.0000, 0.0000,  ..., 0.0000, 0.0000, 0.0000],\n",
       "           ...,\n",
       "           [0.0667, 0.0588, 0.0588,  ..., 0.0000, 0.0000, 0.0000],\n",
       "           [0.0667, 0.0588, 0.0627,  ..., 0.0000, 0.0000, 0.0039],\n",
       "           [0.0706, 0.0627, 0.0627,  ..., 0.0000, 0.0000, 0.0000]],\n",
       "  \n",
       "          [[0.0000, 0.0000, 0.0000,  ..., 0.0000, 0.0000, 0.0000],\n",
       "           [0.0000, 0.0000, 0.0000,  ..., 0.0000, 0.0000, 0.0000],\n",
       "           [0.0000, 0.0000, 0.0000,  ..., 0.0000, 0.0000, 0.0000],\n",
       "           ...,\n",
       "           [0.0667, 0.0588, 0.0588,  ..., 0.0000, 0.0000, 0.0000],\n",
       "           [0.0667, 0.0588, 0.0627,  ..., 0.0000, 0.0000, 0.0039],\n",
       "           [0.0706, 0.0627, 0.0627,  ..., 0.0000, 0.0000, 0.0000]],\n",
       "  \n",
       "          [[0.0000, 0.0000, 0.0000,  ..., 0.0000, 0.0000, 0.0000],\n",
       "           [0.0000, 0.0000, 0.0000,  ..., 0.0000, 0.0000, 0.0000],\n",
       "           [0.0000, 0.0000, 0.0000,  ..., 0.0000, 0.0000, 0.0000],\n",
       "           ...,\n",
       "           [0.0667, 0.0588, 0.0588,  ..., 0.0000, 0.0000, 0.0000],\n",
       "           [0.0667, 0.0588, 0.0627,  ..., 0.0000, 0.0000, 0.0039],\n",
       "           [0.0706, 0.0627, 0.0627,  ..., 0.0000, 0.0000, 0.0000]]])},\n",
       " {'image': tensor([[[0.0000, 0.0196, 0.0000,  ..., 0.0000, 0.0000, 0.0000],\n",
       "           [0.0078, 0.0784, 0.0745,  ..., 0.0157, 0.0039, 0.0039],\n",
       "           [0.0000, 0.0745, 0.0784,  ..., 0.0039, 0.0000, 0.0000],\n",
       "           ...,\n",
       "           [0.0000, 0.0000, 0.0000,  ..., 0.0000, 0.0000, 0.0000],\n",
       "           [0.0000, 0.0000, 0.0000,  ..., 0.0000, 0.0000, 0.0000],\n",
       "           [0.0000, 0.0000, 0.0000,  ..., 0.0000, 0.0000, 0.0000]],\n",
       "  \n",
       "          [[0.0000, 0.0196, 0.0000,  ..., 0.0000, 0.0000, 0.0000],\n",
       "           [0.0078, 0.0784, 0.0745,  ..., 0.0157, 0.0039, 0.0039],\n",
       "           [0.0000, 0.0745, 0.0784,  ..., 0.0039, 0.0000, 0.0000],\n",
       "           ...,\n",
       "           [0.0000, 0.0000, 0.0000,  ..., 0.0000, 0.0000, 0.0000],\n",
       "           [0.0000, 0.0000, 0.0000,  ..., 0.0000, 0.0000, 0.0000],\n",
       "           [0.0000, 0.0000, 0.0000,  ..., 0.0000, 0.0000, 0.0000]],\n",
       "  \n",
       "          [[0.0000, 0.0196, 0.0000,  ..., 0.0000, 0.0000, 0.0000],\n",
       "           [0.0078, 0.0784, 0.0745,  ..., 0.0157, 0.0039, 0.0039],\n",
       "           [0.0000, 0.0745, 0.0784,  ..., 0.0039, 0.0000, 0.0000],\n",
       "           ...,\n",
       "           [0.0000, 0.0000, 0.0000,  ..., 0.0000, 0.0000, 0.0000],\n",
       "           [0.0000, 0.0000, 0.0000,  ..., 0.0000, 0.0000, 0.0000],\n",
       "           [0.0000, 0.0000, 0.0000,  ..., 0.0000, 0.0000, 0.0000]]])},\n",
       " {'image': tensor([[[0.0000, 0.0000, 0.0000,  ..., 0.0000, 0.0000, 0.0000],\n",
       "           [0.0000, 0.0000, 0.0000,  ..., 0.0000, 0.0000, 0.0000],\n",
       "           [0.0000, 0.0000, 0.0000,  ..., 0.0000, 0.0000, 0.0000],\n",
       "           ...,\n",
       "           [0.0000, 0.0000, 0.0078,  ..., 0.0078, 0.0039, 0.0353],\n",
       "           [0.0000, 0.0000, 0.0000,  ..., 0.0118, 0.0039, 0.0275],\n",
       "           [0.0000, 0.0039, 0.0000,  ..., 0.0392, 0.0235, 0.0392]],\n",
       "  \n",
       "          [[0.0000, 0.0000, 0.0000,  ..., 0.0000, 0.0000, 0.0000],\n",
       "           [0.0000, 0.0000, 0.0000,  ..., 0.0000, 0.0000, 0.0000],\n",
       "           [0.0000, 0.0000, 0.0000,  ..., 0.0000, 0.0000, 0.0000],\n",
       "           ...,\n",
       "           [0.0000, 0.0000, 0.0078,  ..., 0.0078, 0.0039, 0.0353],\n",
       "           [0.0000, 0.0000, 0.0000,  ..., 0.0118, 0.0039, 0.0275],\n",
       "           [0.0000, 0.0039, 0.0000,  ..., 0.0392, 0.0235, 0.0392]],\n",
       "  \n",
       "          [[0.0000, 0.0000, 0.0000,  ..., 0.0000, 0.0000, 0.0000],\n",
       "           [0.0000, 0.0000, 0.0000,  ..., 0.0000, 0.0000, 0.0000],\n",
       "           [0.0000, 0.0000, 0.0000,  ..., 0.0000, 0.0000, 0.0000],\n",
       "           ...,\n",
       "           [0.0000, 0.0000, 0.0078,  ..., 0.0078, 0.0039, 0.0353],\n",
       "           [0.0000, 0.0000, 0.0000,  ..., 0.0118, 0.0039, 0.0275],\n",
       "           [0.0000, 0.0039, 0.0000,  ..., 0.0392, 0.0235, 0.0392]]])},\n",
       " {'image': tensor([[[0.6784, 0.6824, 0.6824,  ..., 0.7725, 0.7686, 0.7608],\n",
       "           [0.6784, 0.6784, 0.6824,  ..., 0.7686, 0.7647, 0.7608],\n",
       "           [0.6784, 0.6784, 0.6784,  ..., 0.7647, 0.7647, 0.7608],\n",
       "           ...,\n",
       "           [0.7451, 0.7490, 0.7529,  ..., 0.2549, 0.2627, 0.2588],\n",
       "           [0.7490, 0.7529, 0.7529,  ..., 0.2431, 0.2588, 0.2549],\n",
       "           [0.7529, 0.7529, 0.7529,  ..., 0.2431, 0.2588, 0.2510]],\n",
       "  \n",
       "          [[0.6784, 0.6824, 0.6824,  ..., 0.7725, 0.7686, 0.7608],\n",
       "           [0.6784, 0.6784, 0.6824,  ..., 0.7686, 0.7647, 0.7608],\n",
       "           [0.6784, 0.6784, 0.6784,  ..., 0.7647, 0.7647, 0.7608],\n",
       "           ...,\n",
       "           [0.7451, 0.7490, 0.7529,  ..., 0.2549, 0.2627, 0.2588],\n",
       "           [0.7490, 0.7529, 0.7529,  ..., 0.2431, 0.2588, 0.2549],\n",
       "           [0.7529, 0.7529, 0.7529,  ..., 0.2431, 0.2588, 0.2510]],\n",
       "  \n",
       "          [[0.6784, 0.6824, 0.6824,  ..., 0.7725, 0.7686, 0.7608],\n",
       "           [0.6784, 0.6784, 0.6824,  ..., 0.7686, 0.7647, 0.7608],\n",
       "           [0.6784, 0.6784, 0.6784,  ..., 0.7647, 0.7647, 0.7608],\n",
       "           ...,\n",
       "           [0.7451, 0.7490, 0.7529,  ..., 0.2549, 0.2627, 0.2588],\n",
       "           [0.7490, 0.7529, 0.7529,  ..., 0.2431, 0.2588, 0.2549],\n",
       "           [0.7529, 0.7529, 0.7529,  ..., 0.2431, 0.2588, 0.2510]]])},\n",
       " {'image': tensor([[[0., 0., 0.,  ..., 0., 0., 0.],\n",
       "           [0., 0., 0.,  ..., 0., 0., 0.],\n",
       "           [0., 0., 0.,  ..., 0., 0., 0.],\n",
       "           ...,\n",
       "           [0., 0., 0.,  ..., 0., 0., 0.],\n",
       "           [0., 0., 0.,  ..., 0., 0., 0.],\n",
       "           [0., 0., 0.,  ..., 0., 0., 0.]],\n",
       "  \n",
       "          [[0., 0., 0.,  ..., 0., 0., 0.],\n",
       "           [0., 0., 0.,  ..., 0., 0., 0.],\n",
       "           [0., 0., 0.,  ..., 0., 0., 0.],\n",
       "           ...,\n",
       "           [0., 0., 0.,  ..., 0., 0., 0.],\n",
       "           [0., 0., 0.,  ..., 0., 0., 0.],\n",
       "           [0., 0., 0.,  ..., 0., 0., 0.]],\n",
       "  \n",
       "          [[0., 0., 0.,  ..., 0., 0., 0.],\n",
       "           [0., 0., 0.,  ..., 0., 0., 0.],\n",
       "           [0., 0., 0.,  ..., 0., 0., 0.],\n",
       "           ...,\n",
       "           [0., 0., 0.,  ..., 0., 0., 0.],\n",
       "           [0., 0., 0.,  ..., 0., 0., 0.],\n",
       "           [0., 0., 0.,  ..., 0., 0., 0.]]])},\n",
       " {'image': tensor([[[0.0000, 0.0000, 0.0000,  ..., 0.0000, 0.0000, 0.0000],\n",
       "           [0.0000, 0.0000, 0.0000,  ..., 0.0000, 0.0000, 0.0000],\n",
       "           [0.0000, 0.0000, 0.0000,  ..., 0.0000, 0.0000, 0.0000],\n",
       "           ...,\n",
       "           [0.0039, 0.0000, 0.0000,  ..., 0.0039, 0.0039, 0.0000],\n",
       "           [0.0000, 0.0000, 0.0000,  ..., 0.0000, 0.0000, 0.0000],\n",
       "           [0.0000, 0.0000, 0.0000,  ..., 0.0039, 0.0000, 0.0078]],\n",
       "  \n",
       "          [[0.0000, 0.0000, 0.0000,  ..., 0.0000, 0.0000, 0.0000],\n",
       "           [0.0000, 0.0000, 0.0000,  ..., 0.0000, 0.0000, 0.0000],\n",
       "           [0.0000, 0.0000, 0.0000,  ..., 0.0000, 0.0000, 0.0000],\n",
       "           ...,\n",
       "           [0.0039, 0.0000, 0.0000,  ..., 0.0039, 0.0039, 0.0000],\n",
       "           [0.0000, 0.0000, 0.0000,  ..., 0.0000, 0.0000, 0.0000],\n",
       "           [0.0000, 0.0000, 0.0000,  ..., 0.0039, 0.0000, 0.0078]],\n",
       "  \n",
       "          [[0.0000, 0.0000, 0.0000,  ..., 0.0000, 0.0000, 0.0000],\n",
       "           [0.0000, 0.0000, 0.0000,  ..., 0.0000, 0.0000, 0.0000],\n",
       "           [0.0000, 0.0000, 0.0000,  ..., 0.0000, 0.0000, 0.0000],\n",
       "           ...,\n",
       "           [0.0039, 0.0000, 0.0000,  ..., 0.0039, 0.0039, 0.0000],\n",
       "           [0.0000, 0.0000, 0.0000,  ..., 0.0000, 0.0000, 0.0000],\n",
       "           [0.0000, 0.0000, 0.0000,  ..., 0.0039, 0.0000, 0.0078]]])},\n",
       " {'image': tensor([[[0.5333, 0.5412, 0.5412,  ..., 0.8471, 0.8549, 0.8510],\n",
       "           [0.5333, 0.5373, 0.5373,  ..., 0.8392, 0.8471, 0.8431],\n",
       "           [0.5333, 0.5333, 0.5333,  ..., 0.8431, 0.8471, 0.8471],\n",
       "           ...,\n",
       "           [0.7608, 0.7529, 0.7490,  ..., 0.3137, 0.3176, 0.3216],\n",
       "           [0.7529, 0.7529, 0.7451,  ..., 0.3098, 0.3137, 0.3216],\n",
       "           [0.7608, 0.7608, 0.7569,  ..., 0.3059, 0.3137, 0.3216]],\n",
       "  \n",
       "          [[0.5333, 0.5412, 0.5412,  ..., 0.8471, 0.8549, 0.8510],\n",
       "           [0.5333, 0.5373, 0.5373,  ..., 0.8392, 0.8471, 0.8431],\n",
       "           [0.5333, 0.5333, 0.5333,  ..., 0.8431, 0.8471, 0.8471],\n",
       "           ...,\n",
       "           [0.7608, 0.7529, 0.7490,  ..., 0.3137, 0.3176, 0.3216],\n",
       "           [0.7529, 0.7529, 0.7451,  ..., 0.3098, 0.3137, 0.3216],\n",
       "           [0.7608, 0.7608, 0.7569,  ..., 0.3059, 0.3137, 0.3216]],\n",
       "  \n",
       "          [[0.5333, 0.5412, 0.5412,  ..., 0.8471, 0.8549, 0.8510],\n",
       "           [0.5333, 0.5373, 0.5373,  ..., 0.8392, 0.8471, 0.8431],\n",
       "           [0.5333, 0.5333, 0.5333,  ..., 0.8431, 0.8471, 0.8471],\n",
       "           ...,\n",
       "           [0.7608, 0.7529, 0.7490,  ..., 0.3137, 0.3176, 0.3216],\n",
       "           [0.7529, 0.7529, 0.7451,  ..., 0.3098, 0.3137, 0.3216],\n",
       "           [0.7608, 0.7608, 0.7569,  ..., 0.3059, 0.3137, 0.3216]]])},\n",
       " {'image': tensor([[[0.0000, 0.0039, 0.0039,  ..., 0.0000, 0.0000, 0.0000],\n",
       "           [0.0000, 0.0000, 0.0000,  ..., 0.0000, 0.0000, 0.0000],\n",
       "           [0.0039, 0.0000, 0.0000,  ..., 0.0000, 0.0000, 0.0000],\n",
       "           ...,\n",
       "           [0.0000, 0.0039, 0.0000,  ..., 0.0000, 0.0000, 0.0000],\n",
       "           [0.0000, 0.0078, 0.0000,  ..., 0.0000, 0.0000, 0.0000],\n",
       "           [0.0039, 0.0000, 0.0078,  ..., 0.0000, 0.0000, 0.0000]],\n",
       "  \n",
       "          [[0.0000, 0.0039, 0.0039,  ..., 0.0000, 0.0000, 0.0000],\n",
       "           [0.0000, 0.0000, 0.0000,  ..., 0.0000, 0.0000, 0.0000],\n",
       "           [0.0039, 0.0000, 0.0000,  ..., 0.0000, 0.0000, 0.0000],\n",
       "           ...,\n",
       "           [0.0000, 0.0039, 0.0000,  ..., 0.0000, 0.0000, 0.0000],\n",
       "           [0.0000, 0.0078, 0.0000,  ..., 0.0000, 0.0000, 0.0000],\n",
       "           [0.0039, 0.0000, 0.0078,  ..., 0.0000, 0.0000, 0.0000]],\n",
       "  \n",
       "          [[0.0000, 0.0039, 0.0039,  ..., 0.0000, 0.0000, 0.0000],\n",
       "           [0.0000, 0.0000, 0.0000,  ..., 0.0000, 0.0000, 0.0000],\n",
       "           [0.0039, 0.0000, 0.0000,  ..., 0.0000, 0.0000, 0.0000],\n",
       "           ...,\n",
       "           [0.0000, 0.0039, 0.0000,  ..., 0.0000, 0.0000, 0.0000],\n",
       "           [0.0000, 0.0078, 0.0000,  ..., 0.0000, 0.0000, 0.0000],\n",
       "           [0.0039, 0.0000, 0.0078,  ..., 0.0000, 0.0000, 0.0000]]])}]"
      ]
     },
     "execution_count": 13,
     "metadata": {},
     "output_type": "execute_result"
    }
   ],
   "source": [
    "chain_model.x"
   ]
  },
  {
   "cell_type": "code",
   "execution_count": null,
   "metadata": {},
   "outputs": [
    {
     "ename": "TypeError",
     "evalue": "list indices must be integers or slices, not str",
     "output_type": "error",
     "traceback": [
      "\u001b[1;31m---------------------------------------------------------------------------\u001b[0m",
      "\u001b[1;31mTypeError\u001b[0m                                 Traceback (most recent call last)",
      "\u001b[1;32m~\\AppData\\Local\\Temp/ipykernel_21304/3382217476.py\u001b[0m in \u001b[0;36m<module>\u001b[1;34m\u001b[0m\n\u001b[1;32m----> 1\u001b[1;33m \u001b[0mmodel\u001b[0m\u001b[1;33m.\u001b[0m\u001b[0mx\u001b[0m\u001b[1;33m[\u001b[0m\u001b[1;34m\"images\"\u001b[0m\u001b[1;33m]\u001b[0m\u001b[1;33m\u001b[0m\u001b[1;33m\u001b[0m\u001b[0m\n\u001b[0m",
      "\u001b[1;31mTypeError\u001b[0m: list indices must be integers or slices, not str"
     ]
    }
   ],
   "source": [
    "model.x[\"images\"]"
   ]
  },
  {
   "cell_type": "code",
   "execution_count": null,
   "metadata": {},
   "outputs": [],
   "source": []
  },
  {
   "cell_type": "code",
   "execution_count": null,
   "metadata": {},
   "outputs": [],
   "source": [
    "c = chain_map(model.x['xrays'])"
   ]
  },
  {
   "cell_type": "code",
   "execution_count": null,
   "metadata": {},
   "outputs": [
    {
     "data": {
      "text/plain": [
       "dict_keys(['image'])"
      ]
     },
     "execution_count": 18,
     "metadata": {},
     "output_type": "execute_result"
    }
   ],
   "source": [
    "c.keys()"
   ]
  },
  {
   "cell_type": "code",
   "execution_count": null,
   "metadata": {},
   "outputs": [],
   "source": [
    "target_copy = {}\n",
    "for k in model.targets[0].keys():\n",
    "    target_copy[k] = []\n",
    "for t in model.targets:\n",
    "    for k, v in t.items():\n",
    "        target_copy[k].append(v)\n"
   ]
  },
  {
   "cell_type": "code",
   "execution_count": null,
   "metadata": {},
   "outputs": [
    {
     "data": {
      "text/plain": [
       "dict_keys(['fixation-generation', 'fixation_path', 'negbio_classifications', 'chexpert_classifications', 'lesion-detection'])"
      ]
     },
     "execution_count": 22,
     "metadata": {},
     "output_type": "execute_result"
    }
   ],
   "source": [
    "target_copy.keys()"
   ]
  },
  {
   "cell_type": "code",
   "execution_count": null,
   "metadata": {},
   "outputs": [
    {
     "ename": "TypeError",
     "evalue": "list indices must be integers or slices, not str",
     "output_type": "error",
     "traceback": [
      "\u001b[1;31m---------------------------------------------------------------------------\u001b[0m",
      "\u001b[1;31mTypeError\u001b[0m                                 Traceback (most recent call last)",
      "\u001b[1;32m~\\AppData\\Local\\Temp/ipykernel_10616/2719141314.py\u001b[0m in \u001b[0;36m<module>\u001b[1;34m\u001b[0m\n\u001b[1;32m----> 1\u001b[1;33m \u001b[0mmodel\u001b[0m\u001b[1;33m.\u001b[0m\u001b[0mtargets\u001b[0m\u001b[1;33m[\u001b[0m\u001b[1;34m'lesion-detection'\u001b[0m\u001b[1;33m]\u001b[0m\u001b[1;33m\u001b[0m\u001b[1;33m\u001b[0m\u001b[0m\n\u001b[0m",
      "\u001b[1;31mTypeError\u001b[0m: list indices must be integers or slices, not str"
     ]
    }
   ],
   "source": [
    "model.targets['lesion-detection']"
   ]
  },
  {
   "cell_type": "code",
   "execution_count": null,
   "metadata": {},
   "outputs": [
    {
     "name": "stdout",
     "output_type": "stream",
     "text": [
      "pain\n"
     ]
    }
   ],
   "source": [
    "for col in train_dataset.clinical_numerical_cols:\n",
    "    if len(train_dataset.df[train_dataset.df[col] == 'AMS']) > 0:\n",
    "        print(col)"
   ]
  },
  {
   "cell_type": "code",
   "execution_count": null,
   "metadata": {},
   "outputs": [
    {
     "data": {
      "text/plain": [
       "0           261\n",
       "13           46\n",
       "8            46\n",
       "10           38\n",
       "7            34\n",
       "5            31\n",
       "6            30\n",
       "9            23\n",
       "4            20\n",
       "3            17\n",
       "2            15\n",
       "unable        7\n",
       "1             6\n",
       "ua            3\n",
       "?             2\n",
       "AMS           1\n",
       "1/2           1\n",
       "asleep        1\n",
       "Critical      1\n",
       "UTA           1\n",
       "88            1\n",
       "u/a           1\n",
       "uta           1\n",
       "Name: pain, dtype: int64"
      ]
     },
     "execution_count": 20,
     "metadata": {},
     "output_type": "execute_result"
    }
   ],
   "source": [
    "train_dataset.df['pain'].value_counts()"
   ]
  },
  {
   "cell_type": "code",
   "execution_count": null,
   "metadata": {},
   "outputs": [
    {
     "ename": "ValueError",
     "evalue": "could not convert string to float: 'AMS'",
     "output_type": "error",
     "traceback": [
      "\u001b[1;31m---------------------------------------------------------------------------\u001b[0m",
      "\u001b[1;31mValueError\u001b[0m                                Traceback (most recent call last)",
      "\u001b[1;32m~\\AppData\\Local\\Temp/ipykernel_20024/3650943286.py\u001b[0m in \u001b[0;36m<module>\u001b[1;34m\u001b[0m\n\u001b[1;32m----> 1\u001b[1;33m \u001b[0mnp\u001b[0m\u001b[1;33m.\u001b[0m\u001b[0marray\u001b[0m\u001b[1;33m(\u001b[0m\u001b[0mtrain_dataset\u001b[0m\u001b[1;33m.\u001b[0m\u001b[0mdf\u001b[0m\u001b[1;33m[\u001b[0m\u001b[0mtrain_dataset\u001b[0m\u001b[1;33m.\u001b[0m\u001b[0mclinical_numerical_cols\u001b[0m\u001b[1;33m]\u001b[0m\u001b[1;33m,\u001b[0m \u001b[0mdtype\u001b[0m\u001b[1;33m=\u001b[0m\u001b[1;34m\"float\"\u001b[0m\u001b[1;33m)\u001b[0m\u001b[1;33m\u001b[0m\u001b[1;33m\u001b[0m\u001b[0m\n\u001b[0m",
      "\u001b[1;32mc:\\Users\\mike8\\anaconda3\\envs\\pytorch\\lib\\site-packages\\pandas\\core\\generic.py\u001b[0m in \u001b[0;36m__array__\u001b[1;34m(self, dtype)\u001b[0m\n\u001b[0;32m   1991\u001b[0m \u001b[1;33m\u001b[0m\u001b[0m\n\u001b[0;32m   1992\u001b[0m     \u001b[1;32mdef\u001b[0m \u001b[0m__array__\u001b[0m\u001b[1;33m(\u001b[0m\u001b[0mself\u001b[0m\u001b[1;33m,\u001b[0m \u001b[0mdtype\u001b[0m\u001b[1;33m:\u001b[0m \u001b[0mNpDtype\u001b[0m \u001b[1;33m|\u001b[0m \u001b[1;32mNone\u001b[0m \u001b[1;33m=\u001b[0m \u001b[1;32mNone\u001b[0m\u001b[1;33m)\u001b[0m \u001b[1;33m->\u001b[0m \u001b[0mnp\u001b[0m\u001b[1;33m.\u001b[0m\u001b[0mndarray\u001b[0m\u001b[1;33m:\u001b[0m\u001b[1;33m\u001b[0m\u001b[1;33m\u001b[0m\u001b[0m\n\u001b[1;32m-> 1993\u001b[1;33m         \u001b[1;32mreturn\u001b[0m \u001b[0mnp\u001b[0m\u001b[1;33m.\u001b[0m\u001b[0masarray\u001b[0m\u001b[1;33m(\u001b[0m\u001b[0mself\u001b[0m\u001b[1;33m.\u001b[0m\u001b[0m_values\u001b[0m\u001b[1;33m,\u001b[0m \u001b[0mdtype\u001b[0m\u001b[1;33m=\u001b[0m\u001b[0mdtype\u001b[0m\u001b[1;33m)\u001b[0m\u001b[1;33m\u001b[0m\u001b[1;33m\u001b[0m\u001b[0m\n\u001b[0m\u001b[0;32m   1994\u001b[0m \u001b[1;33m\u001b[0m\u001b[0m\n\u001b[0;32m   1995\u001b[0m     def __array_wrap__(\n",
      "\u001b[1;31mValueError\u001b[0m: could not convert string to float: 'AMS'"
     ]
    }
   ],
   "source": [
    "np.array(train_dataset.df[train_dataset.clinical_numerical_cols], dtype=\"float\")"
   ]
  },
  {
   "cell_type": "code",
   "execution_count": null,
   "metadata": {},
   "outputs": [
    {
     "name": "stdout",
     "output_type": "stream",
     "text": [
      "========================================For Training [basline_test]========================================\n",
      "ModelSetup(name='basline_test', sources=['image'], tasks=['object-detection'], decoder_channels=[128, 64, 32, 16, 1], label_cols=['Pulmonary edema', 'Enlarged cardiac silhouette', 'Consolidation', 'Atelectasis', 'Pleural abnormality'], save_early_stop_model=True, record_training_performance=True, backbone='mobilenet_v3', optimiser='sgd', lr=0.01, weight_decay=1e-09, image_backbone_pretrained=True, heatmap_backbone_pretrained=False, image_size=512, backbone_out_channels=64, batch_size=16, warmup_epochs=0, lr_scheduler='ReduceLROnPlateau', reduceLROnPlateau_factor=0.1, reduceLROnPlateau_patience=999, reduceLROnPlateau_full_stop=True, multiStepLR_milestones=100, multiStepLR_gamma=0.1, representation_size=64, mask_hidden_layers=64, using_fpn=False, use_mask=False, fuse_conv_channels=64, box_head_dropout_rate=0, fuse_depth=4, fusion_strategy='concat', fusion_residule=False, gt_in_train_till=0, measure_test=True, eval_freq=10, use_iobb=True, iou_thrs=array([0.5]))\n",
      "===========================================================================================================\n",
      "\n",
      "Best AP validation model has been saved to: [val_ar_0_5550_ap_0_1937_test_ar_0_5481_ap_0_1928_epoch19_02-14-2023 16-45-12_basline_test]\n",
      "Best AR validation model has been saved to: [val_ar_0_6200_ap_0_1788_test_ar_0_6222_ap_0_1942_epoch12_02-14-2023 15-28-54_basline_test]\n",
      "The final model has been saved to: [val_ar_0_5150_ap_0_1809_test_ar_0_5314_ap_0_1928_epoch30_02-14-2023 18-41-59_basline_test]\n",
      "\n",
      "===========================================================================================================\n",
      "Using pretrained backbone. mobilenet_v3\n",
      "[model]: 5,593,289\n",
      "Max AP on test: [0.2048]\n"
     ]
    },
    {
     "data": {
      "image/png": "[encoded data removed]",
      "text/plain": [
       "<Figure size 800x800 with 2 Axes>"
      ]
     },
     "metadata": {
      "needs_background": "light"
     },
     "output_type": "display_data"
    },
    {
     "data": {
      "image/png": "[encoded data removed]",
      "text/plain": [
       "<Figure size 800x2400 with 6 Axes>"
      ]
     },
     "metadata": {
      "needs_background": "light"
     },
     "output_type": "display_data"
    }
   ],
   "source": [
    "for train_info in train_infos:\n",
    "    print(train_info)\n",
    "    model_setup: ModelSetup = train_info.model_setup\n",
    "    model = create_model_from_setup(\n",
    "        model_setup\n",
    "    )\n",
    "    \n",
    "    print_params_setup(model)\n",
    "\n",
    "    print(\n",
    "        f\"Max AP on test: [{max([ap_ar['ap']  for ap_ar in  train_info.test_ap_ars]):.4f}]\"\n",
    "    )\n",
    "    plot_ap_ars(\n",
    "        train_ap_ars=train_info.train_ap_ars,\n",
    "        val_ap_ars=train_info.val_ap_ars,\n",
    "        test_ap_ars=train_info.test_ap_ars,\n",
    "    )\n",
    "\n",
    "    plot_losses(\n",
    "        train_info.train_losses,\n",
    "        train_info.val_losses,\n",
    "        test_logers=train_info.test_losses,\n",
    "    )\n",
    "\n"
   ]
  },
  {
   "cell_type": "code",
   "execution_count": null,
   "metadata": {},
   "outputs": [],
   "source": []
  }
 ],
 "metadata": {
  "kernelspec": {
   "display_name": "pytorch",
   "language": "python",
   "name": "python3"
  },
  "language_info": {
   "codemirror_mode": {
    "name": "ipython",
    "version": 3
   },
   "file_extension": ".py",
   "mimetype": "text/x-python",
   "name": "python",
   "nbconvert_exporter": "python",
   "pygments_lexer": "ipython3",
   "version": "3.10.8"
  },
  "orig_nbformat": 4,
  "vscode": {
   "interpreter": {
    "hash": "05ebdd47fe7a4051acc4227c2d648dd2aae7424f451cfb0e2d4bf70d17920b33"
   }
  }
 },
 "nbformat": 4,
 "nbformat_minor": 2
}
