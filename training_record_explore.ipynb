{
 "cells": [
  {
   "cell_type": "code",
   "execution_count": null,
   "metadata": {},
   "outputs": [],
   "source": [
    "# Best performance model has been saved to: [{'chexpert-classification_auc': 'chexpert-classification_val_auc_0_6563_test_auc_0_6099_epoch16_08-01-2023 09-53-30_chexpert_cl_fix'}]\n",
    "# The final model has been saved to: [chexpert-classification_val_auc_0_6147_test_auc_0_6142_epoch200_08-01-2023 15-06-12_chexpert_cl_fix]\n",
    "\n",
    "# Best performance model has been saved to: [{'chexpert-classification_auc': 'chexpert-classification_val_auc_0_7130_test_auc_0_7087_epoch114_08-01-2023 18-10-54_chexpert_baseline'}]\n",
    "# The final model has been saved to: [chexpert-classification_val_auc_0_6837_test_auc_0_6835_epoch200_08-01-2023 20-19-54_chexpert_baseline]\n",
    "\n",
    "# Best performance model has been saved to: [{'chexpert-classification_auc': 'chexpert-classification_val_auc_0_7169_test_auc_0_7275_epoch168_08-02-2023 00-53-40_chexpert_cl_no_fix'}]\n",
    "# The final model has been saved to: [chexpert-classification_val_auc_0_6988_test_auc_0_7129_epoch200_08-02-2023 02-00-43_chexpert_cl_no_fix]\n"
   ]
  },
  {
   "cell_type": "code",
   "execution_count": 2,
   "metadata": {},
   "outputs": [],
   "source": [
    "import pandas as pd\n",
    "import numpy as np\n",
    "import torch\n",
    "import utils.print as print_f\n",
    "import os\n",
    "\n",
    "from utils.engine import evaluate, get_iou_types\n",
    "from utils.plot import plot_losses, plot_performance\n",
    "from data.strs import TaskStrs, SourceStrs, FusionStrs\n",
    "\n",
    "from models.utils import get_model_size_in_MB\n",
    "from models.build import create_model_from_setup\n",
    "from models.setup import ModelSetup\n",
    "from models.train import TrainingInfo, get_task_metric_name_from_standard\n",
    "from utils.save import check_best, end_train, get_data_from_metric_logger\n",
    "from data.load import get_datasets, get_dataloaders\n",
    "from IPython.display import clear_output\n",
    "from utils.eval import get_performance\n",
    "from utils.train import get_optimiser, get_lr_scheduler, print_params_setup, get_coco_eval_params, get_dynamic_loss\n",
    "from utils.init import reproducibility, clean_memory_get_device\n",
    "from data.paths import MIMIC_EYE_PATH\n",
    "# from datetime import datetime\n",
    "# from models.dynamic_loss import DynamicWeightedLoss\n",
    "from utils.engine import train_one_epoch, evaluate\n",
    "from torch import optim\n",
    "from models.setup import ModelSetup\n",
    "from data.paths import MIMIC_EYE_PATH, PHYSIONET_PATH\n",
    "from models.load import get_trained_model\n",
    "from models.load import load_cl_pretrained\n",
    "\n",
    "\n",
    "# from data.load import seed_worker, get_dataloader_g\n",
    "\n",
    "## Suppress the assignement warning from pandas.r\n",
    "pd.options.mode.chained_assignment = None  # default='warn'\n",
    "\n",
    "## Supress user warning\n",
    "import warnings\n",
    "warnings.filterwarnings(\"ignore\")\n",
    "\n",
    "from models.components.task_performers import ObjectDetectionPerformer\n",
    "from data.constants import DEFAULT_MIMIC_CLINICAL_NUM_COLS, DEFAULT_MIMIC_CLINICAL_CAT_COLS\n",
    "\n",
    "%matplotlib inline"
   ]
  },
  {
   "cell_type": "code",
   "execution_count": 1,
   "metadata": {},
   "outputs": [],
   "source": [
    "# os.environ[\"PYTORCH_CUDA_ALLOC_CONF\"] = \"max_split_size_mb:256\"\n",
    "# # 'PYTORCH_CUDA_ALLOC_CONF=max_split_size_mb:512'\n",
    "# device = clean_memory_get_device()\n",
    "# reproducibility()\n",
    "# if torch.cuda.is_available():\n",
    "#     print(torch.cuda.memory_summary())"
   ]
  },
  {
   "cell_type": "code",
   "execution_count": 3,
   "metadata": {},
   "outputs": [],
   "source": [
    "get_epoch_from_model = lambda select_model: int(([substr for substr in select_model.value.split(\"_\") if \"epoch\" in substr][0]).replace(\"epoch\", \"\"))\n",
    "get_model_name = lambda select_model: str(select_model).split(\".\")[-1]"
   ]
  },
  {
   "cell_type": "code",
   "execution_count": 5,
   "metadata": {},
   "outputs": [],
   "source": [
    "import pickle\n",
    "# only need to load train_info\n",
    "def load_train_info(model_path):\n",
    "    with open(os.path.join(\"training_records\", f\"{model_path}.pkl\"), \"rb\") as f:\n",
    "        train_info: TrainingInfo = pickle.load(f)\n",
    "    return train_info    "
   ]
  },
  {
   "cell_type": "code",
   "execution_count": 6,
   "metadata": {},
   "outputs": [],
   "source": [
    "baseline_64 = \"chexpert-classification_val_auc_0_6837_test_auc_0_6835_epoch200_08-01-2023 20-19-54_chexpert_baseline\"\n",
    "cl_64 = \"chexpert-classification_val_auc_0_6988_test_auc_0_7129_epoch200_08-02-2023 02-00-43_chexpert_cl_no_fix\"\n",
    "cl_64_fix = \"chexpert-classification_val_auc_0_6147_test_auc_0_6142_epoch200_08-01-2023 15-06-12_chexpert_cl_fix\""
   ]
  },
  {
   "cell_type": "code",
   "execution_count": 9,
   "metadata": {},
   "outputs": [],
   "source": [
    "baseline_64_t = load_train_info(baseline_64)\n",
    "cl_64_t = load_train_info(cl_64)\n",
    "cl_64_fix_t = load_train_info(cl_64_fix)"
   ]
  },
  {
   "cell_type": "code",
   "execution_count": 10,
   "metadata": {},
   "outputs": [],
   "source": [
    "def get_best_epoch_from_t(t):\n",
    "    for e in t.best_performance_model_path['chexpert-classification_auc'].split(\"_\"):\n",
    "        if \"epoch\" in e:\n",
    "            return int(e.replace(\"epoch\",\"\"))"
   ]
  },
  {
   "cell_type": "code",
   "execution_count": 8,
   "metadata": {},
   "outputs": [
    {
     "data": {
      "text/plain": [
       "<models.train.TrainingInfo at 0x21d75683b20>"
      ]
     },
     "execution_count": 8,
     "metadata": {},
     "output_type": "execute_result"
    }
   ],
   "source": [
    "baseline_t"
   ]
  },
  {
   "cell_type": "code",
   "execution_count": 11,
   "metadata": {},
   "outputs": [
    {
     "name": "stdout",
     "output_type": "stream",
     "text": [
      "chexpert_baseline\n",
      "best at 114 epoch\n",
      "{'chexpert-classification': {'f1': 0.5461847389558233, 'precision': 0.7391304347826086, 'accuracy': 0.9327380952380953, 'recall': 0.43312101910828027, 'auc': 0.7086813237366745}}\n",
      "chexpert_cl_no_fix\n",
      "best at 168 epoch\n",
      "{'chexpert-classification': {'f1': 0.5781250000000001, 'precision': 0.7474747474747475, 'accuracy': 0.9357142857142857, 'recall': 0.4713375796178344, 'auc': 0.7274613045823906}}\n",
      "chexpert_cl_fix\n",
      "best at 16 epoch\n",
      "{'chexpert-classification': {'f1': 0.3318777292576419, 'precision': 0.5277777777777778, 'accuracy': 0.9089285714285714, 'recall': 0.24203821656050956, 'auc': 0.6098569283721786}}\n"
     ]
    }
   ],
   "source": [
    "for t in [baseline_64_t, cl_64_t, cl_64_fix_t]:\n",
    "    print(t.model_setup.name)\n",
    "    best_epoch = get_best_epoch_from_t(t)\n",
    "    print(f\"best at {best_epoch} epoch\")\n",
    "    print(t.performance['test'][best_epoch-1])"
   ]
  },
  {
   "cell_type": "code",
   "execution_count": null,
   "metadata": {},
   "outputs": [],
   "source": []
  }
 ],
 "metadata": {
  "kernelspec": {
   "display_name": "pytorch",
   "language": "python",
   "name": "python3"
  },
  "language_info": {
   "codemirror_mode": {
    "name": "ipython",
    "version": 3
   },
   "file_extension": ".py",
   "mimetype": "text/x-python",
   "name": "python",
   "nbconvert_exporter": "python",
   "pygments_lexer": "ipython3",
   "version": "3.9.16"
  },
  "orig_nbformat": 4
 },
 "nbformat": 4,
 "nbformat_minor": 2
}
