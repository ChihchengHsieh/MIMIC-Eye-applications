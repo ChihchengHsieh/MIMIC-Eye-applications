{
 "cells": [
  {
   "cell_type": "code",
   "execution_count": 1,
   "metadata": {},
   "outputs": [],
   "source": [
    "import pandas as pd\n",
    "import numpy as np\n",
    "import torch\n",
    "import utils.print as print_f\n",
    "import os\n",
    "\n",
    "from utils.engine import evaluate, get_iou_types\n",
    "from utils.plot import plot_losses, plot_ap_ars\n",
    "\n",
    "from models.utils import get_model_size_in_MB\n",
    "from models.build import create_model_from_setup\n",
    "from models.setup import ModelSetup\n",
    "from models.train import TrainingInfo\n",
    "from utils.save import check_best, end_train, get_data_from_metric_logger\n",
    "from data.load import get_datasets, get_dataloaders\n",
    "from IPython.display import clear_output\n",
    "from utils.eval import get_ap_ar, get_ap_ar_for_train_val\n",
    "from utils.train import get_optimiser, get_lr_scheduler, print_params_setup, get_coco_eval_params, get_dynamic_loss\n",
    "from utils.init import reproducibility, clean_memory_get_device\n",
    "from data.paths import MIMIC_EYE_PATH\n",
    "# from datetime import datetime\n",
    "# from models.dynamic_loss import DynamicWeightedLoss\n",
    "from utils.engine import train_one_epoch, evaluate\n",
    "from torch import optim\n",
    "from data.paths import MIMIC_EYE_PATH\n",
    "from models.load import get_trained_model\n",
    "# from data.load import seed_worker, get_dataloader_g\n",
    "\n",
    "\n",
    "## Suppress the assignement warning from pandas.r\n",
    "pd.options.mode.chained_assignment = None  # default='warn'\n",
    "\n",
    "## Supress user warning\n",
    "import warnings\n",
    "warnings.filterwarnings(\"ignore\")\n",
    "\n",
    "%matplotlib inline"
   ]
  },
  {
   "cell_type": "code",
   "execution_count": 21,
   "metadata": {},
   "outputs": [],
   "source": [
    "from enum import Enum\n",
    "\n",
    "class TrainedModels(Enum):\n",
    "    continue_training = \"val_lesion-detection_ap_0_1226_test_lesion-detection_ap_0_1372_epoch30_03-09-2023 11-58-37_chexpert_without_fix\"\n",
    "    with_fix = \"val_lesion-detection_ap_0_0005_test_lesion-detection_ap_0_0010_epoch1_03-09-2023 02-08-50_chexpert_with_fix\"\n"
   ]
  },
  {
   "cell_type": "code",
   "execution_count": 22,
   "metadata": {},
   "outputs": [
    {
     "name": "stdout",
     "output_type": "stream",
     "text": [
      "This notebook will running on device: [CUDA]\n"
     ]
    }
   ],
   "source": [
    "device = clean_memory_get_device()\n",
    "reproducibility()"
   ]
  },
  {
   "cell_type": "code",
   "execution_count": 23,
   "metadata": {},
   "outputs": [],
   "source": [
    "get_epoch_from_model = lambda select_model: int(([substr for substr in select_model.value.split(\"_\") if \"epoch\" in substr][0]).replace(\"epoch\", \"\"))\n",
    "get_model_name = lambda select_model: str(select_model).split(\".\")[-1]"
   ]
  },
  {
   "cell_type": "code",
   "execution_count": 24,
   "metadata": {},
   "outputs": [],
   "source": [
    "select_model = TrainedModels.with_fix"
   ]
  },
  {
   "cell_type": "code",
   "execution_count": 25,
   "metadata": {},
   "outputs": [
    {
     "name": "stdout",
     "output_type": "stream",
     "text": [
      "Using pretrained backbone. mobilenet_v3\n",
      "Using pretrained backbone. mobilenet_v3\n",
      "Using SGD as optimizer with lr=0.001\n",
      "\n"
     ]
    }
   ],
   "source": [
    "model, train_info, optimizer, dynamic_loss_weight = get_trained_model(\n",
    "        select_model,\n",
    "        device,\n",
    "    )\n",
    "\n",
    "model.to(device)\n",
    "model.train()\n",
    "\n",
    "print()"
   ]
  },
  {
   "cell_type": "code",
   "execution_count": 18,
   "metadata": {},
   "outputs": [
    {
     "data": {
      "text/plain": [
       "dict_keys(['lesion-detection_performer-object_detection_loss_box_reg', 'lesion-detection_performer-object_detection_loss_classifier', 'lesion-detection_performer-object_detection_loss_mask', 'lesion-detection_performer-object_detection_loss_objectness', 'lesion-detection_performer-object_detection_loss_rpn_box_reg'])"
      ]
     },
     "execution_count": 18,
     "metadata": {},
     "output_type": "execute_result"
    }
   ],
   "source": [
    "dynamic_loss_weight.params.keys()"
   ]
  },
  {
   "cell_type": "code",
   "execution_count": 20,
   "metadata": {},
   "outputs": [
    {
     "name": "stdout",
     "output_type": "stream",
     "text": [
      "lesion-detection_performer-object_detection_loss_box_reg: 0.4498993158340454\n",
      "lesion-detection_performer-object_detection_loss_classifier: 0.4715196192264557\n",
      "lesion-detection_performer-object_detection_loss_mask: 1.0\n",
      "lesion-detection_performer-object_detection_loss_objectness: 0.3527882397174835\n",
      "lesion-detection_performer-object_detection_loss_rpn_box_reg: 0.1935456395149231\n"
     ]
    }
   ],
   "source": [
    "for k in dynamic_loss_weight.params.keys():\n",
    "    print(f\"{k}: {dynamic_loss_weight.params[k].item()}\")"
   ]
  },
  {
   "cell_type": "code",
   "execution_count": 26,
   "metadata": {},
   "outputs": [
    {
     "name": "stdout",
     "output_type": "stream",
     "text": [
      "lesion-detection_performer-object_detection_loss_box_reg: 0.45166999101638794\n",
      "lesion-detection_performer-object_detection_loss_classifier: 0.7384166717529297\n",
      "lesion-detection_performer-object_detection_loss_mask: 1.0\n",
      "lesion-detection_performer-object_detection_loss_objectness: 0.8888599276542664\n",
      "lesion-detection_performer-object_detection_loss_rpn_box_reg: 0.45957323908805847\n"
     ]
    }
   ],
   "source": [
    "for k in dynamic_loss_weight.params.keys():\n",
    "    print(f\"{k}: {dynamic_loss_weight.params[k].item()}\")"
   ]
  },
  {
   "cell_type": "code",
   "execution_count": null,
   "metadata": {},
   "outputs": [],
   "source": [
    "A"
   ]
  }
 ],
 "metadata": {
  "kernelspec": {
   "display_name": "pytorch",
   "language": "python",
   "name": "python3"
  },
  "language_info": {
   "codemirror_mode": {
    "name": "ipython",
    "version": 3
   },
   "file_extension": ".py",
   "mimetype": "text/x-python",
   "name": "python",
   "nbconvert_exporter": "python",
   "pygments_lexer": "ipython3",
   "version": "3.9.16"
  },
  "orig_nbformat": 4
 },
 "nbformat": 4,
 "nbformat_minor": 2
}
