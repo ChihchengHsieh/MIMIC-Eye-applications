{
 "cells": [
  {
   "cell_type": "code",
   "execution_count": 1,
   "metadata": {},
   "outputs": [],
   "source": [
    "# load the model first, run the evaluator on the model.\n",
    "\n",
    "import pandas as pd\n",
    "import numpy as np\n",
    "import torch\n",
    "import utils.print as print_f\n",
    "import os\n",
    "\n",
    "from utils.engine import evaluate, get_iou_types\n",
    "from utils.plot import plot_losses, plot_performance\n",
    "\n",
    "from models.utils import get_model_size_in_MB\n",
    "from models.build import create_model_from_setup\n",
    "from models.setup import ModelSetup\n",
    "from models.train import TrainingInfo\n",
    "from utils.save import check_best, end_train, get_data_from_metric_logger\n",
    "from data.load import get_datasets, get_dataloaders\n",
    "from IPython.display import clear_output\n",
    "from utils.eval import get_ap_ar, get_ap_ar_for_train_val\n",
    "from utils.train import get_optimiser, get_lr_scheduler, print_params_setup, get_coco_eval_params, get_dynamic_loss\n",
    "from utils.init import reproducibility, clean_memory_get_device\n",
    "from data.paths import MIMIC_EYE_PATH\n",
    "# from datetime import datetime\n",
    "# from models.dynamic_loss import DynamicWeightedLoss\n",
    "from utils.engine import train_one_epoch, evaluate\n",
    "from torch import optim\n",
    "from data.paths import MIMIC_EYE_PATH\n",
    "from models.load import get_trained_model\n",
    "# from data.load import seed_worker, get_dataloader_g\n",
    "from utils.plot import DISEASE_CMAP, get_legend_elements\n",
    "legend_elements = get_legend_elements(DISEASE_CMAP[\"solid\"])\n",
    "\n",
    "## Suppress the assignement warning from pandas.r\n",
    "pd.options.mode.chained_assignment = None  # default='warn'\n",
    "\n",
    "## Supress user warning\n",
    "import warnings\n",
    "warnings.filterwarnings(\"ignore\")\n",
    "\n",
    "%matplotlib inline"
   ]
  },
  {
   "cell_type": "code",
   "execution_count": 2,
   "metadata": {},
   "outputs": [],
   "source": [
    "from enum import Enum\n",
    "\n",
    "class TrainedModels(Enum):\n",
    "    mobilenet_baseline = \"val_lesion-detection_ap_0_1655_test_lesion-detection_ap_0_1648_epoch50_03-15-2023 16-43-54_lesion_dsetection_baseline_mobilenet\"  # mobilenet baseline\n",
    "    mobilenet_with_fix = \"val_lesion-detection_ap_0_1918_test_lesion-detection_ap_0_1903_epoch16_03-16-2023 11-34-10_lesion_dsetection_with_fixation_mobilenet\"\n",
    "    resnet18_baseline = \"val_lesion-detection_ap_0_1973_test_lesion-detection_ap_0_2010_epoch22_03-16-2023 19-44-55_lesion_dsetection_baseline_resnet\"\n",
    "    resnet18_with_fix = \"val_lesion-detection_ap_0_1951_test_lesion-detection_ap_0_2195_epoch12_03-17-2023 00-31-54_lesion_dsetection_with_fixation_resnet\"\n",
    "    densenet161_baseline = \"val_lesion-detection_ap_0_1990_test_lesion-detection_ap_0_2085_epoch5_03-17-2023 08-53-33_lesion_dsetection_baseline_densenet161\"\n",
    "    densenet161_with_fix = \"val_lesion-detection_ap_0_2120_test_lesion-detection_ap_0_2104_epoch12_03-17-2023 18-36-01_lesion_dsetection_with_fixation_densenet161\"\n",
    "    efficientnet_b5_baseline = \"val_lesion-detection_ap_0_1898_test_lesion-detection_ap_0_2055_epoch5_03-17-2023 23-30-57_lesion_dsetection_baseline_efficientnet_b5\"\n",
    "    efficientnet_b5_with_fix = \"val_lesion-detection_ap_0_2117_test_lesion-detection_ap_0_2190_epoch8_03-18-2023 12-29-20_lesion_dsetection_with_fixation_efficientnet_b5\"\n",
    "    efficientnet_b0_baseline = \"val_lesion-detection_ap_0_1934_test_lesion-detection_ap_0_1858_epoch10_03-18-2023 23-50-47_lesion_dsetection_baseline_efficientnet_b0\"\n",
    "    efficientnet_b0_with_fix = \"val_lesion-detection_ap_0_2191_test_lesion-detection_ap_0_2162_epoch10_03-18-2023 19-38-11_lesion_dsetection_with_fixation_efficientnet_b0\"\n",
    "    convnext_base_with_fix = \"val_lesion-detection_ap_0_2610_test_lesion-detection_ap_0_2548_epoch22_03-22-2023 02-55-37_lesion_dsetection_with_fixation_convnext_base\"\n",
    "    convnext_base_baseline = \"val_lesion-detection_ap_0_2426_test_lesion-detection_ap_0_2325_epoch20_03-22-2023 11-53-53_lesion_dsetection_baseline_convnext_base\"\n",
    "    vgg16_with_fix = \"val_lesion-detection_ap_0_2301_test_lesion-detection_ap_0_2186_epoch22_03-20-2023 19-26-02_lesion_dsetection_with_fixation_vgg16\"\n",
    "    vgg16_baseline = \"val_lesion-detection_ap_0_2113_test_lesion-detection_ap_0_2068_epoch12_03-21-2023 00-45-24_lesion_dsetection_baseline_vgg16\"\n",
    "    regnet_y_8gf_with_fix = \"val_lesion-detection_ap_0_2267_test_lesion-detection_ap_0_2029_epoch12_03-21-2023 11-28-48_lesion_dsetection_with_fixation_regnet_y_8gf\"\n",
    "    regnet_y_8gf_baseline = \"val_lesion-detection_ap_0_1883_test_lesion-detection_ap_0_1658_epoch13_03-21-2023 15-22-32_lesion_dsetection_baseline_regnet_y_8gf\""
   ]
  },
  {
   "cell_type": "code",
   "execution_count": 3,
   "metadata": {},
   "outputs": [
    {
     "name": "stdout",
     "output_type": "stream",
     "text": [
      "This notebook will running on device: [CUDA]\n"
     ]
    }
   ],
   "source": [
    "device = clean_memory_get_device()\n",
    "reproducibility()"
   ]
  },
  {
   "cell_type": "code",
   "execution_count": 4,
   "metadata": {},
   "outputs": [],
   "source": [
    "get_epoch_from_model = lambda select_model: int(([substr for substr in select_model.value.split(\"_\") if \"epoch\" in substr][0]).replace(\"epoch\", \"\"))\n",
    "get_model_name = lambda select_model: str(select_model).split(\".\")[-1]"
   ]
  },
  {
   "cell_type": "code",
   "execution_count": 5,
   "metadata": {},
   "outputs": [],
   "source": [
    "select_model = TrainedModels.densenet161_with_fix"
   ]
  },
  {
   "cell_type": "code",
   "execution_count": 6,
   "metadata": {},
   "outputs": [
    {
     "name": "stdout",
     "output_type": "stream",
     "text": [
      "Using pretrained backbone. densenet161\n",
      "Using pretrained backbone. densenet161\n",
      "Using SGD as optimizer with lr=0.01\n",
      "\n"
     ]
    }
   ],
   "source": [
    "model, train_info, optimizer, dynamic_loss_weight = get_trained_model(\n",
    "        select_model,\n",
    "        device,\n",
    "    )\n",
    "\n",
    "model.to(device)\n",
    "model.eval()\n",
    "\n",
    "# cover the long model.\n",
    "print()"
   ]
  },
  {
   "cell_type": "code",
   "execution_count": 7,
   "metadata": {},
   "outputs": [],
   "source": [
    "setup = train_info.model_setup\n",
    "iou_types = get_iou_types(model, setup)"
   ]
  },
  {
   "cell_type": "code",
   "execution_count": 8,
   "metadata": {},
   "outputs": [],
   "source": [
    "from data.strs import SourceStrs, TaskStrs\n",
    "\n",
    "dataset_params_dict = {\n",
    "        \"MIMIC_EYE_PATH\": MIMIC_EYE_PATH,\n",
    "        \"labels_cols\": setup.lesion_label_cols,\n",
    "        \"with_xrays_input\": SourceStrs.XRAYS in setup.sources,\n",
    "        \"with_clincal_input\": SourceStrs.CLINICAL in setup.sources,\n",
    "        \"with_fixations_input\": SourceStrs.FIXATIONS in setup.sources,\n",
    "        \"fixations_mode_input\": setup.fiaxtions_mode_input,\n",
    "        \"with_bboxes_label\": TaskStrs.LESION_DETECTION in setup.tasks,\n",
    "        \"with_fixations_label\": TaskStrs.FIXATION_GENERATION in setup.tasks,\n",
    "        \"fixations_mode_label\": setup.fiaxtions_mode_label,\n",
    "        \"with_chexpert_label\": TaskStrs.CHEXPERT_CLASSIFICATION in setup.tasks,\n",
    "        \"with_negbio_label\": TaskStrs.NEGBIO_CLASSIFICATION in setup.tasks,\n",
    "        \"clinical_numerical_cols\": setup.clinical_num,\n",
    "        \"clinical_categorical_cols\": setup.clinical_cat,\n",
    "        \"image_size\": setup.image_size,\n",
    "        \"image_mean\": setup.image_mean,\n",
    "        \"image_std\": setup.image_std,\n",
    "    }"
   ]
  },
  {
   "cell_type": "code",
   "execution_count": 9,
   "metadata": {},
   "outputs": [],
   "source": [
    "detect_eval_dataset, train_dataset, val_dataset, test_dataset = get_datasets(\n",
    "    dataset_params_dict=dataset_params_dict,\n",
    ")\n",
    "\n",
    "train_dataloader, val_dataloader, test_dataloader = get_dataloaders(\n",
    "    train_dataset, val_dataset, test_dataset, batch_size=setup.batch_size,\n",
    ")\n",
    "\n",
    "train_coco = None\n",
    "train_coco, val_coco, test_coco, eval_dict = get_coco_eval_params(\n",
    "    source_name=SourceStrs.XRAYS,\n",
    "    task_name=TaskStrs.LESION_DETECTION,\n",
    "    train_dataloader=train_dataloader,\n",
    "    val_dataloader=val_dataloader,\n",
    "    test_dataloader=test_dataloader,\n",
    "    detect_eval_dataset=detect_eval_dataset,\n",
    "    iou_thrs=np.array([0.5, 0.55, 0.6, 0.65, 0.7, 0.75, 0.8, 0.85, 0.9, 0.95]),\n",
    "    use_iobb=setup.use_iobb,\n",
    "    maxDets=[1, 5, 10, 30],\n",
    ")"
   ]
  },
  {
   "cell_type": "code",
   "execution_count": 10,
   "metadata": {},
   "outputs": [
    {
     "name": "stdout",
     "output_type": "stream",
     "text": [
      "Evaluation:  [ 0/57]  eta: 0:03:31  loss: 0.3649 (0.3649)  lesion-detection_performer-object_detection_loss_classifier: 0.1999 (0.1999)  lesion-detection_performer-object_detection_loss_box_reg: 0.1117 (0.1117)  lesion-detection_performer-object_detection_loss_objectness: 0.0490 (0.0490)  lesion-detection_performer-object_detection_loss_rpn_box_reg: 0.0043 (0.0043)  model_time: 1680086144.0000 (1680086177.7020)  evaluator_time: 0.0000 (0.0000)  time: 3.7020  data: 2.2025  max mem: 1137\n",
      "Evaluation:  [56/57]  eta: 0:00:02  loss: 0.2141 (0.2027)  lesion-detection_performer-object_detection_loss_classifier: 0.1060 (0.1041)  lesion-detection_performer-object_detection_loss_box_reg: 0.0781 (0.0697)  lesion-detection_performer-object_detection_loss_objectness: 0.0244 (0.0253)  lesion-detection_performer-object_detection_loss_rpn_box_reg: 0.0038 (0.0036)  model_time: 1680086272.0000 (1680086242.7150)  evaluator_time: 0.0000 (0.0000)  time: 2.2195  data: 1.9524  max mem: 1139\n",
      "Evaluation: Total time: 0:02:09 (2.2796 s / it)\n",
      "Averaged stats: loss: 0.2141 (0.2027)  lesion-detection_performer-object_detection_loss_classifier: 0.1060 (0.1041)  lesion-detection_performer-object_detection_loss_box_reg: 0.0781 (0.0697)  lesion-detection_performer-object_detection_loss_objectness: 0.0244 (0.0253)  lesion-detection_performer-object_detection_loss_rpn_box_reg: 0.0038 (0.0036)  model_time: 1680086272.0000 (1680086242.7150)  evaluator_time: 0.0000 (0.0000)\n",
      "Accumulating evaluation results...\n",
      "DONE (t=0.09s).\n",
      "IoU metric: bbox\n",
      " Average Precision  (AP) @[ IoU=0.50:0.95 | area=   all | maxDets=  1 ] = 0.079\n",
      " Average Precision  (AP) @[ IoU=0.50:0.95 | area=   all | maxDets=  5 ] = 0.117\n",
      " Average Precision  (AP) @[ IoU=0.50:0.95 | area=   all | maxDets= 10 ] = 0.122\n",
      " Average Precision  (AP) @[ IoU=0.50:0.95 | area=   all | maxDets= 30 ] = 0.123\n",
      " Average Precision  (AP) @[ IoU=0.50:0.95 | area=   all | maxDets=100 ] = 0.123\n",
      " Average Precision  (AP) @[ IoU=0.50      | area=   all | maxDets= 10 ] = 0.210\n",
      " Average Precision  (AP) @[ IoU=0.75      | area=   all | maxDets= 10 ] = 0.110\n",
      " Average Precision  (AP) @[ IoU=0.50:0.95 | area= small | maxDets= 10 ] = -1.000\n",
      " Average Precision  (AP) @[ IoU=0.50:0.95 | area=medium | maxDets= 10 ] = -1.000\n",
      " Average Precision  (AP) @[ IoU=0.50:0.95 | area= large | maxDets= 10 ] = 0.122\n",
      " Average Recall     (AR) @[ IoU=0.50:0.95 | area=   all | maxDets=  1 ] = 0.173\n",
      " Average Recall     (AR) @[ IoU=0.50:0.95 | area=   all | maxDets=  5 ] = 0.363\n",
      " Average Recall     (AR) @[ IoU=0.50:0.95 | area=   all | maxDets= 10 ] = 0.402\n",
      " Average Recall     (AR) @[ IoU=0.50:0.95 | area=   all | maxDets= 30 ] = 0.412\n",
      " Average Recall     (AR) @[ IoU=0.50:0.95 | area=   all | maxDets=100 ] = 0.412\n",
      " Average Recall     (AR) @[ IoU=0.50:0.95 | area= small | maxDets= 10 ] = -1.000\n",
      " Average Recall     (AR) @[ IoU=0.50:0.95 | area=medium | maxDets= 10 ] = -1.000\n",
      " Average Recall     (AR) @[ IoU=0.50:0.95 | area= large | maxDets= 10 ] = 0.402\n"
     ]
    }
   ],
   "source": [
    "test_evaluator, _ = evaluate(\n",
    "    setup=setup,\n",
    "    model=model,\n",
    "    data_loader=test_dataloader,\n",
    "    device=device,\n",
    "    params_dict=eval_dict,\n",
    "    coco=test_coco,\n",
    "    iou_types=iou_types,\n",
    "    # score_thres=score_thres,\n",
    ")"
   ]
  },
  {
   "cell_type": "code",
   "execution_count": 1,
   "metadata": {},
   "outputs": [],
   "source": [
    "import numpy as np \n",
    "from sklearn import metrics\n",
    "y = np.array([1, 1, 2,2 ])\n",
    "scores = np.array([0.1, 0.4, 0.35,  0.8])\n",
    "fpr, tpr, thresholds = metrics.roc_curve(y, scores, pos_label = 2, )"
   ]
  },
  {
   "cell_type": "code",
   "execution_count": 2,
   "metadata": {},
   "outputs": [
    {
     "data": {
      "text/plain": [
       "array([0. , 0. , 0.5, 0.5, 1. ])"
      ]
     },
     "execution_count": 2,
     "metadata": {},
     "output_type": "execute_result"
    }
   ],
   "source": [
    "fpr"
   ]
  },
  {
   "cell_type": "code",
   "execution_count": 3,
   "metadata": {},
   "outputs": [
    {
     "data": {
      "text/plain": [
       "array([1.8 , 0.8 , 0.4 , 0.35, 0.1 ])"
      ]
     },
     "execution_count": 3,
     "metadata": {},
     "output_type": "execute_result"
    }
   ],
   "source": [
    "thresholds"
   ]
  },
  {
   "cell_type": "code",
   "execution_count": 4,
   "metadata": {},
   "outputs": [
    {
     "data": {
      "text/plain": [
       "array([0. , 0.5, 0.5, 1. , 1. ])"
      ]
     },
     "execution_count": 4,
     "metadata": {},
     "output_type": "execute_result"
    }
   ],
   "source": [
    "tpr"
   ]
  },
  {
   "cell_type": "code",
   "execution_count": null,
   "metadata": {},
   "outputs": [],
   "source": []
  }
 ],
 "metadata": {
  "kernelspec": {
   "display_name": "pytorch",
   "language": "python",
   "name": "python3"
  },
  "language_info": {
   "codemirror_mode": {
    "name": "ipython",
    "version": 3
   },
   "file_extension": ".py",
   "mimetype": "text/x-python",
   "name": "python",
   "nbconvert_exporter": "python",
   "pygments_lexer": "ipython3",
   "version": "3.9.16"
  },
  "orig_nbformat": 4
 },
 "nbformat": 4,
 "nbformat_minor": 2
}
