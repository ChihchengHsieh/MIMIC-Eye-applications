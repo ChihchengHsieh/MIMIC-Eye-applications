{
 "cells": [
  {
   "cell_type": "code",
   "execution_count": 1,
   "metadata": {},
   "outputs": [],
   "source": [
    "import pandas as pd\n",
    "\n",
    "df = pd.read_csv(\"/Users/jrhs/Desktop/mimic-eye/patient_11000920/REFLACX/main_data/P300R637362/anomaly_location_ellipses.csv\")"
   ]
  },
  {
   "cell_type": "code",
   "execution_count": 2,
   "metadata": {},
   "outputs": [
    {
     "data": {
      "text/html": [
       "<div>\n",
       "<style scoped>\n",
       "    .dataframe tbody tr th:only-of-type {\n",
       "        vertical-align: middle;\n",
       "    }\n",
       "\n",
       "    .dataframe tbody tr th {\n",
       "        vertical-align: top;\n",
       "    }\n",
       "\n",
       "    .dataframe thead th {\n",
       "        text-align: right;\n",
       "    }\n",
       "</style>\n",
       "<table border=\"1\" class=\"dataframe\">\n",
       "  <thead>\n",
       "    <tr style=\"text-align: right;\">\n",
       "      <th></th>\n",
       "      <th>xmin</th>\n",
       "      <th>ymin</th>\n",
       "      <th>xmax</th>\n",
       "      <th>ymax</th>\n",
       "      <th>certainty</th>\n",
       "      <th>Abnormal mediastinal contour</th>\n",
       "      <th>Acute fracture</th>\n",
       "      <th>Atelectasis</th>\n",
       "      <th>Consolidation</th>\n",
       "      <th>Enlarged cardiac silhouette</th>\n",
       "      <th>...</th>\n",
       "      <th>Groundglass opacity</th>\n",
       "      <th>Hiatal hernia</th>\n",
       "      <th>High lung volume / emphysema</th>\n",
       "      <th>Interstitial lung disease</th>\n",
       "      <th>Lung nodule or mass</th>\n",
       "      <th>Other</th>\n",
       "      <th>Pleural abnormality</th>\n",
       "      <th>Pneumothorax</th>\n",
       "      <th>Pulmonary edema</th>\n",
       "      <th>Support devices</th>\n",
       "    </tr>\n",
       "  </thead>\n",
       "  <tbody>\n",
       "    <tr>\n",
       "      <th>0</th>\n",
       "      <td>483</td>\n",
       "      <td>239</td>\n",
       "      <td>1136</td>\n",
       "      <td>2346</td>\n",
       "      <td>5.0</td>\n",
       "      <td>False</td>\n",
       "      <td>False</td>\n",
       "      <td>False</td>\n",
       "      <td>False</td>\n",
       "      <td>False</td>\n",
       "      <td>...</td>\n",
       "      <td>False</td>\n",
       "      <td>False</td>\n",
       "      <td>True</td>\n",
       "      <td>False</td>\n",
       "      <td>False</td>\n",
       "      <td>False</td>\n",
       "      <td>False</td>\n",
       "      <td>False</td>\n",
       "      <td>False</td>\n",
       "      <td>False</td>\n",
       "    </tr>\n",
       "  </tbody>\n",
       "</table>\n",
       "<p>1 rows × 21 columns</p>\n",
       "</div>"
      ],
      "text/plain": [
       "   xmin  ymin  xmax  ymax  certainty  Abnormal mediastinal contour  \\\n",
       "0   483   239  1136  2346        5.0                         False   \n",
       "\n",
       "   Acute fracture  Atelectasis  Consolidation  Enlarged cardiac silhouette  \\\n",
       "0           False        False          False                        False   \n",
       "\n",
       "   ...  Groundglass opacity  Hiatal hernia  High lung volume / emphysema  \\\n",
       "0  ...                False          False                          True   \n",
       "\n",
       "   Interstitial lung disease  Lung nodule or mass  Other  Pleural abnormality  \\\n",
       "0                      False                False  False                False   \n",
       "\n",
       "   Pneumothorax  Pulmonary edema  Support devices  \n",
       "0         False            False            False  \n",
       "\n",
       "[1 rows x 21 columns]"
      ]
     },
     "execution_count": 2,
     "metadata": {},
     "output_type": "execute_result"
    }
   ],
   "source": [
    "df"
   ]
  },
  {
   "cell_type": "code",
   "execution_count": 3,
   "metadata": {},
   "outputs": [],
   "source": [
    "from data.constants import (\n",
    "    DEFAULT_REFLACX_BOX_COORD_COLS,\n",
    "    DEFAULT_REFLACX_BOX_FIX_COLS,\n",
    "    REFLACX_ALL_LABEL_COLS,\n",
    "    DEFAULT_REFLACX_LABEL_COLS,\n",
    "    DEFAULT_REFLACX_PATH_COLS,\n",
    "    DEFAULT_REFLACX_REPETITIVE_LABEL_MAP,\n",
    ")"
   ]
  },
  {
   "cell_type": "code",
   "execution_count": 4,
   "metadata": {},
   "outputs": [
    {
     "data": {
      "text/plain": [
       "{'Airway wall thickening': ['Airway wall thickening'],\n",
       " 'Atelectasis': ['Atelectasis'],\n",
       " 'Consolidation': ['Consolidation'],\n",
       " 'Enlarged cardiac silhouette': ['Enlarged cardiac silhouette'],\n",
       " 'Fibrosis': ['Fibrosis'],\n",
       " 'Groundglass opacity': ['Groundglass opacity'],\n",
       " 'Pneumothorax': ['Pneumothorax'],\n",
       " 'Pulmonary edema': ['Pulmonary edema'],\n",
       " 'Quality issue': ['Quality issue'],\n",
       " 'Support devices': ['Support devices'],\n",
       " 'Wide mediastinum': ['Wide mediastinum'],\n",
       " 'Abnormal mediastinal contour': ['Abnormal mediastinal contour'],\n",
       " 'Acute fracture': ['Acute fracture'],\n",
       " 'Enlarged hilum': ['Enlarged hilum'],\n",
       " 'Hiatal hernia': ['Hiatal hernia'],\n",
       " 'High lung volume / emphysema': ['High lung volume / emphysema', 'Emphysema'],\n",
       " 'Interstitial lung disease': ['Interstitial lung disease'],\n",
       " 'Lung nodule or mass': ['Lung nodule or mass', 'Mass', 'Nodule'],\n",
       " 'Pleural abnormality': ['Pleural abnormality',\n",
       "  'Pleural thickening',\n",
       "  'Pleural effusion']}"
      ]
     },
     "execution_count": 4,
     "metadata": {},
     "output_type": "execute_result"
    }
   ],
   "source": [
    "DEFAULT_REFLACX_REPETITIVE_LABEL_MAP"
   ]
  },
  {
   "cell_type": "code",
   "execution_count": 12,
   "metadata": {},
   "outputs": [],
   "source": [
    "boxes_df = df[DEFAULT_REFLACX_BOX_FIX_COLS]"
   ]
  },
  {
   "cell_type": "code",
   "execution_count": 13,
   "metadata": {},
   "outputs": [
    {
     "data": {
      "text/html": [
       "<div>\n",
       "<style scoped>\n",
       "    .dataframe tbody tr th:only-of-type {\n",
       "        vertical-align: middle;\n",
       "    }\n",
       "\n",
       "    .dataframe tbody tr th {\n",
       "        vertical-align: top;\n",
       "    }\n",
       "\n",
       "    .dataframe thead th {\n",
       "        text-align: right;\n",
       "    }\n",
       "</style>\n",
       "<table border=\"1\" class=\"dataframe\">\n",
       "  <thead>\n",
       "    <tr style=\"text-align: right;\">\n",
       "      <th></th>\n",
       "      <th>xmin</th>\n",
       "      <th>ymin</th>\n",
       "      <th>xmax</th>\n",
       "      <th>ymax</th>\n",
       "      <th>certainty</th>\n",
       "    </tr>\n",
       "  </thead>\n",
       "  <tbody>\n",
       "    <tr>\n",
       "      <th>0</th>\n",
       "      <td>483</td>\n",
       "      <td>239</td>\n",
       "      <td>1136</td>\n",
       "      <td>2346</td>\n",
       "      <td>5.0</td>\n",
       "    </tr>\n",
       "  </tbody>\n",
       "</table>\n",
       "</div>"
      ],
      "text/plain": [
       "   xmin  ymin  xmax  ymax  certainty\n",
       "0   483   239  1136  2346        5.0"
      ]
     },
     "execution_count": 13,
     "metadata": {},
     "output_type": "execute_result"
    }
   ],
   "source": [
    "boxes_df"
   ]
  },
  {
   "cell_type": "code",
   "execution_count": 14,
   "metadata": {},
   "outputs": [
    {
     "name": "stderr",
     "output_type": "stream",
     "text": [
      "/var/folders/g1/sgkjvx2j2sqflt1qfc9phrvh0000gn/T/ipykernel_64852/3275367897.py:3: SettingWithCopyWarning: \n",
      "A value is trying to be set on a copy of a slice from a DataFrame.\n",
      "Try using .loc[row_indexer,col_indexer] = value instead\n",
      "\n",
      "See the caveats in the documentation: https://pandas.pydata.org/pandas-docs/stable/user_guide/indexing.html#returning-a-view-versus-a-copy\n",
      "  boxes_df[k] = df[\n",
      "/var/folders/g1/sgkjvx2j2sqflt1qfc9phrvh0000gn/T/ipykernel_64852/3275367897.py:3: SettingWithCopyWarning: \n",
      "A value is trying to be set on a copy of a slice from a DataFrame.\n",
      "Try using .loc[row_indexer,col_indexer] = value instead\n",
      "\n",
      "See the caveats in the documentation: https://pandas.pydata.org/pandas-docs/stable/user_guide/indexing.html#returning-a-view-versus-a-copy\n",
      "  boxes_df[k] = df[\n",
      "/var/folders/g1/sgkjvx2j2sqflt1qfc9phrvh0000gn/T/ipykernel_64852/3275367897.py:3: SettingWithCopyWarning: \n",
      "A value is trying to be set on a copy of a slice from a DataFrame.\n",
      "Try using .loc[row_indexer,col_indexer] = value instead\n",
      "\n",
      "See the caveats in the documentation: https://pandas.pydata.org/pandas-docs/stable/user_guide/indexing.html#returning-a-view-versus-a-copy\n",
      "  boxes_df[k] = df[\n",
      "/var/folders/g1/sgkjvx2j2sqflt1qfc9phrvh0000gn/T/ipykernel_64852/3275367897.py:3: SettingWithCopyWarning: \n",
      "A value is trying to be set on a copy of a slice from a DataFrame.\n",
      "Try using .loc[row_indexer,col_indexer] = value instead\n",
      "\n",
      "See the caveats in the documentation: https://pandas.pydata.org/pandas-docs/stable/user_guide/indexing.html#returning-a-view-versus-a-copy\n",
      "  boxes_df[k] = df[\n",
      "/var/folders/g1/sgkjvx2j2sqflt1qfc9phrvh0000gn/T/ipykernel_64852/3275367897.py:3: SettingWithCopyWarning: \n",
      "A value is trying to be set on a copy of a slice from a DataFrame.\n",
      "Try using .loc[row_indexer,col_indexer] = value instead\n",
      "\n",
      "See the caveats in the documentation: https://pandas.pydata.org/pandas-docs/stable/user_guide/indexing.html#returning-a-view-versus-a-copy\n",
      "  boxes_df[k] = df[\n",
      "/var/folders/g1/sgkjvx2j2sqflt1qfc9phrvh0000gn/T/ipykernel_64852/3275367897.py:3: SettingWithCopyWarning: \n",
      "A value is trying to be set on a copy of a slice from a DataFrame.\n",
      "Try using .loc[row_indexer,col_indexer] = value instead\n",
      "\n",
      "See the caveats in the documentation: https://pandas.pydata.org/pandas-docs/stable/user_guide/indexing.html#returning-a-view-versus-a-copy\n",
      "  boxes_df[k] = df[\n",
      "/var/folders/g1/sgkjvx2j2sqflt1qfc9phrvh0000gn/T/ipykernel_64852/3275367897.py:3: SettingWithCopyWarning: \n",
      "A value is trying to be set on a copy of a slice from a DataFrame.\n",
      "Try using .loc[row_indexer,col_indexer] = value instead\n",
      "\n",
      "See the caveats in the documentation: https://pandas.pydata.org/pandas-docs/stable/user_guide/indexing.html#returning-a-view-versus-a-copy\n",
      "  boxes_df[k] = df[\n",
      "/var/folders/g1/sgkjvx2j2sqflt1qfc9phrvh0000gn/T/ipykernel_64852/3275367897.py:3: SettingWithCopyWarning: \n",
      "A value is trying to be set on a copy of a slice from a DataFrame.\n",
      "Try using .loc[row_indexer,col_indexer] = value instead\n",
      "\n",
      "See the caveats in the documentation: https://pandas.pydata.org/pandas-docs/stable/user_guide/indexing.html#returning-a-view-versus-a-copy\n",
      "  boxes_df[k] = df[\n",
      "/var/folders/g1/sgkjvx2j2sqflt1qfc9phrvh0000gn/T/ipykernel_64852/3275367897.py:3: SettingWithCopyWarning: \n",
      "A value is trying to be set on a copy of a slice from a DataFrame.\n",
      "Try using .loc[row_indexer,col_indexer] = value instead\n",
      "\n",
      "See the caveats in the documentation: https://pandas.pydata.org/pandas-docs/stable/user_guide/indexing.html#returning-a-view-versus-a-copy\n",
      "  boxes_df[k] = df[\n",
      "/var/folders/g1/sgkjvx2j2sqflt1qfc9phrvh0000gn/T/ipykernel_64852/3275367897.py:3: SettingWithCopyWarning: \n",
      "A value is trying to be set on a copy of a slice from a DataFrame.\n",
      "Try using .loc[row_indexer,col_indexer] = value instead\n",
      "\n",
      "See the caveats in the documentation: https://pandas.pydata.org/pandas-docs/stable/user_guide/indexing.html#returning-a-view-versus-a-copy\n",
      "  boxes_df[k] = df[\n",
      "/var/folders/g1/sgkjvx2j2sqflt1qfc9phrvh0000gn/T/ipykernel_64852/3275367897.py:3: SettingWithCopyWarning: \n",
      "A value is trying to be set on a copy of a slice from a DataFrame.\n",
      "Try using .loc[row_indexer,col_indexer] = value instead\n",
      "\n",
      "See the caveats in the documentation: https://pandas.pydata.org/pandas-docs/stable/user_guide/indexing.html#returning-a-view-versus-a-copy\n",
      "  boxes_df[k] = df[\n",
      "/var/folders/g1/sgkjvx2j2sqflt1qfc9phrvh0000gn/T/ipykernel_64852/3275367897.py:3: SettingWithCopyWarning: \n",
      "A value is trying to be set on a copy of a slice from a DataFrame.\n",
      "Try using .loc[row_indexer,col_indexer] = value instead\n",
      "\n",
      "See the caveats in the documentation: https://pandas.pydata.org/pandas-docs/stable/user_guide/indexing.html#returning-a-view-versus-a-copy\n",
      "  boxes_df[k] = df[\n",
      "/var/folders/g1/sgkjvx2j2sqflt1qfc9phrvh0000gn/T/ipykernel_64852/3275367897.py:3: SettingWithCopyWarning: \n",
      "A value is trying to be set on a copy of a slice from a DataFrame.\n",
      "Try using .loc[row_indexer,col_indexer] = value instead\n",
      "\n",
      "See the caveats in the documentation: https://pandas.pydata.org/pandas-docs/stable/user_guide/indexing.html#returning-a-view-versus-a-copy\n",
      "  boxes_df[k] = df[\n",
      "/var/folders/g1/sgkjvx2j2sqflt1qfc9phrvh0000gn/T/ipykernel_64852/3275367897.py:3: SettingWithCopyWarning: \n",
      "A value is trying to be set on a copy of a slice from a DataFrame.\n",
      "Try using .loc[row_indexer,col_indexer] = value instead\n",
      "\n",
      "See the caveats in the documentation: https://pandas.pydata.org/pandas-docs/stable/user_guide/indexing.html#returning-a-view-versus-a-copy\n",
      "  boxes_df[k] = df[\n",
      "/var/folders/g1/sgkjvx2j2sqflt1qfc9phrvh0000gn/T/ipykernel_64852/3275367897.py:3: SettingWithCopyWarning: \n",
      "A value is trying to be set on a copy of a slice from a DataFrame.\n",
      "Try using .loc[row_indexer,col_indexer] = value instead\n",
      "\n",
      "See the caveats in the documentation: https://pandas.pydata.org/pandas-docs/stable/user_guide/indexing.html#returning-a-view-versus-a-copy\n",
      "  boxes_df[k] = df[\n"
     ]
    }
   ],
   "source": [
    "for k in DEFAULT_REFLACX_REPETITIVE_LABEL_MAP.keys():\n",
    "    boxes_df[k] = df[\n",
    "                [l for l in DEFAULT_REFLACX_REPETITIVE_LABEL_MAP[k] if l in df.columns]\n",
    "            ].any(axis=1)\n",
    "\n",
    "    \n"
   ]
  },
  {
   "cell_type": "code",
   "execution_count": 8,
   "metadata": {},
   "outputs": [
    {
     "data": {
      "text/html": [
       "<div>\n",
       "<style scoped>\n",
       "    .dataframe tbody tr th:only-of-type {\n",
       "        vertical-align: middle;\n",
       "    }\n",
       "\n",
       "    .dataframe tbody tr th {\n",
       "        vertical-align: top;\n",
       "    }\n",
       "\n",
       "    .dataframe thead th {\n",
       "        text-align: right;\n",
       "    }\n",
       "</style>\n",
       "<table border=\"1\" class=\"dataframe\">\n",
       "  <thead>\n",
       "    <tr style=\"text-align: right;\">\n",
       "      <th></th>\n",
       "      <th>xmin</th>\n",
       "      <th>ymin</th>\n",
       "      <th>xmax</th>\n",
       "      <th>ymax</th>\n",
       "      <th>certainty</th>\n",
       "      <th>Airway wall thickening</th>\n",
       "      <th>Atelectasis</th>\n",
       "      <th>Consolidation</th>\n",
       "      <th>Enlarged cardiac silhouette</th>\n",
       "      <th>Fibrosis</th>\n",
       "      <th>...</th>\n",
       "      <th>Support devices</th>\n",
       "      <th>Wide mediastinum</th>\n",
       "      <th>Abnormal mediastinal contour</th>\n",
       "      <th>Acute fracture</th>\n",
       "      <th>Enlarged hilum</th>\n",
       "      <th>Hiatal hernia</th>\n",
       "      <th>High lung volume / emphysema</th>\n",
       "      <th>Interstitial lung disease</th>\n",
       "      <th>Lung nodule or mass</th>\n",
       "      <th>Pleural abnormality</th>\n",
       "    </tr>\n",
       "  </thead>\n",
       "  <tbody>\n",
       "    <tr>\n",
       "      <th>0</th>\n",
       "      <td>483</td>\n",
       "      <td>239</td>\n",
       "      <td>1136</td>\n",
       "      <td>2346</td>\n",
       "      <td>5.0</td>\n",
       "      <td>False</td>\n",
       "      <td>False</td>\n",
       "      <td>False</td>\n",
       "      <td>False</td>\n",
       "      <td>False</td>\n",
       "      <td>...</td>\n",
       "      <td>False</td>\n",
       "      <td>False</td>\n",
       "      <td>False</td>\n",
       "      <td>False</td>\n",
       "      <td>False</td>\n",
       "      <td>False</td>\n",
       "      <td>True</td>\n",
       "      <td>False</td>\n",
       "      <td>False</td>\n",
       "      <td>False</td>\n",
       "    </tr>\n",
       "  </tbody>\n",
       "</table>\n",
       "<p>1 rows × 24 columns</p>\n",
       "</div>"
      ],
      "text/plain": [
       "   xmin  ymin  xmax  ymax  certainty  Airway wall thickening  Atelectasis  \\\n",
       "0   483   239  1136  2346        5.0                   False        False   \n",
       "\n",
       "   Consolidation  Enlarged cardiac silhouette  Fibrosis  ...  Support devices  \\\n",
       "0          False                        False     False  ...            False   \n",
       "\n",
       "   Wide mediastinum  Abnormal mediastinal contour  Acute fracture  \\\n",
       "0             False                         False           False   \n",
       "\n",
       "   Enlarged hilum  Hiatal hernia  High lung volume / emphysema  \\\n",
       "0           False          False                          True   \n",
       "\n",
       "   Interstitial lung disease  Lung nodule or mass  Pleural abnormality  \n",
       "0                      False                False                False  \n",
       "\n",
       "[1 rows x 24 columns]"
      ]
     },
     "execution_count": 8,
     "metadata": {},
     "output_type": "execute_result"
    }
   ],
   "source": [
    "boxes_df"
   ]
  },
  {
   "cell_type": "code",
   "execution_count": 31,
   "metadata": {},
   "outputs": [],
   "source": [
    "boxes_df.loc[0,\"Consolidation\" ] = True\n",
    "boxes_df.loc[0, \"Pleural abnormality\"] = True\n"
   ]
  },
  {
   "cell_type": "code",
   "execution_count": 10,
   "metadata": {},
   "outputs": [],
   "source": [
    "# boxes_df = boxes_df[boxes_df[DEFAULT_REFLACX_LABEL_COLS].any(axis=1)]"
   ]
  },
  {
   "cell_type": "code",
   "execution_count": 11,
   "metadata": {},
   "outputs": [
    {
     "data": {
      "text/html": [
       "<div>\n",
       "<style scoped>\n",
       "    .dataframe tbody tr th:only-of-type {\n",
       "        vertical-align: middle;\n",
       "    }\n",
       "\n",
       "    .dataframe tbody tr th {\n",
       "        vertical-align: top;\n",
       "    }\n",
       "\n",
       "    .dataframe thead th {\n",
       "        text-align: right;\n",
       "    }\n",
       "</style>\n",
       "<table border=\"1\" class=\"dataframe\">\n",
       "  <thead>\n",
       "    <tr style=\"text-align: right;\">\n",
       "      <th></th>\n",
       "      <th>xmin</th>\n",
       "      <th>ymin</th>\n",
       "      <th>xmax</th>\n",
       "      <th>ymax</th>\n",
       "      <th>certainty</th>\n",
       "      <th>Airway wall thickening</th>\n",
       "      <th>Atelectasis</th>\n",
       "      <th>Consolidation</th>\n",
       "      <th>Enlarged cardiac silhouette</th>\n",
       "      <th>Fibrosis</th>\n",
       "      <th>...</th>\n",
       "      <th>Support devices</th>\n",
       "      <th>Wide mediastinum</th>\n",
       "      <th>Abnormal mediastinal contour</th>\n",
       "      <th>Acute fracture</th>\n",
       "      <th>Enlarged hilum</th>\n",
       "      <th>Hiatal hernia</th>\n",
       "      <th>High lung volume / emphysema</th>\n",
       "      <th>Interstitial lung disease</th>\n",
       "      <th>Lung nodule or mass</th>\n",
       "      <th>Pleural abnormality</th>\n",
       "    </tr>\n",
       "  </thead>\n",
       "  <tbody>\n",
       "  </tbody>\n",
       "</table>\n",
       "<p>0 rows × 24 columns</p>\n",
       "</div>"
      ],
      "text/plain": [
       "Empty DataFrame\n",
       "Columns: [xmin, ymin, xmax, ymax, certainty, Airway wall thickening, Atelectasis, Consolidation, Enlarged cardiac silhouette, Fibrosis, Groundglass opacity, Pneumothorax, Pulmonary edema, Quality issue, Support devices, Wide mediastinum, Abnormal mediastinal contour, Acute fracture, Enlarged hilum, Hiatal hernia, High lung volume / emphysema, Interstitial lung disease, Lung nodule or mass, Pleural abnormality]\n",
       "Index: []\n",
       "\n",
       "[0 rows x 24 columns]"
      ]
     },
     "execution_count": 11,
     "metadata": {},
     "output_type": "execute_result"
    }
   ],
   "source": [
    "# boxes_df[\"label\"] = boxes_df[self.labels_cols].idxmax(axis=1)"
   ]
  },
  {
   "cell_type": "code",
   "execution_count": 68,
   "metadata": {},
   "outputs": [],
   "source": [
    "label_df = boxes_df.loc[:,DEFAULT_REFLACX_LABEL_COLS]"
   ]
  },
  {
   "cell_type": "code",
   "execution_count": 69,
   "metadata": {},
   "outputs": [
    {
     "data": {
      "text/html": [
       "<div>\n",
       "<style scoped>\n",
       "    .dataframe tbody tr th:only-of-type {\n",
       "        vertical-align: middle;\n",
       "    }\n",
       "\n",
       "    .dataframe tbody tr th {\n",
       "        vertical-align: top;\n",
       "    }\n",
       "\n",
       "    .dataframe thead th {\n",
       "        text-align: right;\n",
       "    }\n",
       "</style>\n",
       "<table border=\"1\" class=\"dataframe\">\n",
       "  <thead>\n",
       "    <tr style=\"text-align: right;\">\n",
       "      <th></th>\n",
       "      <th>Pulmonary edema</th>\n",
       "      <th>Enlarged cardiac silhouette</th>\n",
       "      <th>Consolidation</th>\n",
       "      <th>Atelectasis</th>\n",
       "      <th>Pleural abnormality</th>\n",
       "    </tr>\n",
       "  </thead>\n",
       "  <tbody>\n",
       "    <tr>\n",
       "      <th>0</th>\n",
       "      <td>False</td>\n",
       "      <td>False</td>\n",
       "      <td>True</td>\n",
       "      <td>False</td>\n",
       "      <td>True</td>\n",
       "    </tr>\n",
       "  </tbody>\n",
       "</table>\n",
       "</div>"
      ],
      "text/plain": [
       "   Pulmonary edema  Enlarged cardiac silhouette  Consolidation  Atelectasis  \\\n",
       "0            False                        False           True        False   \n",
       "\n",
       "   Pleural abnormality  \n",
       "0                 True  "
      ]
     },
     "execution_count": 69,
     "metadata": {},
     "output_type": "execute_result"
    }
   ],
   "source": [
    "label_df"
   ]
  },
  {
   "cell_type": "code",
   "execution_count": 78,
   "metadata": {},
   "outputs": [
    {
     "data": {
      "text/html": [
       "<div>\n",
       "<style scoped>\n",
       "    .dataframe tbody tr th:only-of-type {\n",
       "        vertical-align: middle;\n",
       "    }\n",
       "\n",
       "    .dataframe tbody tr th {\n",
       "        vertical-align: top;\n",
       "    }\n",
       "\n",
       "    .dataframe thead th {\n",
       "        text-align: right;\n",
       "    }\n",
       "</style>\n",
       "<table border=\"1\" class=\"dataframe\">\n",
       "  <thead>\n",
       "    <tr style=\"text-align: right;\">\n",
       "      <th></th>\n",
       "      <th>Pulmonary edema</th>\n",
       "      <th>Enlarged cardiac silhouette</th>\n",
       "      <th>Consolidation</th>\n",
       "      <th>Atelectasis</th>\n",
       "      <th>Pleural abnormality</th>\n",
       "    </tr>\n",
       "  </thead>\n",
       "  <tbody>\n",
       "    <tr>\n",
       "      <th>0</th>\n",
       "      <td>False</td>\n",
       "      <td>False</td>\n",
       "      <td>True</td>\n",
       "      <td>False</td>\n",
       "      <td>True</td>\n",
       "    </tr>\n",
       "  </tbody>\n",
       "</table>\n",
       "</div>"
      ],
      "text/plain": [
       "   Pulmonary edema  Enlarged cardiac silhouette  Consolidation  Atelectasis  \\\n",
       "0            False                        False           True        False   \n",
       "\n",
       "   Pleural abnormality  \n",
       "0                 True  "
      ]
     },
     "execution_count": 78,
     "metadata": {},
     "output_type": "execute_result"
    }
   ],
   "source": [
    "label_df"
   ]
  },
  {
   "cell_type": "code",
   "execution_count": 85,
   "metadata": {},
   "outputs": [
    {
     "data": {
      "text/plain": [
       "['Consolidation', 'Pleural abnormality']"
      ]
     },
     "execution_count": 85,
     "metadata": {},
     "output_type": "execute_result"
    }
   ],
   "source": [
    "list(label_df.loc[0, label_df.any()].index)"
   ]
  },
  {
   "cell_type": "code",
   "execution_count": 76,
   "metadata": {},
   "outputs": [
    {
     "data": {
      "text/plain": [
       "['Consolidation', 'Pleural abnormality']"
      ]
     },
     "execution_count": 76,
     "metadata": {},
     "output_type": "execute_result"
    }
   ],
   "source": [
    "list(label_df.loc[:, label_df.any()].columns)\n"
   ]
  },
  {
   "cell_type": "code",
   "execution_count": 74,
   "metadata": {},
   "outputs": [
    {
     "data": {
      "text/html": [
       "<div>\n",
       "<style scoped>\n",
       "    .dataframe tbody tr th:only-of-type {\n",
       "        vertical-align: middle;\n",
       "    }\n",
       "\n",
       "    .dataframe tbody tr th {\n",
       "        vertical-align: top;\n",
       "    }\n",
       "\n",
       "    .dataframe thead th {\n",
       "        text-align: right;\n",
       "    }\n",
       "</style>\n",
       "<table border=\"1\" class=\"dataframe\">\n",
       "  <thead>\n",
       "    <tr style=\"text-align: right;\">\n",
       "      <th></th>\n",
       "      <th>xmin</th>\n",
       "      <th>ymin</th>\n",
       "      <th>xmax</th>\n",
       "      <th>ymax</th>\n",
       "      <th>certainty</th>\n",
       "      <th>Airway wall thickening</th>\n",
       "      <th>Atelectasis</th>\n",
       "      <th>Consolidation</th>\n",
       "      <th>Enlarged cardiac silhouette</th>\n",
       "      <th>Fibrosis</th>\n",
       "      <th>...</th>\n",
       "      <th>Support devices</th>\n",
       "      <th>Wide mediastinum</th>\n",
       "      <th>Abnormal mediastinal contour</th>\n",
       "      <th>Acute fracture</th>\n",
       "      <th>Enlarged hilum</th>\n",
       "      <th>Hiatal hernia</th>\n",
       "      <th>High lung volume / emphysema</th>\n",
       "      <th>Interstitial lung disease</th>\n",
       "      <th>Lung nodule or mass</th>\n",
       "      <th>Pleural abnormality</th>\n",
       "    </tr>\n",
       "  </thead>\n",
       "  <tbody>\n",
       "    <tr>\n",
       "      <th>0</th>\n",
       "      <td>483</td>\n",
       "      <td>239</td>\n",
       "      <td>1136</td>\n",
       "      <td>2346</td>\n",
       "      <td>5.0</td>\n",
       "      <td>False</td>\n",
       "      <td>False</td>\n",
       "      <td>True</td>\n",
       "      <td>False</td>\n",
       "      <td>False</td>\n",
       "      <td>...</td>\n",
       "      <td>False</td>\n",
       "      <td>False</td>\n",
       "      <td>False</td>\n",
       "      <td>False</td>\n",
       "      <td>False</td>\n",
       "      <td>False</td>\n",
       "      <td>True</td>\n",
       "      <td>False</td>\n",
       "      <td>False</td>\n",
       "      <td>True</td>\n",
       "    </tr>\n",
       "  </tbody>\n",
       "</table>\n",
       "<p>1 rows × 24 columns</p>\n",
       "</div>"
      ],
      "text/plain": [
       "   xmin  ymin  xmax  ymax  certainty  Airway wall thickening  Atelectasis  \\\n",
       "0   483   239  1136  2346        5.0                   False        False   \n",
       "\n",
       "   Consolidation  Enlarged cardiac silhouette  Fibrosis  ...  Support devices  \\\n",
       "0           True                        False     False  ...            False   \n",
       "\n",
       "   Wide mediastinum  Abnormal mediastinal contour  Acute fracture  \\\n",
       "0             False                         False           False   \n",
       "\n",
       "   Enlarged hilum  Hiatal hernia  High lung volume / emphysema  \\\n",
       "0           False          False                          True   \n",
       "\n",
       "   Interstitial lung disease  Lung nodule or mass  Pleural abnormality  \n",
       "0                      False                False                 True  \n",
       "\n",
       "[1 rows x 24 columns]"
      ]
     },
     "execution_count": 74,
     "metadata": {},
     "output_type": "execute_result"
    }
   ],
   "source": [
    "boxes_df"
   ]
  },
  {
   "cell_type": "code",
   "execution_count": 88,
   "metadata": {},
   "outputs": [],
   "source": [
    "labels = [list(label_df.loc[i, label_df.any()].index) for i in range(len(label_df))]"
   ]
  },
  {
   "cell_type": "code",
   "execution_count": 89,
   "metadata": {},
   "outputs": [],
   "source": [
    "boxes_df['label'] = labels"
   ]
  },
  {
   "cell_type": "code",
   "execution_count": 91,
   "metadata": {},
   "outputs": [
    {
     "data": {
      "text/plain": [
       "['Consolidation', 'Pleural abnormality']"
      ]
     },
     "execution_count": 91,
     "metadata": {},
     "output_type": "execute_result"
    }
   ],
   "source": [
    "boxes_df['label'].iloc[0]"
   ]
  },
  {
   "cell_type": "code",
   "execution_count": 98,
   "metadata": {},
   "outputs": [],
   "source": [
    "new_df_list = []\n",
    "\n",
    "for idx, instance in boxes_df.iterrows():\n",
    "    for l in instance[\"label\"]:\n",
    "        new_df_list.append({\n",
    "            \"xmin\": instance['xmin'],\n",
    "            \"ymin\": instance['ymin'],\n",
    "            \"xmax\": instance['xmax'],\n",
    "            \"ymax\": instance['ymax'],\n",
    "            \"label\": l,\n",
    "        })\n",
    "        \n",
    "    \n",
    "    "
   ]
  },
  {
   "cell_type": "code",
   "execution_count": 99,
   "metadata": {},
   "outputs": [
    {
     "data": {
      "text/html": [
       "<div>\n",
       "<style scoped>\n",
       "    .dataframe tbody tr th:only-of-type {\n",
       "        vertical-align: middle;\n",
       "    }\n",
       "\n",
       "    .dataframe tbody tr th {\n",
       "        vertical-align: top;\n",
       "    }\n",
       "\n",
       "    .dataframe thead th {\n",
       "        text-align: right;\n",
       "    }\n",
       "</style>\n",
       "<table border=\"1\" class=\"dataframe\">\n",
       "  <thead>\n",
       "    <tr style=\"text-align: right;\">\n",
       "      <th></th>\n",
       "      <th>xmin</th>\n",
       "      <th>ymin</th>\n",
       "      <th>xmax</th>\n",
       "      <th>ymax</th>\n",
       "      <th>label</th>\n",
       "    </tr>\n",
       "  </thead>\n",
       "  <tbody>\n",
       "    <tr>\n",
       "      <th>0</th>\n",
       "      <td>483</td>\n",
       "      <td>239</td>\n",
       "      <td>1136</td>\n",
       "      <td>2346</td>\n",
       "      <td>Consolidation</td>\n",
       "    </tr>\n",
       "    <tr>\n",
       "      <th>1</th>\n",
       "      <td>483</td>\n",
       "      <td>239</td>\n",
       "      <td>1136</td>\n",
       "      <td>2346</td>\n",
       "      <td>Pleural abnormality</td>\n",
       "    </tr>\n",
       "  </tbody>\n",
       "</table>\n",
       "</div>"
      ],
      "text/plain": [
       "   xmin  ymin  xmax  ymax                label\n",
       "0   483   239  1136  2346        Consolidation\n",
       "1   483   239  1136  2346  Pleural abnormality"
      ]
     },
     "execution_count": 99,
     "metadata": {},
     "output_type": "execute_result"
    }
   ],
   "source": [
    "pd.DataFrame(new_df_list)"
   ]
  },
  {
   "cell_type": "code",
   "execution_count": null,
   "metadata": {},
   "outputs": [],
   "source": []
  }
 ],
 "metadata": {
  "kernelspec": {
   "display_name": "pytorch",
   "language": "python",
   "name": "python3"
  },
  "language_info": {
   "codemirror_mode": {
    "name": "ipython",
    "version": 3
   },
   "file_extension": ".py",
   "mimetype": "text/x-python",
   "name": "python",
   "nbconvert_exporter": "python",
   "pygments_lexer": "ipython3",
   "version": "3.10.8"
  },
  "orig_nbformat": 4,
  "vscode": {
   "interpreter": {
    "hash": "05ebdd47fe7a4051acc4227c2d648dd2aae7424f451cfb0e2d4bf70d17920b33"
   }
  }
 },
 "nbformat": 4,
 "nbformat_minor": 2
}
