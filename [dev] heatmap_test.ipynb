{
 "cells": [
  {
   "cell_type": "code",
   "execution_count": null,
   "metadata": {},
   "outputs": [],
   "source": [
    "from data.transforms import get_tensorise_h_flip_transform\n",
    "from data.constants import DEFAULT_REFLACX_LABEL_COLS\n",
    "from data.paths import MIMIC_EYE_PATH\n",
    "from data.datasets import ReflacxObjectDetectionDataset\n",
    "from torch.utils.data import DataLoader\n",
    "from data.datasets import collate_fn\n",
    "from data.load import seed_worker, get_dataloader_g\n",
    "\n",
    "dataset_params_dict = {\n",
    "    \"MIMIC_EYE_PATH\": MIMIC_EYE_PATH,\n",
    "    # \"with_clinical\": model_setup.use_clinical,\n",
    "    \"bbox_to_mask\": True,\n",
    "    \"labels_cols\": DEFAULT_REFLACX_LABEL_COLS,\n",
    "}\n",
    "\n",
    "train_dataset = ReflacxObjectDetectionDataset(\n",
    "        **dataset_params_dict, split_str=\"train\", transforms=get_tensorise_h_flip_transform(train=False), \n",
    ")\n",
    "\n",
    "train_dataloader = DataLoader(\n",
    "    train_dataset,\n",
    "    batch_size=4,\n",
    "    shuffle=True,\n",
    "    collate_fn=collate_fn,\n",
    "    worker_init_fn=seed_worker,\n",
    "    generator=get_dataloader_g(0),\n",
    ")"
   ]
  }
 ],
 "metadata": {
  "kernelspec": {
   "display_name": "pytorch",
   "language": "python",
   "name": "python3"
  },
  "language_info": {
   "name": "python",
   "version": "3.10.8 | packaged by conda-forge | (main, Nov 22 2022, 08:25:13) [Clang 14.0.6 ]"
  },
  "orig_nbformat": 4,
  "vscode": {
   "interpreter": {
    "hash": "05ebdd47fe7a4051acc4227c2d648dd2aae7424f451cfb0e2d4bf70d17920b33"
   }
  }
 },
 "nbformat": 4,
 "nbformat_minor": 2
}
