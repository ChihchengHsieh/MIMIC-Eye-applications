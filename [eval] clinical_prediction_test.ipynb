{
 "cells": [
  {
   "cell_type": "code",
   "execution_count": 1,
   "metadata": {},
   "outputs": [],
   "source": [
    "import os, json, io, torch\n",
    "import numpy as np\n",
    "import pandas as pd\n",
    "# from models.load import TrainedModels\n",
    "\n",
    "from utils.engine import get_iou_types, evaluate\n",
    "from models.load import get_trained_model\n",
    "from utils.print import print_title\n",
    "from utils.init import reproducibility, clean_memory_get_device\n",
    "from data.load import get_datasets, get_dataloaders\n",
    "from data.paths import MIMIC_EYE_PATH\n",
    "from tqdm import tqdm\n",
    "from utils.train import  get_coco_eval_params\n",
    "from utils.coco_eval import get_eval_params_dict\n",
    "from data.strs import SourceStrs, TaskStrs\n",
    "from IPython.display import clear_output\n",
    "from coco_froc_analysis.froc.froc_curve import get_froc_curve, get_interpolate_froc\n",
    "from utils import detect_utils\n",
    "\n",
    "## Suppress the assignement warning from pandas.\n",
    "pd.options.mode.chained_assignment = None  # default='warn\n",
    "\n",
    "## Supress user warning\n",
    "import warnings\n",
    "warnings.filterwarnings(\"ignore\")\n",
    "\n",
    "from models.components.task_performers import MultiBinaryClassificationPerformer, ObjectDetectionPerformer, RegressionPerformer\n",
    "from utils.engine import ClassificationEvaluator, RegressionEvaluator\n",
    "from data.helpers import map_every_thing_to_device\n",
    "import time, torch\n",
    "from enum import Enum\n",
    "\n",
    "\n",
    "%matplotlib inline"
   ]
  },
  {
   "cell_type": "code",
   "execution_count": 2,
   "metadata": {},
   "outputs": [],
   "source": [
    "class TrainedModel(Enum):\n",
    "    clinical_model = \"val_gender-classification_accuracy_0_6963_test_gender-classification_accuracy_0_5809_epoch31_04-11-2023 01-53-53_clinical_predictions\"\n",
    "    gender_prediction = \"val_gender-classification_accuracy_0_9556_test_gender-classification_accuracy_0_9338_epoch16_04-11-2023 13-54-11_clinical_predictions\"\n",
    "    age_prediction = \"val_age-regression_r2_0_0652_test_age-regression_r2_0_0416_epoch40_04-11-2023 20-34-04_age_predictions\""
   ]
  },
  {
   "cell_type": "code",
   "execution_count": 3,
   "metadata": {},
   "outputs": [],
   "source": [
    "select_model = TrainedModel.age_prediction"
   ]
  },
  {
   "cell_type": "code",
   "execution_count": 4,
   "metadata": {},
   "outputs": [
    {
     "name": "stdout",
     "output_type": "stream",
     "text": [
      "This notebook will running on device: [CUDA]\n",
      "Using pretrained backbone. resnet50\n",
      "Using SGD as optimizer with lr=0.001\n"
     ]
    }
   ],
   "source": [
    "device = clean_memory_get_device()\n",
    "reproducibility()\n",
    "\n",
    "model, train_info, _, _ = get_trained_model(\n",
    "            select_model,\n",
    "            device,\n",
    "        )\n",
    "model = model.to(device)\n",
    "model.eval()\n",
    "\n",
    "\n",
    "setup = train_info.model_setup\n",
    "iou_types = get_iou_types(model, setup)\n",
    "\n",
    "dataset_params_dict = {\n",
    "    \"MIMIC_EYE_PATH\": MIMIC_EYE_PATH,\n",
    "    \"labels_cols\": setup.lesion_label_cols,\n",
    "    \"with_xrays_input\": SourceStrs.XRAYS in setup.sources,\n",
    "    \"with_clincal_input\": SourceStrs.CLINICAL in setup.sources,\n",
    "    \"with_fixations_input\": SourceStrs.FIXATIONS in setup.sources,\n",
    "    \"fixations_mode_input\": setup.fiaxtions_mode_input,\n",
    "    \"with_bboxes_label\": TaskStrs.LESION_DETECTION in setup.tasks,\n",
    "    \"with_fixations_label\": TaskStrs.FIXATION_GENERATION in setup.tasks,\n",
    "    \"fixations_mode_label\": setup.fiaxtions_mode_label,\n",
    "    \"with_chexpert_label\": TaskStrs.CHEXPERT_CLASSIFICATION in setup.tasks,\n",
    "    \"with_negbio_label\": TaskStrs.NEGBIO_CLASSIFICATION in setup.tasks,\n",
    "    \"clinical_numerical_cols\": setup.clinical_num,\n",
    "    \"clinical_categorical_cols\": setup.clinical_cat,\n",
    "    \"image_size\": setup.image_size,\n",
    "    \"image_mean\": setup.image_mean,\n",
    "    \"image_std\": setup.image_std,\n",
    "    \"with_clinical_label\": setup.with_clinical_label,\n",
    "}\n",
    "\n",
    "detect_eval_dataset, train_dataset, val_dataset, test_dataset = get_datasets(\n",
    "    dataset_params_dict=dataset_params_dict,\n",
    ")\n",
    "\n",
    "train_dataloader, val_dataloader, test_dataloader = get_dataloaders(\n",
    "    train_dataset,\n",
    "    val_dataset,\n",
    "    test_dataset,\n",
    "    batch_size=setup.batch_size,\n",
    ")\n",
    "\n",
    "train_coco = None\n",
    "val_coco = None\n",
    "test_coco = None\n",
    "eval_params_dict = None"
   ]
  },
  {
   "cell_type": "code",
   "execution_count": 5,
   "metadata": {},
   "outputs": [],
   "source": [
    "data_loader = test_dataloader"
   ]
  },
  {
   "cell_type": "code",
   "execution_count": 6,
   "metadata": {},
   "outputs": [
    {
     "name": "stdout",
     "output_type": "stream",
     "text": [
      "Evaluation:  [ 0/34]  eta: 0:00:58    time: 1.7209  data: 0.5283  max mem: 1925\n",
      "Evaluation:  [33/34]  eta: 0:00:00    time: 0.5918  data: 0.5298  max mem: 2197\n",
      "Evaluation: Total time: 0:00:20 (0.6074 s / it)\n",
      "Averaged stats: \n"
     ]
    }
   ],
   "source": [
    "n_threads = torch.get_num_threads()\n",
    "# FIXME remove this and make paste_masks_in_image run on the GPU\n",
    "torch.set_num_threads(1)\n",
    "\n",
    "model.eval()\n",
    "metric_logger = detect_utils.MetricLogger(delimiter=\"  \")\n",
    "header = \"Evaluation:\"\n",
    "# coco_evaluator = CocoEvaluator(coco, iou_types, params_dict)\n",
    "\n",
    "evaluators = {}\n",
    "\n",
    "all_prs = []\n",
    "all_gts = []\n",
    "\n",
    "for k, v in model.task_performers.items():\n",
    "    if isinstance(v, MultiBinaryClassificationPerformer):\n",
    "        evaluators[k] = ClassificationEvaluator()\n",
    "    elif isinstance(v, RegressionPerformer):\n",
    "            evaluators[k] = RegressionEvaluator()\n",
    "    else:\n",
    "        raise ValueError(f\"Task-{k} doesn't have an evaluator.\")\n",
    "\n",
    "for data in metric_logger.log_every(data_loader, 100, header):\n",
    "    inputs, targets = data_loader.dataset.prepare_input_from_data(data)\n",
    "\n",
    "    inputs = map_every_thing_to_device(inputs, device)\n",
    "    targets = map_every_thing_to_device(targets, device)\n",
    "\n",
    "    if torch.cuda.is_available():\n",
    "        torch.cuda.synchronize()\n",
    "\n",
    "    model_time = time.time()\n",
    "    outputs = model(inputs, targets=targets)\n",
    "\n",
    "    all_losses = {}\n",
    "    for task in outputs.keys():\n",
    "        all_losses.update(\n",
    "            {\n",
    "                f\"{task}_{model.task_performers[task].name}_{k}\": v\n",
    "                for k, v in outputs[task][\"losses\"].items()\n",
    "            }\n",
    "        )\n",
    "\n",
    "    loss_dict_reduced = detect_utils.reduce_dict(all_losses)\n",
    "    losses_reduced = sum(loss for loss in loss_dict_reduced.values())\n",
    "\n",
    "    for k in model.task_performers.keys():            \n",
    "        evaluators[k].update(outputs[k][\"outputs\"], [t[k] for t in targets])\n",
    "\n",
    "    gts = map_every_thing_to_device(targets, \"cpu\")\n",
    "    prs = map_every_thing_to_device(outputs, \"cpu\") # test if this operation is possible.\n",
    "    all_gts.append(gts)\n",
    "    all_prs.append(prs)\n",
    "\n",
    "\n",
    "# gather the stats from all processes\n",
    "metric_logger.synchronize_between_processes()\n",
    "print(\"Averaged stats:\", metric_logger)\n",
    "\n",
    "torch.set_num_threads(n_threads)"
   ]
  },
  {
   "cell_type": "code",
   "execution_count": 7,
   "metadata": {},
   "outputs": [],
   "source": [
    "processed_gts = []\n",
    "\n",
    "for gts in all_gts:\n",
    "    for gt in gts:\n",
    "        dict_to_append = {}\n",
    "        for k in gt.keys():\n",
    "            clinical_attribute, task_name  = k.split(\"-\")\n",
    "            dict_to_append.update({clinical_attribute: gt[k][f\"{task_name}s\"].item()})\n",
    "        processed_gts.append(dict_to_append)\n",
    "\n",
    "        # processed_gts.append({\n",
    "        #     \"age\": gt['age-regression']['regressions'].item(),\n",
    "        #     \"temperature\": gt['temperature-regression']['regressions'].item(),\n",
    "        #     \"heartrate\": gt['heartrate-regression']['regressions'].item(),\n",
    "        #     \"resprate\": gt['resprate-regression']['regressions'].item(),\n",
    "        #     \"o2sat\": gt['o2sat-regression']['regressions'].item(),\n",
    "        #     \"sbp\": gt['sbp-regression']['regressions'].item(),\n",
    "        #     \"dpb\": gt['dpb-regression']['regressions'].item(),\n",
    "        #     \"gender\": gt['gender-classification']['classifications'].item()\n",
    "        # })"
   ]
  },
  {
   "cell_type": "code",
   "execution_count": 8,
   "metadata": {},
   "outputs": [],
   "source": [
    "processed_prs = []\n",
    "for prs in all_prs:\n",
    "    zip_list = [prs[k][\"outputs\"] for k in prs.keys()]\n",
    "    for attrs in zip(*zip_list):\n",
    "        dict_to_append = {}\n",
    "        for k, attr in zip(list(prs.keys()), attrs):\n",
    "            clinical_attribute, task_name  = k.split(\"-\")\n",
    "            dict_to_append.update({clinical_attribute : attr.item()})\n",
    "        processed_prs.append(dict_to_append)"
   ]
  },
  {
   "cell_type": "code",
   "execution_count": 9,
   "metadata": {},
   "outputs": [
    {
     "data": {
      "text/plain": [
       "({'age': 66,\n",
       "  'temperature': 98.1,\n",
       "  'heartrate': 85.6,\n",
       "  'resprate': 18.2,\n",
       "  'o2sat': 97.8,\n",
       "  'sbp': 132.9,\n",
       "  'dpb': 73.5,\n",
       "  'acuity': 1.0,\n",
       "  'gender': True},\n",
       " {'age': 63.2711067199707})"
      ]
     },
     "execution_count": 9,
     "metadata": {},
     "output_type": "execute_result"
    }
   ],
   "source": [
    "processed_gts[0], processed_prs[0]"
   ]
  },
  {
   "cell_type": "code",
   "execution_count": 10,
   "metadata": {},
   "outputs": [],
   "source": [
    "from sklearn.metrics import accuracy_score, r2_score\n",
    "import pandas as pd"
   ]
  },
  {
   "cell_type": "code",
   "execution_count": 11,
   "metadata": {},
   "outputs": [
    {
     "data": {
      "text/plain": [
       "0.04156145875590622"
      ]
     },
     "execution_count": 11,
     "metadata": {},
     "output_type": "execute_result"
    }
   ],
   "source": [
    "r2_score([ gt['age'] for gt in processed_gts], [ pr['age'] for pr in processed_prs])\n",
    "# accuracy_score([ gt['gender'] for gt in processed_gts], [ pr['gender'] >= 0.5 for pr in processed_prs],)"
   ]
  },
  {
   "cell_type": "code",
   "execution_count": 12,
   "metadata": {},
   "outputs": [],
   "source": [
    "gt_df = pd.DataFrame(processed_gts)\n",
    "gt_df.to_csv(\"age_gt.csv\")\n",
    "pr_df = pd.DataFrame(processed_prs)\n",
    "pr_df.to_csv(\"age_pr.csv\")"
   ]
  },
  {
   "cell_type": "code",
   "execution_count": 13,
   "metadata": {},
   "outputs": [],
   "source": [
    "# gender, acc = 0.9338235294117647\n",
    "# age, r2 ="
   ]
  },
  {
   "cell_type": "code",
   "execution_count": null,
   "metadata": {},
   "outputs": [],
   "source": []
  },
  {
   "cell_type": "code",
   "execution_count": null,
   "metadata": {},
   "outputs": [],
   "source": []
  },
  {
   "cell_type": "code",
   "execution_count": null,
   "metadata": {},
   "outputs": [],
   "source": []
  },
  {
   "cell_type": "code",
   "execution_count": null,
   "metadata": {},
   "outputs": [],
   "source": []
  }
 ],
 "metadata": {
  "kernelspec": {
   "display_name": "pytorch",
   "language": "python",
   "name": "python3"
  },
  "language_info": {
   "codemirror_mode": {
    "name": "ipython",
    "version": 3
   },
   "file_extension": ".py",
   "mimetype": "text/x-python",
   "name": "python",
   "nbconvert_exporter": "python",
   "pygments_lexer": "ipython3",
   "version": "3.9.16"
  },
  "orig_nbformat": 4
 },
 "nbformat": 4,
 "nbformat_minor": 2
}
