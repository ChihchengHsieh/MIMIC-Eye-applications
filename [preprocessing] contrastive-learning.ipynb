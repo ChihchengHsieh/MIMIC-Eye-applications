{
 "cells": [
  {
   "cell_type": "code",
   "execution_count": 1,
   "metadata": {},
   "outputs": [],
   "source": [
    "import os, json\n",
    "import pandas as pd\n",
    "\n",
    "from data.paths import TabularDataPaths\n",
    "from utils import print as print_f\n",
    "from utils.preprocessing import get_split_list, checkMissingValue\n",
    "from utils.init import reproducibility\n",
    "\n",
    "from data.constants import REFLACX_ALL_LABEL_COLS, REFLACX_REPETITIVE_ALL_LABEL_COLS\n",
    "from data.paths import MIMIC_EYE_PATH"
   ]
  },
  {
   "cell_type": "code",
   "execution_count": 2,
   "metadata": {},
   "outputs": [],
   "source": [
    "seed = 0\n",
    "reproducibility(0)"
   ]
  },
  {
   "cell_type": "code",
   "execution_count": 3,
   "metadata": {},
   "outputs": [],
   "source": [
    "cxr_meta_df = pd.read_csv(os.path.join('./spreadsheets/cxr_meta_stayId.csv'))"
   ]
  },
  {
   "cell_type": "code",
   "execution_count": 4,
   "metadata": {},
   "outputs": [
    {
     "data": {
      "text/html": [
       "<div>\n",
       "<style scoped>\n",
       "    .dataframe tbody tr th:only-of-type {\n",
       "        vertical-align: middle;\n",
       "    }\n",
       "\n",
       "    .dataframe tbody tr th {\n",
       "        vertical-align: top;\n",
       "    }\n",
       "\n",
       "    .dataframe thead th {\n",
       "        text-align: right;\n",
       "    }\n",
       "</style>\n",
       "<table border=\"1\" class=\"dataframe\">\n",
       "  <thead>\n",
       "    <tr style=\"text-align: right;\">\n",
       "      <th></th>\n",
       "      <th>Unnamed: 0</th>\n",
       "      <th>dicom_id</th>\n",
       "      <th>subject_id</th>\n",
       "      <th>study_id</th>\n",
       "      <th>PerformedProcedureStepDescription</th>\n",
       "      <th>ViewPosition</th>\n",
       "      <th>Rows</th>\n",
       "      <th>Columns</th>\n",
       "      <th>StudyDate</th>\n",
       "      <th>StudyTime</th>\n",
       "      <th>ProcedureCodeSequence_CodeMeaning</th>\n",
       "      <th>ViewCodeSequence_CodeMeaning</th>\n",
       "      <th>PatientOrientationCodeSequence_CodeMeaning</th>\n",
       "      <th>StudyDateTime</th>\n",
       "      <th>stay_id</th>\n",
       "    </tr>\n",
       "  </thead>\n",
       "  <tbody>\n",
       "    <tr>\n",
       "      <th>0</th>\n",
       "      <td>0</td>\n",
       "      <td>02aa804e-bde0afdd-112c0b34-7bc16630-4e384014</td>\n",
       "      <td>10000032</td>\n",
       "      <td>50414267</td>\n",
       "      <td>CHEST (PA AND LAT)</td>\n",
       "      <td>PA</td>\n",
       "      <td>3056</td>\n",
       "      <td>2544</td>\n",
       "      <td>21800506</td>\n",
       "      <td>213014.531</td>\n",
       "      <td>CHEST (PA AND LAT)</td>\n",
       "      <td>postero-anterior</td>\n",
       "      <td>Erect</td>\n",
       "      <td>2.180051e+13</td>\n",
       "      <td>33258284</td>\n",
       "    </tr>\n",
       "    <tr>\n",
       "      <th>1</th>\n",
       "      <td>2</td>\n",
       "      <td>2a2277a9-b0ded155-c0de8eb9-c124d10e-82c5caab</td>\n",
       "      <td>10000032</td>\n",
       "      <td>53189527</td>\n",
       "      <td>CHEST (PA AND LAT)</td>\n",
       "      <td>PA</td>\n",
       "      <td>3056</td>\n",
       "      <td>2544</td>\n",
       "      <td>21800626</td>\n",
       "      <td>165500.312</td>\n",
       "      <td>CHEST (PA AND LAT)</td>\n",
       "      <td>postero-anterior</td>\n",
       "      <td>Erect</td>\n",
       "      <td>2.180063e+13</td>\n",
       "      <td>38112554</td>\n",
       "    </tr>\n",
       "    <tr>\n",
       "      <th>2</th>\n",
       "      <td>6</td>\n",
       "      <td>ea030e7a-2e3b1346-bc518786-7a8fd698-f673b44c</td>\n",
       "      <td>10000032</td>\n",
       "      <td>56699142</td>\n",
       "      <td>CHEST (PORTABLE AP)</td>\n",
       "      <td>AP</td>\n",
       "      <td>3056</td>\n",
       "      <td>2544</td>\n",
       "      <td>21800805</td>\n",
       "      <td>234424.765</td>\n",
       "      <td>CHEST (PORTABLE AP)</td>\n",
       "      <td>antero-posterior</td>\n",
       "      <td>NaN</td>\n",
       "      <td>2.180081e+13</td>\n",
       "      <td>35968195</td>\n",
       "    </tr>\n",
       "    <tr>\n",
       "      <th>3</th>\n",
       "      <td>17</td>\n",
       "      <td>9b314ad7-fbcb0422-6db62dfc-732858d0-a5527d8b</td>\n",
       "      <td>10000935</td>\n",
       "      <td>51178377</td>\n",
       "      <td>CHEST (PA AND LAT)</td>\n",
       "      <td>AP</td>\n",
       "      <td>3056</td>\n",
       "      <td>2544</td>\n",
       "      <td>21870823</td>\n",
       "      <td>191426.062</td>\n",
       "      <td>CHEST (PA AND LAT)</td>\n",
       "      <td>antero-posterior</td>\n",
       "      <td>Erect</td>\n",
       "      <td>2.187082e+13</td>\n",
       "      <td>32845079</td>\n",
       "    </tr>\n",
       "    <tr>\n",
       "      <th>4</th>\n",
       "      <td>20</td>\n",
       "      <td>8e3f2822-0c1d4b71-2a265bbf-5b96e531-ccf5fa30</td>\n",
       "      <td>10000935</td>\n",
       "      <td>56164612</td>\n",
       "      <td>CHEST (PA AND LAT)</td>\n",
       "      <td>AP</td>\n",
       "      <td>2544</td>\n",
       "      <td>3056</td>\n",
       "      <td>21870711</td>\n",
       "      <td>111436.562</td>\n",
       "      <td>CHEST (PA AND LAT)</td>\n",
       "      <td>antero-posterior</td>\n",
       "      <td>Erect</td>\n",
       "      <td>2.187071e+13</td>\n",
       "      <td>35197384</td>\n",
       "    </tr>\n",
       "  </tbody>\n",
       "</table>\n",
       "</div>"
      ],
      "text/plain": [
       "   Unnamed: 0                                      dicom_id  subject_id  \\\n",
       "0           0  02aa804e-bde0afdd-112c0b34-7bc16630-4e384014    10000032   \n",
       "1           2  2a2277a9-b0ded155-c0de8eb9-c124d10e-82c5caab    10000032   \n",
       "2           6  ea030e7a-2e3b1346-bc518786-7a8fd698-f673b44c    10000032   \n",
       "3          17  9b314ad7-fbcb0422-6db62dfc-732858d0-a5527d8b    10000935   \n",
       "4          20  8e3f2822-0c1d4b71-2a265bbf-5b96e531-ccf5fa30    10000935   \n",
       "\n",
       "   study_id PerformedProcedureStepDescription ViewPosition  Rows  Columns  \\\n",
       "0  50414267                CHEST (PA AND LAT)           PA  3056     2544   \n",
       "1  53189527                CHEST (PA AND LAT)           PA  3056     2544   \n",
       "2  56699142               CHEST (PORTABLE AP)           AP  3056     2544   \n",
       "3  51178377                CHEST (PA AND LAT)           AP  3056     2544   \n",
       "4  56164612                CHEST (PA AND LAT)           AP  2544     3056   \n",
       "\n",
       "   StudyDate   StudyTime ProcedureCodeSequence_CodeMeaning  \\\n",
       "0   21800506  213014.531                CHEST (PA AND LAT)   \n",
       "1   21800626  165500.312                CHEST (PA AND LAT)   \n",
       "2   21800805  234424.765               CHEST (PORTABLE AP)   \n",
       "3   21870823  191426.062                CHEST (PA AND LAT)   \n",
       "4   21870711  111436.562                CHEST (PA AND LAT)   \n",
       "\n",
       "  ViewCodeSequence_CodeMeaning PatientOrientationCodeSequence_CodeMeaning  \\\n",
       "0             postero-anterior                                      Erect   \n",
       "1             postero-anterior                                      Erect   \n",
       "2             antero-posterior                                        NaN   \n",
       "3             antero-posterior                                      Erect   \n",
       "4             antero-posterior                                      Erect   \n",
       "\n",
       "   StudyDateTime   stay_id  \n",
       "0   2.180051e+13  33258284  \n",
       "1   2.180063e+13  38112554  \n",
       "2   2.180081e+13  35968195  \n",
       "3   2.187082e+13  32845079  \n",
       "4   2.187071e+13  35197384  "
      ]
     },
     "execution_count": 4,
     "metadata": {},
     "output_type": "execute_result"
    }
   ],
   "source": [
    "cxr_meta_df.head(5)"
   ]
  },
  {
   "cell_type": "code",
   "execution_count": 5,
   "metadata": {},
   "outputs": [],
   "source": [
    "disk_location = \"D:\\\\\"\n",
    "PHYSIONET_PATH = os.path.join(disk_location, \"physionet.org\",\"files\")\n",
    "CXR_JPG_FOLDER_PATH = os.path.join(PHYSIONET_PATH, \"mimic-cxr-jpg\", \"2.0.0\")\n",
    "\n",
    "# load from physionet instead.\n",
    "negbio_df = pd.read_csv(  os.path.join(CXR_JPG_FOLDER_PATH, \"mimic-cxr-2.0.0-negbio.csv.gz\"))\n",
    "chexpert_df = pd.read_csv(  os.path.join(CXR_JPG_FOLDER_PATH ,\"mimic-cxr-2.0.0-chexpert.csv.gz\"))"
   ]
  },
  {
   "cell_type": "code",
   "execution_count": 6,
   "metadata": {},
   "outputs": [],
   "source": [
    "merged_df = cxr_meta_df.merge(negbio_df.add_suffix(\"_negbio\"), \"left\", left_on=\"study_id\", right_on=\"study_id_negbio\" \n",
    ")\n",
    "merged_df = merged_df.merge(chexpert_df.add_suffix(\"_chexpert\"), \"left\", left_on=\"study_id\", right_on=\"study_id_chexpert\",\n",
    ")"
   ]
  },
  {
   "cell_type": "code",
   "execution_count": 7,
   "metadata": {},
   "outputs": [],
   "source": [
    "for col in [ col for col in merged_df.columns if (col.endswith(\"_negbio\") or col.endswith(\"_chexpert\"))]:\n",
    "    merged_df[col] = merged_df[col].fillna(0)"
   ]
  },
  {
   "cell_type": "code",
   "execution_count": 8,
   "metadata": {},
   "outputs": [],
   "source": [
    "class CXRImage:\n",
    "    def __init__(self, patient_id, study_id, dicom_id, reflacx_id=None) -> None:\n",
    "        self.patient_id = patient_id\n",
    "        self.study_id = study_id\n",
    "        self.dicom_id = dicom_id\n",
    "\n",
    "    def get_physio_image_path(self, physio_path, jpg=True, version=\"2.0.0\"):\n",
    "        file_extension = \"jpg\"if jpg else \"dcm\"\n",
    "        return os.path.join(\n",
    "            physio_path,\n",
    "            \"files\",\n",
    "            (\"mimic-cxr-jpg\" if jpg else \"mimic-cxr\"),\n",
    "            version,\n",
    "            \"files\",\n",
    "            f\"p{str(self.patient_id)[:2]}\",\n",
    "            f\"p{self.patient_id}\",\n",
    "            f\"s{self.study_id}\",\n",
    "            f\"{self.dicom_id}.{file_extension}\"\n",
    "        )\n",
    "\n",
    "def create_cxr_from_instance(instance):\n",
    "\n",
    "    return CXRImage(\n",
    "        patient_id=instance['subject_id'],\n",
    "        study_id=instance['study_id'],\n",
    "        dicom_id=instance['dicom_id'],\n",
    "    )\n"
   ]
  },
  {
   "cell_type": "code",
   "execution_count": 9,
   "metadata": {},
   "outputs": [],
   "source": [
    "# in order to have a faster reading speed, we use XAMI-MIMIC\n",
    "PHYSIONET_PATH_str = \"{PHYSIONET_PATH}\"\n",
    "\n",
    "# Calculate the age according to the time when the CXR taken.\n",
    "merged_df[\"image_path\"] = merged_df.apply(\n",
    "    lambda x: create_cxr_from_instance(x).get_physio_image_path(PHYSIONET_PATH_str), 1)\n",
    "# merged_df[\"bbox_path\"] = (\n",
    "#     f\"{XAMI_MIMIC_PATH_str}\\patient_\"\n",
    "#     + merged_df[\"subject_id\"].astype(str)\n",
    "#     + \"\\REFLACX\\\\\"\n",
    "#     + merged_df[\"id\"].astype(str)\n",
    "#     + \"\\\\anomaly_location_ellipses.csv\"\n",
    "# )\n",
    "\n",
    "# merged_df[\"bbox_path\"] = merged_df.apply(lambda x: os.path.join(\n",
    "#     PHYSIO_PATH_str,\n",
    "#     f\"patient_{str(x['subject_id'])}\",\n",
    "#     \"REFLACX\", \n",
    "#     \"main_data\",\n",
    "#     str(x[\"id\"]),\n",
    "#     \"anomaly_location_ellipses.csv\"),\n",
    "#     axis=1)\n",
    "\n",
    "# merged_df[\"fixation_path\"] = merged_df.apply(lambda x: os.path.join(\n",
    "#     PHYSIO_PATH_str,\n",
    "#     f\"patient_{str(x['subject_id'])}\",\n",
    "#     \"REFLACX\",\n",
    "#     \"main_data\",\n",
    "#     str(x[\"id\"]),\n",
    "#     \"fixations.csv\"),\n",
    "#     axis=1)\n",
    "\n",
    "\n",
    "# merged_df[\"fixation_path\"] = (\n",
    "#     f\"{XAMI_MIMIC_PATH_str}\\patient_\"\n",
    "#     + merged_df[\"subject_id\"].astype(str)\n",
    "#     + \"\\REFLACX\\\\\"\n",
    "#     + merged_df[\"id\"].astype(str)\n",
    "#     + \"\\\\fixations.csv\"\n",
    "# )\n"
   ]
  },
  {
   "cell_type": "code",
   "execution_count": 10,
   "metadata": {},
   "outputs": [
    {
     "name": "stdout",
     "output_type": "stream",
     "text": [
      "[('PerformedProcedureStepDescription', 277), ('ViewCodeSequence_CodeMeaning', 3), ('PatientOrientationCodeSequence_CodeMeaning', 2213)]\n"
     ]
    }
   ],
   "source": [
    "checkMissingValue(merged_df)"
   ]
  },
  {
   "cell_type": "code",
   "execution_count": 11,
   "metadata": {},
   "outputs": [],
   "source": [
    "# DO another for clinical data\n",
    "ED_FOLDER_PATH = os.path.join(PHYSIONET_PATH, \"mimic-iv-ed\", \"2.0\",\"ed\")\n",
    "MIMICIV_FOLDER_PATH = os.path.join(PHYSIONET_PATH, \"mimiciv\", \"2.0\")\n",
    "HOSP_FOLDER_PATH = os.path.join(MIMICIV_FOLDER_PATH, \"hosp\")\n",
    "\n",
    "hosp_patients_df = pd.read_csv(os.path.join(HOSP_FOLDER_PATH, \"patients.csv.gz\"))\n",
    "ed_triage_df = pd.read_csv(os.path.join(ED_FOLDER_PATH, \"triage.csv.gz\"), index_col=False)"
   ]
  },
  {
   "cell_type": "code",
   "execution_count": 12,
   "metadata": {},
   "outputs": [],
   "source": [
    "merged_df = (\n",
    "    merged_df\n",
    "    .merge(hosp_patients_df, \"left\", on=\"subject_id\", suffixes=(\"\", \"_patient\"))\n",
    "    .merge(ed_triage_df, \"left\", on=\"stay_id\", suffixes=(\"\", \"_triage\"))\n",
    ")\n",
    "\n",
    "merged_df[\"age\"] = merged_df[\"anchor_age\"] + (\n",
    "    merged_df[\"StudyDate\"].apply(lambda x: int(str(x)[:4])) - merged_df[\"anchor_year\"]\n",
    ")"
   ]
  },
  {
   "cell_type": "code",
   "execution_count": 13,
   "metadata": {},
   "outputs": [
    {
     "name": "stdout",
     "output_type": "stream",
     "text": [
      "====================Columns have missing value in merged_df====================\n",
      "[('PerformedProcedureStepDescription', 277), ('ViewCodeSequence_CodeMeaning', 3), ('PatientOrientationCodeSequence_CodeMeaning', 2213), ('dod', 52891), ('temperature', 5673), ('heartrate', 3977), ('resprate', 4984), ('o2sat', 4824), ('sbp', 4153), ('dbp', 4344), ('pain', 4571), ('acuity', 2041), ('chiefcomplaint', 1)]\n"
     ]
    }
   ],
   "source": [
    "print_f.print_title(\"Columns have missing value in merged_df\")\n",
    "checkMissingValue(merged_df)"
   ]
  },
  {
   "cell_type": "code",
   "execution_count": 14,
   "metadata": {},
   "outputs": [],
   "source": [
    "clinical_cols = [\n",
    "    \"temperature\",\n",
    "    \"heartrate\",\n",
    "    \"resprate\",\n",
    "    \"o2sat\",\n",
    "    \"sbp\",\n",
    "    \"dbp\",\n",
    "    \"acuity\",\n",
    "    # \"chiefcomplaint\",\n",
    "    \"age\",\n",
    "]"
   ]
  },
  {
   "cell_type": "code",
   "execution_count": 15,
   "metadata": {},
   "outputs": [
    {
     "data": {
      "text/plain": [
       "74967"
      ]
     },
     "execution_count": 15,
     "metadata": {},
     "output_type": "execute_result"
    }
   ],
   "source": [
    "len(merged_df)"
   ]
  },
  {
   "cell_type": "code",
   "execution_count": 16,
   "metadata": {},
   "outputs": [],
   "source": [
    "merged_df = merged_df.dropna(subset=clinical_cols)"
   ]
  },
  {
   "cell_type": "code",
   "execution_count": 17,
   "metadata": {},
   "outputs": [
    {
     "data": {
      "text/plain": [
       "67263"
      ]
     },
     "execution_count": 17,
     "metadata": {},
     "output_type": "execute_result"
    }
   ],
   "source": [
    "len(merged_df)"
   ]
  },
  {
   "cell_type": "code",
   "execution_count": 18,
   "metadata": {},
   "outputs": [],
   "source": [
    "# for col in clinical_cols:\n",
    "#     if merged_df[col].isna().any():\n",
    "#         filling_value = round(merged_df[~merged_df[col].isna()][col].mean(), 1)\n",
    "#         print(f\"filling missing value for {col} by value {filling_value:.2f}\")\n",
    "#         merged_df[col] = merged_df[col].fillna(filling_value)"
   ]
  },
  {
   "cell_type": "code",
   "execution_count": 19,
   "metadata": {},
   "outputs": [
    {
     "name": "stdout",
     "output_type": "stream",
     "text": [
      "[('PerformedProcedureStepDescription', 248), ('ViewCodeSequence_CodeMeaning', 1), ('PatientOrientationCodeSequence_CodeMeaning', 1531), ('dod', 48328), ('pain', 1217), ('chiefcomplaint', 1)]\n"
     ]
    }
   ],
   "source": [
    "checkMissingValue(merged_df)"
   ]
  },
  {
   "cell_type": "code",
   "execution_count": 20,
   "metadata": {},
   "outputs": [],
   "source": [
    "merged_df['split'] = get_split_list(len(merged_df), train_portion=0.9) # 70% training."
   ]
  },
  {
   "cell_type": "code",
   "execution_count": 21,
   "metadata": {},
   "outputs": [],
   "source": [
    "# get the reflacx df \n",
    "\n",
    "reflacx_clinical_df = pd.read_csv(os.path.join('spreadsheets', 'reflacx_clinical_eye.csv'))\n",
    "val_dicom_ids = list(reflacx_clinical_df[reflacx_clinical_df['split']== \"val\"]['dicom_id'])\n",
    "test_dicom_ids = list(reflacx_clinical_df[reflacx_clinical_df['split']== \"test\"]['dicom_id'])\n",
    "\n",
    "for val_id in val_dicom_ids:\n",
    "    idxs = merged_df[merged_df['dicom_id'] == val_id].index\n",
    "    for idx in idxs:\n",
    "        assert(merged_df.at[idx, 'dicom_id'] == val_id), \"assume to be the same dicom_id\"\n",
    "        merged_df.at[idx,'split'] = 'val'\n",
    "\n",
    "for val_id in test_dicom_ids:\n",
    "    idxs = merged_df[merged_df['dicom_id'] == val_id].index\n",
    "    for idx in idxs:\n",
    "        assert(merged_df.at[idx, 'dicom_id'] == val_id), \"assume to be the same dicom_id\"\n",
    "        merged_df.at[idx,'split'] = 'test'"
   ]
  },
  {
   "cell_type": "code",
   "execution_count": 22,
   "metadata": {},
   "outputs": [
    {
     "data": {
      "text/plain": [
       "train    60332\n",
       "test      3470\n",
       "val       3461\n",
       "Name: split, dtype: int64"
      ]
     },
     "execution_count": 22,
     "metadata": {},
     "output_type": "execute_result"
    }
   ],
   "source": [
    "merged_df['split'].value_counts()"
   ]
  },
  {
   "cell_type": "code",
   "execution_count": 23,
   "metadata": {},
   "outputs": [
    {
     "data": {
      "text/plain": [
       "'{PHYSIONET_PATH}\\\\files\\\\mimic-cxr-jpg\\\\2.0.0\\\\files\\\\p10\\\\p10000032\\\\s50414267\\\\02aa804e-bde0afdd-112c0b34-7bc16630-4e384014.jpg'"
      ]
     },
     "execution_count": 23,
     "metadata": {},
     "output_type": "execute_result"
    }
   ],
   "source": [
    "merged_df['image_path'].iloc[0]"
   ]
  },
  {
   "cell_type": "code",
   "execution_count": 24,
   "metadata": {},
   "outputs": [],
   "source": [
    "merged_df =  merged_df[merged_df['temperature'] > 60] # remove the instance with irealistic temperature."
   ]
  },
  {
   "cell_type": "code",
   "execution_count": 25,
   "metadata": {},
   "outputs": [
    {
     "data": {
      "text/plain": [
       "2.0    32530\n",
       "3.0    28148\n",
       "1.0     5923\n",
       "4.0      556\n",
       "5.0        5\n",
       "Name: acuity_discrete, dtype: int64"
      ]
     },
     "execution_count": 25,
     "metadata": {},
     "output_type": "execute_result"
    }
   ],
   "source": [
    "# create discrete values here\n",
    "\n",
    "def sbp_discrete_range(sbp):\n",
    "    if sbp >= 140:\n",
    "        return \">=140\"\n",
    "    elif sbp > 90:\n",
    "        return \"(90,140)\"\n",
    "    else:\n",
    "        return \"<=90\"\n",
    "    \n",
    "def dbp_discrete_range(dbp):\n",
    "    if dbp >= 90:\n",
    "        return '>=90'\n",
    "    elif dbp  > 60:\n",
    "        return '(60,90)'\n",
    "    else:\n",
    "        return \"<=60\"\n",
    "    \n",
    "def o2sat_discrete_range(o2sat):\n",
    "    if o2sat>=95:\n",
    "        return \">=95\"\n",
    "    elif o2sat>= 90:\n",
    "        return \"[90,95)\"\n",
    "    elif o2sat > 80:\n",
    "        return \"(80,90)\"\n",
    "    else:\n",
    "        return \"<=80\"\n",
    "    \n",
    "def resprate_discrete_range(resprate):\n",
    "    if resprate >= 18:\n",
    "        return \">=18\"\n",
    "    elif resprate >= 12:\n",
    "        return \"[12,18)\"\n",
    "    else:\n",
    "        return \"<12\"\n",
    "    \n",
    "def heartrate_discrete_range(heartrate):    \n",
    "    if heartrate >= 100:\n",
    "        return \">=100\"\n",
    "    elif heartrate >= 60:\n",
    "        return \"[60,100)\"\n",
    "    else:\n",
    "        return \"<60\"\n",
    "    \n",
    "def temperature_discrete_range(temperature):\n",
    "    if temperature >= 100.4:\n",
    "        return \">=100.4\"\n",
    "    elif temperature >= 99:\n",
    "        return \"[99,100.4)\"\n",
    "    elif temperature >= 97:\n",
    "        return \"[97,99)\"\n",
    "    else:\n",
    "        return \"<97\"\n",
    "\n",
    "def age_discrete_range(age):\n",
    "    if age >= 65:\n",
    "        return \">=65\"\n",
    "    else:\n",
    "        return \"<65\"\n",
    "    \n",
    "## replace all of them to be 1.\n",
    "merged_df['sbp_discrete'] = merged_df['sbp'].apply(lambda x: sbp_discrete_range(x)) \n",
    "merged_df['dbp_discrete'] = merged_df['dbp'].apply(lambda x: dbp_discrete_range(x)) \n",
    "merged_df['o2sat_discrete'] = merged_df['o2sat'].apply(lambda x: o2sat_discrete_range(x)) \n",
    "merged_df['resprate_discrete'] = merged_df['resprate'].apply(lambda x: resprate_discrete_range(x)) \n",
    "merged_df['heartrate_discrete'] = merged_df['heartrate'].apply(lambda x: heartrate_discrete_range(x)) \n",
    "merged_df['temperature_discrete'] = merged_df['temperature'].apply(lambda x: temperature_discrete_range(x)) \n",
    "merged_df['age_discrete'] = merged_df['age'].apply(lambda x: age_discrete_range(x)) \n",
    "merged_df[\"acuity_discrete\"] = merged_df['acuity'].apply(lambda x: str(x))\n",
    "\n",
    "merged_df['acuity_discrete'].value_counts()"
   ]
  },
  {
   "cell_type": "code",
   "execution_count": 26,
   "metadata": {},
   "outputs": [],
   "source": [
    "merged_df.to_csv(os.path.join(\"./spreadsheets\", \"physio_clinical_cxr_meta.csv\"))"
   ]
  },
  {
   "cell_type": "code",
   "execution_count": 27,
   "metadata": {},
   "outputs": [
    {
     "data": {
      "text/plain": [
       "Index(['Unnamed: 0', 'dicom_id', 'subject_id', 'study_id',\n",
       "       'PerformedProcedureStepDescription', 'ViewPosition', 'Rows', 'Columns',\n",
       "       'StudyDate', 'StudyTime', 'ProcedureCodeSequence_CodeMeaning',\n",
       "       'ViewCodeSequence_CodeMeaning',\n",
       "       'PatientOrientationCodeSequence_CodeMeaning', 'StudyDateTime',\n",
       "       'stay_id', 'subject_id_negbio', 'study_id_negbio', 'Atelectasis_negbio',\n",
       "       'Cardiomegaly_negbio', 'Consolidation_negbio', 'Edema_negbio',\n",
       "       'Enlarged Cardiomediastinum_negbio', 'Fracture_negbio',\n",
       "       'Lung Lesion_negbio', 'Lung Opacity_negbio', 'No Finding_negbio',\n",
       "       'Pleural Effusion_negbio', 'Pleural Other_negbio', 'Pneumonia_negbio',\n",
       "       'Pneumothorax_negbio', 'Support Devices_negbio', 'subject_id_chexpert',\n",
       "       'study_id_chexpert', 'Atelectasis_chexpert', 'Cardiomegaly_chexpert',\n",
       "       'Consolidation_chexpert', 'Edema_chexpert',\n",
       "       'Enlarged Cardiomediastinum_chexpert', 'Fracture_chexpert',\n",
       "       'Lung Lesion_chexpert', 'Lung Opacity_chexpert', 'No Finding_chexpert',\n",
       "       'Pleural Effusion_chexpert', 'Pleural Other_chexpert',\n",
       "       'Pneumonia_chexpert', 'Pneumothorax_chexpert',\n",
       "       'Support Devices_chexpert', 'image_path', 'gender', 'anchor_age',\n",
       "       'anchor_year', 'anchor_year_group', 'dod', 'subject_id_triage',\n",
       "       'temperature', 'heartrate', 'resprate', 'o2sat', 'sbp', 'dbp', 'pain',\n",
       "       'acuity', 'chiefcomplaint', 'age', 'split', 'sbp_discrete',\n",
       "       'dbp_discrete', 'o2sat_discrete', 'resprate_discrete',\n",
       "       'heartrate_discrete', 'temperature_discrete', 'age_discrete',\n",
       "       'acuity_discrete'],\n",
       "      dtype='object')"
      ]
     },
     "execution_count": 27,
     "metadata": {},
     "output_type": "execute_result"
    }
   ],
   "source": [
    "merged_df.columns"
   ]
  },
  {
   "cell_type": "code",
   "execution_count": 32,
   "metadata": {},
   "outputs": [
    {
     "data": {
      "text/plain": [
       "age           75.0\n",
       "sbp          180.0\n",
       "dbp           88.0\n",
       "heartrate     57.0\n",
       "resprate      18.0\n",
       "Name: 9, dtype: float64"
      ]
     },
     "execution_count": 32,
     "metadata": {},
     "output_type": "execute_result"
    }
   ],
   "source": [
    "merged_df[['age','sbp','dbp','heartrate', 'resprate']].iloc[9]"
   ]
  },
  {
   "cell_type": "code",
   "execution_count": null,
   "metadata": {},
   "outputs": [],
   "source": []
  }
 ],
 "metadata": {
  "kernelspec": {
   "display_name": "pytorch",
   "language": "python",
   "name": "python3"
  },
  "language_info": {
   "codemirror_mode": {
    "name": "ipython",
    "version": 3
   },
   "file_extension": ".py",
   "mimetype": "text/x-python",
   "name": "python",
   "nbconvert_exporter": "python",
   "pygments_lexer": "ipython3",
   "version": "3.9.16"
  },
  "orig_nbformat": 4
 },
 "nbformat": 4,
 "nbformat_minor": 2
}
