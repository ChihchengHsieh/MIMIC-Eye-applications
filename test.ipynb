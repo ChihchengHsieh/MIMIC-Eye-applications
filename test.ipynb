{
 "cells": [
  {
   "cell_type": "code",
   "execution_count": 1,
   "metadata": {},
   "outputs": [],
   "source": [
    "import os\n",
    "import pandas as pd\n",
    "from data.paths import MIMIC_EYE_PATH"
   ]
  },
  {
   "cell_type": "code",
   "execution_count": 2,
   "metadata": {},
   "outputs": [
    {
     "data": {
      "text/html": [
       "<div>\n",
       "<style scoped>\n",
       "    .dataframe tbody tr th:only-of-type {\n",
       "        vertical-align: middle;\n",
       "    }\n",
       "\n",
       "    .dataframe tbody tr th {\n",
       "        vertical-align: top;\n",
       "    }\n",
       "\n",
       "    .dataframe thead th {\n",
       "        text-align: right;\n",
       "    }\n",
       "</style>\n",
       "<table border=\"1\" class=\"dataframe\">\n",
       "  <thead>\n",
       "    <tr style=\"text-align: right;\">\n",
       "      <th></th>\n",
       "      <th>Unnamed: 0</th>\n",
       "      <th>index</th>\n",
       "      <th>id</th>\n",
       "      <th>dicom_id</th>\n",
       "      <th>subject_id</th>\n",
       "      <th>stay_id</th>\n",
       "      <th>study_id</th>\n",
       "      <th>split</th>\n",
       "      <th>eye_tracking_data_discarded</th>\n",
       "      <th>image_path</th>\n",
       "      <th>...</th>\n",
       "      <th>Enlarged Cardiomediastinum_chexpert</th>\n",
       "      <th>Fracture_chexpert</th>\n",
       "      <th>Lung Lesion_chexpert</th>\n",
       "      <th>Lung Opacity_chexpert</th>\n",
       "      <th>No Finding_chexpert</th>\n",
       "      <th>Pleural Effusion_chexpert</th>\n",
       "      <th>Pleural Other_chexpert</th>\n",
       "      <th>Pneumonia_chexpert</th>\n",
       "      <th>Pneumothorax_chexpert</th>\n",
       "      <th>Support Devices_chexpert</th>\n",
       "    </tr>\n",
       "  </thead>\n",
       "  <tbody>\n",
       "    <tr>\n",
       "      <th>0</th>\n",
       "      <td>0</td>\n",
       "      <td>0</td>\n",
       "      <td>P102R108387</td>\n",
       "      <td>34cedb74-d0996b40-6d218312-a9174bea-d48dc033</td>\n",
       "      <td>18111516</td>\n",
       "      <td>32067002.0</td>\n",
       "      <td>55032240</td>\n",
       "      <td>train</td>\n",
       "      <td>False</td>\n",
       "      <td>{XAMI_MIMIC_PATH}\\patient_18111516\\CXR-JPG\\s55...</td>\n",
       "      <td>...</td>\n",
       "      <td>0.0</td>\n",
       "      <td>0.0</td>\n",
       "      <td>0.0</td>\n",
       "      <td>0.0</td>\n",
       "      <td>0.0</td>\n",
       "      <td>0.0</td>\n",
       "      <td>0.0</td>\n",
       "      <td>-1.0</td>\n",
       "      <td>0.0</td>\n",
       "      <td>1.0</td>\n",
       "    </tr>\n",
       "    <tr>\n",
       "      <th>1</th>\n",
       "      <td>1</td>\n",
       "      <td>1</td>\n",
       "      <td>P102R379837</td>\n",
       "      <td>34cedb74-d0996b40-6d218312-a9174bea-d48dc033</td>\n",
       "      <td>18111516</td>\n",
       "      <td>32067002.0</td>\n",
       "      <td>55032240</td>\n",
       "      <td>test</td>\n",
       "      <td>False</td>\n",
       "      <td>{XAMI_MIMIC_PATH}\\patient_18111516\\CXR-JPG\\s55...</td>\n",
       "      <td>...</td>\n",
       "      <td>0.0</td>\n",
       "      <td>0.0</td>\n",
       "      <td>0.0</td>\n",
       "      <td>0.0</td>\n",
       "      <td>0.0</td>\n",
       "      <td>0.0</td>\n",
       "      <td>0.0</td>\n",
       "      <td>-1.0</td>\n",
       "      <td>0.0</td>\n",
       "      <td>1.0</td>\n",
       "    </tr>\n",
       "    <tr>\n",
       "      <th>2</th>\n",
       "      <td>2</td>\n",
       "      <td>2</td>\n",
       "      <td>P102R558314</td>\n",
       "      <td>34cedb74-d0996b40-6d218312-a9174bea-d48dc033</td>\n",
       "      <td>18111516</td>\n",
       "      <td>32067002.0</td>\n",
       "      <td>55032240</td>\n",
       "      <td>train</td>\n",
       "      <td>False</td>\n",
       "      <td>{XAMI_MIMIC_PATH}\\patient_18111516\\CXR-JPG\\s55...</td>\n",
       "      <td>...</td>\n",
       "      <td>0.0</td>\n",
       "      <td>0.0</td>\n",
       "      <td>0.0</td>\n",
       "      <td>0.0</td>\n",
       "      <td>0.0</td>\n",
       "      <td>0.0</td>\n",
       "      <td>0.0</td>\n",
       "      <td>-1.0</td>\n",
       "      <td>0.0</td>\n",
       "      <td>1.0</td>\n",
       "    </tr>\n",
       "    <tr>\n",
       "      <th>3</th>\n",
       "      <td>3</td>\n",
       "      <td>3</td>\n",
       "      <td>P102R765317</td>\n",
       "      <td>34cedb74-d0996b40-6d218312-a9174bea-d48dc033</td>\n",
       "      <td>18111516</td>\n",
       "      <td>32067002.0</td>\n",
       "      <td>55032240</td>\n",
       "      <td>train</td>\n",
       "      <td>False</td>\n",
       "      <td>{XAMI_MIMIC_PATH}\\patient_18111516\\CXR-JPG\\s55...</td>\n",
       "      <td>...</td>\n",
       "      <td>0.0</td>\n",
       "      <td>0.0</td>\n",
       "      <td>0.0</td>\n",
       "      <td>0.0</td>\n",
       "      <td>0.0</td>\n",
       "      <td>0.0</td>\n",
       "      <td>0.0</td>\n",
       "      <td>-1.0</td>\n",
       "      <td>0.0</td>\n",
       "      <td>1.0</td>\n",
       "    </tr>\n",
       "    <tr>\n",
       "      <th>4</th>\n",
       "      <td>4</td>\n",
       "      <td>4</td>\n",
       "      <td>P102R915878</td>\n",
       "      <td>34cedb74-d0996b40-6d218312-a9174bea-d48dc033</td>\n",
       "      <td>18111516</td>\n",
       "      <td>32067002.0</td>\n",
       "      <td>55032240</td>\n",
       "      <td>val</td>\n",
       "      <td>False</td>\n",
       "      <td>{XAMI_MIMIC_PATH}\\patient_18111516\\CXR-JPG\\s55...</td>\n",
       "      <td>...</td>\n",
       "      <td>0.0</td>\n",
       "      <td>0.0</td>\n",
       "      <td>0.0</td>\n",
       "      <td>0.0</td>\n",
       "      <td>0.0</td>\n",
       "      <td>0.0</td>\n",
       "      <td>0.0</td>\n",
       "      <td>-1.0</td>\n",
       "      <td>0.0</td>\n",
       "      <td>1.0</td>\n",
       "    </tr>\n",
       "  </tbody>\n",
       "</table>\n",
       "<p>5 rows × 70 columns</p>\n",
       "</div>"
      ],
      "text/plain": [
       "   Unnamed: 0  index           id  \\\n",
       "0           0      0  P102R108387   \n",
       "1           1      1  P102R379837   \n",
       "2           2      2  P102R558314   \n",
       "3           3      3  P102R765317   \n",
       "4           4      4  P102R915878   \n",
       "\n",
       "                                       dicom_id  subject_id     stay_id  \\\n",
       "0  34cedb74-d0996b40-6d218312-a9174bea-d48dc033    18111516  32067002.0   \n",
       "1  34cedb74-d0996b40-6d218312-a9174bea-d48dc033    18111516  32067002.0   \n",
       "2  34cedb74-d0996b40-6d218312-a9174bea-d48dc033    18111516  32067002.0   \n",
       "3  34cedb74-d0996b40-6d218312-a9174bea-d48dc033    18111516  32067002.0   \n",
       "4  34cedb74-d0996b40-6d218312-a9174bea-d48dc033    18111516  32067002.0   \n",
       "\n",
       "   study_id  split  eye_tracking_data_discarded  \\\n",
       "0  55032240  train                        False   \n",
       "1  55032240   test                        False   \n",
       "2  55032240  train                        False   \n",
       "3  55032240  train                        False   \n",
       "4  55032240    val                        False   \n",
       "\n",
       "                                          image_path  ...  \\\n",
       "0  {XAMI_MIMIC_PATH}\\patient_18111516\\CXR-JPG\\s55...  ...   \n",
       "1  {XAMI_MIMIC_PATH}\\patient_18111516\\CXR-JPG\\s55...  ...   \n",
       "2  {XAMI_MIMIC_PATH}\\patient_18111516\\CXR-JPG\\s55...  ...   \n",
       "3  {XAMI_MIMIC_PATH}\\patient_18111516\\CXR-JPG\\s55...  ...   \n",
       "4  {XAMI_MIMIC_PATH}\\patient_18111516\\CXR-JPG\\s55...  ...   \n",
       "\n",
       "  Enlarged Cardiomediastinum_chexpert Fracture_chexpert  Lung Lesion_chexpert  \\\n",
       "0                                 0.0               0.0                   0.0   \n",
       "1                                 0.0               0.0                   0.0   \n",
       "2                                 0.0               0.0                   0.0   \n",
       "3                                 0.0               0.0                   0.0   \n",
       "4                                 0.0               0.0                   0.0   \n",
       "\n",
       "   Lung Opacity_chexpert  No Finding_chexpert  Pleural Effusion_chexpert  \\\n",
       "0                    0.0                  0.0                        0.0   \n",
       "1                    0.0                  0.0                        0.0   \n",
       "2                    0.0                  0.0                        0.0   \n",
       "3                    0.0                  0.0                        0.0   \n",
       "4                    0.0                  0.0                        0.0   \n",
       "\n",
       "   Pleural Other_chexpert Pneumonia_chexpert  Pneumothorax_chexpert  \\\n",
       "0                     0.0               -1.0                    0.0   \n",
       "1                     0.0               -1.0                    0.0   \n",
       "2                     0.0               -1.0                    0.0   \n",
       "3                     0.0               -1.0                    0.0   \n",
       "4                     0.0               -1.0                    0.0   \n",
       "\n",
       "   Support Devices_chexpert  \n",
       "0                       1.0  \n",
       "1                       1.0  \n",
       "2                       1.0  \n",
       "3                       1.0  \n",
       "4                       1.0  \n",
       "\n",
       "[5 rows x 70 columns]"
      ]
     },
     "execution_count": 2,
     "metadata": {},
     "output_type": "execute_result"
    }
   ],
   "source": [
    "df = pd.read_csv(os.path.join(\"spreadsheets\", \"reflacx_eye.csv\"))\n",
    "df.head(5)"
   ]
  },
  {
   "cell_type": "code",
   "execution_count": 3,
   "metadata": {},
   "outputs": [
    {
     "data": {
      "text/plain": [
       "Index(['Unnamed: 0', 'index', 'id', 'dicom_id', 'subject_id', 'stay_id',\n",
       "       'study_id', 'split', 'eye_tracking_data_discarded', 'image_path',\n",
       "       'bbox_path', 'fixation_path', 'StudyDate', 'StudyDateTime', 'StudyTime',\n",
       "       'in_eye_gaze', 'in_reflacx', 'image', 'image_size_x', 'image_size_y',\n",
       "       'ViewPosition', 'Airway wall thickening', 'Atelectasis',\n",
       "       'Consolidation', 'Enlarged cardiac silhouette', 'Fibrosis', 'Fracture',\n",
       "       'Groundglass opacity', 'Other', 'Pneumothorax', 'Pulmonary edema',\n",
       "       'Quality issue', 'Support devices', 'Wide mediastinum',\n",
       "       'Abnormal mediastinal contour', 'Acute fracture', 'Enlarged hilum',\n",
       "       'Hiatal hernia', 'High lung volume / emphysema',\n",
       "       'Interstitial lung disease', 'Lung nodule or mass',\n",
       "       'Pleural abnormality', 'Atelectasis_negbio', 'Cardiomegaly_negbio',\n",
       "       'Consolidation_negbio', 'Edema_negbio',\n",
       "       'Enlarged Cardiomediastinum_negbio', 'Fracture_negbio',\n",
       "       'Lung Lesion_negbio', 'Lung Opacity_negbio', 'No Finding_negbio',\n",
       "       'Pleural Effusion_negbio', 'Pleural Other_negbio', 'Pneumonia_negbio',\n",
       "       'Pneumothorax_negbio', 'Support Devices_negbio', 'Atelectasis_chexpert',\n",
       "       'Cardiomegaly_chexpert', 'Consolidation_chexpert', 'Edema_chexpert',\n",
       "       'Enlarged Cardiomediastinum_chexpert', 'Fracture_chexpert',\n",
       "       'Lung Lesion_chexpert', 'Lung Opacity_chexpert', 'No Finding_chexpert',\n",
       "       'Pleural Effusion_chexpert', 'Pleural Other_chexpert',\n",
       "       'Pneumonia_chexpert', 'Pneumothorax_chexpert',\n",
       "       'Support Devices_chexpert'],\n",
       "      dtype='object')"
      ]
     },
     "execution_count": 3,
     "metadata": {},
     "output_type": "execute_result"
    }
   ],
   "source": [
    "df.columns"
   ]
  },
  {
   "cell_type": "code",
   "execution_count": 4,
   "metadata": {},
   "outputs": [],
   "source": [
    "cxr_meta_df = pd.read_csv(os.path.join(MIMIC_EYE_PATH,\"spreadsheets\",  \"cxr_meta.csv\"))"
   ]
  },
  {
   "cell_type": "code",
   "execution_count": 5,
   "metadata": {},
   "outputs": [],
   "source": [
    "in_both_df = cxr_meta_df[cxr_meta_df.in_reflacx & cxr_meta_df.in_eye_gaze]"
   ]
  },
  {
   "cell_type": "code",
   "execution_count": 6,
   "metadata": {},
   "outputs": [],
   "source": [
    "in_both_studyids = in_both_df['study_id']"
   ]
  },
  {
   "cell_type": "code",
   "execution_count": 7,
   "metadata": {},
   "outputs": [
    {
     "data": {
      "text/plain": [
       "[54420337,\n",
       " 52718721,\n",
       " 53621943,\n",
       " 51358448,\n",
       " 56277244,\n",
       " 57904568,\n",
       " 53848831,\n",
       " 59570639,\n",
       " 55024274,\n",
       " 58125581]"
      ]
     },
     "execution_count": 7,
     "metadata": {},
     "output_type": "execute_result"
    }
   ],
   "source": [
    "list(in_both_studyids)"
   ]
  },
  {
   "cell_type": "code",
   "execution_count": 8,
   "metadata": {},
   "outputs": [
    {
     "data": {
      "text/html": [
       "<div>\n",
       "<style scoped>\n",
       "    .dataframe tbody tr th:only-of-type {\n",
       "        vertical-align: middle;\n",
       "    }\n",
       "\n",
       "    .dataframe tbody tr th {\n",
       "        vertical-align: top;\n",
       "    }\n",
       "\n",
       "    .dataframe thead th {\n",
       "        text-align: right;\n",
       "    }\n",
       "</style>\n",
       "<table border=\"1\" class=\"dataframe\">\n",
       "  <thead>\n",
       "    <tr style=\"text-align: right;\">\n",
       "      <th></th>\n",
       "      <th>Unnamed: 0</th>\n",
       "      <th>dicom_id</th>\n",
       "      <th>subject_id</th>\n",
       "      <th>study_id</th>\n",
       "      <th>PerformedProcedureStepDescription</th>\n",
       "      <th>ViewPosition</th>\n",
       "      <th>Rows</th>\n",
       "      <th>Columns</th>\n",
       "      <th>StudyDate</th>\n",
       "      <th>StudyTime</th>\n",
       "      <th>ProcedureCodeSequence_CodeMeaning</th>\n",
       "      <th>ViewCodeSequence_CodeMeaning</th>\n",
       "      <th>PatientOrientationCodeSequence_CodeMeaning</th>\n",
       "      <th>in_eye_gaze</th>\n",
       "      <th>in_reflacx</th>\n",
       "      <th>StudyDateTime</th>\n",
       "      <th>stay_id</th>\n",
       "    </tr>\n",
       "  </thead>\n",
       "  <tbody>\n",
       "    <tr>\n",
       "      <th>346</th>\n",
       "      <td>36880</td>\n",
       "      <td>9c452d99-a2e14f15-8458865f-92178374-a9e29b76</td>\n",
       "      <td>11004477</td>\n",
       "      <td>54420337</td>\n",
       "      <td>CHEST (PA AND LAT)</td>\n",
       "      <td>PA</td>\n",
       "      <td>3056</td>\n",
       "      <td>2544</td>\n",
       "      <td>21570321</td>\n",
       "      <td>125119.328</td>\n",
       "      <td>CHEST (PA AND LAT)</td>\n",
       "      <td>postero-anterior</td>\n",
       "      <td>Erect</td>\n",
       "      <td>True</td>\n",
       "      <td>True</td>\n",
       "      <td>2.157032e+13</td>\n",
       "      <td>37046290.0</td>\n",
       "    </tr>\n",
       "    <tr>\n",
       "      <th>1401</th>\n",
       "      <td>149309</td>\n",
       "      <td>1793e4df-5b1fd824-cb5d0f43-bc3531f4-40cf6c54</td>\n",
       "      <td>13977589</td>\n",
       "      <td>52718721</td>\n",
       "      <td>CHEST (PA AND LAT)</td>\n",
       "      <td>PA</td>\n",
       "      <td>2544</td>\n",
       "      <td>3056</td>\n",
       "      <td>21560714</td>\n",
       "      <td>195753.015</td>\n",
       "      <td>CHEST (PA AND LAT)</td>\n",
       "      <td>postero-anterior</td>\n",
       "      <td>Erect</td>\n",
       "      <td>True</td>\n",
       "      <td>True</td>\n",
       "      <td>2.156071e+13</td>\n",
       "      <td>35250052.0</td>\n",
       "    </tr>\n",
       "    <tr>\n",
       "      <th>1570</th>\n",
       "      <td>168387</td>\n",
       "      <td>5c61db80-672e0874-ba236081-53d2f8ad-ab8d2efb</td>\n",
       "      <td>14492434</td>\n",
       "      <td>53621943</td>\n",
       "      <td>CHEST (PA AND LAT)</td>\n",
       "      <td>PA</td>\n",
       "      <td>3056</td>\n",
       "      <td>2544</td>\n",
       "      <td>21621123</td>\n",
       "      <td>163419.796</td>\n",
       "      <td>CHEST (PA AND LAT)</td>\n",
       "      <td>postero-anterior</td>\n",
       "      <td>Erect</td>\n",
       "      <td>True</td>\n",
       "      <td>True</td>\n",
       "      <td>2.162112e+13</td>\n",
       "      <td>35827518.0</td>\n",
       "    </tr>\n",
       "    <tr>\n",
       "      <th>2086</th>\n",
       "      <td>217451</td>\n",
       "      <td>cb1f25ef-87f09c2a-0f656ffe-f63022ab-8b305520</td>\n",
       "      <td>15752803</td>\n",
       "      <td>51358448</td>\n",
       "      <td>CHEST (PA AND LAT)</td>\n",
       "      <td>PA</td>\n",
       "      <td>3056</td>\n",
       "      <td>2544</td>\n",
       "      <td>21670428</td>\n",
       "      <td>44745.671</td>\n",
       "      <td>CHEST (PA AND LAT)</td>\n",
       "      <td>postero-anterior</td>\n",
       "      <td>Erect</td>\n",
       "      <td>True</td>\n",
       "      <td>True</td>\n",
       "      <td>2.167043e+12</td>\n",
       "      <td>NaN</td>\n",
       "    </tr>\n",
       "    <tr>\n",
       "      <th>2128</th>\n",
       "      <td>221046</td>\n",
       "      <td>d8b6b619-9e181de2-c46adb2d-08194ead-eefd7108</td>\n",
       "      <td>15857729</td>\n",
       "      <td>56277244</td>\n",
       "      <td>CHEST (PA AND LAT)</td>\n",
       "      <td>PA</td>\n",
       "      <td>3056</td>\n",
       "      <td>2532</td>\n",
       "      <td>21471130</td>\n",
       "      <td>201829.890</td>\n",
       "      <td>CHEST (PA AND LAT)</td>\n",
       "      <td>postero-anterior</td>\n",
       "      <td>Erect</td>\n",
       "      <td>True</td>\n",
       "      <td>True</td>\n",
       "      <td>2.147113e+13</td>\n",
       "      <td>35608984.0</td>\n",
       "    </tr>\n",
       "    <tr>\n",
       "      <th>2492</th>\n",
       "      <td>257300</td>\n",
       "      <td>a28cb755-423caf3b-13530617-03aaff16-5ca9a2b3</td>\n",
       "      <td>16831446</td>\n",
       "      <td>57904568</td>\n",
       "      <td>CHEST (PA AND LAT)</td>\n",
       "      <td>PA</td>\n",
       "      <td>3056</td>\n",
       "      <td>2544</td>\n",
       "      <td>21250708</td>\n",
       "      <td>145552.718</td>\n",
       "      <td>CHEST (PA AND LAT)</td>\n",
       "      <td>postero-anterior</td>\n",
       "      <td>Erect</td>\n",
       "      <td>True</td>\n",
       "      <td>True</td>\n",
       "      <td>2.125071e+13</td>\n",
       "      <td>36647749.0</td>\n",
       "    </tr>\n",
       "    <tr>\n",
       "      <th>2561</th>\n",
       "      <td>264640</td>\n",
       "      <td>53ba5a31-2d6bda0a-abb7ad77-065a0f20-b4fa6b44</td>\n",
       "      <td>17023312</td>\n",
       "      <td>53848831</td>\n",
       "      <td>CHEST (PA AND LAT)</td>\n",
       "      <td>PA</td>\n",
       "      <td>2544</td>\n",
       "      <td>3056</td>\n",
       "      <td>21410118</td>\n",
       "      <td>223908.281</td>\n",
       "      <td>CHEST (PA AND LAT)</td>\n",
       "      <td>postero-anterior</td>\n",
       "      <td>Erect</td>\n",
       "      <td>True</td>\n",
       "      <td>True</td>\n",
       "      <td>2.141012e+13</td>\n",
       "      <td>38751904.0</td>\n",
       "    </tr>\n",
       "    <tr>\n",
       "      <th>2952</th>\n",
       "      <td>305380</td>\n",
       "      <td>8afc3991-7ec1912b-b24d9633-3c4b0f57-17c0e8f4</td>\n",
       "      <td>18087960</td>\n",
       "      <td>59570639</td>\n",
       "      <td>CHEST (PA AND LAT)</td>\n",
       "      <td>PA</td>\n",
       "      <td>3056</td>\n",
       "      <td>2544</td>\n",
       "      <td>21700325</td>\n",
       "      <td>141943.265</td>\n",
       "      <td>CHEST (PA AND LAT)</td>\n",
       "      <td>postero-anterior</td>\n",
       "      <td>Erect</td>\n",
       "      <td>True</td>\n",
       "      <td>True</td>\n",
       "      <td>2.170033e+13</td>\n",
       "      <td>39432013.0</td>\n",
       "    </tr>\n",
       "    <tr>\n",
       "      <th>3361</th>\n",
       "      <td>345480</td>\n",
       "      <td>f79f46d3-74a520f1-3039fa3d-eef50e3d-a5ad3e59</td>\n",
       "      <td>19157903</td>\n",
       "      <td>55024274</td>\n",
       "      <td>CHEST (PA AND LAT)</td>\n",
       "      <td>PA</td>\n",
       "      <td>3056</td>\n",
       "      <td>2544</td>\n",
       "      <td>21201012</td>\n",
       "      <td>51146.296</td>\n",
       "      <td>CHEST (PA AND LAT)</td>\n",
       "      <td>postero-anterior</td>\n",
       "      <td>Erect</td>\n",
       "      <td>True</td>\n",
       "      <td>True</td>\n",
       "      <td>2.120101e+12</td>\n",
       "      <td>NaN</td>\n",
       "    </tr>\n",
       "    <tr>\n",
       "      <th>3538</th>\n",
       "      <td>360460</td>\n",
       "      <td>060cf092-fe76bdf7-19fee515-26cbef2c-5c16ba6f</td>\n",
       "      <td>19565653</td>\n",
       "      <td>58125581</td>\n",
       "      <td>Performed Desc</td>\n",
       "      <td>PA</td>\n",
       "      <td>2021</td>\n",
       "      <td>1794</td>\n",
       "      <td>21530220</td>\n",
       "      <td>85448.000</td>\n",
       "      <td>CHEST (PA AND LAT)</td>\n",
       "      <td>postero-anterior</td>\n",
       "      <td>Recumbent</td>\n",
       "      <td>True</td>\n",
       "      <td>True</td>\n",
       "      <td>2.153022e+12</td>\n",
       "      <td>NaN</td>\n",
       "    </tr>\n",
       "  </tbody>\n",
       "</table>\n",
       "</div>"
      ],
      "text/plain": [
       "      Unnamed: 0                                      dicom_id  subject_id  \\\n",
       "346        36880  9c452d99-a2e14f15-8458865f-92178374-a9e29b76    11004477   \n",
       "1401      149309  1793e4df-5b1fd824-cb5d0f43-bc3531f4-40cf6c54    13977589   \n",
       "1570      168387  5c61db80-672e0874-ba236081-53d2f8ad-ab8d2efb    14492434   \n",
       "2086      217451  cb1f25ef-87f09c2a-0f656ffe-f63022ab-8b305520    15752803   \n",
       "2128      221046  d8b6b619-9e181de2-c46adb2d-08194ead-eefd7108    15857729   \n",
       "2492      257300  a28cb755-423caf3b-13530617-03aaff16-5ca9a2b3    16831446   \n",
       "2561      264640  53ba5a31-2d6bda0a-abb7ad77-065a0f20-b4fa6b44    17023312   \n",
       "2952      305380  8afc3991-7ec1912b-b24d9633-3c4b0f57-17c0e8f4    18087960   \n",
       "3361      345480  f79f46d3-74a520f1-3039fa3d-eef50e3d-a5ad3e59    19157903   \n",
       "3538      360460  060cf092-fe76bdf7-19fee515-26cbef2c-5c16ba6f    19565653   \n",
       "\n",
       "      study_id PerformedProcedureStepDescription ViewPosition  Rows  Columns  \\\n",
       "346   54420337                CHEST (PA AND LAT)           PA  3056     2544   \n",
       "1401  52718721                CHEST (PA AND LAT)           PA  2544     3056   \n",
       "1570  53621943                CHEST (PA AND LAT)           PA  3056     2544   \n",
       "2086  51358448                CHEST (PA AND LAT)           PA  3056     2544   \n",
       "2128  56277244                CHEST (PA AND LAT)           PA  3056     2532   \n",
       "2492  57904568                CHEST (PA AND LAT)           PA  3056     2544   \n",
       "2561  53848831                CHEST (PA AND LAT)           PA  2544     3056   \n",
       "2952  59570639                CHEST (PA AND LAT)           PA  3056     2544   \n",
       "3361  55024274                CHEST (PA AND LAT)           PA  3056     2544   \n",
       "3538  58125581                    Performed Desc           PA  2021     1794   \n",
       "\n",
       "      StudyDate   StudyTime ProcedureCodeSequence_CodeMeaning  \\\n",
       "346    21570321  125119.328                CHEST (PA AND LAT)   \n",
       "1401   21560714  195753.015                CHEST (PA AND LAT)   \n",
       "1570   21621123  163419.796                CHEST (PA AND LAT)   \n",
       "2086   21670428   44745.671                CHEST (PA AND LAT)   \n",
       "2128   21471130  201829.890                CHEST (PA AND LAT)   \n",
       "2492   21250708  145552.718                CHEST (PA AND LAT)   \n",
       "2561   21410118  223908.281                CHEST (PA AND LAT)   \n",
       "2952   21700325  141943.265                CHEST (PA AND LAT)   \n",
       "3361   21201012   51146.296                CHEST (PA AND LAT)   \n",
       "3538   21530220   85448.000                CHEST (PA AND LAT)   \n",
       "\n",
       "     ViewCodeSequence_CodeMeaning PatientOrientationCodeSequence_CodeMeaning  \\\n",
       "346              postero-anterior                                      Erect   \n",
       "1401             postero-anterior                                      Erect   \n",
       "1570             postero-anterior                                      Erect   \n",
       "2086             postero-anterior                                      Erect   \n",
       "2128             postero-anterior                                      Erect   \n",
       "2492             postero-anterior                                      Erect   \n",
       "2561             postero-anterior                                      Erect   \n",
       "2952             postero-anterior                                      Erect   \n",
       "3361             postero-anterior                                      Erect   \n",
       "3538             postero-anterior                                  Recumbent   \n",
       "\n",
       "      in_eye_gaze  in_reflacx  StudyDateTime     stay_id  \n",
       "346          True        True   2.157032e+13  37046290.0  \n",
       "1401         True        True   2.156071e+13  35250052.0  \n",
       "1570         True        True   2.162112e+13  35827518.0  \n",
       "2086         True        True   2.167043e+12         NaN  \n",
       "2128         True        True   2.147113e+13  35608984.0  \n",
       "2492         True        True   2.125071e+13  36647749.0  \n",
       "2561         True        True   2.141012e+13  38751904.0  \n",
       "2952         True        True   2.170033e+13  39432013.0  \n",
       "3361         True        True   2.120101e+12         NaN  \n",
       "3538         True        True   2.153022e+12         NaN  "
      ]
     },
     "execution_count": 8,
     "metadata": {},
     "output_type": "execute_result"
    }
   ],
   "source": [
    "in_both_df"
   ]
  },
  {
   "cell_type": "code",
   "execution_count": 9,
   "metadata": {},
   "outputs": [],
   "source": [
    "df = df[df.study_id.isin(list(in_both_studyids))]"
   ]
  },
  {
   "cell_type": "code",
   "execution_count": 11,
   "metadata": {},
   "outputs": [],
   "source": [
    "df.to_csv(\"in_both.csv\")"
   ]
  },
  {
   "cell_type": "code",
   "execution_count": 29,
   "metadata": {},
   "outputs": [
    {
     "name": "stdout",
     "output_type": "stream",
     "text": [
      "749 3\n",
      "C:\\Users\\mike8\\mimic-eye\\patient_11004477\\REFLACX\\main_data\\P300R547859\\anomaly_location_ellipses.csv\n",
      "1451 0\n",
      "C:\\Users\\mike8\\mimic-eye\\patient_13977589\\REFLACX\\main_data\\P300R459602\\anomaly_location_ellipses.csv\n",
      "1568 0\n",
      "C:\\Users\\mike8\\mimic-eye\\patient_14492434\\REFLACX\\main_data\\P300R457007\\anomaly_location_ellipses.csv\n",
      "1925 2\n",
      "C:\\Users\\mike8\\mimic-eye\\patient_15752803\\REFLACX\\main_data\\P300R227438\\anomaly_location_ellipses.csv\n",
      "1956 1\n",
      "C:\\Users\\mike8\\mimic-eye\\patient_15857729\\REFLACX\\main_data\\P300R759977\\anomaly_location_ellipses.csv\n",
      "2212 2\n",
      "C:\\Users\\mike8\\mimic-eye\\patient_16831446\\REFLACX\\main_data\\P300R376984\\anomaly_location_ellipses.csv\n",
      "2257 1\n",
      "C:\\Users\\mike8\\mimic-eye\\patient_17023312\\REFLACX\\main_data\\P300R026698\\anomaly_location_ellipses.csv\n",
      "2525 6\n",
      "C:\\Users\\mike8\\mimic-eye\\patient_18087960\\REFLACX\\main_data\\P300R801796\\anomaly_location_ellipses.csv\n",
      "2803 0\n",
      "C:\\Users\\mike8\\mimic-eye\\patient_19157903\\REFLACX\\main_data\\P300R575788\\anomaly_location_ellipses.csv\n",
      "2926 1\n",
      "C:\\Users\\mike8\\mimic-eye\\patient_19565653\\REFLACX\\main_data\\P300R169305\\anomaly_location_ellipses.csv\n"
     ]
    }
   ],
   "source": [
    "for i, data in df.iterrows():\n",
    "    print(i, len(pd.read_csv(data[\"bbox_path\"].replace(\"{XAMI_MIMIC_PATH}\", MIMIC_EYE_PATH))))\n",
    "    print(data[\"bbox_path\"].replace(\"{XAMI_MIMIC_PATH}\", MIMIC_EYE_PATH))\n",
    "\n",
    "## get number of bounding boxes in these dfs.\n"
   ]
  },
  {
   "cell_type": "code",
   "execution_count": 10,
   "metadata": {},
   "outputs": [
    {
     "data": {
      "text/plain": [
       "10"
      ]
     },
     "execution_count": 10,
     "metadata": {},
     "output_type": "execute_result"
    }
   ],
   "source": [
    "len(cxr_meta_df[cxr_meta_df.in_reflacx & cxr_meta_df.in_eye_gaze])"
   ]
  },
  {
   "cell_type": "code",
   "execution_count": 3,
   "metadata": {},
   "outputs": [],
   "source": []
  },
  {
   "cell_type": "code",
   "execution_count": 10,
   "metadata": {},
   "outputs": [],
   "source": [
    "fix_lengths = []\n",
    "\n",
    "for _, instance in df.iterrows():\n",
    "    fix_df = pd.read_csv(instance['fixation_path'].replace(\"{XAMI_MIMIC_PATH}\", MIMIC_EYE_PATH))\n",
    "    fix_lengths.append(len(fix_df))"
   ]
  },
  {
   "cell_type": "code",
   "execution_count": 11,
   "metadata": {},
   "outputs": [
    {
     "data": {
      "text/plain": [
       "377"
      ]
     },
     "execution_count": 11,
     "metadata": {},
     "output_type": "execute_result"
    }
   ],
   "source": [
    "max(fix_lengths)"
   ]
  },
  {
   "cell_type": "code",
   "execution_count": 13,
   "metadata": {},
   "outputs": [
    {
     "data": {
      "text/plain": [
       "17"
      ]
     },
     "execution_count": 13,
     "metadata": {},
     "output_type": "execute_result"
    }
   ],
   "source": [
    "min(fix_lengths)"
   ]
  },
  {
   "cell_type": "code",
   "execution_count": 14,
   "metadata": {},
   "outputs": [],
   "source": [
    "import matplotlib.pyplot as plt"
   ]
  },
  {
   "cell_type": "code",
   "execution_count": 15,
   "metadata": {},
   "outputs": [
    {
     "data": {
      "text/plain": [
       "{'whiskers': [<matplotlib.lines.Line2D at 0x1b1330429d0>,\n",
       "  <matplotlib.lines.Line2D at 0x1b133042c70>],\n",
       " 'caps': [<matplotlib.lines.Line2D at 0x1b133042f10>,\n",
       "  <matplotlib.lines.Line2D at 0x1b1330751f0>],\n",
       " 'boxes': [<matplotlib.lines.Line2D at 0x1b133042730>],\n",
       " 'medians': [<matplotlib.lines.Line2D at 0x1b133075490>],\n",
       " 'fliers': [<matplotlib.lines.Line2D at 0x1b133075730>],\n",
       " 'means': []}"
      ]
     },
     "execution_count": 15,
     "metadata": {},
     "output_type": "execute_result"
    },
    {
     "data": {
      "image/png": "[encoded data removed]",
      "text/plain": [
       "<Figure size 640x480 with 1 Axes>"
      ]
     },
     "metadata": {},
     "output_type": "display_data"
    }
   ],
   "source": [
    "plt.boxplot(fix_lengths)"
   ]
  },
  {
   "cell_type": "code",
   "execution_count": 1,
   "metadata": {},
   "outputs": [],
   "source": [
    "import numpy as np\n",
    "from scipy.spatial.distance import cdist"
   ]
  },
  {
   "cell_type": "code",
   "execution_count": 3,
   "metadata": {},
   "outputs": [],
   "source": [
    "img_size = 512\n",
    "col, row = np.meshgrid(np.arange(img_size), np.arange(img_size))\n",
    "coord = np.stack((col, row), axis=2).reshape(-1, 2) / img_size\n",
    "dist = cdist(coord, coord)  # compute distance between every pair of pixels\n",
    "sigma = 0.05 * np.pi  # width of the Gaussian (can be a hyperparameter while training a model)\n",
    "A = np.exp(-dist / sigma ** 2)  # adjacency matrix of spatial similarity\n",
    "A[A < 0.01] = 0  # suppress values less than 0.01\n",
    "A = torch.from_numpy(A).float()\n",
    "\n",
    " # Normalization as per (Kipf & Welling, ICLR 2017)\n",
    "D = A.sum(1)  # nodes degree (N,)\n",
    "D_hat = (D + 1e-5) ** (-0.5)\n",
    "A_hat = D_hat.view(-1, 1) * A * D_hat.view(1, -1)  # N,N\n",
    "\n",
    "# Some additional trick I found to be useful\n",
    "A_hat[A_hat > 0.0001] = A_hat[A_hat > 0.0001] - 0.2\n",
    "print(A_hat[:10, :10])"
   ]
  },
  {
   "cell_type": "code",
   "execution_count": 6,
   "metadata": {},
   "outputs": [
    {
     "data": {
      "text/plain": [
       "(262144, 2)"
      ]
     },
     "execution_count": 6,
     "metadata": {},
     "output_type": "execute_result"
    }
   ],
   "source": [
    "coord.shape"
   ]
  },
  {
   "cell_type": "code",
   "execution_count": 7,
   "metadata": {},
   "outputs": [
    {
     "data": {
      "text/plain": [
       "262144"
      ]
     },
     "execution_count": 7,
     "metadata": {},
     "output_type": "execute_result"
    }
   ],
   "source": [
    "512*512"
   ]
  },
  {
   "cell_type": "code",
   "execution_count": 3,
   "metadata": {},
   "outputs": [
    {
     "data": {
      "text/plain": [
       "(512, 512)"
      ]
     },
     "execution_count": 3,
     "metadata": {},
     "output_type": "execute_result"
    }
   ],
   "source": [
    "col.shape"
   ]
  },
  {
   "cell_type": "code",
   "execution_count": 4,
   "metadata": {},
   "outputs": [
    {
     "data": {
      "text/plain": [
       "(512, 512)"
      ]
     },
     "execution_count": 4,
     "metadata": {},
     "output_type": "execute_result"
    }
   ],
   "source": [
    "row.shape"
   ]
  },
  {
   "cell_type": "code",
   "execution_count": null,
   "metadata": {},
   "outputs": [],
   "source": []
  }
 ],
 "metadata": {
  "kernelspec": {
   "display_name": "pytorch",
   "language": "python",
   "name": "python3"
  },
  "language_info": {
   "codemirror_mode": {
    "name": "ipython",
    "version": 3
   },
   "file_extension": ".py",
   "mimetype": "text/x-python",
   "name": "python",
   "nbconvert_exporter": "python",
   "pygments_lexer": "ipython3",
   "version": "3.9.16"
  },
  "orig_nbformat": 4
 },
 "nbformat": 4,
 "nbformat_minor": 2
}
