{
 "cells": [
  {
   "cell_type": "code",
   "execution_count": 1,
   "metadata": {},
   "outputs": [],
   "source": [
    "# load the model first, run the evaluator on the model.\n",
    "\n",
    "import pandas as pd\n",
    "import numpy as np\n",
    "import torch\n",
    "import utils.print as print_f\n",
    "import os\n",
    "\n",
    "from utils.engine import evaluate, get_iou_types\n",
    "from utils.plot import plot_losses, plot_performance\n",
    "\n",
    "from models.utils import get_model_size_in_MB\n",
    "from models.build import create_model_from_setup\n",
    "from models.setup import ModelSetup\n",
    "from models.train import TrainingInfo\n",
    "from utils.save import check_best, end_train, get_data_from_metric_logger\n",
    "from data.load import get_datasets, get_dataloaders\n",
    "from IPython.display import clear_output\n",
    "from utils.eval import get_ap_ar, get_ap_ar_for_train_val\n",
    "from utils.train import get_optimiser, get_lr_scheduler, print_params_setup, get_coco_eval_params, get_dynamic_loss\n",
    "from utils.init import reproducibility, clean_memory_get_device\n",
    "from data.paths import MIMIC_EYE_PATH\n",
    "# from datetime import datetime\n",
    "# from models.dynamic_loss import DynamicWeightedLoss\n",
    "from utils.engine import train_one_epoch, evaluate\n",
    "from torch import optim\n",
    "from data.paths import MIMIC_EYE_PATH\n",
    "from models.load import get_trained_model\n",
    "# from data.load import seed_worker, get_dataloader_g\n",
    "from utils.plot import DISEASE_CMAP, get_legend_elements\n",
    "legend_elements = get_legend_elements(DISEASE_CMAP[\"solid\"])\n",
    "\n",
    "## Suppress the assignement warning from pandas.r\n",
    "pd.options.mode.chained_assignment = None  # default='warn'\n",
    "\n",
    "## Supress user warning\n",
    "import warnings\n",
    "warnings.filterwarnings(\"ignore\")\n",
    "\n",
    "%matplotlib inline"
   ]
  },
  {
   "cell_type": "code",
   "execution_count": 2,
   "metadata": {},
   "outputs": [],
   "source": [
    "from enum import Enum\n",
    "class TrainedModels(Enum):\n",
    "    mobilenet_with_fix = \"val_lesion-detection_froc_0_7916_test_lesion-detection_froc_0_8150_epoch15_04-01-2023 03-02-43_lesion_dsetection_with_fix_mobilenet\"\n",
    "    mobilenet_baseline = \"val_lesion-detection_froc_0_7764_test_lesion-detection_froc_0_8036_epoch8_04-01-2023 07-46-01_lesion_dsetection_baseline_mobilenet\"\n",
    "    resnet18_baseline = \"val_lesion-detection_froc_0_7893_test_lesion-detection_froc_0_8075_epoch5_04-01-2023 13-53-42_lesion_dsetection_baseline_resnet18\"\n",
    "    resnet18_with_fix = \"val_lesion-detection_froc_0_7982_test_lesion-detection_froc_0_8257_epoch5_04-01-2023 11-24-08_lesion_dsetection_with_fix_resnet18\""
   ]
  },
  {
   "cell_type": "code",
   "execution_count": 3,
   "metadata": {},
   "outputs": [],
   "source": [
    "# expectation in froc\n",
    "\n",
    "# 1. test if we have the same value for repeating the froc calculation in the test.ipynb\n",
    "# 2. test why the training (end train) and here has different values shown."
   ]
  },
  {
   "cell_type": "code",
   "execution_count": 4,
   "metadata": {},
   "outputs": [
    {
     "name": "stdout",
     "output_type": "stream",
     "text": [
      "This notebook will running on device: [CUDA]\n"
     ]
    }
   ],
   "source": [
    "device = clean_memory_get_device()\n",
    "reproducibility()"
   ]
  },
  {
   "cell_type": "code",
   "execution_count": 5,
   "metadata": {},
   "outputs": [],
   "source": [
    "get_epoch_from_model = lambda select_model: int(([substr for substr in select_model.value.split(\"_\") if \"epoch\" in substr][0]).replace(\"epoch\", \"\"))\n",
    "get_model_name = lambda select_model: str(select_model).split(\".\")[-1]"
   ]
  },
  {
   "cell_type": "code",
   "execution_count": 6,
   "metadata": {},
   "outputs": [],
   "source": [
    "select_model = TrainedModels.resnet18_with_fix"
   ]
  },
  {
   "cell_type": "code",
   "execution_count": 24,
   "metadata": {},
   "outputs": [
    {
     "name": "stdout",
     "output_type": "stream",
     "text": [
      "Using pretrained backbone. resnet18\n",
      "Using pretrained backbone. resnet18\n",
      "Using SGD as optimizer with lr=0.01\n",
      "\n"
     ]
    }
   ],
   "source": [
    "model, train_info, optimizer, dynamic_loss_weight = get_trained_model(\n",
    "        select_model,\n",
    "        device,\n",
    "    )\n",
    "\n",
    "model.to(device)\n",
    "\n",
    "# setting up the score threshold to 0 for froc.\n",
    "model.task_performers['lesion-detection'].roi_heads.score_thresh = 0\n",
    "model.eval()\n",
    "\n",
    "# cover the long model.\n",
    "print()"
   ]
  },
  {
   "cell_type": "code",
   "execution_count": 25,
   "metadata": {},
   "outputs": [],
   "source": [
    "setup = train_info.model_setup\n",
    "iou_types = get_iou_types(model, setup)"
   ]
  },
  {
   "cell_type": "code",
   "execution_count": 26,
   "metadata": {},
   "outputs": [],
   "source": [
    "from data.strs import SourceStrs, TaskStrs\n",
    "\n",
    "dataset_params_dict = {\n",
    "        \"MIMIC_EYE_PATH\": MIMIC_EYE_PATH,\n",
    "        \"labels_cols\": setup.lesion_label_cols,\n",
    "        \"with_xrays_input\": SourceStrs.XRAYS in setup.sources,\n",
    "        \"with_clincal_input\": SourceStrs.CLINICAL in setup.sources,\n",
    "        \"with_fixations_input\": SourceStrs.FIXATIONS in setup.sources,\n",
    "        \"fixations_mode_input\": setup.fiaxtions_mode_input,\n",
    "        \"with_bboxes_label\": TaskStrs.LESION_DETECTION in setup.tasks,\n",
    "        \"with_fixations_label\": TaskStrs.FIXATION_GENERATION in setup.tasks,\n",
    "        \"fixations_mode_label\": setup.fiaxtions_mode_label,\n",
    "        \"with_chexpert_label\": TaskStrs.CHEXPERT_CLASSIFICATION in setup.tasks,\n",
    "        \"with_negbio_label\": TaskStrs.NEGBIO_CLASSIFICATION in setup.tasks,\n",
    "        \"clinical_numerical_cols\": setup.clinical_num,\n",
    "        \"clinical_categorical_cols\": setup.clinical_cat,\n",
    "        \"image_size\": setup.image_size,\n",
    "        \"image_mean\": setup.image_mean,\n",
    "        \"image_std\": setup.image_std,\n",
    "    }"
   ]
  },
  {
   "cell_type": "code",
   "execution_count": 27,
   "metadata": {},
   "outputs": [],
   "source": [
    "detect_eval_dataset, train_dataset, val_dataset, test_dataset = get_datasets(\n",
    "    dataset_params_dict=dataset_params_dict,\n",
    ")\n",
    "\n",
    "train_dataloader, val_dataloader, test_dataloader = get_dataloaders(\n",
    "    train_dataset, val_dataset, test_dataset, batch_size=setup.batch_size,\n",
    ")\n",
    "\n",
    "train_coco = None\n",
    "train_coco, val_coco, test_coco, eval_dict = get_coco_eval_params(\n",
    "    source_name=SourceStrs.XRAYS,\n",
    "    task_name=TaskStrs.LESION_DETECTION,\n",
    "    train_dataloader=train_dataloader,\n",
    "    val_dataloader=val_dataloader,\n",
    "    test_dataloader=test_dataloader,\n",
    "    detect_eval_dataset=detect_eval_dataset,\n",
    "    iou_thrs=np.array([0.5, 0.55, 0.6, 0.65, 0.7, 0.75, 0.8, 0.85, 0.9, 0.95]),\n",
    "    use_iobb=setup.use_iobb,\n",
    "    maxDets=[1, 5, 10, 30],\n",
    ")\n"
   ]
  },
  {
   "cell_type": "code",
   "execution_count": 28,
   "metadata": {},
   "outputs": [
    {
     "name": "stdout",
     "output_type": "stream",
     "text": [
      "Evaluation:  [ 0/57]  eta: 0:02:22  loss: 0.2886 (0.2886)  lesion-detection_performer-object_detection_loss_classifier: 0.1451 (0.1451)  lesion-detection_performer-object_detection_loss_box_reg: 0.1070 (0.1070)  lesion-detection_performer-object_detection_loss_objectness: 0.0321 (0.0321)  lesion-detection_performer-object_detection_loss_rpn_box_reg: 0.0044 (0.0044)  model_time: 1680353408.0000 (1680353359.5199)  evaluator_time: 0.0000 (0.0000)  time: 2.4994  data: 2.0872  max mem: 646\n",
      "Evaluation:  [56/57]  eta: 0:00:02  loss: 0.2060 (0.2031)  lesion-detection_performer-object_detection_loss_classifier: 0.1091 (0.1069)  lesion-detection_performer-object_detection_loss_box_reg: 0.0798 (0.0739)  lesion-detection_performer-object_detection_loss_objectness: 0.0180 (0.0190)  lesion-detection_performer-object_detection_loss_rpn_box_reg: 0.0034 (0.0033)  model_time: 1680353408.0000 (1680353419.1402)  evaluator_time: 0.0000 (0.0000)  time: 2.1465  data: 1.9474  max mem: 646\n",
      "Evaluation: Total time: 0:02:01 (2.1322 s / it)\n",
      "Averaged stats: loss: 0.2060 (0.2031)  lesion-detection_performer-object_detection_loss_classifier: 0.1091 (0.1069)  lesion-detection_performer-object_detection_loss_box_reg: 0.0798 (0.0739)  lesion-detection_performer-object_detection_loss_objectness: 0.0180 (0.0190)  lesion-detection_performer-object_detection_loss_rpn_box_reg: 0.0034 (0.0033)  model_time: 1680353408.0000 (1680353419.1402)  evaluator_time: 0.0000 (0.0000)\n",
      "Accumulating evaluation results...\n",
      "DONE (t=0.24s).\n",
      "IoU metric: bbox\n",
      " Average Precision  (AP) @[ IoU=0.50:0.95 | area=   all | maxDets=  1 ] = 0.055\n",
      " Average Precision  (AP) @[ IoU=0.50:0.95 | area=   all | maxDets=  5 ] = 0.100\n",
      " Average Precision  (AP) @[ IoU=0.50:0.95 | area=   all | maxDets= 10 ] = 0.112\n",
      " Average Precision  (AP) @[ IoU=0.50:0.95 | area=   all | maxDets= 30 ] = 0.118\n",
      " Average Precision  (AP) @[ IoU=0.50      | area=   all | maxDets= 10 ] = 0.234\n",
      " Average Precision  (AP) @[ IoU=0.75      | area=   all | maxDets= 10 ] = 0.090\n",
      " Average Precision  (AP) @[ IoU=0.50:0.95 | area= small | maxDets= 10 ] = -1.000\n",
      " Average Precision  (AP) @[ IoU=0.50:0.95 | area=medium | maxDets= 10 ] = -1.000\n",
      " Average Precision  (AP) @[ IoU=0.50:0.95 | area= large | maxDets= 10 ] = 0.112\n",
      " Average Recall     (AR) @[ IoU=0.50:0.95 | area=   all | maxDets=  1 ] = 0.149\n",
      " Average Recall     (AR) @[ IoU=0.50:0.95 | area=   all | maxDets=  5 ] = 0.413\n",
      " Average Recall     (AR) @[ IoU=0.50:0.95 | area=   all | maxDets= 10 ] = 0.552\n",
      " Average Recall     (AR) @[ IoU=0.50:0.95 | area=   all | maxDets= 30 ] = 0.682\n",
      " Average Recall     (AR) @[ IoU=0.50:0.95 | area= small | maxDets= 10 ] = -1.000\n",
      " Average Recall     (AR) @[ IoU=0.50:0.95 | area=medium | maxDets= 10 ] = -1.000\n",
      " Average Recall     (AR) @[ IoU=0.50:0.95 | area= large | maxDets= 10 ] = 0.552\n"
     ]
    }
   ],
   "source": [
    "model.task_performers[\"lesion-detection\"].roi_heads.score_thresh = 0\n",
    "test_evaluator, _ = evaluate(\n",
    "    setup=setup,\n",
    "    model=model,\n",
    "    data_loader=test_dataloader,\n",
    "    device=device,\n",
    "    params_dict=eval_dict,\n",
    "    coco=test_coco,\n",
    "    iou_types=iou_types,\n",
    "    return_dt_gt=True,\n",
    ")\n",
    "model.task_performers[\"lesion-detection\"].roi_heads.score_thresh = 0.05"
   ]
  },
  {
   "cell_type": "code",
   "execution_count": 29,
   "metadata": {},
   "outputs": [],
   "source": [
    "from coco_froc_analysis.froc.froc_curve import get_froc_curve, get_interpolate_froc"
   ]
  },
  {
   "cell_type": "code",
   "execution_count": 30,
   "metadata": {},
   "outputs": [
    {
     "data": {
      "application/vnd.jupyter.widget-view+json": {
       "model_id": "1b3385c19ad84d6396abaa0893be3d0d",
       "version_major": 2,
       "version_minor": 0
      },
      "text/plain": [
       "  0%|          | 0/200 [00:00<?, ?it/s]"
      ]
     },
     "metadata": {},
     "output_type": "display_data"
    }
   ],
   "source": [
    "stats, lls_accuracy, nlls_per_image = get_froc_curve(\n",
    "    dataset=test_dataset,\n",
    "    dts=test_evaluator['lesion-detection'].all_dts,\n",
    "    all_gts=test_evaluator['lesion-detection'].all_gts,\n",
    "    plot_title= None,\n",
    "    use_iou=True,\n",
    "    n_sample_points=200,\n",
    "    froc_save_folder=\"./froc_figures\"\n",
    ")"
   ]
  },
  {
   "cell_type": "code",
   "execution_count": 31,
   "metadata": {},
   "outputs": [],
   "source": [
    "froc_v = get_interpolate_froc(\n",
    "    stats=stats,\n",
    "    lls_accuracy=lls_accuracy,\n",
    "    nlls_per_image=nlls_per_image,\n",
    "    cat_id=None,\n",
    "    fps_per_img=[0.5, 1, 2, 4],\n",
    "    weight=True,\n",
    ")"
   ]
  },
  {
   "cell_type": "code",
   "execution_count": 32,
   "metadata": {},
   "outputs": [
    {
     "data": {
      "text/plain": [
       "array([0.5701297 , 0.79008697, 0.95343098, 0.99134157])"
      ]
     },
     "execution_count": 32,
     "metadata": {},
     "output_type": "execute_result"
    }
   ],
   "source": [
    "froc_v"
   ]
  },
  {
   "cell_type": "code",
   "execution_count": 33,
   "metadata": {},
   "outputs": [
    {
     "data": {
      "text/plain": [
       "0.8262473052117743"
      ]
     },
     "execution_count": 33,
     "metadata": {},
     "output_type": "execute_result"
    }
   ],
   "source": [
    "np.mean(froc_v)"
   ]
  },
  {
   "cell_type": "code",
   "execution_count": 17,
   "metadata": {},
   "outputs": [],
   "source": [
    "# 0.8066839859865023\n",
    "\n",
    "# why this one is different?\n",
    "# 0.8270512150394913 -> with fix attempt 1\n",
    "# 0.8234257443138374 -> with fix attempt 2 \n",
    "# 0.8234257443138374 -> with fix attempt 3\n",
    "# 0.8234257443138374 -> \n",
    "# 0.8234257443138374 \n",
    "# 0.8234257443138374\n",
    "\n",
    "#baseline \n",
    "# 0.8066839859865023\n",
    "# 0.8066839859865023\n",
    "# 0.8089129224630301\n",
    "# 0.8065924636538497\n",
    "#reload model and re-run\n",
    "\n",
    "\n",
    "# 0.8234257443138374\n",
    "#no-restart kernal.\n",
    "# 0.8246889953396321\n",
    "\n",
    "\n",
    "\n",
    "# what if I reconstruct eval_params?\n",
    "# what if I run another model first? \n",
    "\n",
    "# 0.8075 -> expectation. [baseline.]\n",
    "# 0.8275 -> with fixation. "
   ]
  },
  {
   "cell_type": "code",
   "execution_count": null,
   "metadata": {},
   "outputs": [],
   "source": []
  }
 ],
 "metadata": {
  "kernelspec": {
   "display_name": "pytorch",
   "language": "python",
   "name": "python3"
  },
  "language_info": {
   "codemirror_mode": {
    "name": "ipython",
    "version": 3
   },
   "file_extension": ".py",
   "mimetype": "text/x-python",
   "name": "python",
   "nbconvert_exporter": "python",
   "pygments_lexer": "ipython3",
   "version": "3.9.16"
  },
  "orig_nbformat": 4
 },
 "nbformat": 4,
 "nbformat_minor": 2
}
