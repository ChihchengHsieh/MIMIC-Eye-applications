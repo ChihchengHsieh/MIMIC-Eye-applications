{
 "cells": [
  {
   "cell_type": "code",
   "execution_count": 1,
   "metadata": {},
   "outputs": [],
   "source": [
    "import pandas as pd"
   ]
  },
  {
   "cell_type": "code",
   "execution_count": 2,
   "metadata": {},
   "outputs": [],
   "source": [
    "import os"
   ]
  },
  {
   "cell_type": "code",
   "execution_count": 4,
   "metadata": {},
   "outputs": [],
   "source": [
    "df = pd.read_csv(os.path.join(\"./spreadsheets/\", \"reflacx_clinical_eye.csv\"))"
   ]
  },
  {
   "cell_type": "code",
   "execution_count": 6,
   "metadata": {},
   "outputs": [
    {
     "data": {
      "text/html": [
       "<div>\n",
       "<style scoped>\n",
       "    .dataframe tbody tr th:only-of-type {\n",
       "        vertical-align: middle;\n",
       "    }\n",
       "\n",
       "    .dataframe tbody tr th {\n",
       "        vertical-align: top;\n",
       "    }\n",
       "\n",
       "    .dataframe thead th {\n",
       "        text-align: right;\n",
       "    }\n",
       "</style>\n",
       "<table border=\"1\" class=\"dataframe\">\n",
       "  <thead>\n",
       "    <tr style=\"text-align: right;\">\n",
       "      <th></th>\n",
       "      <th>Unnamed: 0</th>\n",
       "      <th>id</th>\n",
       "      <th>dicom_id</th>\n",
       "      <th>subject_id</th>\n",
       "      <th>stay_id</th>\n",
       "      <th>study_id</th>\n",
       "      <th>split</th>\n",
       "      <th>eye_tracking_data_discarded</th>\n",
       "      <th>image_path</th>\n",
       "      <th>bbox_path</th>\n",
       "      <th>...</th>\n",
       "      <th>temperature</th>\n",
       "      <th>heartrate</th>\n",
       "      <th>resprate</th>\n",
       "      <th>o2sat</th>\n",
       "      <th>sbp</th>\n",
       "      <th>dbp</th>\n",
       "      <th>pain</th>\n",
       "      <th>acuity</th>\n",
       "      <th>chiefcomplaint</th>\n",
       "      <th>age</th>\n",
       "    </tr>\n",
       "  </thead>\n",
       "  <tbody>\n",
       "    <tr>\n",
       "      <th>0</th>\n",
       "      <td>0</td>\n",
       "      <td>P102R108387</td>\n",
       "      <td>34cedb74-d0996b40-6d218312-a9174bea-d48dc033</td>\n",
       "      <td>18111516</td>\n",
       "      <td>32067002.0</td>\n",
       "      <td>55032240</td>\n",
       "      <td>train</td>\n",
       "      <td>False</td>\n",
       "      <td>{XAMI_MIMIC_PATH}\\patient_18111516\\CXR-JPG\\s55...</td>\n",
       "      <td>{XAMI_MIMIC_PATH}\\patient_18111516\\REFLACX\\mai...</td>\n",
       "      <td>...</td>\n",
       "      <td>98.1</td>\n",
       "      <td>90.0</td>\n",
       "      <td>18.0</td>\n",
       "      <td>99.0</td>\n",
       "      <td>184.0</td>\n",
       "      <td>75.0</td>\n",
       "      <td>13</td>\n",
       "      <td>3.0</td>\n",
       "      <td>Dyspnea</td>\n",
       "      <td>69</td>\n",
       "    </tr>\n",
       "    <tr>\n",
       "      <th>1</th>\n",
       "      <td>1</td>\n",
       "      <td>P102R379837</td>\n",
       "      <td>34cedb74-d0996b40-6d218312-a9174bea-d48dc033</td>\n",
       "      <td>18111516</td>\n",
       "      <td>32067002.0</td>\n",
       "      <td>55032240</td>\n",
       "      <td>test</td>\n",
       "      <td>False</td>\n",
       "      <td>{XAMI_MIMIC_PATH}\\patient_18111516\\CXR-JPG\\s55...</td>\n",
       "      <td>{XAMI_MIMIC_PATH}\\patient_18111516\\REFLACX\\mai...</td>\n",
       "      <td>...</td>\n",
       "      <td>98.1</td>\n",
       "      <td>90.0</td>\n",
       "      <td>18.0</td>\n",
       "      <td>99.0</td>\n",
       "      <td>184.0</td>\n",
       "      <td>75.0</td>\n",
       "      <td>13</td>\n",
       "      <td>3.0</td>\n",
       "      <td>Dyspnea</td>\n",
       "      <td>69</td>\n",
       "    </tr>\n",
       "    <tr>\n",
       "      <th>2</th>\n",
       "      <td>2</td>\n",
       "      <td>P102R558314</td>\n",
       "      <td>34cedb74-d0996b40-6d218312-a9174bea-d48dc033</td>\n",
       "      <td>18111516</td>\n",
       "      <td>32067002.0</td>\n",
       "      <td>55032240</td>\n",
       "      <td>test</td>\n",
       "      <td>False</td>\n",
       "      <td>{XAMI_MIMIC_PATH}\\patient_18111516\\CXR-JPG\\s55...</td>\n",
       "      <td>{XAMI_MIMIC_PATH}\\patient_18111516\\REFLACX\\mai...</td>\n",
       "      <td>...</td>\n",
       "      <td>98.1</td>\n",
       "      <td>90.0</td>\n",
       "      <td>18.0</td>\n",
       "      <td>99.0</td>\n",
       "      <td>184.0</td>\n",
       "      <td>75.0</td>\n",
       "      <td>13</td>\n",
       "      <td>3.0</td>\n",
       "      <td>Dyspnea</td>\n",
       "      <td>69</td>\n",
       "    </tr>\n",
       "    <tr>\n",
       "      <th>3</th>\n",
       "      <td>3</td>\n",
       "      <td>P102R765317</td>\n",
       "      <td>34cedb74-d0996b40-6d218312-a9174bea-d48dc033</td>\n",
       "      <td>18111516</td>\n",
       "      <td>32067002.0</td>\n",
       "      <td>55032240</td>\n",
       "      <td>train</td>\n",
       "      <td>False</td>\n",
       "      <td>{XAMI_MIMIC_PATH}\\patient_18111516\\CXR-JPG\\s55...</td>\n",
       "      <td>{XAMI_MIMIC_PATH}\\patient_18111516\\REFLACX\\mai...</td>\n",
       "      <td>...</td>\n",
       "      <td>98.1</td>\n",
       "      <td>90.0</td>\n",
       "      <td>18.0</td>\n",
       "      <td>99.0</td>\n",
       "      <td>184.0</td>\n",
       "      <td>75.0</td>\n",
       "      <td>13</td>\n",
       "      <td>3.0</td>\n",
       "      <td>Dyspnea</td>\n",
       "      <td>69</td>\n",
       "    </tr>\n",
       "    <tr>\n",
       "      <th>4</th>\n",
       "      <td>4</td>\n",
       "      <td>P102R915878</td>\n",
       "      <td>34cedb74-d0996b40-6d218312-a9174bea-d48dc033</td>\n",
       "      <td>18111516</td>\n",
       "      <td>32067002.0</td>\n",
       "      <td>55032240</td>\n",
       "      <td>train</td>\n",
       "      <td>False</td>\n",
       "      <td>{XAMI_MIMIC_PATH}\\patient_18111516\\CXR-JPG\\s55...</td>\n",
       "      <td>{XAMI_MIMIC_PATH}\\patient_18111516\\REFLACX\\mai...</td>\n",
       "      <td>...</td>\n",
       "      <td>98.1</td>\n",
       "      <td>90.0</td>\n",
       "      <td>18.0</td>\n",
       "      <td>99.0</td>\n",
       "      <td>184.0</td>\n",
       "      <td>75.0</td>\n",
       "      <td>13</td>\n",
       "      <td>3.0</td>\n",
       "      <td>Dyspnea</td>\n",
       "      <td>69</td>\n",
       "    </tr>\n",
       "  </tbody>\n",
       "</table>\n",
       "<p>5 rows × 83 columns</p>\n",
       "</div>"
      ],
      "text/plain": [
       "   Unnamed: 0           id                                      dicom_id  \\\n",
       "0           0  P102R108387  34cedb74-d0996b40-6d218312-a9174bea-d48dc033   \n",
       "1           1  P102R379837  34cedb74-d0996b40-6d218312-a9174bea-d48dc033   \n",
       "2           2  P102R558314  34cedb74-d0996b40-6d218312-a9174bea-d48dc033   \n",
       "3           3  P102R765317  34cedb74-d0996b40-6d218312-a9174bea-d48dc033   \n",
       "4           4  P102R915878  34cedb74-d0996b40-6d218312-a9174bea-d48dc033   \n",
       "\n",
       "   subject_id     stay_id  study_id  split  eye_tracking_data_discarded  \\\n",
       "0    18111516  32067002.0  55032240  train                        False   \n",
       "1    18111516  32067002.0  55032240   test                        False   \n",
       "2    18111516  32067002.0  55032240   test                        False   \n",
       "3    18111516  32067002.0  55032240  train                        False   \n",
       "4    18111516  32067002.0  55032240  train                        False   \n",
       "\n",
       "                                          image_path  \\\n",
       "0  {XAMI_MIMIC_PATH}\\patient_18111516\\CXR-JPG\\s55...   \n",
       "1  {XAMI_MIMIC_PATH}\\patient_18111516\\CXR-JPG\\s55...   \n",
       "2  {XAMI_MIMIC_PATH}\\patient_18111516\\CXR-JPG\\s55...   \n",
       "3  {XAMI_MIMIC_PATH}\\patient_18111516\\CXR-JPG\\s55...   \n",
       "4  {XAMI_MIMIC_PATH}\\patient_18111516\\CXR-JPG\\s55...   \n",
       "\n",
       "                                           bbox_path  ... temperature  \\\n",
       "0  {XAMI_MIMIC_PATH}\\patient_18111516\\REFLACX\\mai...  ...        98.1   \n",
       "1  {XAMI_MIMIC_PATH}\\patient_18111516\\REFLACX\\mai...  ...        98.1   \n",
       "2  {XAMI_MIMIC_PATH}\\patient_18111516\\REFLACX\\mai...  ...        98.1   \n",
       "3  {XAMI_MIMIC_PATH}\\patient_18111516\\REFLACX\\mai...  ...        98.1   \n",
       "4  {XAMI_MIMIC_PATH}\\patient_18111516\\REFLACX\\mai...  ...        98.1   \n",
       "\n",
       "  heartrate  resprate  o2sat    sbp   dbp  pain  acuity  chiefcomplaint  age  \n",
       "0      90.0      18.0   99.0  184.0  75.0    13     3.0         Dyspnea   69  \n",
       "1      90.0      18.0   99.0  184.0  75.0    13     3.0         Dyspnea   69  \n",
       "2      90.0      18.0   99.0  184.0  75.0    13     3.0         Dyspnea   69  \n",
       "3      90.0      18.0   99.0  184.0  75.0    13     3.0         Dyspnea   69  \n",
       "4      90.0      18.0   99.0  184.0  75.0    13     3.0         Dyspnea   69  \n",
       "\n",
       "[5 rows x 83 columns]"
      ]
     },
     "execution_count": 6,
     "metadata": {},
     "output_type": "execute_result"
    }
   ],
   "source": [
    "df.head(5)"
   ]
  },
  {
   "cell_type": "code",
   "execution_count": 13,
   "metadata": {},
   "outputs": [],
   "source": [
    "# df.transpose().values.tolist()[1]"
   ]
  },
  {
   "cell_type": "code",
   "execution_count": 15,
   "metadata": {},
   "outputs": [],
   "source": [
    "import torch\n",
    "\n",
    "a = torch.arange(15)"
   ]
  },
  {
   "cell_type": "code",
   "execution_count": 17,
   "metadata": {},
   "outputs": [],
   "source": [
    "import torch.nn as nn"
   ]
  },
  {
   "cell_type": "code",
   "execution_count": 30,
   "metadata": {},
   "outputs": [],
   "source": [
    "loss = nn.CrossEntropyLoss()"
   ]
  },
  {
   "cell_type": "code",
   "execution_count": 50,
   "metadata": {},
   "outputs": [
    {
     "data": {
      "text/plain": [
       "tensor([1, 1, 1, 1, 1])"
      ]
     },
     "execution_count": 50,
     "metadata": {},
     "output_type": "execute_result"
    }
   ],
   "source": []
  },
  {
   "cell_type": "code",
   "execution_count": 64,
   "metadata": {},
   "outputs": [],
   "source": [
    "batch_size =5\n",
    "r = torch.randn((batch_size, 10))"
   ]
  },
  {
   "cell_type": "code",
   "execution_count": 68,
   "metadata": {},
   "outputs": [
    {
     "data": {
      "text/plain": [
       "tensor(3.0273)"
      ]
     },
     "execution_count": 68,
     "metadata": {},
     "output_type": "execute_result"
    }
   ],
   "source": [
    "loss(r, torch.ones_like(torch.arange(batch_size)))"
   ]
  },
  {
   "cell_type": "code",
   "execution_count": 69,
   "metadata": {},
   "outputs": [
    {
     "data": {
      "text/plain": [
       "tensor(2.5424)"
      ]
     },
     "execution_count": 69,
     "metadata": {},
     "output_type": "execute_result"
    }
   ],
   "source": [
    "\n",
    "loss(r, torch.arange(batch_size))"
   ]
  },
  {
   "cell_type": "code",
   "execution_count": 37,
   "metadata": {},
   "outputs": [
    {
     "data": {
      "text/plain": [
       "tensor(2.3026)"
      ]
     },
     "execution_count": 37,
     "metadata": {},
     "output_type": "execute_result"
    }
   ],
   "source": [
    "loss(torch.zeros((batch_size, 10)), torch.tensor([0]))"
   ]
  },
  {
   "cell_type": "code",
   "execution_count": null,
   "metadata": {},
   "outputs": [],
   "source": [
    "loss(torch.zeros((batch_size, 10)), torch.arange([0]))"
   ]
  },
  {
   "cell_type": "code",
   "execution_count": 40,
   "metadata": {},
   "outputs": [
    {
     "data": {
      "text/plain": [
       "tensor(0.5514)"
      ]
     },
     "execution_count": 40,
     "metadata": {},
     "output_type": "execute_result"
    }
   ],
   "source": [
    "loss(torch.tensor([[1, 0, 0]]).float(), torch.tensor([0]))"
   ]
  },
  {
   "cell_type": "code",
   "execution_count": 47,
   "metadata": {},
   "outputs": [
    {
     "data": {
      "text/plain": [
       "tensor(0.0949)"
      ]
     },
     "execution_count": 47,
     "metadata": {},
     "output_type": "execute_result"
    }
   ],
   "source": [
    "loss(torch.tensor([[3, 0, 0]]).float(), torch.tensor([0]))"
   ]
  },
  {
   "cell_type": "code",
   "execution_count": 38,
   "metadata": {},
   "outputs": [
    {
     "data": {
      "text/plain": [
       "tensor([[0., 0., 0., 0., 0., 0., 0., 0., 0., 0.]])"
      ]
     },
     "execution_count": 38,
     "metadata": {},
     "output_type": "execute_result"
    }
   ],
   "source": [
    "torch.zeros((batch_size, 10))"
   ]
  },
  {
   "cell_type": "code",
   "execution_count": 34,
   "metadata": {},
   "outputs": [
    {
     "data": {
      "text/plain": [
       "tensor([0])"
      ]
     },
     "execution_count": 34,
     "metadata": {},
     "output_type": "execute_result"
    }
   ],
   "source": [
    "torch.arange(batch_size)"
   ]
  },
  {
   "cell_type": "code",
   "execution_count": 28,
   "metadata": {},
   "outputs": [
    {
     "data": {
      "text/plain": [
       "tensor([0])"
      ]
     },
     "execution_count": 28,
     "metadata": {},
     "output_type": "execute_result"
    }
   ],
   "source": [
    "torch.arange(batch_size)"
   ]
  },
  {
   "cell_type": "code",
   "execution_count": 21,
   "metadata": {},
   "outputs": [
    {
     "data": {
      "text/plain": [
       "tensor([0, 1, 2, 3, 4])"
      ]
     },
     "execution_count": 21,
     "metadata": {},
     "output_type": "execute_result"
    }
   ],
   "source": [
    "torch.arange(batch_size)"
   ]
  },
  {
   "cell_type": "code",
   "execution_count": null,
   "metadata": {},
   "outputs": [],
   "source": [
    "\n",
    "class CLIPLoss(torch.nn.Module):\n",
    "  \"\"\"\n",
    "  Loss function for multimodal contrastive learning based off of the CLIP paper.\n",
    "  \n",
    "  Embeddings are taken, L2 normalized and dot product between modalities is calculated to generate a cosine\n",
    "  similarity between all combinations of subjects in a cross-modal fashion. Tempered by temperature.\n",
    "  Loss is calculated attempting to match each subject's embeddings between the modalities i.e. the diagonal. \n",
    "  \"\"\"\n",
    "  def __init__(self, \n",
    "               temperature: float,\n",
    "               lambda_0: float = 0.5) -> None:\n",
    "    super(CLIPLoss, self).__init__()\n",
    "\n",
    "    self.temperature = temperature\n",
    "    self.cross_entropy = nn.CrossEntropyLoss(reduction='mean')\n",
    "\n",
    "    if lambda_0 > 1 or lambda_0 < 0:\n",
    "      raise ValueError('lambda_0 must be a float between 0 and 1.')\n",
    "    self.lambda_0 = lambda_0\n",
    "    self.lambda_1 = 1-lambda_0\n",
    "\n",
    "  def forward(self, out0: torch.Tensor, out1: torch.Tensor, indices: List[int] = None) -> Tuple:\n",
    "    # normalize the embedding onto the unit hypersphere\n",
    "    out0 = nn.functional.normalize(out0, dim=1)\n",
    "    out1 = nn.functional.normalize(out1, dim=1)\n",
    "\n",
    "    #logits = torch.matmul(out0, out1.T) * torch.exp(torch.tensor(self.temperature))\n",
    "    logits = torch.matmul(out0, out1.T) / self.temperature # the cosine similarity function is (A \\dot B) / ||A|| ||B||, since ||A|| = ||B|| = 1, we only need to calculate the molecular term.\n",
    "    labels = torch.arange(len(out0), device=out0.device) # a list of [0, 1, 2, 3....] as labels? why?\n",
    "    \n",
    "    loss_0 = self.lambda_0 * self.cross_entropy(logits, labels)\n",
    "    loss_1 = self.lambda_1 * self.cross_entropy(logits.T, labels)\n",
    "    loss = loss_0 + loss_1\n",
    "  \n",
    "    return loss, logits, labels"
   ]
  },
  {
   "cell_type": "code",
   "execution_count": null,
   "metadata": {},
   "outputs": [],
   "source": []
  }
 ],
 "metadata": {
  "kernelspec": {
   "display_name": "pytorch",
   "language": "python",
   "name": "python3"
  },
  "language_info": {
   "codemirror_mode": {
    "name": "ipython",
    "version": 3
   },
   "file_extension": ".py",
   "mimetype": "text/x-python",
   "name": "python",
   "nbconvert_exporter": "python",
   "pygments_lexer": "ipython3",
   "version": "3.9.16"
  },
  "orig_nbformat": 4
 },
 "nbformat": 4,
 "nbformat_minor": 2
}
