{
 "cells": [
  {
   "cell_type": "code",
   "execution_count": 1,
   "metadata": {},
   "outputs": [],
   "source": [
    "from data.transforms import get_tensorise_h_flip_transform\n",
    "from data.constants import DEFAULT_REFLACX_LABEL_COLS\n",
    "from data.paths import MIMIC_EYE_PATH\n",
    "from data.datasets import ReflacxDataset\n",
    "from data.strs import TaskStrs, SourceStrs, FusionStrs\n",
    "from models.setup import ModelSetup\n",
    "import pandas as pd\n",
    "\n",
    "pd.set_option('mode.chained_assignment', None)\n",
    "\n",
    "\n",
    "common_args = {\n",
    "    # \"sources\": [SourceStrs.XRAYS, SourceStrs.CLINICAL,],\n",
    "    # \"tasks\": [\n",
    "    #     # TaskStrs.LESION_DETECTION,\n",
    "    #     TaskStrs.FIXATION_GENERATION,\n",
    "    #     TaskStrs.CHEXPERT_CLASSIFICATION,\n",
    "    #     TaskStrs.NEGBIO_CLASSIFICATION,\n",
    "    # ],\n",
    "    # \"performance_standard_task\": TaskStrs.CHEXPERT_CLASSIFICATION,\n",
    "    # \"performance_standard_metric\": \"auc\",\n",
    "    # \"performance_standard_task\": TaskStrs.LESION_DETECTION,\n",
    "    # \"performance_standard_metric\": \"ap\",\n",
    "    \"decoder_channels\": [128, 64, 32, 16, 8],\n",
    "    \"optimiser\": \"sgd\",\n",
    "    \"lr\": 1e-3,  # should multiply by 8 or just use 1e-2, to test if it will explode.\n",
    "    \"batch_size\": 4,\n",
    "    \"weight_decay\": 1e-9,  # 1E-5\n",
    "    # \"pretrained\": True,\n",
    "    \"image_size\": 512,\n",
    "    \"record_training_performance\": False,\n",
    "    \"warmup_epochs\": 0,\n",
    "    \"lr_scheduler\": \"ReduceLROnPlateau\",\n",
    "    \"reduceLROnPlateau_factor\": 0.1,\n",
    "    \"reduceLROnPlateau_patience\": 999,\n",
    "    \"reduceLROnPlateau_full_stop\": True,\n",
    "    \"multiStepLR_milestones\": 100,\n",
    "    \"multiStepLR_gamma\": 0.1,\n",
    "    \"use_mask\": False,\n",
    "    \"gt_in_train_till\": 0,\n",
    "    \"box_head_dropout_rate\": 0,\n",
    "    \"model_warmup_epochs\": 20,\n",
    "    \"loss_warmup_epochs\": 10,\n",
    "    \"measure_test\": True,\n",
    "}\n",
    "\n",
    "chexpert_best_args = {\n",
    "    \"performance_standard_task\": TaskStrs.CHEXPERT_CLASSIFICATION,\n",
    "    \"performance_standard_metric\": \"auc\",\n",
    "}\n",
    "\n",
    "lesion_detection_best_args = {\n",
    "    \"performance_standard_task\": TaskStrs.LESION_DETECTION,\n",
    "    \"performance_standard_metric\": \"ap\",\n",
    "}\n",
    "\n",
    "with_fix_args = {\n",
    "    \"sources\": [SourceStrs.XRAYS, SourceStrs.FIXATIONS],\n",
    "    # \"sources\": [SourceStrs.XRAYS, SourceStrs.CLINICAL,],\n",
    "    \"tasks\": [\n",
    "        TaskStrs.LESION_DETECTION,\n",
    "        # TaskStrs.FIXATION_GENERATION,\n",
    "        # TaskStrs.CHEXPERT_CLASSIFICATION,\n",
    "        # TaskStrs.NEGBIO_CLASSIFICATION,\n",
    "    ],\n",
    "    \"fusor\": FusionStrs.ElEMENTWISE_SUM,\n",
    "}\n",
    "\n",
    "without_fix_args = {\n",
    "    \"sources\": [SourceStrs.XRAYS],\n",
    "    # \"sources\": [SourceStrs.XRAYS, SourceStrs.CLINICAL,],\n",
    "    \"tasks\": [\n",
    "        TaskStrs.LESION_DETECTION,\n",
    "        # TaskStrs.FIXATION_GENERATION,\n",
    "        # TaskStrs.CHEXPERT_CLASSIFICATION,\n",
    "        # TaskStrs.NEGBIO_CLASSIFICATION,\n",
    "    ],\n",
    "    \"fusor\": FusionStrs.ElEMENTWISE_SUM,\n",
    "}\n",
    "\n",
    "small_model_args = {\n",
    "    \"mask_hidden_layers\": 64,\n",
    "    \"fuse_conv_channels\": 64,\n",
    "    \"representation_size\": 64,  # 32\n",
    "    # \"clinical_input_channels\": 64,\n",
    "    # \"clinical_conv_channels\": 64,\n",
    "    # \"clinical_expand_conv_channels\": 64,\n",
    "    # \"backbone_out_channels\": None,\n",
    "    \"backbone_out_channels\": 64,\n",
    "}\n",
    "\n",
    "mobilenet_args = {\n",
    "    \"backbone\": \"resnet18\",\n",
    "    # \"backbone\": \"mobilenet_v3\",\n",
    "    \"using_fpn\": False,\n",
    "}\n",
    "\n",
    "setup = ModelSetup(\n",
    "    name=\"chexpert_with_fix\",\n",
    "    **lesion_detection_best_args,\n",
    "    **mobilenet_args,\n",
    "    **small_model_args,\n",
    "    **common_args,\n",
    "    **with_fix_args,\n",
    ")\n",
    "\n",
    "\n",
    "dataset_params_dict = {\n",
    "    \"MIMIC_EYE_PATH\": MIMIC_EYE_PATH,\n",
    "    \"labels_cols\": setup.lesion_label_cols,\n",
    "    \"with_xrays_input\": SourceStrs.XRAYS in setup.sources,\n",
    "    \"with_clincal_input\": SourceStrs.CLINICAL in setup.sources,\n",
    "    \"with_fixations_input\": SourceStrs.FIXATIONS in setup.sources,\n",
    "    \"fiaxtions_mode_input\": setup.fiaxtions_mode_input,\n",
    "    \"with_bboxes_label\": TaskStrs.LESION_DETECTION in setup.tasks,\n",
    "    \"with_fixations_label\": TaskStrs.FIXATION_GENERATION in setup.tasks,\n",
    "    \"fiaxtions_mode_label\": setup.fiaxtions_mode_label,\n",
    "    \"with_chexpert_label\": TaskStrs.CHEXPERT_CLASSIFICATION in setup.tasks,\n",
    "    \"with_negbio_label\": TaskStrs.NEGBIO_CLASSIFICATION in setup.tasks,\n",
    "    \"clinical_numerical_cols\": setup.clinical_num,\n",
    "    \"clinical_categorical_cols\": setup.clinical_cat,\n",
    "    \"image_size\": setup.image_size,\n",
    "    \"image_mean\": setup.image_mean,\n",
    "    \"image_std\": setup.image_std,\n",
    "}\n",
    "\n",
    "test_dataset = ReflacxDataset(\n",
    "    **dataset_params_dict,\n",
    "    split_str=\"train\",\n",
    "    random_flip=True,\n",
    ")\n"
   ]
  },
  {
   "cell_type": "code",
   "execution_count": 2,
   "metadata": {},
   "outputs": [],
   "source": [
    "input, targets = test_dataset[0]"
   ]
  },
  {
   "cell_type": "code",
   "execution_count": 3,
   "metadata": {},
   "outputs": [
    {
     "data": {
      "text/plain": [
       "OrderedDict([('lesion-detection',\n",
       "              {'boxes': tensor([[ 734., 1204., 2211., 2175.]], dtype=torch.float64),\n",
       "               'labels': tensor([2]),\n",
       "               'image_id': tensor([0]),\n",
       "               'area': tensor([1434167.], dtype=torch.float64),\n",
       "               'iscrowd': tensor([0]),\n",
       "               'dicom_id': '34cedb74-d0996b40-6d218312-a9174bea-d48dc033',\n",
       "               'image_path': 'C:\\\\Users\\\\mike8\\\\mimic-eye\\\\patient_18111516\\\\CXR-JPG\\\\s55032240\\\\34cedb74-d0996b40-6d218312-a9174bea-d48dc033.jpg',\n",
       "               'original_image_size': torch.Size([3056, 2544])})])"
      ]
     },
     "execution_count": 3,
     "metadata": {},
     "output_type": "execute_result"
    }
   ],
   "source": [
    "targets"
   ]
  },
  {
   "cell_type": "code",
   "execution_count": 4,
   "metadata": {},
   "outputs": [
    {
     "data": {
      "text/plain": [
       "torch.Size([3, 512, 512])"
      ]
     },
     "execution_count": 4,
     "metadata": {},
     "output_type": "execute_result"
    }
   ],
   "source": [
    "input['xrays']['images'].shape\n"
   ]
  },
  {
   "cell_type": "code",
   "execution_count": 5,
   "metadata": {},
   "outputs": [
    {
     "data": {
      "text/plain": [
       "torch.Size([3, 512, 512])"
      ]
     },
     "execution_count": 5,
     "metadata": {},
     "output_type": "execute_result"
    }
   ],
   "source": [
    "input['fixations']['images'].shape\n"
   ]
  },
  {
   "cell_type": "code",
   "execution_count": null,
   "metadata": {},
   "outputs": [],
   "source": []
  }
 ],
 "metadata": {
  "kernelspec": {
   "display_name": "pytorch",
   "language": "python",
   "name": "python3"
  },
  "language_info": {
   "codemirror_mode": {
    "name": "ipython",
    "version": 3
   },
   "file_extension": ".py",
   "mimetype": "text/x-python",
   "name": "python",
   "nbconvert_exporter": "python",
   "pygments_lexer": "ipython3",
   "version": "3.9.16"
  },
  "orig_nbformat": 4,
  "vscode": {
   "interpreter": {
    "hash": "05ebdd47fe7a4051acc4227c2d648dd2aae7424f451cfb0e2d4bf70d17920b33"
   }
  }
 },
 "nbformat": 4,
 "nbformat_minor": 2
}
